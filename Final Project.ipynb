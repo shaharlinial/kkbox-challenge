{
 "cells": [
  {
   "cell_type": "markdown",
   "metadata": {},
   "source": [
    "# Data Science Workshop: Final Project\n",
    "## KKBox Churn Prediction Challenge\n",
    "## By Yaniv Bar-Lev and Shahar Linial"
   ]
  },
  {
   "cell_type": "markdown",
   "metadata": {},
   "source": [
    "### Objective: we will try to predict whether a user will churn ending its current subscription.\n",
    "\n",
    "### Motivation: KKBOX is Asia’s leading music streaming service, holding the world’s most comprehensive Asia-Pop music library with over 30 million tracks. They offer a generous, unlimited version of their service to millions of people, supported by advertising and paid subscriptions. This delicate model is dependent on accurately predicting churn of their paid users.\n",
    "\n",
    "### Data source: [8GB - Kaggle Challenge: WSDM - KKBox's Churn Prediction Challenge](https://www.kaggle.com/c/kkbox-churn-prediction-challenge/data)\n",
    "### [GitHub: Source Code for Reproduction Purposes](https://github.com/shaharlinial/kkbox-challenge)\n",
    "\n",
    "### Definitions: \n",
    "#### 1. Churn: a user is defined as churned if he had not done any transaction during the 30-days period after his subscription has ended. \n",
    "\n",
    "*An example: Let's say we have a user whose subscription is ending at **31.12.2018**, if the user shall not make any transaction untill the **31.01.2019**, it will be defined as **churned** from that day onwards.*\n",
    "\n",
    "*Churn value is not given, hence, it has to be extracted out of the dataset*\n",
    "\n",
    "#### 2. msno: A user's unique id.\n",
    "#### 3. Panel: A data structure that contains only users who had their subscription expired anytime between a given timestamp and 31 days that had preceeded that timestamp. As well each user in the panel contains general , activity and transactions information for a period of 31 days before and after it's expiration.\n",
    "\n",
    "*A panel is needed in order to distinguish between users that have churned and users that haven't, we will feed our model with these panels as training and validating datasets.*\n",
    "\n",
    "*We will create different panels, in different timestamps in order to train and evaluate our models.*\n",
    "\n",
    "### Methodology:\n",
    "#### Step 1:  Data Analysis: We will start off by prevewing the data and creating histograms in order to understand on which time period shall be the most suitable for the model.\n",
    "#### Step 2: Setting up 4 different timestamps for 4 panel creations.\n",
    "#### Step 3: Panel creation *Iterative Step*:\n",
    "* Data preprocessing:\n",
    "* * Relevant *member* extraction, data cleaning, dimension reduction\n",
    "* * Relevant *transaction* extraction, data cleaning, dimension reduction\n",
    "* Panel Creation:\n",
    "* * Setting up data for training/validation, setting up user's churn values.\n",
    "* Feature Engineering\n",
    "* * Features from transactions,members and user logs\n",
    "* Label generation\n",
    "* Data Cleanup\n",
    "* Saving Data for aggregation\n",
    "\n",
    "\n",
    "#### Step 4: Modeling and Classification:\n",
    "* Data concatentation for all different panels.\n",
    "* Data split for train/test sets.\n",
    "* Learning Models and Analysis with:\n",
    "* * Logistic Regression\n",
    "* * Decision Tree\n",
    "* * Random Forest\n",
    "* * Neural Network\n",
    "* * XGBoost\n",
    "* Results Comparison on Test Set\n",
    "* Dimension Reduction\n",
    "* Model Calibration with Grid Search\n",
    "\n",
    "#### Step 5: Model Evaluation on validation set\n",
    "* Evaluating the performance of our model on the validation set and comparing naive model vs the optimized one\n",
    "\n",
    "\n",
    "#### Step 6: Conclusion - Business case scenario\n",
    "* Presenting a business case to showcase how this model can be put to action and how to maximize its potentialprofits "
   ]
  },
  {
   "cell_type": "markdown",
   "metadata": {},
   "source": [
    "# Step 0: Imports, Data Loading, Run-Once"
   ]
  },
  {
   "cell_type": "markdown",
   "metadata": {},
   "source": [
    "*Run this if you don't have scikit-plot installed in jupyter environment*"
   ]
  },
  {
   "cell_type": "code",
   "execution_count": 180,
   "metadata": {},
   "outputs": [
    {
     "name": "stdout",
     "output_type": "stream",
     "text": [
      "Requirement already satisfied: scikit-plot in /anaconda3/lib/python3.7/site-packages (0.3.7)\n",
      "Requirement already satisfied: xgboost in /anaconda3/lib/python3.7/site-packages (0.90)\n",
      "Collecting imblearn\n",
      "  Downloading https://files.pythonhosted.org/packages/81/a7/4179e6ebfd654bd0eac0b9c06125b8b4c96a9d0a8ff9e9507eb2a26d2d7e/imblearn-0.0-py2.py3-none-any.whl\n",
      "Requirement already satisfied: scikit-learn>=0.18 in /anaconda3/lib/python3.7/site-packages (from scikit-plot) (0.20.1)\n",
      "Requirement already satisfied: scipy>=0.9 in /anaconda3/lib/python3.7/site-packages (from scikit-plot) (1.1.0)\n",
      "Requirement already satisfied: matplotlib>=1.4.0 in /anaconda3/lib/python3.7/site-packages (from scikit-plot) (3.0.2)\n",
      "Requirement already satisfied: joblib>=0.10 in /anaconda3/lib/python3.7/site-packages (from scikit-plot) (0.13.2)\n",
      "Requirement already satisfied: numpy in /anaconda3/lib/python3.7/site-packages (from xgboost) (1.15.4)\n",
      "Collecting imbalanced-learn (from imblearn)\n",
      "\u001b[?25l  Downloading https://files.pythonhosted.org/packages/e6/62/08c14224a7e242df2cef7b312d2ef821c3931ec9b015ff93bb52ec8a10a3/imbalanced_learn-0.5.0-py3-none-any.whl (173kB)\n",
      "\u001b[K    100% |████████████████████████████████| 174kB 851kB/s ta 0:00:01\n",
      "\u001b[?25hRequirement already satisfied: cycler>=0.10 in /anaconda3/lib/python3.7/site-packages (from matplotlib>=1.4.0->scikit-plot) (0.10.0)\n",
      "Requirement already satisfied: kiwisolver>=1.0.1 in /anaconda3/lib/python3.7/site-packages (from matplotlib>=1.4.0->scikit-plot) (1.0.1)\n",
      "Requirement already satisfied: pyparsing!=2.0.4,!=2.1.2,!=2.1.6,>=2.0.1 in /anaconda3/lib/python3.7/site-packages (from matplotlib>=1.4.0->scikit-plot) (2.3.0)\n",
      "Requirement already satisfied: python-dateutil>=2.1 in /anaconda3/lib/python3.7/site-packages (from matplotlib>=1.4.0->scikit-plot) (2.7.5)\n",
      "Requirement already satisfied: six in /anaconda3/lib/python3.7/site-packages (from cycler>=0.10->matplotlib>=1.4.0->scikit-plot) (1.12.0)\n",
      "Requirement already satisfied: setuptools in /anaconda3/lib/python3.7/site-packages (from kiwisolver>=1.0.1->matplotlib>=1.4.0->scikit-plot) (40.6.3)\n",
      "\u001b[31mimbalanced-learn 0.5.0 has requirement scikit-learn>=0.21, but you'll have scikit-learn 0.20.1 which is incompatible.\u001b[0m\n",
      "Installing collected packages: imbalanced-learn, imblearn\n",
      "Successfully installed imbalanced-learn-0.5.0 imblearn-0.0\n"
     ]
    }
   ],
   "source": [
    "# Install a pip package in the current Jupyter kernel\n",
    "import sys\n",
    "!{sys.executable} -m pip install scikit-plot xgboost imblearn"
   ]
  },
  {
   "cell_type": "markdown",
   "metadata": {},
   "source": [
    "*Imports and run-once:*"
   ]
  },
  {
   "cell_type": "code",
   "execution_count": 2,
   "metadata": {},
   "outputs": [],
   "source": [
    "import glob\n",
    "import pandas as pd\n",
    "import numpy as np\n",
    "import pickle as pk\n",
    "import seaborn as sns\n",
    "import matplotlib.pyplot as plt\n",
    "import datetime\n",
    "import sklearn as sk\n",
    "import time\n",
    "from sklearn.model_selection import train_test_split\n",
    "import scikitplot as skplt\n",
    "from sklearn.model_selection import GridSearchCV\n",
    "from sklearn import metrics\n",
    "from sklearn.model_selection import cross_val_score\n",
    "import math\n",
    "from tqdm import tqdm_notebook"
   ]
  },
  {
   "cell_type": "code",
   "execution_count": 194,
   "metadata": {},
   "outputs": [],
   "source": [
    "pd.set_option('display.max_columns', 100)\n",
    "members = pd.read_csv('dataset/members_v3.csv')\n",
    "transactions = pd.read_csv('dataset/transactions.csv')"
   ]
  },
  {
   "cell_type": "markdown",
   "metadata": {},
   "source": [
    "\n",
    "### Loading Log files\n",
    "#### Due to the size of the log files (over 22GB/ 400 Million rows) we were forced to upload the data using chunks, hence we will be loading only the necessary data using the current members examined with the following function."
   ]
  },
  {
   "cell_type": "code",
   "execution_count": 2,
   "metadata": {},
   "outputs": [],
   "source": [
    "def retrieve_logs(X): \n",
    "    log_trimmed = pd.DataFrame()\n",
    "    for gm_chunk in pd.read_csv(r'dataset/user_logs.csv',chunksize=10000000):\n",
    "        log_trimmed = pd.concat([log_trimmed,gm_chunk[gm_chunk.msno.isin(X.index)]])\n",
    "    return log_trimmed    "
   ]
  },
  {
   "cell_type": "markdown",
   "metadata": {},
   "source": [
    "# Step 1: Data Analysis"
   ]
  },
  {
   "cell_type": "markdown",
   "metadata": {},
   "source": [
    "### Members Dataset:"
   ]
  },
  {
   "cell_type": "markdown",
   "metadata": {},
   "source": [
    "| Property               | Description                  |\n",
    "|------------------------|------------------------------|\n",
    "| msno                   | User identifier              |\n",
    "| city                   | City of user, numeric        |\n",
    "| bd                     | Age                          |\n",
    "| gender                 |                              |\n",
    "| registered_via         | registration method, numeric |\n",
    "| registration_init_time | format %Y%m%d                |\n",
    "| expiration_date        | format %Y%m%d                |"
   ]
  },
  {
   "cell_type": "markdown",
   "metadata": {},
   "source": [
    "We will start off by previewing the **_members_ histogram** showing count over registration time (years)"
   ]
  },
  {
   "cell_type": "code",
   "execution_count": 195,
   "metadata": {},
   "outputs": [
    {
     "data": {
      "text/plain": [
       "<matplotlib.axes._subplots.AxesSubplot at 0x1a797bc128>"
      ]
     },
     "execution_count": 195,
     "metadata": {},
     "output_type": "execute_result"
    },
    {
     "data": {
      "image/png": "[encoded data removed]",
      "text/plain": [
       "<Figure size 432x288 with 1 Axes>"
      ]
     },
     "metadata": {
      "needs_background": "light"
     },
     "output_type": "display_data"
    }
   ],
   "source": [
    "#Registrations over time\n",
    "members.registration_init_time= pd.to_datetime(members.registration_init_time, format='%Y%m%d')\n",
    "sns.countplot(members.registration_init_time.apply(lambda x: x.year) ) "
   ]
  },
  {
   "cell_type": "markdown",
   "metadata": {},
   "source": [
    "We can see that around 2016, most users had registered to the app,\n",
    "so we will focus on data extraction over that period.\n",
    "\n",
    "Another reason focusing on newer data:\n",
    "\n",
    "\n",
    "Speaking of techonology usage, specifically application usage, the newer the data, more relevant it is."
   ]
  },
  {
   "cell_type": "markdown",
   "metadata": {},
   "source": [
    "### Transactions dataset"
   ]
  },
  {
   "cell_type": "markdown",
   "metadata": {},
   "source": [
    "| Property               | Description                                                          |\n",
    "|------------------------|----------------------------------------------------------------------|\n",
    "| msno                   | User identifier                                                      |\n",
    "| payment_method_id      | payment method, numeric                                              |\n",
    "| payment_plan_days      | length of membership plan in days                                    |\n",
    "| plan_list_price        | in New Taiwan Dollar (NTD)                                           |\n",
    "| actual_amount_paid     | in New Taiwan Dollar (NTD)                                           |\n",
    "| is_auto_renew          |                                                                      |\n",
    "| transaction_date       | format %Y%m%d                                                        |\n",
    "| membership_expire_date | format %Y%m%d                                                        |\n",
    "| is_cancel              | whether or not the user canceled the membership in this transaction. |"
   ]
  },
  {
   "cell_type": "code",
   "execution_count": 196,
   "metadata": {},
   "outputs": [
    {
     "data": {
      "text/plain": [
       "<matplotlib.axes._subplots.AxesSubplot at 0x1cb2910588>"
      ]
     },
     "execution_count": 196,
     "metadata": {},
     "output_type": "execute_result"
    },
    {
     "data": {
      "image/png": "[encoded data removed]",
      "text/plain": [
       "<Figure size 432x288 with 1 Axes>"
      ]
     },
     "metadata": {
      "needs_background": "light"
     },
     "output_type": "display_data"
    }
   ],
   "source": [
    "#Transactions by year\n",
    "sns.countplot(transactions.transaction_date.apply(lambda x: int(x/10000)))"
   ]
  },
  {
   "cell_type": "markdown",
   "metadata": {},
   "source": [
    "We can see that around 2016, most users had done transactions within the app.\n",
    "\n",
    "\n",
    "Thus, alongside the members histogram, **we are aiming to train our model over newer time periods, to assure more relevant and accurate prediction model.**"
   ]
  },
  {
   "cell_type": "markdown",
   "metadata": {},
   "source": [
    "### User Logs dataset\n",
    "#### Includes the activity on the app itself. Logs are recorded on a daily basis."
   ]
  },
  {
   "cell_type": "markdown",
   "metadata": {},
   "source": [
    "| Property   | Description                                                |\n",
    "|------------|------------------------------------------------------------|\n",
    "| msno       | User identifier                                            |\n",
    "| date       | Log date (format: %Y%m%d)                                  |\n",
    "| num_25     | # of songs played less than 25% of the song length         |\n",
    "| num_50     | # of songs played between 25% to 50% of the song length    |\n",
    "| num_75     | # of songs played between 50% to 75% of of the song length |\n",
    "| num_985    | # of songs played between 75% to 98.5% of the song length  |\n",
    "| num_100    | # of songs played over 98.5% of the song length            |\n",
    "| num_unq    | # of unique songs played                                   |\n",
    "| total_secs | total seconds played                                       |"
   ]
  },
  {
   "cell_type": "markdown",
   "metadata": {},
   "source": [
    "# Step 2: Setting up 4 timestamps for 4 panel creation. \n",
    "####  To create a large panel we will gather a few panels of users based on their expiration date on several window time frames. According the histograms above we decide that the cutoff dates we will use:\n",
    "\n",
    "*This means that the panel creation code and the feature engineering part will be executed 4 times, each with a different cutoff date as listed above.*"
   ]
  },
  {
   "cell_type": "markdown",
   "metadata": {},
   "source": [
    "| Date       | Purpose    | Timestamp |\n",
    "|------------|------------|-----------|\n",
    "| 28/01/2017 | Validation | 20170128  |\n",
    "| 16/12/2016 | Test       |  20161216 |\n",
    "| 26/11/2016 | Test       |  20161126 |\n",
    "| 25/10/2016 | Test       |  20161025 |\n",
    "| 23/09/2016 | Test       | 20160923  |"
   ]
  },
  {
   "cell_type": "code",
   "execution_count": 4,
   "metadata": {},
   "outputs": [],
   "source": [
    "validations_timestamps = ['20170128']\n",
    "test_timestamps = ['20161216','20161126','20161025','20160923']"
   ]
  },
  {
   "cell_type": "markdown",
   "metadata": {},
   "source": [
    "# Step 3: Panel Creation *Iterative Step*"
   ]
  },
  {
   "cell_type": "markdown",
   "metadata": {},
   "source": [
    "## Step 3.1: Data Preprocessing\n",
    "### Function Definitions"
   ]
  },
  {
   "cell_type": "markdown",
   "metadata": {},
   "source": [
    "#### Step 3.1.1 : *Extracting members from members.csv*"
   ]
  },
  {
   "cell_type": "markdown",
   "metadata": {},
   "source": [
    "The following code is for extracting **all members from members.csv,\n",
    "that had registered before the *timestamp* given.**"
   ]
  },
  {
   "cell_type": "code",
   "execution_count": 4,
   "metadata": {},
   "outputs": [],
   "source": [
    "def extract_members_with_cutoff(members, timestamp):\n",
    "    cutoff_date = pd.Timestamp(timestamp) \n",
    "    cutoff_date_start  =  cutoff_date - datetime.timedelta(days=31)\n",
    "    cutoff_end_date =  cutoff_date + datetime.timedelta(days=31)\n",
    "    #Reducing memory size by downgrading data types\n",
    "    members['city'] = members['city'].apply(pd.to_numeric,downcast='unsigned') #data 0-22\n",
    "    members['registered_via'] = members['registered_via'].apply(pd.to_numeric,downcast='signed')\n",
    "    members.registration_init_time= pd.to_datetime(members.registration_init_time, format='%Y%m%d')\n",
    "    \n",
    "    # Number of lines is equal to number of rows which validates that all msno are unique.\n",
    "    print(\"Number of unique msno's falling in criteria: %d\" % len(set(members.msno)))\n",
    "    #Removing out of sample data. Done for each cutoff point as described at the beginning\n",
    "    return members[members.registration_init_time<cutoff_date]"
   ]
  },
  {
   "cell_type": "markdown",
   "metadata": {},
   "source": [
    "#### Step 3.1.2: Transactions extraction out of transactions.csv"
   ]
  },
  {
   "cell_type": "markdown",
   "metadata": {},
   "source": [
    "The following code is for extracting **all transactions from transactions.csv,\n",
    "that had registered before the *timestamp* given.**"
   ]
  },
  {
   "cell_type": "code",
   "execution_count": 5,
   "metadata": {},
   "outputs": [],
   "source": [
    "def extract_transactions_with_cutoff(transactions, members, timestamp):\n",
    "        cutoff_date = pd.Timestamp(timestamp) \n",
    "        cutoff_date_start  =  cutoff_date - datetime.timedelta(days=31)\n",
    "        cutoff_end_date =  cutoff_date + datetime.timedelta(days=31)\n",
    "        trans = transactions\n",
    "        #Change Format of date\n",
    "        trans.transaction_date= pd.to_datetime(trans.transaction_date, format='%Y%m%d')\n",
    "        trans.membership_expire_date= pd.to_datetime(trans.membership_expire_date, format='%Y%m%d')\n",
    "        \n",
    "        #Keep only rows of users who are in our members dataset\n",
    "        trans_trimmed = trans[trans.msno.isin(members.msno)] \n",
    "        \n",
    "        #remove out of sample data based on cutoff date\n",
    "        return trans_trimmed[trans_trimmed.transaction_date<cutoff_date] "
   ]
  },
  {
   "cell_type": "markdown",
   "metadata": {},
   "source": [
    "#### Step 3.2: Panel creation out of members and transactions\n",
    "\n",
    "The following code is for creating a panel that contains the latest log of all members for the 30 days prior to the given timestamp"
   ]
  },
  {
   "cell_type": "code",
   "execution_count": 6,
   "metadata": {},
   "outputs": [],
   "source": [
    "def generate_panel_and_update_transactions(members_at_cutoff, transactions_at_cuttoff,timestamp):\n",
    "        cutoff_date = pd.Timestamp(timestamp) \n",
    "        cutoff_date_start  =  cutoff_date - datetime.timedelta(days=31)\n",
    "        cutoff_end_date =  cutoff_date + datetime.timedelta(days=31)\n",
    "        trans_trimmed = transactions_at_cuttoff\n",
    "        #\"last_log\" the last transaction made by the user before the cutoffdate. Will be used to calculate the 30 days churn window indicator.\n",
    "        trans_trimmed = trans_trimmed.sort_values(by=['msno','transaction_date']) #Sort by msno and transaction_date\n",
    "        \n",
    "        last_log = trans_trimmed.groupby(['msno']).last()\n",
    "\n",
    "        #panel will include only members whose last log was before the cutoff date and expiration is after the cutoff date start\n",
    "        #Logic: We're looking for users whose membership expires 30 days before the cutoff point\n",
    "        panel = pd.DataFrame((last_log[(last_log.membership_expire_date<cutoff_date) & ( last_log.membership_expire_date>=cutoff_date_start)]).index)\n",
    "        #Keeping only the relevant members in the trans_trimmed table\n",
    "        return panel, trans_trimmed[trans_trimmed.msno.isin(panel.msno)]"
   ]
  },
  {
   "cell_type": "markdown",
   "metadata": {},
   "source": [
    "#### Some utility functions for use"
   ]
  },
  {
   "cell_type": "code",
   "execution_count": 7,
   "metadata": {},
   "outputs": [],
   "source": [
    "def old_transaction_data(i,trans_2d):\n",
    "    return trans_2d.iloc[i].msno, trans_2d.iloc[i].transaction_date, trans_2d.iloc[i].membership_expire_date\n",
    "\n",
    "def new_transaction_date(i,trans_2d):\n",
    "    return trans_2d.iloc[i].transaction_date, trans_2d.iloc[i].membership_expire_date\n",
    "    \n",
    "def weekday (x):\n",
    "    return datetime.datetime.weekday(x) \n",
    "\n",
    "def remove_outliers(sr):    #removing outliers of a list using 3 std limit\n",
    "    return abs(sr- sr.mean() < 3 * sr.std())\n",
    "\n",
    "def categorizing(df,sr,name): #df, sr - sereis (df.sr), name = name of the new variable\n",
    "    just_dummy = pd.get_dummies(sr)\n",
    "    just_dummy= just_dummy.add_prefix(name +'_')\n",
    "    df = df.join(just_dummy,how='left')\n",
    "    df = df.drop(name,axis=1)\n",
    "    return df"
   ]
  },
  {
   "cell_type": "markdown",
   "metadata": {},
   "source": [
    "#### Step 3.3: Feature Engineering\n",
    "\n",
    "We will generate the following features for the dataset we have.\n",
    "It will require some data-manipulations. "
   ]
  },
  {
   "cell_type": "markdown",
   "metadata": {},
   "source": [
    "| Feature Name                              | Feature Description                          |\n",
    "|-----------------                          |----------------------------------------------|\n",
    "| msno                                      | unique user identifier                       |\n",
    "| times_churn                               | number of times a user has churned           |\n",
    "| join_date                                 | registration date from members table         |\n",
    "| days                                      | Total Days on plan                           |\n",
    "| city                                      | nominal,- dummy city_A,B,C                   |\n",
    "| bd                                        | Age of user                                  |\n",
    "| gender                                    | Gender                                       |\n",
    "| registrated_via                           | how the user had registered                  |\n",
    "| num_cancel                                | number of cancellations in transaction table |\n",
    "| cnt_trans                                 | count of transactions                        |\n",
    "| tot_price                                 | total list price                             |\n",
    "| tot_paid                                  | total actual paid                            |\n",
    "| ct_pmt                                    | count of actual payments                     |\n",
    "| ct_plan30                                 | number of plans 0-30 days                    |\n",
    "| ct_pln_ovr30                              | number of plans over 30                      |\n",
    "| cnt_autorenew                             | num of autorenew                             |\n",
    "| last_trans_weekday                        | the weekday of the last transaction          |\n",
    "| can_ratio                                 | Cancelations out of total transactions       |\n",
    "| plandays_max/min/mean/std                 | Descriptive statistics of # days of plans    |\n",
    "| pmt_method_num                            | Number of unique payment methods             |\n",
    "| pln_uniq                                  | Unique plan days                             |\n",
    "| plan_list_price_max/min/mean/std          | plan list price statistics                   |\n",
    "| actual_amount_paid_max/min/mea/std        | Actual amount paid stats                     |\n",
    "| actual_amount_paid_cnt                    | Unique amount paid                           |\n",
    "| auto_renew_cnt                            | Number of auto renewals                      |\n",
    "| last_pmt_mtd                              | Last used payment method                     |\n",
    "| last_pln_days                             | Number of days in last plan                  |\n",
    "| last_plan_price                           | Price of last plan                           |\n",
    "| last_paid                                 | Last payment                                 |\n",
    "| last_auto_renew                           | Was last transaction autorenew               |\n",
    "| last_trans_date                           | Date of last transaction                     |\n",
    "| last_exp_date                             | Expiration date of last transaction          |\n",
    "| last_is_cancel                            | Is last transaction cancellation             |\n",
    "| days_first_last_trans                     | Days from first to last transaction          |\n",
    "| days_since_reg                            | Days since registration                      |\n",
    "| days_since_last_trans                     | Days since last transaction                  |\n",
    "| days_before_churn                         | Number of days left before flagged churn     |\n",
    "| days_logged                               | How many days the user has logged            |\n",
    "| last_logged                               | Date last logged                             |\n",
    "| days_since_last_log                       | Days since last logged                       |\n",
    "| sum_25/sum_50/sum_75/sum_985/sum_100      | Total number of songs played till %          |\n",
    "| sum_unq                                   | Sum of unique songs played                   |\n",
    "| sum_seconds                               | Sum of seconds of songs played               |\n",
    "| mean_25/mean_50/mean_75/mean_985/mean_100 | Mean of songs played per day till %          |\n",
    "| mean_unq                                  | Mean of unique songs played per day          |\n",
    "| mean_seconds                              | Mean of seconds of songs played per day      |\n",
    "| max_25/max_50/max_75/max_985/max_100      | Max of songs played per day till %           |\n",
    "| max_unq                                   | Max of unique songs player per day           |\n",
    "| max_seconds                               | Max of seconds of songs played per day       |\n",
    "| min_25/min_50/min_75/min_985/min_100      | Minimum of songs played till %               |\n",
    "| min_unq                                   | Minimum of unique songs played per day       |\n",
    "| min_seconds                               | Minimum seconds songs played per day         |"
   ]
  },
  {
   "cell_type": "markdown",
   "metadata": {},
   "source": [
    "#### Step 3.3.1: vecotrizing the dataset\n",
    "\n",
    "The following code will generate a feature vector for a given transaction set (particulary for a transaction prior to a given timestamp) "
   ]
  },
  {
   "cell_type": "code",
   "execution_count": 8,
   "metadata": {},
   "outputs": [],
   "source": [
    "def vectorize_dataset(transactions_at_cutoff):\n",
    "    # shifting down expiray date in order to calculate the number of days between last expiration and next transaction.\n",
    "    # If 30 days passed between the 2 flag as churn and then sum the number of churned instances the user had.\n",
    "    trans_trimmed = transactions_at_cutoff.sort_values(by=['msno','transaction_date']) #Sort by msno and transaction_date\n",
    "    #Shifting Transaction date forward (sft_regdate  - is shifted expiry date)\n",
    "    trans_trimmed['sft_regdate'] = trans_trimmed.groupby(['msno'])['membership_expire_date'].shift(1) #Check if the difference is 30 days.\n",
    "    trans_trimmed['over30']  =  pd.Series([ trans_trimmed['transaction_date']-(trans_trimmed['sft_regdate'])])[0] #The reason we had an issue was probably because the length was\n",
    "    #differnt because of the NAN or flase\n",
    "    trans_trimmed['daygap'] = trans_trimmed['over30']/np.timedelta64(1, 'D') #convvert to num of days\n",
    "    trans_trimmed['30yn'] = trans_trimmed['daygap']>30  #if Gaps is over 30 it means there was a churn\n",
    "    trans_trimmed = trans_trimmed.drop(['daygap','over30'],axis=1)\n",
    "    # create a table with all users who churned =>have True in 30yn\n",
    "    churn_30 = trans_trimmed[trans_trimmed['30yn']==True].msno #churners who had 31 day gap\n",
    "    churn_30 = pd.DataFrame(churn_30) \n",
    "    churn_30.drop_duplicates(inplace = True) #81459\n",
    "    \n",
    "    # Count number of times a user has churned\n",
    "    churn_times = trans_trimmed[trans_trimmed['30yn']==True].groupby(['msno'])['30yn'].count()\n",
    "    churn_times = pd.DataFrame(churn_times)\n",
    "    churn_times.columns = churn_times.columns.str.replace('30yn','times_churn')\n",
    "    churn_times = churn_times.reset_index()\n",
    "    \n",
    "    # Adding 1 to 'times_churn' for users whose last transaction was before  cutoff date and thus was not counted\n",
    "    # Add last exp_date and num of churns to the members table\n",
    "    temp = trans_trimmed.groupby(['msno']).last()\n",
    "    \n",
    "    X = trans_trimmed['msno'].unique()\n",
    "    X = pd.DataFrame(X,columns=['msno'])\n",
    "    X =  pd.merge(X, churn_times, how='left', on=['msno']) #Add 30 days churn to X\n",
    "    \n",
    "    X = X.fillna(0)\n",
    "    trans_trimmed.sort_values(['msno','transaction_date'], inplace=True)\n",
    "    trans_2d = trans_trimmed[['msno','transaction_date','membership_expire_date']]\n",
    "    temp = pd.DataFrame()\n",
    "    temp['msno'] = 0 \n",
    "    temp['days'] = 0\n",
    "    temp={}\n",
    "    \n",
    "    days =0\n",
    "    i=0\n",
    "    \n",
    "    \n",
    "    for i in tqdm_notebook(range((len(trans_2d)-1))):\n",
    "        old_msno, old_trans, old_exp = old_transaction_data(i,trans_2d)\n",
    "        if trans_2d.iloc[i].msno == trans_2d.iloc[i+1].msno: #next line is still the same member\n",
    "            i+=1\n",
    "            new_trans, new_exp = new_transaction_date(i,trans_2d)\n",
    "            if new_trans>old_exp: #old exp was complete\n",
    "                days+=(old_exp-old_trans).days #calculate the days in the last transaction till it ended\n",
    "                continue\n",
    "            else: #old was overlapped\n",
    "                days+= (new_trans - old_trans).days #calculate the days that passed since last trans\n",
    "                continue\n",
    "        else:   #moved to a new msno\n",
    "            days += (old_exp-old_trans).days\n",
    "            temp[old_msno] = days\n",
    "            #temp.append(pd.DataFrame({\"msno\":[old_msno],\"days\":[days]}))\n",
    "            days = 0\n",
    "            i+=1\n",
    "    \n",
    "    temp = pd.DataFrame.from_dict(temp, orient='index')\n",
    "    temp.reset_index(inplace=True)\n",
    "    temp = temp.rename(index=str, columns={\"index\": \"msno\", 0: \"days\"})\n",
    "    X = X.merge(temp,how='left',on='msno')\n",
    "    return X, trans_trimmed\n",
    "    "
   ]
  },
  {
   "cell_type": "markdown",
   "metadata": {},
   "source": [
    "#### Step 3.3.2: Feature extension\n",
    "The following code will extend a feature vector with the features mentioned above."
   ]
  },
  {
   "cell_type": "code",
   "execution_count": 9,
   "metadata": {},
   "outputs": [],
   "source": [
    "def extend_with_features(X,transactions, cuttoff_timestamp):\n",
    "    #Join date\n",
    "    trans_trimmed = transactions\n",
    "    cutoff_date = pd.Timestamp(cuttoff_timestamp)\n",
    "    X = pd.merge(X,members, how='left',on='msno')\n",
    "    X = X.rename(index=str, columns={\"registration_init_time\": \"join_date\"})\n",
    "    # num of cancellations\n",
    "    X=X.set_index('msno')\n",
    "    X['num_cancel'] = trans_trimmed.groupby(['msno'])['is_cancel'].sum()\n",
    "    #7 Num transactions\n",
    "    X['cnt_trans'] = trans_trimmed.groupby(['msno'])['msno'].count()\n",
    "    #8 Total price\n",
    "    X['tot_price'] = trans_trimmed.groupby(['msno'])['plan_list_price'].sum()\n",
    "    #9 Total Actual Paid\n",
    "    X['tot_paid'] = trans_trimmed.groupby(['msno'])['actual_amount_paid'].sum()\n",
    "    #10 Count paymnents\n",
    "    temp = trans_trimmed[trans_trimmed.actual_amount_paid >0]\n",
    "    X['ct_pmt'] = temp.groupby(['msno'])['actual_amount_paid'].count()\n",
    "    #11 Num plans <=31 days\n",
    "    temp = trans_trimmed[trans_trimmed.actual_amount_paid <=31]\n",
    "    X['ct_pln30'] = temp.groupby(['msno'])['msno'].count()\n",
    "    #12 Num plans >31 days\n",
    "    temp = trans_trimmed[trans_trimmed.actual_amount_paid >31]\n",
    "    X['ct_pln_ovr30'] = temp.groupby(['msno'])['msno'].count()\n",
    "    #13 Num of is_auto_renew transactions\n",
    "    X['cnt_autorenew'] = trans_trimmed.groupby(['msno'])['is_auto_renew'].sum()\n",
    "    #14 Last transaction weekday\n",
    "    temp = trans_trimmed.groupby(['msno'])['transaction_date'].max()\n",
    "    temp = pd.DataFrame(temp)\n",
    "    temp.transaction_date = temp.transaction_date.apply(weekday)\n",
    "    X = pd.merge(X,temp,how='left',on='msno')\n",
    "    X.rename(columns={'transaction_date':'last_trans_weekday'}, inplace=True)\n",
    "    #15 % cancellation transactions out of total transactions\n",
    "    X['can_ratio'] = X.num_cancel / X.cnt_trans\n",
    "    #16 Highest + lowest + mean  plan_days\n",
    "    X['plandays_max'] = trans_trimmed.groupby(['msno'])['payment_plan_days'].max()\n",
    "    X['plandays_min'] = trans_trimmed.groupby(['msno'])['payment_plan_days'].min()\n",
    "    X['plandays_mean'] = trans_trimmed.groupby(['msno'])['payment_plan_days'].mean()\n",
    "    X['plandays_std'] = trans_trimmed.groupby(['msno'])['payment_plan_days'].std()\n",
    "    #17 number of unique plan days\n",
    "    X['pln_uniq'] = trans_trimmed.groupby(['msno'])['payment_plan_days'].nunique()\n",
    "    #18  unique pmt methods\n",
    "    X['pmt_method_num'] = trans_trimmed.groupby(['msno'])['payment_method_id'].nunique()\n",
    "    #19 Higheset & lowest & Mean plan list price\n",
    "    X['plan_list_price_max'] = trans_trimmed.groupby(['msno'])['plan_list_price'].max()\n",
    "    X['plan_list_price_min'] = trans_trimmed.groupby(['msno'])['plan_list_price'].min()\n",
    "    X['plan_list_price_mean'] = trans_trimmed.groupby(['msno'])['plan_list_price'].mean()\n",
    "    X['plan_list_price_std'] = trans_trimmed.groupby(['msno'])['plan_list_price'].std()\n",
    "    #20 Higheset & lowest & MEAN actuak paid\n",
    "    X['actual_amount_paid_max'] = trans_trimmed.groupby(['msno'])['actual_amount_paid'].max()\n",
    "    X['actual_amount_paid_min'] = trans_trimmed.groupby(['msno'])['actual_amount_paid'].min()\n",
    "    X['actual_amount_paid_mean'] = trans_trimmed.groupby(['msno'])['actual_amount_paid'].mean()\n",
    "    X['actual_amount_paid_std'] = trans_trimmed.groupby(['msno'])['actual_amount_paid'].std()\n",
    "    X['actual_amount_paid_cnt'] = trans_trimmed.groupby(['msno'])['actual_amount_paid'].count()\n",
    "    #20 number of  auto renew\n",
    "    X['auto_renew_cnt'] = trans_trimmed.groupby(['msno'])['is_auto_renew'].sum()\n",
    "    #21 last transaction data\n",
    "    trans_trimmed = trans_trimmed.sort_values(by=['msno','transaction_date']) #Sort by msno and transaction_date\n",
    "    temp = trans_trimmed.groupby(['msno']).last()\n",
    "    temp = temp.drop(['sft_regdate','30yn'], axis=1)\n",
    "    temp.columns = ['last_pmt_mtd','last_pln_days','last_plan_price','last_paid','last_auto_renew', 'last_trans_date','last_exp_date','last_is_cancel']\n",
    "          \n",
    "    X = X.merge(temp,how='left',on='msno')\n",
    "    #22 time from first to last transaction\n",
    "    for i in X.index:\n",
    "        end= X.last_trans_date[i]\n",
    "        start = X.join_date[i]\n",
    "        X.at[i,'days_first_last_trans'] = (end-start).days\n",
    "    #23 Days since registation\n",
    "    X['days_since_reg'] = (cutoff_date-X['join_date']).dt.days\n",
    "    #24 - Days before is_churn\n",
    "    X['days_before_churn'] =31 -  (cutoff_date-X.last_exp_date).dt.days\n",
    "    return X\n",
    "        "
   ]
  },
  {
   "cell_type": "markdown",
   "metadata": {},
   "source": [
    "#### Step 3.3.3: Aggregation of user log features to feature vector\n",
    "The following code will extend a feature vector with user log features as mentioned above."
   ]
  },
  {
   "cell_type": "code",
   "execution_count": 10,
   "metadata": {},
   "outputs": [],
   "source": [
    "def extend_with_user_log_features(X,timestamp):  \n",
    "    log_trimmed = retrieve_logs(X)\n",
    "    log_trimmed.date = pd.to_datetime(log_trimmed.date , format='%Y%m%d')\n",
    "    cutoff_date = pd.Timestamp(timestamp)\n",
    "    log_trimmed = log_trimmed[log_trimmed.date<cutoff_date]\n",
    "    #remove negative seconds records\n",
    "    log_trimmed = log_trimmed[log_trimmed.total_secs>0]\n",
    "    #Removing outliers\n",
    "    for i in range(2,7):\n",
    "        log_trimmed  = log_trimmed[remove_outliers(log_trimmed.iloc[:,i])]\n",
    "    log_trimmed  = log_trimmed[remove_outliers(log_trimmed['total_secs'])]\n",
    "        #Sum of days logged in\n",
    "    log_trimmed.sort_values(by=['msno','date'],inplace = True)\n",
    "    #log_trimmed.to_pickle('log_trimmed.pickle')\n",
    "    X['days_logged'] = log_trimmed.groupby(['msno'])['date'].count()\n",
    "    X['last_logged'] = log_trimmed.groupby(['msno'])['date'].last()\n",
    "    X['days_since_last_log'] = (cutoff_date - X['last_logged']).dt.days\n",
    "    X['last_logged'] = log_trimmed.groupby(['msno'])['date'].last()\n",
    "    \n",
    "    X[['sum_25','sum_50','sum_75','sum_985','sum_100','sum_unq','sum_seconds']] = log_trimmed.groupby(['msno'])['num_25','num_50','num_75','num_985','num_100','num_unq','total_secs'].sum()\n",
    "    X[['mean_25','mean_50','mean_75','mean_985','mean_100','mean_unq','mean_seconds']]  =  log_trimmed.groupby(['msno'])['num_25','num_50','num_75','num_985','num_100','num_unq','total_secs'].mean()\n",
    "    X[['max_25','max_50','max_75','max_985','max_100','max_unq','max_seconds']] = log_trimmed.groupby(['msno'])['num_25','num_50','num_75','num_985','num_100','num_unq','total_secs'].max()\n",
    "    X[['min_25','min_50','min_75','min_985','min_100','min_unq','min_seconds']] =log_trimmed.groupby(['msno'])['num_25','num_50','num_75','num_985','num_100','num_unq','total_secs'].min()\n",
    "    X[['std_25','std_50','std_75','std_985','std_100','std_unq','std_seconds']]  = log_trimmed.groupby(['msno'])['num_25','num_50','num_75','num_985','num_100','num_unq','total_secs'].std()\n",
    "    \n",
    "    #number of days loggedin past 30 days\n",
    "    temp = log_trimmed[(cutoff_date- log_trimmed.date).dt.days<30]\n",
    "    X['days_last_30'] = temp.groupby(['msno'])['msno'].count()\n",
    "    \n",
    "    #number of days loggedin past 10 days\n",
    "    temp = log_trimmed[(cutoff_date- log_trimmed.date).dt.days<10]\n",
    "    X['days_last_10'] = temp.groupby(['msno'])['msno'].count()\n",
    "    #number of seconds played over past 30 days\n",
    "    temp = log_trimmed[(cutoff_date- log_trimmed.date).dt.days<30]\n",
    "    X['secs_last_30'] = temp.groupby(['msno'])['total_secs'].sum()\n",
    "    \n",
    "    #seconds played last 10 days\n",
    "    temp = log_trimmed[(cutoff_date- log_trimmed.date).dt.days<10]\n",
    "    X['secs_last_10'] = temp.groupby(['msno'])['total_secs'].sum()\n",
    "    return X"
   ]
  },
  {
   "cell_type": "markdown",
   "metadata": {},
   "source": [
    "#### Step 3.4: Label generation\n",
    "As mentioned earlier, the label of the dataset is not given, which means that we have to analyze the data in order to consider a member as churned.\n",
    "Thus, the following code is for generating the label for a given feature vector, timestamp, and transactions dataset."
   ]
  },
  {
   "cell_type": "code",
   "execution_count": 11,
   "metadata": {},
   "outputs": [],
   "source": [
    "def generate_y(X, timestamp, transactions):\n",
    "    ###leave only dates after cutoff\n",
    "    cutoff_date = pd.Timestamp(timestamp) \n",
    "    cutoff_date_start  =  cutoff_date - datetime.timedelta(days=31)\n",
    "    cutoff_end_date =  cutoff_date + datetime.timedelta(days=31)\n",
    "    \n",
    "    ###leave only dates after cutoff\n",
    "    trans_y = transactions[(transactions.transaction_date>=cutoff_date) & (transactions.transaction_date<=cutoff_end_date)]\n",
    "    trans_y.sort_values(['msno','transaction_date'],inplace=True)\n",
    "    y = pd.DataFrame(X.index) # set Y msno as X msno\n",
    "    y.set_index('msno',inplace=True)\n",
    "    y['ind'] = trans_y.groupby(['msno'])['transaction_date'].first() # The First date with transaction in the following 30 days \n",
    "    #to learn if there was an activity prior to 30 days after expiration date.\n",
    "    y= y.fillna(0)\n",
    "    y = y.ind.apply(lambda x: 1 if x!=0 else 0)\n",
    "    return y"
   ]
  },
  {
   "cell_type": "markdown",
   "metadata": {},
   "source": [
    "#### Step 3.5: Data Cleanup\n",
    "The following code will clean up the data in the following fashions:\n",
    "- We assume that the 'city' has a minor influence for a give member to become churn, hence, we do equal-depth binning for cities to become city A, city B, city C.\n",
    "- We set all ages in between 10 and 80 to become the same, and fill with the same value for non-existent values.\n",
    "- We set all NaN values for gender to become 'other'\n",
    "- We set non-common 'registered_via's to become '9' \n",
    "- We fill non-existent values with the value 0."
   ]
  },
  {
   "cell_type": "code",
   "execution_count": 12,
   "metadata": {},
   "outputs": [],
   "source": [
    "def data_cleanup(X):\n",
    "    #City will be binned [1,13&5, rest] ~33% in each bin\n",
    "    X.groupby(['city'])['city'].count().sort_values()/len(X)\n",
    "    X.city = X.city.apply(lambda x: 'A' if x==1 else 'B' if (x==5) or (x==13) else 'C')\n",
    "    just_dummy = pd.get_dummies(X.city)\n",
    "    just_dummy= just_dummy.add_prefix('city_')\n",
    "    X = X.join(just_dummy,how='left')\n",
    "    X = X.drop('city',axis=1)\n",
    "    # all ages over 80 and below 10 will be transformed to 0\n",
    "    len(X.bd[(X.bd>10) & (X.bd<80)]) #50260 are in the range of normal values\n",
    "    X.bd.apply(lambda x: 0 if (x<10) or (x>80) else x)\n",
    "    X.bd = X.bd.fillna(0)\n",
    "    X.gender.isna().sum()/len(X) #35% are nan we'll change to 'other'\n",
    "    X.gender.apply(lambda x: 'unknown' if pd.isnull(x) else x)\n",
    "    X = categorizing(X,X.gender,'gender')\n",
    "    X.groupby(['registered_via'])['registered_via'].count().sort_values()/len(X)\n",
    "    # add every reg_via which is not 4,7,3,9 to 9\n",
    "    X['registered_via'] = X['registered_via'].apply(lambda x: 9 if x not in [3,4,7,9] else x)\n",
    "    X = categorizing(X,X.registered_via,'registered_via')\n",
    "    X.fillna(0,inplace = True)\n",
    "    return X"
   ]
  },
  {
   "cell_type": "markdown",
   "metadata": {},
   "source": [
    "#### Step 3.6: Saving Data for later use"
   ]
  },
  {
   "cell_type": "code",
   "execution_count": 13,
   "metadata": {},
   "outputs": [],
   "source": [
    "def save_xy(X,y,timestamp):\n",
    "    name_x = 'X' + str(timestamp) +'.pickle'\n",
    "    name_y = 'y' + str(timestamp) +'.pickle'\n",
    "    X.to_pickle(name_x)\n",
    "    y.to_pickle(name_y)"
   ]
  },
  {
   "cell_type": "markdown",
   "metadata": {},
   "source": [
    "#### End of Function Definitions\n",
    "#### We will now run the functions declared above for all the timestamps chosen in step 2."
   ]
  },
  {
   "cell_type": "code",
   "execution_count": null,
   "metadata": {},
   "outputs": [],
   "source": [
    "validation_timestamp = validations_timestamps[0]\n",
    "test_ts0 = test_timestamps[0]\n",
    "test_ts1 = test_timestamps[1]\n",
    "test_ts2 = test_timestamps[2]\n",
    "test_ts3 = test_timestamps[3]"
   ]
  },
  {
   "cell_type": "markdown",
   "metadata": {},
   "source": [
    "#### We have to run the following cells over and over for each timestamp\n",
    "##### These are all in different cells because it take some time to run each one of them alone."
   ]
  },
  {
   "cell_type": "markdown",
   "metadata": {},
   "source": [
    "#### First Validation Set"
   ]
  },
  {
   "cell_type": "code",
   "execution_count": 14,
   "metadata": {},
   "outputs": [
    {
     "name": "stdout",
     "output_type": "stream",
     "text": [
      "Number of unique msno's falling in criteria: 6769473\n"
     ]
    }
   ],
   "source": [
    "m = extract_members_with_cutoff(members, validations_timestamps[0])"
   ]
  },
  {
   "cell_type": "code",
   "execution_count": 15,
   "metadata": {},
   "outputs": [],
   "source": [
    "t = extract_transactions_with_cutoff(transactions, m, validations_timestamps[0])"
   ]
  },
  {
   "cell_type": "code",
   "execution_count": 16,
   "metadata": {},
   "outputs": [],
   "source": [
    "panel, t = generate_panel_and_update_transactions(m, t, validations_timestamps[0])"
   ]
  },
  {
   "cell_type": "code",
   "execution_count": 17,
   "metadata": {},
   "outputs": [
    {
     "data": {
      "application/vnd.jupyter.widget-view+json": {
       "model_id": "",
       "version_major": 2,
       "version_minor": 0
      },
      "text/plain": [
       "HBox(children=(IntProgress(value=0, max=697347), HTML(value='')))"
      ]
     },
     "metadata": {},
     "output_type": "display_data"
    },
    {
     "name": "stdout",
     "output_type": "stream",
     "text": [
      "\n"
     ]
    }
   ],
   "source": [
    "X, t= vectorize_dataset(t)"
   ]
  },
  {
   "cell_type": "code",
   "execution_count": 18,
   "metadata": {},
   "outputs": [],
   "source": [
    "X = extend_with_features(X, t, validations_timestamps[0])"
   ]
  },
  {
   "cell_type": "code",
   "execution_count": 19,
   "metadata": {},
   "outputs": [],
   "source": [
    "X = extend_with_user_log_features(X, validations_timestamps[0])"
   ]
  },
  {
   "cell_type": "code",
   "execution_count": 21,
   "metadata": {},
   "outputs": [
    {
     "name": "stderr",
     "output_type": "stream",
     "text": [
      "/anaconda3/lib/python3.7/site-packages/ipykernel_launcher.py:9: SettingWithCopyWarning: \n",
      "A value is trying to be set on a copy of a slice from a DataFrame\n",
      "\n",
      "See the caveats in the documentation: http://pandas.pydata.org/pandas-docs/stable/indexing.html#indexing-view-versus-copy\n",
      "  if __name__ == '__main__':\n"
     ]
    }
   ],
   "source": [
    "y = generate_y(X, validations_timestamps[0], transactions)\n",
    "X = data_cleanup(X)\n",
    "save_xy(X,y,validations_timestamps[0])"
   ]
  },
  {
   "cell_type": "markdown",
   "metadata": {},
   "source": [
    "#### First Test Set"
   ]
  },
  {
   "cell_type": "code",
   "execution_count": 29,
   "metadata": {},
   "outputs": [
    {
     "name": "stdout",
     "output_type": "stream",
     "text": [
      "Number of unique msno's falling in criteria: 6769473\n"
     ]
    }
   ],
   "source": [
    "m = extract_members_with_cutoff(members, test_timestamps[0])"
   ]
  },
  {
   "cell_type": "code",
   "execution_count": 30,
   "metadata": {},
   "outputs": [],
   "source": [
    "t = extract_transactions_with_cutoff(transactions, m, test_timestamps[0])"
   ]
  },
  {
   "cell_type": "code",
   "execution_count": 31,
   "metadata": {},
   "outputs": [],
   "source": [
    "panel, t = generate_panel_and_update_transactions(m, t, test_timestamps[0])"
   ]
  },
  {
   "cell_type": "code",
   "execution_count": 32,
   "metadata": {},
   "outputs": [
    {
     "data": {
      "application/vnd.jupyter.widget-view+json": {
       "model_id": "719375583f8342a58c74474705bf8b9d",
       "version_major": 2,
       "version_minor": 0
      },
      "text/plain": [
       "HBox(children=(IntProgress(value=0, max=914917), HTML(value='')))"
      ]
     },
     "metadata": {},
     "output_type": "display_data"
    },
    {
     "name": "stdout",
     "output_type": "stream",
     "text": [
      "\n"
     ]
    }
   ],
   "source": [
    "X, t= vectorize_dataset(t)"
   ]
  },
  {
   "cell_type": "code",
   "execution_count": 33,
   "metadata": {},
   "outputs": [],
   "source": [
    "X = extend_with_features(X, t, test_timestamps[0])"
   ]
  },
  {
   "cell_type": "code",
   "execution_count": 34,
   "metadata": {},
   "outputs": [],
   "source": [
    "X = extend_with_user_log_features(X, test_timestamps[0])"
   ]
  },
  {
   "cell_type": "code",
   "execution_count": 35,
   "metadata": {},
   "outputs": [
    {
     "name": "stderr",
     "output_type": "stream",
     "text": [
      "/anaconda3/lib/python3.7/site-packages/ipykernel_launcher.py:9: SettingWithCopyWarning: \n",
      "A value is trying to be set on a copy of a slice from a DataFrame\n",
      "\n",
      "See the caveats in the documentation: http://pandas.pydata.org/pandas-docs/stable/indexing.html#indexing-view-versus-copy\n",
      "  if __name__ == '__main__':\n"
     ]
    }
   ],
   "source": [
    "y = generate_y(X, test_timestamps[0], transactions)\n",
    "X = data_cleanup(X)\n",
    "save_xy(X,y,test_timestamps[0])"
   ]
  },
  {
   "cell_type": "markdown",
   "metadata": {},
   "source": [
    "#### Second Test Set"
   ]
  },
  {
   "cell_type": "code",
   "execution_count": 36,
   "metadata": {},
   "outputs": [
    {
     "name": "stdout",
     "output_type": "stream",
     "text": [
      "Number of unique msno's falling in criteria: 6769473\n"
     ]
    }
   ],
   "source": [
    "m = extract_members_with_cutoff(members, test_timestamps[1])"
   ]
  },
  {
   "cell_type": "code",
   "execution_count": 37,
   "metadata": {},
   "outputs": [],
   "source": [
    "t = extract_transactions_with_cutoff(transactions, m, test_timestamps[1])"
   ]
  },
  {
   "cell_type": "code",
   "execution_count": 38,
   "metadata": {},
   "outputs": [],
   "source": [
    "panel, t = generate_panel_and_update_transactions(m, t, test_timestamps[1])"
   ]
  },
  {
   "cell_type": "code",
   "execution_count": 39,
   "metadata": {},
   "outputs": [
    {
     "data": {
      "application/vnd.jupyter.widget-view+json": {
       "model_id": "8c9684cd5a4447df92dd1d029d8ad0eb",
       "version_major": 2,
       "version_minor": 0
      },
      "text/plain": [
       "HBox(children=(IntProgress(value=0, max=862453), HTML(value='')))"
      ]
     },
     "metadata": {},
     "output_type": "display_data"
    },
    {
     "name": "stdout",
     "output_type": "stream",
     "text": [
      "\n"
     ]
    }
   ],
   "source": [
    "X, t= vectorize_dataset(t)"
   ]
  },
  {
   "cell_type": "code",
   "execution_count": 40,
   "metadata": {},
   "outputs": [],
   "source": [
    "X = extend_with_features(X, t, test_timestamps[1])"
   ]
  },
  {
   "cell_type": "code",
   "execution_count": 41,
   "metadata": {},
   "outputs": [],
   "source": [
    "X = extend_with_user_log_features(X, test_timestamps[1])"
   ]
  },
  {
   "cell_type": "code",
   "execution_count": 42,
   "metadata": {},
   "outputs": [
    {
     "name": "stderr",
     "output_type": "stream",
     "text": [
      "/anaconda3/lib/python3.7/site-packages/ipykernel_launcher.py:9: SettingWithCopyWarning: \n",
      "A value is trying to be set on a copy of a slice from a DataFrame\n",
      "\n",
      "See the caveats in the documentation: http://pandas.pydata.org/pandas-docs/stable/indexing.html#indexing-view-versus-copy\n",
      "  if __name__ == '__main__':\n"
     ]
    }
   ],
   "source": [
    "y = generate_y(X, test_timestamps[1], transactions)\n",
    "X = data_cleanup(X)\n",
    "save_xy(X,y,test_timestamps[1])"
   ]
  },
  {
   "cell_type": "markdown",
   "metadata": {},
   "source": [
    "#### Third test set"
   ]
  },
  {
   "cell_type": "code",
   "execution_count": 43,
   "metadata": {},
   "outputs": [
    {
     "name": "stdout",
     "output_type": "stream",
     "text": [
      "Number of unique msno's falling in criteria: 6769473\n"
     ]
    }
   ],
   "source": [
    "m = extract_members_with_cutoff(members, test_timestamps[2])"
   ]
  },
  {
   "cell_type": "code",
   "execution_count": 44,
   "metadata": {},
   "outputs": [],
   "source": [
    "t = extract_transactions_with_cutoff(transactions, m, test_timestamps[2])"
   ]
  },
  {
   "cell_type": "code",
   "execution_count": 45,
   "metadata": {},
   "outputs": [],
   "source": [
    "panel, t = generate_panel_and_update_transactions(m, t, test_timestamps[2])"
   ]
  },
  {
   "cell_type": "code",
   "execution_count": 46,
   "metadata": {},
   "outputs": [
    {
     "data": {
      "application/vnd.jupyter.widget-view+json": {
       "model_id": "b20d8d1028b249ae8a39acca25ea36ad",
       "version_major": 2,
       "version_minor": 0
      },
      "text/plain": [
       "HBox(children=(IntProgress(value=0, max=519465), HTML(value='')))"
      ]
     },
     "metadata": {},
     "output_type": "display_data"
    },
    {
     "name": "stdout",
     "output_type": "stream",
     "text": [
      "\n"
     ]
    }
   ],
   "source": [
    "X, t= vectorize_dataset(t)"
   ]
  },
  {
   "cell_type": "code",
   "execution_count": 47,
   "metadata": {},
   "outputs": [],
   "source": [
    "X = extend_with_features(X, t, test_timestamps[2])"
   ]
  },
  {
   "cell_type": "code",
   "execution_count": 48,
   "metadata": {},
   "outputs": [],
   "source": [
    "X = extend_with_user_log_features(X, test_timestamps[2])"
   ]
  },
  {
   "cell_type": "code",
   "execution_count": 49,
   "metadata": {},
   "outputs": [
    {
     "name": "stderr",
     "output_type": "stream",
     "text": [
      "/anaconda3/lib/python3.7/site-packages/ipykernel_launcher.py:9: SettingWithCopyWarning: \n",
      "A value is trying to be set on a copy of a slice from a DataFrame\n",
      "\n",
      "See the caveats in the documentation: http://pandas.pydata.org/pandas-docs/stable/indexing.html#indexing-view-versus-copy\n",
      "  if __name__ == '__main__':\n"
     ]
    }
   ],
   "source": [
    "y = generate_y(X, test_timestamps[2], transactions)\n",
    "X = data_cleanup(X)\n",
    "save_xy(X,y,test_timestamps[2])"
   ]
  },
  {
   "cell_type": "markdown",
   "metadata": {},
   "source": [
    "#### Fourth test set"
   ]
  },
  {
   "cell_type": "code",
   "execution_count": 50,
   "metadata": {},
   "outputs": [
    {
     "name": "stdout",
     "output_type": "stream",
     "text": [
      "Number of unique msno's falling in criteria: 6769473\n"
     ]
    }
   ],
   "source": [
    "m = extract_members_with_cutoff(members, test_timestamps[3])"
   ]
  },
  {
   "cell_type": "code",
   "execution_count": 51,
   "metadata": {},
   "outputs": [],
   "source": [
    "t = extract_transactions_with_cutoff(transactions, m, test_timestamps[3])"
   ]
  },
  {
   "cell_type": "code",
   "execution_count": 52,
   "metadata": {},
   "outputs": [],
   "source": [
    "panel, t = generate_panel_and_update_transactions(m, t, test_timestamps[3])"
   ]
  },
  {
   "cell_type": "code",
   "execution_count": 53,
   "metadata": {},
   "outputs": [
    {
     "data": {
      "application/vnd.jupyter.widget-view+json": {
       "model_id": "0f1160441a1b4e248fb45cbc25e52fc7",
       "version_major": 2,
       "version_minor": 0
      },
      "text/plain": [
       "HBox(children=(IntProgress(value=0, max=606614), HTML(value='')))"
      ]
     },
     "metadata": {},
     "output_type": "display_data"
    },
    {
     "name": "stdout",
     "output_type": "stream",
     "text": [
      "\n"
     ]
    }
   ],
   "source": [
    "X, t= vectorize_dataset(t)"
   ]
  },
  {
   "cell_type": "code",
   "execution_count": 54,
   "metadata": {},
   "outputs": [],
   "source": [
    "X = extend_with_features(X, t, test_timestamps[3])"
   ]
  },
  {
   "cell_type": "code",
   "execution_count": 55,
   "metadata": {},
   "outputs": [],
   "source": [
    "X = extend_with_user_log_features(X, test_timestamps[3])"
   ]
  },
  {
   "cell_type": "code",
   "execution_count": 56,
   "metadata": {},
   "outputs": [
    {
     "name": "stderr",
     "output_type": "stream",
     "text": [
      "/anaconda3/lib/python3.7/site-packages/ipykernel_launcher.py:9: SettingWithCopyWarning: \n",
      "A value is trying to be set on a copy of a slice from a DataFrame\n",
      "\n",
      "See the caveats in the documentation: http://pandas.pydata.org/pandas-docs/stable/indexing.html#indexing-view-versus-copy\n",
      "  if __name__ == '__main__':\n"
     ]
    }
   ],
   "source": [
    "y = generate_y(X, test_timestamps[3], transactions)\n",
    "X = data_cleanup(X)\n",
    "save_xy(X,y,test_timestamps[3])"
   ]
  },
  {
   "cell_type": "markdown",
   "metadata": {},
   "source": [
    "# Step 4: Modeling and Classification"
   ]
  },
  {
   "cell_type": "markdown",
   "metadata": {},
   "source": [
    "#### Step 4.1: Panel Concatenation\n",
    "Here we will concatenate all the panels we have created earlier together (test set only), to create some good mixture of churn and non-churn users."
   ]
  },
  {
   "cell_type": "code",
   "execution_count": 73,
   "metadata": {
    "scrolled": true
   },
   "outputs": [
    {
     "name": "stdout",
     "output_type": "stream",
     "text": [
      "20161216\n",
      "count    158169.000000\n",
      "mean          0.219607\n",
      "std           0.413982\n",
      "min           0.000000\n",
      "25%           0.000000\n",
      "50%           0.000000\n",
      "75%           0.000000\n",
      "max           1.000000\n",
      "Name: ind, dtype: float64\n",
      "20161126\n",
      "count    210986.000000\n",
      "mean          0.104296\n",
      "std           0.305645\n",
      "min           0.000000\n",
      "25%           0.000000\n",
      "50%           0.000000\n",
      "75%           0.000000\n",
      "max           1.000000\n",
      "Name: ind, dtype: float64\n",
      "20161025\n",
      "count    61493.000000\n",
      "mean         0.304685\n",
      "std          0.460278\n",
      "min          0.000000\n",
      "25%          0.000000\n",
      "50%          0.000000\n",
      "75%          1.000000\n",
      "max          1.000000\n",
      "Name: ind, dtype: float64\n",
      "20160923\n",
      "count    112399.000000\n",
      "mean          0.189575\n",
      "std           0.391966\n",
      "min           0.000000\n",
      "25%           0.000000\n",
      "50%           0.000000\n",
      "75%           0.000000\n",
      "max           1.000000\n",
      "Name: ind, dtype: float64\n"
     ]
    }
   ],
   "source": [
    "X= pd.DataFrame()\n",
    "for i in test_timestamps:\n",
    "    data = pd.read_pickle('X'+i+'.pickle')\n",
    "    data['index2'] = i[1:]\n",
    "    data.reset_index(inplace=True)\n",
    "    X = pd.concat([X,data],axis=0)\n",
    "\n",
    "    \n",
    "\n",
    "y= pd.DataFrame()\n",
    "for i in test_timestamps:\n",
    "    data = pd.read_pickle('y'+i+'.pickle')\n",
    "    print(i)\n",
    "    print(data.describe())\n",
    "    data = pd.DataFrame(data) \n",
    "    data['index2'] = i[1:]\n",
    "    y = pd.concat([y,data],axis=0)"
   ]
  },
  {
   "cell_type": "markdown",
   "metadata": {},
   "source": [
    "## We can see from the mean of each month that the churn rate varies significantly from 10% to 30%"
   ]
  },
  {
   "cell_type": "markdown",
   "metadata": {},
   "source": [
    "#### The same user can appear in more than 1 group (if his membership ended once on October and then again on Nov')\n",
    "#### We'll use an index which will include both the user id and the month in which his membership ended."
   ]
  },
  {
   "cell_type": "code",
   "execution_count": 74,
   "metadata": {},
   "outputs": [
    {
     "data": {
      "text/html": [
       "<div>\n",
       "<style scoped>\n",
       "    .dataframe tbody tr th:only-of-type {\n",
       "        vertical-align: middle;\n",
       "    }\n",
       "\n",
       "    .dataframe tbody tr th {\n",
       "        vertical-align: top;\n",
       "    }\n",
       "\n",
       "    .dataframe thead th {\n",
       "        text-align: right;\n",
       "    }\n",
       "</style>\n",
       "<table border=\"1\" class=\"dataframe\">\n",
       "  <thead>\n",
       "    <tr style=\"text-align: right;\">\n",
       "      <th></th>\n",
       "      <th></th>\n",
       "      <th>ind</th>\n",
       "    </tr>\n",
       "    <tr>\n",
       "      <th>msno</th>\n",
       "      <th>index2</th>\n",
       "      <th></th>\n",
       "    </tr>\n",
       "  </thead>\n",
       "  <tbody>\n",
       "    <tr>\n",
       "      <th>+++FOrTS7ab3tIgIh8eWwX4FqRv8w/FoiOuyXsFvphY=</th>\n",
       "      <th>0160923</th>\n",
       "      <td>0</td>\n",
       "    </tr>\n",
       "    <tr>\n",
       "      <th>++02XbtviomSxcIBUHMOiJkjRxdicTXSfiVqLdsr5lo=</th>\n",
       "      <th>0161216</th>\n",
       "      <td>0</td>\n",
       "    </tr>\n",
       "    <tr>\n",
       "      <th>++096narOxHnDPtbtUtB4WDqDy8EJacQypdqDYBHmmY=</th>\n",
       "      <th>0161216</th>\n",
       "      <td>0</td>\n",
       "    </tr>\n",
       "    <tr>\n",
       "      <th>++0GCV3WGMjibrwCnDuVZXMoIxs1mnMRaD7rFJFU2Ho=</th>\n",
       "      <th>0161216</th>\n",
       "      <td>0</td>\n",
       "    </tr>\n",
       "    <tr>\n",
       "      <th>++0JQqGo/czgqG5qCY31TYkzV7WUMf2QWAS+OeIs//o=</th>\n",
       "      <th>0161216</th>\n",
       "      <td>0</td>\n",
       "    </tr>\n",
       "    <tr>\n",
       "      <th>++0XxUiOHZeYOgVDnJlFiXIp3Y7l+x4NLlaSEMOBrFI=</th>\n",
       "      <th>0161216</th>\n",
       "      <td>0</td>\n",
       "    </tr>\n",
       "    <tr>\n",
       "      <th>++1eOqCPRmzyBjMGvAJEaurjI1AFz4Mify6fk2eecbY=</th>\n",
       "      <th>0161126</th>\n",
       "      <td>0</td>\n",
       "    </tr>\n",
       "    <tr>\n",
       "      <th>++2KAIaZigu6bS4t+s7o/TS1Ki6IVWZBnJCh5day67c=</th>\n",
       "      <th>0161216</th>\n",
       "      <td>0</td>\n",
       "    </tr>\n",
       "    <tr>\n",
       "      <th>++4qZOZ7rISM4nY9xcUVPweG0A4Z12cGwzjZHmRzr3g=</th>\n",
       "      <th>0161126</th>\n",
       "      <td>0</td>\n",
       "    </tr>\n",
       "    <tr>\n",
       "      <th>++5HPICzApqAq9mYdGB/mdke0MbubM8yUKLOmrPt4xU=</th>\n",
       "      <th>0161025</th>\n",
       "      <td>0</td>\n",
       "    </tr>\n",
       "    <tr>\n",
       "      <th>++5vjwrUMXiUOMeSWZdoW8RNHI2XbJRjv4E1e4vWCAI=</th>\n",
       "      <th>0161126</th>\n",
       "      <td>0</td>\n",
       "    </tr>\n",
       "    <tr>\n",
       "      <th>++94yX7YwFHqRxBT3Me4iGB2iigyvUsGh53Bwq0LHTk=</th>\n",
       "      <th>0161216</th>\n",
       "      <td>0</td>\n",
       "    </tr>\n",
       "    <tr>\n",
       "      <th>++9pNNV1bCjmpCZ3tQl588RnLNb+KqT69giup8n+aBo=</th>\n",
       "      <th>0160923</th>\n",
       "      <td>0</td>\n",
       "    </tr>\n",
       "    <tr>\n",
       "      <th rowspan=\"2\" valign=\"top\">++AH7m/EQ4iKe6wSlfO/xXAJx50p+fCeTyF90GoE9Pg=</th>\n",
       "      <th>0160923</th>\n",
       "      <td>1</td>\n",
       "    </tr>\n",
       "    <tr>\n",
       "      <th>0161025</th>\n",
       "      <td>1</td>\n",
       "    </tr>\n",
       "    <tr>\n",
       "      <th>++B9bivZngfdJdYUFJxtkz1ngsqBJgkwXLL/MUpDZ54=</th>\n",
       "      <th>0161126</th>\n",
       "      <td>0</td>\n",
       "    </tr>\n",
       "    <tr>\n",
       "      <th>++Eeql+swB2zfZ3UGAetfo3t14NcnSZiMfIFrl/C+YY=</th>\n",
       "      <th>0161216</th>\n",
       "      <td>0</td>\n",
       "    </tr>\n",
       "    <tr>\n",
       "      <th rowspan=\"2\" valign=\"top\">++Eictrlt63fxhzSCquIj9BdTchtKMAnlYJg/8Hvn9U=</th>\n",
       "      <th>0160923</th>\n",
       "      <td>0</td>\n",
       "    </tr>\n",
       "    <tr>\n",
       "      <th>0161216</th>\n",
       "      <td>0</td>\n",
       "    </tr>\n",
       "    <tr>\n",
       "      <th>++Ey9k0xDW0H7JCc8efy3t5lxegcKbx4gO0MpOp67KU=</th>\n",
       "      <th>0160923</th>\n",
       "      <td>0</td>\n",
       "    </tr>\n",
       "    <tr>\n",
       "      <th rowspan=\"2\" valign=\"top\">++H/4/UOuPx8a7Oj7mx8f0FyANbXI4y1N/MxipwcztE=</th>\n",
       "      <th>0161126</th>\n",
       "      <td>0</td>\n",
       "    </tr>\n",
       "    <tr>\n",
       "      <th>0161216</th>\n",
       "      <td>0</td>\n",
       "    </tr>\n",
       "    <tr>\n",
       "      <th>++I1wsXaVBTTZE3gwzQ5qBWLcMMCxSInWe2pLsJ8hS4=</th>\n",
       "      <th>0160923</th>\n",
       "      <td>0</td>\n",
       "    </tr>\n",
       "    <tr>\n",
       "      <th>++I94Aiv+nh1rYBASjLFRdXoY3dfRgvXls8j47/Idhs=</th>\n",
       "      <th>0161126</th>\n",
       "      <td>0</td>\n",
       "    </tr>\n",
       "    <tr>\n",
       "      <th>++IaTtvm/GSYW/IpwEWZMsa2VC2/AVLtMdOlUmCkS1A=</th>\n",
       "      <th>0160923</th>\n",
       "      <td>0</td>\n",
       "    </tr>\n",
       "    <tr>\n",
       "      <th>++IfZCXYRIiNalGnmbcGW96v6kAwqQO51Sr7dlhIV34=</th>\n",
       "      <th>0161216</th>\n",
       "      <td>1</td>\n",
       "    </tr>\n",
       "    <tr>\n",
       "      <th>++J6eDsAoYFZXIODPv/XmsE/fm0BJoF01muJZDeTp2s=</th>\n",
       "      <th>0161025</th>\n",
       "      <td>0</td>\n",
       "    </tr>\n",
       "    <tr>\n",
       "      <th>++KZNQfLUxE4L3Z5w8ile+Gyf4JSpMGcDVEOez8yFss=</th>\n",
       "      <th>0161216</th>\n",
       "      <td>0</td>\n",
       "    </tr>\n",
       "    <tr>\n",
       "      <th>++L3Kr4/CtPSdU9BrsaX/E9ziEKoD9yK5vwk8DVXmHo=</th>\n",
       "      <th>0161126</th>\n",
       "      <td>1</td>\n",
       "    </tr>\n",
       "    <tr>\n",
       "      <th>++LZCSayFiyIn1KEg/55c4H2E05Ml8garpShWIvPy6c=</th>\n",
       "      <th>0161126</th>\n",
       "      <td>0</td>\n",
       "    </tr>\n",
       "    <tr>\n",
       "      <th>...</th>\n",
       "      <th>...</th>\n",
       "      <td>...</td>\n",
       "    </tr>\n",
       "    <tr>\n",
       "      <th>zznft/lxrrgmcssR8d+tnphPOyNNzwPtjIhVJKNfz1A=</th>\n",
       "      <th>0161025</th>\n",
       "      <td>0</td>\n",
       "    </tr>\n",
       "    <tr>\n",
       "      <th>zznwTOyw0n8iXepiU87BCrAJmaZFcS/WLh6U6iWk0nQ=</th>\n",
       "      <th>0161025</th>\n",
       "      <td>0</td>\n",
       "    </tr>\n",
       "    <tr>\n",
       "      <th>zzoADz+Wl+2t/T3Fv3lTaKUJPIzRGC+Kdxlr6gEeRts=</th>\n",
       "      <th>0160923</th>\n",
       "      <td>0</td>\n",
       "    </tr>\n",
       "    <tr>\n",
       "      <th>zzoaEw67A/0C1+4/RgRCBOVK+zsL1xJTMJMTdF42FxM=</th>\n",
       "      <th>0161025</th>\n",
       "      <td>0</td>\n",
       "    </tr>\n",
       "    <tr>\n",
       "      <th>zzp82VrPy9gInxLMSiKbNabqmg0CMVbu4WcmV3AACLU=</th>\n",
       "      <th>0161216</th>\n",
       "      <td>0</td>\n",
       "    </tr>\n",
       "    <tr>\n",
       "      <th rowspan=\"2\" valign=\"top\">zzpTXKXmUXusfh8lgKDrPLEdQyNOvxl4a+PE0CwQIQU=</th>\n",
       "      <th>0161126</th>\n",
       "      <td>1</td>\n",
       "    </tr>\n",
       "    <tr>\n",
       "      <th>0161216</th>\n",
       "      <td>1</td>\n",
       "    </tr>\n",
       "    <tr>\n",
       "      <th>zzpo2rWUr3XEYOwmBSKmGC1WWe9PEYrovc8vPmnz7u0=</th>\n",
       "      <th>0161126</th>\n",
       "      <td>0</td>\n",
       "    </tr>\n",
       "    <tr>\n",
       "      <th>zzq/9XnFWkc1Nm0IyybmLSitecR+bJLYrPFYU5HzS34=</th>\n",
       "      <th>0161126</th>\n",
       "      <td>0</td>\n",
       "    </tr>\n",
       "    <tr>\n",
       "      <th rowspan=\"2\" valign=\"top\">zzqbOn91vL3L5SfiaPwxcNBSd80jTRmsKq5qgMbMOzk=</th>\n",
       "      <th>0161126</th>\n",
       "      <td>0</td>\n",
       "    </tr>\n",
       "    <tr>\n",
       "      <th>0161216</th>\n",
       "      <td>0</td>\n",
       "    </tr>\n",
       "    <tr>\n",
       "      <th>zzr5liRwTqKos2ixOAGFprAlMCDnw4fsj7WpspAi+8U=</th>\n",
       "      <th>0161216</th>\n",
       "      <td>0</td>\n",
       "    </tr>\n",
       "    <tr>\n",
       "      <th>zzrAQsVSeu5AUvnT1ib1uiuNq/XTlU7CxRFJnjw03nM=</th>\n",
       "      <th>0161216</th>\n",
       "      <td>0</td>\n",
       "    </tr>\n",
       "    <tr>\n",
       "      <th>zzrwUzpM5ltYq/xjrAis0KQQAEUBE6IcBPiqFkVu2Bc=</th>\n",
       "      <th>0161126</th>\n",
       "      <td>0</td>\n",
       "    </tr>\n",
       "    <tr>\n",
       "      <th>zzsT+vU7Wj4Qud5+SGvRq73/TKJwg2om02PmwAvLv80=</th>\n",
       "      <th>0161126</th>\n",
       "      <td>0</td>\n",
       "    </tr>\n",
       "    <tr>\n",
       "      <th>zztGcSZznx0uMBvc0fTQVTfCzeS7Ho/otO2L/4FXs/w=</th>\n",
       "      <th>0161216</th>\n",
       "      <td>1</td>\n",
       "    </tr>\n",
       "    <tr>\n",
       "      <th>zztRJcWGjS31TKylLqMyZK7XaWfiboX8BI0EZpa69io=</th>\n",
       "      <th>0161126</th>\n",
       "      <td>0</td>\n",
       "    </tr>\n",
       "    <tr>\n",
       "      <th rowspan=\"2\" valign=\"top\">zztg1DNR0a6n+9+CXd8WAfNZHsl5VvyYC2ngeXlwpkc=</th>\n",
       "      <th>0160923</th>\n",
       "      <td>1</td>\n",
       "    </tr>\n",
       "    <tr>\n",
       "      <th>0161126</th>\n",
       "      <td>0</td>\n",
       "    </tr>\n",
       "    <tr>\n",
       "      <th>zzuk5G4az25inA2SSOFkTU95ECb5ysZ8hVhLSBFrmrE=</th>\n",
       "      <th>0161126</th>\n",
       "      <td>0</td>\n",
       "    </tr>\n",
       "    <tr>\n",
       "      <th>zzutBQPXvB2fx0NdEGqJ1heuoI0S6ab0xaX5sph0SyE=</th>\n",
       "      <th>0161126</th>\n",
       "      <td>0</td>\n",
       "    </tr>\n",
       "    <tr>\n",
       "      <th>zzvu4tofjH8jWZ4ubHaMr4K2AB7QARFwzJhcec3TxAU=</th>\n",
       "      <th>0161126</th>\n",
       "      <td>0</td>\n",
       "    </tr>\n",
       "    <tr>\n",
       "      <th rowspan=\"2\" valign=\"top\">zzwF88qqisz7Hl8mKdD68NhHkKK2jlja10VNpsdWiZI=</th>\n",
       "      <th>0161126</th>\n",
       "      <td>0</td>\n",
       "    </tr>\n",
       "    <tr>\n",
       "      <th>0161216</th>\n",
       "      <td>0</td>\n",
       "    </tr>\n",
       "    <tr>\n",
       "      <th>zzx9r9Hc2SzisoCkp5i+oDZqRURAwMwVggtTafCMAvE=</th>\n",
       "      <th>0161126</th>\n",
       "      <td>0</td>\n",
       "    </tr>\n",
       "    <tr>\n",
       "      <th>zzxa/wrL2Ak1YxYqv218iF0XehDkxTzWkdaeXjx3jw0=</th>\n",
       "      <th>0160923</th>\n",
       "      <td>0</td>\n",
       "    </tr>\n",
       "    <tr>\n",
       "      <th rowspan=\"2\" valign=\"top\">zzyuTnRVQQGxs0UN8qzU2Pedh3z8F7UeoiQpNhJRomM=</th>\n",
       "      <th>0161126</th>\n",
       "      <td>0</td>\n",
       "    </tr>\n",
       "    <tr>\n",
       "      <th>0161216</th>\n",
       "      <td>0</td>\n",
       "    </tr>\n",
       "    <tr>\n",
       "      <th>zzz/5bh+8EOZTpIRKWiiaAwEH4uYwfDUaiahJlvABiQ=</th>\n",
       "      <th>0160923</th>\n",
       "      <td>0</td>\n",
       "    </tr>\n",
       "    <tr>\n",
       "      <th>zzz9+ZF4+GMyt63oU8xfjo1EkvRqH5OINlES0RUJI6I=</th>\n",
       "      <th>0161126</th>\n",
       "      <td>0</td>\n",
       "    </tr>\n",
       "  </tbody>\n",
       "</table>\n",
       "<p>543047 rows × 1 columns</p>\n",
       "</div>"
      ],
      "text/plain": [
       "                                                      ind\n",
       "msno                                         index2      \n",
       "+++FOrTS7ab3tIgIh8eWwX4FqRv8w/FoiOuyXsFvphY= 0160923    0\n",
       "++02XbtviomSxcIBUHMOiJkjRxdicTXSfiVqLdsr5lo= 0161216    0\n",
       "++096narOxHnDPtbtUtB4WDqDy8EJacQypdqDYBHmmY= 0161216    0\n",
       "++0GCV3WGMjibrwCnDuVZXMoIxs1mnMRaD7rFJFU2Ho= 0161216    0\n",
       "++0JQqGo/czgqG5qCY31TYkzV7WUMf2QWAS+OeIs//o= 0161216    0\n",
       "++0XxUiOHZeYOgVDnJlFiXIp3Y7l+x4NLlaSEMOBrFI= 0161216    0\n",
       "++1eOqCPRmzyBjMGvAJEaurjI1AFz4Mify6fk2eecbY= 0161126    0\n",
       "++2KAIaZigu6bS4t+s7o/TS1Ki6IVWZBnJCh5day67c= 0161216    0\n",
       "++4qZOZ7rISM4nY9xcUVPweG0A4Z12cGwzjZHmRzr3g= 0161126    0\n",
       "++5HPICzApqAq9mYdGB/mdke0MbubM8yUKLOmrPt4xU= 0161025    0\n",
       "++5vjwrUMXiUOMeSWZdoW8RNHI2XbJRjv4E1e4vWCAI= 0161126    0\n",
       "++94yX7YwFHqRxBT3Me4iGB2iigyvUsGh53Bwq0LHTk= 0161216    0\n",
       "++9pNNV1bCjmpCZ3tQl588RnLNb+KqT69giup8n+aBo= 0160923    0\n",
       "++AH7m/EQ4iKe6wSlfO/xXAJx50p+fCeTyF90GoE9Pg= 0160923    1\n",
       "                                             0161025    1\n",
       "++B9bivZngfdJdYUFJxtkz1ngsqBJgkwXLL/MUpDZ54= 0161126    0\n",
       "++Eeql+swB2zfZ3UGAetfo3t14NcnSZiMfIFrl/C+YY= 0161216    0\n",
       "++Eictrlt63fxhzSCquIj9BdTchtKMAnlYJg/8Hvn9U= 0160923    0\n",
       "                                             0161216    0\n",
       "++Ey9k0xDW0H7JCc8efy3t5lxegcKbx4gO0MpOp67KU= 0160923    0\n",
       "++H/4/UOuPx8a7Oj7mx8f0FyANbXI4y1N/MxipwcztE= 0161126    0\n",
       "                                             0161216    0\n",
       "++I1wsXaVBTTZE3gwzQ5qBWLcMMCxSInWe2pLsJ8hS4= 0160923    0\n",
       "++I94Aiv+nh1rYBASjLFRdXoY3dfRgvXls8j47/Idhs= 0161126    0\n",
       "++IaTtvm/GSYW/IpwEWZMsa2VC2/AVLtMdOlUmCkS1A= 0160923    0\n",
       "++IfZCXYRIiNalGnmbcGW96v6kAwqQO51Sr7dlhIV34= 0161216    1\n",
       "++J6eDsAoYFZXIODPv/XmsE/fm0BJoF01muJZDeTp2s= 0161025    0\n",
       "++KZNQfLUxE4L3Z5w8ile+Gyf4JSpMGcDVEOez8yFss= 0161216    0\n",
       "++L3Kr4/CtPSdU9BrsaX/E9ziEKoD9yK5vwk8DVXmHo= 0161126    1\n",
       "++LZCSayFiyIn1KEg/55c4H2E05Ml8garpShWIvPy6c= 0161126    0\n",
       "...                                                   ...\n",
       "zznft/lxrrgmcssR8d+tnphPOyNNzwPtjIhVJKNfz1A= 0161025    0\n",
       "zznwTOyw0n8iXepiU87BCrAJmaZFcS/WLh6U6iWk0nQ= 0161025    0\n",
       "zzoADz+Wl+2t/T3Fv3lTaKUJPIzRGC+Kdxlr6gEeRts= 0160923    0\n",
       "zzoaEw67A/0C1+4/RgRCBOVK+zsL1xJTMJMTdF42FxM= 0161025    0\n",
       "zzp82VrPy9gInxLMSiKbNabqmg0CMVbu4WcmV3AACLU= 0161216    0\n",
       "zzpTXKXmUXusfh8lgKDrPLEdQyNOvxl4a+PE0CwQIQU= 0161126    1\n",
       "                                             0161216    1\n",
       "zzpo2rWUr3XEYOwmBSKmGC1WWe9PEYrovc8vPmnz7u0= 0161126    0\n",
       "zzq/9XnFWkc1Nm0IyybmLSitecR+bJLYrPFYU5HzS34= 0161126    0\n",
       "zzqbOn91vL3L5SfiaPwxcNBSd80jTRmsKq5qgMbMOzk= 0161126    0\n",
       "                                             0161216    0\n",
       "zzr5liRwTqKos2ixOAGFprAlMCDnw4fsj7WpspAi+8U= 0161216    0\n",
       "zzrAQsVSeu5AUvnT1ib1uiuNq/XTlU7CxRFJnjw03nM= 0161216    0\n",
       "zzrwUzpM5ltYq/xjrAis0KQQAEUBE6IcBPiqFkVu2Bc= 0161126    0\n",
       "zzsT+vU7Wj4Qud5+SGvRq73/TKJwg2om02PmwAvLv80= 0161126    0\n",
       "zztGcSZznx0uMBvc0fTQVTfCzeS7Ho/otO2L/4FXs/w= 0161216    1\n",
       "zztRJcWGjS31TKylLqMyZK7XaWfiboX8BI0EZpa69io= 0161126    0\n",
       "zztg1DNR0a6n+9+CXd8WAfNZHsl5VvyYC2ngeXlwpkc= 0160923    1\n",
       "                                             0161126    0\n",
       "zzuk5G4az25inA2SSOFkTU95ECb5ysZ8hVhLSBFrmrE= 0161126    0\n",
       "zzutBQPXvB2fx0NdEGqJ1heuoI0S6ab0xaX5sph0SyE= 0161126    0\n",
       "zzvu4tofjH8jWZ4ubHaMr4K2AB7QARFwzJhcec3TxAU= 0161126    0\n",
       "zzwF88qqisz7Hl8mKdD68NhHkKK2jlja10VNpsdWiZI= 0161126    0\n",
       "                                             0161216    0\n",
       "zzx9r9Hc2SzisoCkp5i+oDZqRURAwMwVggtTafCMAvE= 0161126    0\n",
       "zzxa/wrL2Ak1YxYqv218iF0XehDkxTzWkdaeXjx3jw0= 0160923    0\n",
       "zzyuTnRVQQGxs0UN8qzU2Pedh3z8F7UeoiQpNhJRomM= 0161126    0\n",
       "                                             0161216    0\n",
       "zzz/5bh+8EOZTpIRKWiiaAwEH4uYwfDUaiahJlvABiQ= 0160923    0\n",
       "zzz9+ZF4+GMyt63oU8xfjo1EkvRqH5OINlES0RUJI6I= 0161126    0\n",
       "\n",
       "[543047 rows x 1 columns]"
      ]
     },
     "execution_count": 74,
     "metadata": {},
     "output_type": "execute_result"
    }
   ],
   "source": [
    "y.reset_index(inplace=True)\n",
    "\n",
    "X.set_index(['msno','index2'], inplace = True)\n",
    "y.set_index(['msno','index2'], inplace = True)\n",
    "\n",
    "X = X.drop(['join_date','last_exp_date','last_logged','last_trans_date'],axis=1) #removing date variables\n",
    "\n",
    "X.sort_index()\n",
    "y.sort_index()"
   ]
  },
  {
   "cell_type": "markdown",
   "metadata": {},
   "source": [
    "#### Step 4.2: Data Splitting - 75%-25%"
   ]
  },
  {
   "cell_type": "code",
   "execution_count": 75,
   "metadata": {},
   "outputs": [],
   "source": [
    "# Splitting the dataset into the Training set and Test set\n",
    "from sklearn.model_selection import train_test_split\n",
    "X_train, X_test, y_train, y_test = train_test_split(X, y['ind'], test_size = 0.25, random_state = 0)"
   ]
  },
  {
   "cell_type": "code",
   "execution_count": 76,
   "metadata": {},
   "outputs": [
    {
     "name": "stdout",
     "output_type": "stream",
     "text": [
      "Train setcount    407285.000000\n",
      "mean          0.178173\n",
      "std           0.382658\n",
      "min           0.000000\n",
      "25%           0.000000\n",
      "50%           0.000000\n",
      "75%           0.000000\n",
      "max           1.000000\n",
      "Name: ind, dtype: float64\n",
      "Test setcount    135762.000000\n",
      "mean          0.178378\n",
      "std           0.382832\n",
      "min           0.000000\n",
      "25%           0.000000\n",
      "50%           0.000000\n",
      "75%           0.000000\n",
      "max           1.000000\n",
      "Name: ind, dtype: float64\n"
     ]
    }
   ],
   "source": [
    "print(\"Train set\" + str(y_train.describe()))\n",
    "print(\"Test set\" + str(y_test.describe()))"
   ]
  },
  {
   "cell_type": "markdown",
   "metadata": {},
   "source": [
    "### Step 4.3: Learning Models and Analysis"
   ]
  },
  {
   "cell_type": "code",
   "execution_count": 10,
   "metadata": {},
   "outputs": [],
   "source": [
    "#Logistic regression\n",
    "def LR (X_train_lrclf,y_train_lrclf,X_test_lrclf,y_test_lrclf):\n",
    "    from sklearn.linear_model import LogisticRegression\n",
    "    lrf = LogisticRegression(C=1e5,n_jobs=-1)\n",
    "    lrf.fit(X_train_lrclf,y_train_lrclf)\n",
    "    y_test_pred = lrf.predict(X_test_lrclf)\n",
    "    cm = sk.metrics.confusion_matrix(y_test_lrclf,y_test_pred)/len(y_test_lrclf)\n",
    "    return cm, (cm[0,0]  +cm[1,1]), y_test_pred,lrf\n",
    "\n",
    "# Decision Tree\n",
    "def DT(X_train_dtclf,y_train_dtclf,X_test_dtclf,y_test_dtclf):\n",
    "    from sklearn.tree import DecisionTreeClassifier \n",
    "    from sklearn import tree\n",
    "    tclf = DecisionTreeClassifier()\n",
    "    tclf.fit(X_train_dtclf,y_train_dtclf)\n",
    "    y_test_pred = tclf.predict(X_test_dtclf)\n",
    "    cm = sk.metrics.confusion_matrix(y_test_dtclf,y_test_pred)/len(y_test_dtclf)\n",
    "    return cm, (cm[0,0]  +cm[1,1]),y_test_pred,tclf   #Accuracy 0.8831\n",
    "# Random Forest\n",
    "def RF(X_train_rfclf,y_train_rfclf,X_test_rfclf,y_test_rfclf):\n",
    "    from sklearn.ensemble import RandomForestClassifier\n",
    "    rfclf = RandomForestClassifier(n_estimators=50, n_jobs=-1)\n",
    "    rfclf.fit(X_train_rfclf, y_train_rfclf)\n",
    "    y_test_pred = rfclf.predict(X_test_rfclf)\n",
    "    cm = sk.metrics.confusion_matrix(y_test_rfclf,y_test_pred)/len(y_test_rfclf)\n",
    "    return cm, (cm[0,0]  +cm[1,1]), y_test_pred,rfclf #sensitivity 0.9001\n",
    "# Neural Network\n",
    "def NN (X_train_nnclf,y_train_nnclf,X_test_nnclf,y_test_nnclf):\n",
    "    from sklearn.neural_network import MLPClassifier\n",
    "    nnclf = MLPClassifier(hidden_layer_sizes = [20], solver='lbfgs',\n",
    "                          random_state = 0).fit(X_train_nnclf, y_train_nnclf) \n",
    "    y_test_predict_nn = nnclf.predict(X_test_nnclf)\n",
    "    cm = sk.metrics.confusion_matrix(y_test_nnclf,y_test_predict_nn)/len(y_test_nnclf)\n",
    "    (cm[0,0]  +cm[1,1]) #sensitivity 0.8985\n",
    "    return cm, (cm[0,0]  +cm[1,1]), y_test_predict_nn,nnclf\n",
    "\n",
    "# XGBoost\n",
    "def XG (X_train_xgclf,y_train_xgclf,X_test_xgclf,y_test_xgclf):\n",
    "    from xgboost import XGBClassifier\n",
    "    xgbclf = XGBClassifier(n_jobs=-1)\n",
    "    xgbclf.fit(X_train_xgclf,y_train_xgclf)\n",
    "    y_test_predict_xgb = xgbclf.predict(X_test_xgclf)\n",
    "    cm = sk.metrics.confusion_matrix(y_test_xgclf,y_test_predict_xgb)/len(y_test_xgclf)\n",
    "    (cm[0,0]  +cm[1,1]) #accuracy 0.8956\n",
    "    return cm,(cm[0,0]  +cm[1,1]),y_test_predict_xgb,xgbclf"
   ]
  },
  {
   "cell_type": "markdown",
   "metadata": {},
   "source": [
    "#### Standard scaling the data (important for NN, LR)"
   ]
  },
  {
   "cell_type": "code",
   "execution_count": 81,
   "metadata": {},
   "outputs": [
    {
     "name": "stderr",
     "output_type": "stream",
     "text": [
      "/anaconda3/lib/python3.7/site-packages/sklearn/preprocessing/data.py:625: DataConversionWarning: Data with input dtype uint8, int64, float64 were all converted to float64 by StandardScaler.\n",
      "  return self.partial_fit(X, y)\n",
      "/anaconda3/lib/python3.7/site-packages/sklearn/base.py:462: DataConversionWarning: Data with input dtype uint8, int64, float64 were all converted to float64 by StandardScaler.\n",
      "  return self.fit(X, **fit_params).transform(X)\n",
      "/anaconda3/lib/python3.7/site-packages/ipykernel_launcher.py:4: DataConversionWarning: Data with input dtype uint8, int64, float64 were all converted to float64 by StandardScaler.\n",
      "  after removing the cwd from sys.path.\n"
     ]
    }
   ],
   "source": [
    "from sklearn.preprocessing import StandardScaler\n",
    "sc = StandardScaler()\n",
    "X_train = sc.fit_transform(X_train)\n",
    "X_test = sc.transform(X_test)"
   ]
  },
  {
   "cell_type": "code",
   "execution_count": 71,
   "metadata": {},
   "outputs": [
    {
     "name": "stderr",
     "output_type": "stream",
     "text": [
      "/anaconda3/lib/python3.7/site-packages/sklearn/preprocessing/data.py:625: DataConversionWarning: Data with input dtype uint8, int64, float64 were all converted to float64 by StandardScaler.\n",
      "  return self.partial_fit(X, y)\n",
      "/anaconda3/lib/python3.7/site-packages/sklearn/base.py:462: DataConversionWarning: Data with input dtype uint8, int64, float64 were all converted to float64 by StandardScaler.\n",
      "  return self.fit(X, **fit_params).transform(X)\n"
     ]
    }
   ],
   "source": [
    "# Scaling X as well for cross validation\n",
    "X = sc.fit_transform(X)"
   ]
  },
  {
   "cell_type": "markdown",
   "metadata": {},
   "source": [
    "### Step 4.4 Results Comparison on test-sets\n",
    "#### The indexes we shall use:\n",
    "- _Accuracy_ - the portion of classified rows which were accuratly classifed\n",
    "-  _AUC_ - Because the portion of churners is low (under 20%) and there there's an importance of deciding the threshold point\n",
    "- We will also give higher importance to _TP_ over _FP_ because we assume that the cost of offer that will be offered to users who were not going to churn has benefits and will be cheap (for instance, 50% off your next subscription)"
   ]
  },
  {
   "cell_type": "markdown",
   "metadata": {},
   "source": [
    "#### We will run all 5 classifiers with their default settings and then decide, based on performance, with which one we will proceed to calibrate"
   ]
  },
  {
   "cell_type": "markdown",
   "metadata": {},
   "source": [
    "### Logistic Regression"
   ]
  },
  {
   "cell_type": "code",
   "execution_count": 16,
   "metadata": {},
   "outputs": [
    {
     "name": "stderr",
     "output_type": "stream",
     "text": [
      "/anaconda3/lib/python3.7/site-packages/sklearn/linear_model/logistic.py:433: FutureWarning: Default solver will be changed to 'lbfgs' in 0.22. Specify a solver to silence this warning.\n",
      "  FutureWarning)\n",
      "/anaconda3/lib/python3.7/site-packages/sklearn/linear_model/logistic.py:1297: UserWarning: 'n_jobs' > 1 does not have any effect when 'solver' is set to 'liblinear'. Got 'n_jobs' = 4.\n",
      "  \" = {}.\".format(effective_n_jobs(self.n_jobs)))\n",
      "/anaconda3/lib/python3.7/site-packages/sklearn/svm/base.py:922: ConvergenceWarning: Liblinear failed to converge, increase the number of iterations.\n",
      "  \"the number of iterations.\", ConvergenceWarning)\n"
     ]
    }
   ],
   "source": [
    "cm,accuracy,y_test_predict,lrclf = LR(X_train,y_train,X_test,y_test)"
   ]
  },
  {
   "cell_type": "code",
   "execution_count": 17,
   "metadata": {},
   "outputs": [
    {
     "name": "stdout",
     "output_type": "stream",
     "text": [
      "[[0.79366833 0.02795333]\n",
      " [0.08047171 0.09790663]]\n",
      "Accuracy = 0.8915749620659683\n",
      "AUC = 0.7574242422708363\n"
     ]
    }
   ],
   "source": [
    "print(cm)\n",
    "print('Accuracy = ' + str(accuracy))\n",
    "fpr, tpr, thresholds = metrics.roc_curve(y_test, y_test_predict)\n",
    "print ('AUC = ' + str(metrics.auc(fpr, tpr)))"
   ]
  },
  {
   "cell_type": "markdown",
   "metadata": {},
   "source": [
    "#### Cross validation: Logistic regression"
   ]
  },
  {
   "cell_type": "code",
   "execution_count": 18,
   "metadata": {},
   "outputs": [
    {
     "name": "stderr",
     "output_type": "stream",
     "text": [
      "[Parallel(n_jobs=-1)]: Using backend LokyBackend with 4 concurrent workers.\n",
      "[Parallel(n_jobs=-1)]: Done   2 out of   4 | elapsed:  6.6min remaining:  6.6min\n"
     ]
    },
    {
     "name": "stdout",
     "output_type": "stream",
     "text": [
      "Mean Cross validation score: 0.8882471877995456\n",
      "STD Cross validation score: 0.022707303893151478\n"
     ]
    },
    {
     "name": "stderr",
     "output_type": "stream",
     "text": [
      "[Parallel(n_jobs=-1)]: Done   4 out of   4 | elapsed:  8.3min finished\n"
     ]
    }
   ],
   "source": [
    "scores = cross_val_score(lrclf, X, y, cv=4,n_jobs=-1,verbose =1)\n",
    "print ('Mean Cross validation score: ' +str(scores.mean()))\n",
    "print ('STD Cross validation score: ' +str(scores.std()))"
   ]
  },
  {
   "cell_type": "code",
   "execution_count": 19,
   "metadata": {},
   "outputs": [
    {
     "data": {
      "text/plain": [
       "0.8882471877995456"
      ]
     },
     "execution_count": 19,
     "metadata": {},
     "output_type": "execute_result"
    }
   ],
   "source": [
    "scores.mean()"
   ]
  },
  {
   "cell_type": "code",
   "execution_count": 20,
   "metadata": {},
   "outputs": [
    {
     "data": {
      "text/plain": [
       "0.022707303893151478"
      ]
     },
     "execution_count": 20,
     "metadata": {},
     "output_type": "execute_result"
    }
   ],
   "source": [
    "scores.std()"
   ]
  },
  {
   "cell_type": "markdown",
   "metadata": {},
   "source": [
    "### Decision tree"
   ]
  },
  {
   "cell_type": "code",
   "execution_count": 21,
   "metadata": {},
   "outputs": [],
   "source": [
    "cm,accuracy,y_test_predict,dtclf = DT(X_train,y_train,X_test,y_test)"
   ]
  },
  {
   "cell_type": "code",
   "execution_count": 22,
   "metadata": {
    "scrolled": true
   },
   "outputs": [
    {
     "name": "stdout",
     "output_type": "stream",
     "text": [
      "[[0.75111592 0.07050574]\n",
      " [0.06321356 0.11516477]]\n",
      "Accuracy = 0.8662806971022818\n",
      "AUC = 0.7799039721189905\n"
     ]
    }
   ],
   "source": [
    "print(cm)\n",
    "print('Accuracy = ' + str(accuracy))\n",
    "fpr, tpr, thresholds = metrics.roc_curve(y_test, y_test_predict)\n",
    "print ('AUC = ' + str(metrics.auc(fpr, tpr)))"
   ]
  },
  {
   "cell_type": "code",
   "execution_count": 23,
   "metadata": {},
   "outputs": [
    {
     "name": "stderr",
     "output_type": "stream",
     "text": [
      "[Parallel(n_jobs=-1)]: Using backend LokyBackend with 4 concurrent workers.\n",
      "[Parallel(n_jobs=-1)]: Done   2 out of   4 | elapsed:  1.1min remaining:  1.1min\n",
      "[Parallel(n_jobs=-1)]: Done   4 out of   4 | elapsed:  1.1min finished\n"
     ]
    }
   ],
   "source": [
    "scores = cross_val_score(dtclf, X, y, cv=4,n_jobs=-1,verbose =1)"
   ]
  },
  {
   "cell_type": "code",
   "execution_count": 24,
   "metadata": {},
   "outputs": [
    {
     "data": {
      "text/plain": [
       "0.8597910443607041"
      ]
     },
     "execution_count": 24,
     "metadata": {},
     "output_type": "execute_result"
    }
   ],
   "source": [
    "scores.mean()"
   ]
  },
  {
   "cell_type": "code",
   "execution_count": 25,
   "metadata": {},
   "outputs": [
    {
     "data": {
      "text/plain": [
       "0.034157710320127606"
      ]
     },
     "execution_count": 25,
     "metadata": {},
     "output_type": "execute_result"
    }
   ],
   "source": [
    "scores.std()"
   ]
  },
  {
   "cell_type": "markdown",
   "metadata": {},
   "source": [
    "### Radom Forest"
   ]
  },
  {
   "cell_type": "code",
   "execution_count": 26,
   "metadata": {
    "scrolled": true
   },
   "outputs": [],
   "source": [
    "cm,accuracy,y_test_predict,rfclf = RF(X_train,y_train,X_test,y_test)"
   ]
  },
  {
   "cell_type": "code",
   "execution_count": 27,
   "metadata": {},
   "outputs": [
    {
     "name": "stderr",
     "output_type": "stream",
     "text": [
      "[Parallel(n_jobs=-1)]: Using backend LokyBackend with 4 concurrent workers.\n",
      "[Parallel(n_jobs=-1)]: Done   2 out of   4 | elapsed:  3.8min remaining:  3.8min\n",
      "[Parallel(n_jobs=-1)]: Done   4 out of   4 | elapsed:  3.8min finished\n"
     ]
    }
   ],
   "source": [
    "scores = cross_val_score(rfclf, X, y, cv=4,n_jobs=-1,verbose =1)"
   ]
  },
  {
   "cell_type": "code",
   "execution_count": 28,
   "metadata": {},
   "outputs": [
    {
     "data": {
      "text/plain": [
       "0.9026271494757392"
      ]
     },
     "execution_count": 28,
     "metadata": {},
     "output_type": "execute_result"
    }
   ],
   "source": [
    "scores.mean()"
   ]
  },
  {
   "cell_type": "code",
   "execution_count": 29,
   "metadata": {},
   "outputs": [
    {
     "data": {
      "text/plain": [
       "0.024191892675026676"
      ]
     },
     "execution_count": 29,
     "metadata": {},
     "output_type": "execute_result"
    }
   ],
   "source": [
    "scores.std()"
   ]
  },
  {
   "cell_type": "code",
   "execution_count": 30,
   "metadata": {},
   "outputs": [
    {
     "name": "stdout",
     "output_type": "stream",
     "text": [
      "[[0.79766061 0.02396105]\n",
      " [0.06769936 0.11067898]]\n",
      "Accuracy = 0.9083395942900075\n",
      "AUC = 0.7956550516333565\n"
     ]
    }
   ],
   "source": [
    "print(cm)\n",
    "print('Accuracy = ' + str(accuracy))\n",
    "fpr, tpr, thresholds = metrics.roc_curve(y_test, y_test_predict)\n",
    "print ('AUC = ' + str(metrics.auc(fpr, tpr)))"
   ]
  },
  {
   "cell_type": "markdown",
   "metadata": {},
   "source": [
    "### Neural Network"
   ]
  },
  {
   "cell_type": "code",
   "execution_count": 31,
   "metadata": {},
   "outputs": [],
   "source": [
    "cm,accuracy,y_test_predict,nnclf = NN(X_train,y_train,X_test,y_test)"
   ]
  },
  {
   "cell_type": "code",
   "execution_count": 32,
   "metadata": {
    "scrolled": true
   },
   "outputs": [
    {
     "name": "stdout",
     "output_type": "stream",
     "text": [
      "[[0.79360204 0.02801962]\n",
      " [0.06825916 0.11011918]]\n",
      "Accuracy = 0.9037212180138772\n",
      "AUC = 0.7916160507764811\n"
     ]
    }
   ],
   "source": [
    "print(cm)\n",
    "print('Accuracy = ' + str(accuracy))\n",
    "fpr, tpr, thresholds = metrics.roc_curve(y_test, y_test_predict)\n",
    "print ('AUC = ' + str(metrics.auc(fpr, tpr)))"
   ]
  },
  {
   "cell_type": "code",
   "execution_count": 33,
   "metadata": {},
   "outputs": [
    {
     "name": "stderr",
     "output_type": "stream",
     "text": [
      "[Parallel(n_jobs=-1)]: Using backend LokyBackend with 4 concurrent workers.\n",
      "[Parallel(n_jobs=-1)]: Done   2 out of   4 | elapsed:  1.6min remaining:  1.6min\n",
      "[Parallel(n_jobs=-1)]: Done   4 out of   4 | elapsed:  1.6min finished\n"
     ]
    }
   ],
   "source": [
    "scores = cross_val_score(nnclf, X, y, cv=4,n_jobs=-1,verbose =1)"
   ]
  },
  {
   "cell_type": "code",
   "execution_count": 34,
   "metadata": {},
   "outputs": [
    {
     "data": {
      "text/plain": [
       "0.8990933817111064"
      ]
     },
     "execution_count": 34,
     "metadata": {},
     "output_type": "execute_result"
    }
   ],
   "source": [
    "scores.mean()"
   ]
  },
  {
   "cell_type": "code",
   "execution_count": 35,
   "metadata": {},
   "outputs": [
    {
     "data": {
      "text/plain": [
       "0.025072703352057676"
      ]
     },
     "execution_count": 35,
     "metadata": {},
     "output_type": "execute_result"
    }
   ],
   "source": [
    "scores.std()"
   ]
  },
  {
   "cell_type": "markdown",
   "metadata": {},
   "source": [
    "### XGBOOST"
   ]
  },
  {
   "cell_type": "code",
   "execution_count": 36,
   "metadata": {
    "scrolled": true
   },
   "outputs": [
    {
     "name": "stdout",
     "output_type": "stream",
     "text": [
      "[[0.79416921 0.02745245]\n",
      " [0.06814867 0.11022967]]\n",
      "Accuracy = 0.9043988745009649\n",
      "AUC = 0.7922709027548781\n"
     ]
    }
   ],
   "source": [
    "cm,accuracy,y_test_predict,xgclf = XG(X_train,y_train,X_test,y_test)\n",
    "print(cm)\n",
    "print('Accuracy = ' + str(accuracy))\n",
    "fpr, tpr, thresholds = metrics.roc_curve(y_test, y_test_predict)\n",
    "print ('AUC = ' + str(metrics.auc(fpr, tpr)))"
   ]
  },
  {
   "cell_type": "code",
   "execution_count": 37,
   "metadata": {
    "scrolled": true
   },
   "outputs": [
    {
     "name": "stderr",
     "output_type": "stream",
     "text": [
      "[Parallel(n_jobs=-1)]: Using backend LokyBackend with 4 concurrent workers.\n",
      "[Parallel(n_jobs=-1)]: Done   2 out of   4 | elapsed:  7.1min remaining:  7.1min\n",
      "[Parallel(n_jobs=-1)]: Done   4 out of   4 | elapsed:  7.1min finished\n"
     ]
    }
   ],
   "source": [
    "scores = cross_val_score(xgclf, X, y, cv=4,n_jobs=-1,verbose =1)"
   ]
  },
  {
   "cell_type": "code",
   "execution_count": 38,
   "metadata": {},
   "outputs": [
    {
     "data": {
      "text/plain": [
       "0.897509724559552"
      ]
     },
     "execution_count": 38,
     "metadata": {},
     "output_type": "execute_result"
    }
   ],
   "source": [
    "scores.mean()"
   ]
  },
  {
   "cell_type": "code",
   "execution_count": 39,
   "metadata": {},
   "outputs": [
    {
     "data": {
      "text/plain": [
       "0.025044194260642347"
      ]
     },
     "execution_count": 39,
     "metadata": {},
     "output_type": "execute_result"
    }
   ],
   "source": [
    "scores.std()"
   ]
  },
  {
   "cell_type": "markdown",
   "metadata": {},
   "source": [
    "## With the exception of Decision tree, most algoritms scored similar. Since the best one in both Accuracy & AUC was Random Forest (0.9 & 0.791 respectively) we will continue optimizing the results using this classifier"
   ]
  },
  {
   "cell_type": "markdown",
   "metadata": {},
   "source": [
    "## Removing Correlated Features"
   ]
  },
  {
   "cell_type": "code",
   "execution_count": 97,
   "metadata": {},
   "outputs": [
    {
     "data": {
      "text/html": [
       "<div>\n",
       "<style scoped>\n",
       "    .dataframe tbody tr th:only-of-type {\n",
       "        vertical-align: middle;\n",
       "    }\n",
       "\n",
       "    .dataframe tbody tr th {\n",
       "        vertical-align: top;\n",
       "    }\n",
       "\n",
       "    .dataframe thead th {\n",
       "        text-align: right;\n",
       "    }\n",
       "</style>\n",
       "<table border=\"1\" class=\"dataframe\">\n",
       "  <thead>\n",
       "    <tr style=\"text-align: right;\">\n",
       "      <th></th>\n",
       "      <th></th>\n",
       "      <th>ind</th>\n",
       "    </tr>\n",
       "    <tr>\n",
       "      <th>msno</th>\n",
       "      <th>index2</th>\n",
       "      <th></th>\n",
       "    </tr>\n",
       "  </thead>\n",
       "  <tbody>\n",
       "    <tr>\n",
       "      <th>+++FOrTS7ab3tIgIh8eWwX4FqRv8w/FoiOuyXsFvphY=</th>\n",
       "      <th>0160923</th>\n",
       "      <td>0</td>\n",
       "    </tr>\n",
       "    <tr>\n",
       "      <th>++02XbtviomSxcIBUHMOiJkjRxdicTXSfiVqLdsr5lo=</th>\n",
       "      <th>0161216</th>\n",
       "      <td>0</td>\n",
       "    </tr>\n",
       "    <tr>\n",
       "      <th>++096narOxHnDPtbtUtB4WDqDy8EJacQypdqDYBHmmY=</th>\n",
       "      <th>0161216</th>\n",
       "      <td>0</td>\n",
       "    </tr>\n",
       "    <tr>\n",
       "      <th>++0GCV3WGMjibrwCnDuVZXMoIxs1mnMRaD7rFJFU2Ho=</th>\n",
       "      <th>0161216</th>\n",
       "      <td>0</td>\n",
       "    </tr>\n",
       "    <tr>\n",
       "      <th>++0JQqGo/czgqG5qCY31TYkzV7WUMf2QWAS+OeIs//o=</th>\n",
       "      <th>0161216</th>\n",
       "      <td>0</td>\n",
       "    </tr>\n",
       "    <tr>\n",
       "      <th>++0XxUiOHZeYOgVDnJlFiXIp3Y7l+x4NLlaSEMOBrFI=</th>\n",
       "      <th>0161216</th>\n",
       "      <td>0</td>\n",
       "    </tr>\n",
       "    <tr>\n",
       "      <th>++1eOqCPRmzyBjMGvAJEaurjI1AFz4Mify6fk2eecbY=</th>\n",
       "      <th>0161126</th>\n",
       "      <td>0</td>\n",
       "    </tr>\n",
       "    <tr>\n",
       "      <th>++2KAIaZigu6bS4t+s7o/TS1Ki6IVWZBnJCh5day67c=</th>\n",
       "      <th>0161216</th>\n",
       "      <td>0</td>\n",
       "    </tr>\n",
       "    <tr>\n",
       "      <th>++4qZOZ7rISM4nY9xcUVPweG0A4Z12cGwzjZHmRzr3g=</th>\n",
       "      <th>0161126</th>\n",
       "      <td>0</td>\n",
       "    </tr>\n",
       "    <tr>\n",
       "      <th>++5HPICzApqAq9mYdGB/mdke0MbubM8yUKLOmrPt4xU=</th>\n",
       "      <th>0161025</th>\n",
       "      <td>0</td>\n",
       "    </tr>\n",
       "    <tr>\n",
       "      <th>++5vjwrUMXiUOMeSWZdoW8RNHI2XbJRjv4E1e4vWCAI=</th>\n",
       "      <th>0161126</th>\n",
       "      <td>0</td>\n",
       "    </tr>\n",
       "    <tr>\n",
       "      <th>++94yX7YwFHqRxBT3Me4iGB2iigyvUsGh53Bwq0LHTk=</th>\n",
       "      <th>0161216</th>\n",
       "      <td>0</td>\n",
       "    </tr>\n",
       "    <tr>\n",
       "      <th>++9pNNV1bCjmpCZ3tQl588RnLNb+KqT69giup8n+aBo=</th>\n",
       "      <th>0160923</th>\n",
       "      <td>0</td>\n",
       "    </tr>\n",
       "    <tr>\n",
       "      <th rowspan=\"2\" valign=\"top\">++AH7m/EQ4iKe6wSlfO/xXAJx50p+fCeTyF90GoE9Pg=</th>\n",
       "      <th>0160923</th>\n",
       "      <td>1</td>\n",
       "    </tr>\n",
       "    <tr>\n",
       "      <th>0161025</th>\n",
       "      <td>1</td>\n",
       "    </tr>\n",
       "    <tr>\n",
       "      <th>++B9bivZngfdJdYUFJxtkz1ngsqBJgkwXLL/MUpDZ54=</th>\n",
       "      <th>0161126</th>\n",
       "      <td>0</td>\n",
       "    </tr>\n",
       "    <tr>\n",
       "      <th>++Eeql+swB2zfZ3UGAetfo3t14NcnSZiMfIFrl/C+YY=</th>\n",
       "      <th>0161216</th>\n",
       "      <td>0</td>\n",
       "    </tr>\n",
       "    <tr>\n",
       "      <th rowspan=\"2\" valign=\"top\">++Eictrlt63fxhzSCquIj9BdTchtKMAnlYJg/8Hvn9U=</th>\n",
       "      <th>0160923</th>\n",
       "      <td>0</td>\n",
       "    </tr>\n",
       "    <tr>\n",
       "      <th>0161216</th>\n",
       "      <td>0</td>\n",
       "    </tr>\n",
       "    <tr>\n",
       "      <th>++Ey9k0xDW0H7JCc8efy3t5lxegcKbx4gO0MpOp67KU=</th>\n",
       "      <th>0160923</th>\n",
       "      <td>0</td>\n",
       "    </tr>\n",
       "    <tr>\n",
       "      <th rowspan=\"2\" valign=\"top\">++H/4/UOuPx8a7Oj7mx8f0FyANbXI4y1N/MxipwcztE=</th>\n",
       "      <th>0161126</th>\n",
       "      <td>0</td>\n",
       "    </tr>\n",
       "    <tr>\n",
       "      <th>0161216</th>\n",
       "      <td>0</td>\n",
       "    </tr>\n",
       "    <tr>\n",
       "      <th>++I1wsXaVBTTZE3gwzQ5qBWLcMMCxSInWe2pLsJ8hS4=</th>\n",
       "      <th>0160923</th>\n",
       "      <td>0</td>\n",
       "    </tr>\n",
       "    <tr>\n",
       "      <th>++I94Aiv+nh1rYBASjLFRdXoY3dfRgvXls8j47/Idhs=</th>\n",
       "      <th>0161126</th>\n",
       "      <td>0</td>\n",
       "    </tr>\n",
       "    <tr>\n",
       "      <th>++IaTtvm/GSYW/IpwEWZMsa2VC2/AVLtMdOlUmCkS1A=</th>\n",
       "      <th>0160923</th>\n",
       "      <td>0</td>\n",
       "    </tr>\n",
       "    <tr>\n",
       "      <th>++IfZCXYRIiNalGnmbcGW96v6kAwqQO51Sr7dlhIV34=</th>\n",
       "      <th>0161216</th>\n",
       "      <td>1</td>\n",
       "    </tr>\n",
       "    <tr>\n",
       "      <th>++J6eDsAoYFZXIODPv/XmsE/fm0BJoF01muJZDeTp2s=</th>\n",
       "      <th>0161025</th>\n",
       "      <td>0</td>\n",
       "    </tr>\n",
       "    <tr>\n",
       "      <th>++KZNQfLUxE4L3Z5w8ile+Gyf4JSpMGcDVEOez8yFss=</th>\n",
       "      <th>0161216</th>\n",
       "      <td>0</td>\n",
       "    </tr>\n",
       "    <tr>\n",
       "      <th>++L3Kr4/CtPSdU9BrsaX/E9ziEKoD9yK5vwk8DVXmHo=</th>\n",
       "      <th>0161126</th>\n",
       "      <td>1</td>\n",
       "    </tr>\n",
       "    <tr>\n",
       "      <th>++LZCSayFiyIn1KEg/55c4H2E05Ml8garpShWIvPy6c=</th>\n",
       "      <th>0161126</th>\n",
       "      <td>0</td>\n",
       "    </tr>\n",
       "    <tr>\n",
       "      <th>...</th>\n",
       "      <th>...</th>\n",
       "      <td>...</td>\n",
       "    </tr>\n",
       "    <tr>\n",
       "      <th>zznft/lxrrgmcssR8d+tnphPOyNNzwPtjIhVJKNfz1A=</th>\n",
       "      <th>0161025</th>\n",
       "      <td>0</td>\n",
       "    </tr>\n",
       "    <tr>\n",
       "      <th>zznwTOyw0n8iXepiU87BCrAJmaZFcS/WLh6U6iWk0nQ=</th>\n",
       "      <th>0161025</th>\n",
       "      <td>0</td>\n",
       "    </tr>\n",
       "    <tr>\n",
       "      <th>zzoADz+Wl+2t/T3Fv3lTaKUJPIzRGC+Kdxlr6gEeRts=</th>\n",
       "      <th>0160923</th>\n",
       "      <td>0</td>\n",
       "    </tr>\n",
       "    <tr>\n",
       "      <th>zzoaEw67A/0C1+4/RgRCBOVK+zsL1xJTMJMTdF42FxM=</th>\n",
       "      <th>0161025</th>\n",
       "      <td>0</td>\n",
       "    </tr>\n",
       "    <tr>\n",
       "      <th>zzp82VrPy9gInxLMSiKbNabqmg0CMVbu4WcmV3AACLU=</th>\n",
       "      <th>0161216</th>\n",
       "      <td>0</td>\n",
       "    </tr>\n",
       "    <tr>\n",
       "      <th rowspan=\"2\" valign=\"top\">zzpTXKXmUXusfh8lgKDrPLEdQyNOvxl4a+PE0CwQIQU=</th>\n",
       "      <th>0161126</th>\n",
       "      <td>1</td>\n",
       "    </tr>\n",
       "    <tr>\n",
       "      <th>0161216</th>\n",
       "      <td>1</td>\n",
       "    </tr>\n",
       "    <tr>\n",
       "      <th>zzpo2rWUr3XEYOwmBSKmGC1WWe9PEYrovc8vPmnz7u0=</th>\n",
       "      <th>0161126</th>\n",
       "      <td>0</td>\n",
       "    </tr>\n",
       "    <tr>\n",
       "      <th>zzq/9XnFWkc1Nm0IyybmLSitecR+bJLYrPFYU5HzS34=</th>\n",
       "      <th>0161126</th>\n",
       "      <td>0</td>\n",
       "    </tr>\n",
       "    <tr>\n",
       "      <th rowspan=\"2\" valign=\"top\">zzqbOn91vL3L5SfiaPwxcNBSd80jTRmsKq5qgMbMOzk=</th>\n",
       "      <th>0161126</th>\n",
       "      <td>0</td>\n",
       "    </tr>\n",
       "    <tr>\n",
       "      <th>0161216</th>\n",
       "      <td>0</td>\n",
       "    </tr>\n",
       "    <tr>\n",
       "      <th>zzr5liRwTqKos2ixOAGFprAlMCDnw4fsj7WpspAi+8U=</th>\n",
       "      <th>0161216</th>\n",
       "      <td>0</td>\n",
       "    </tr>\n",
       "    <tr>\n",
       "      <th>zzrAQsVSeu5AUvnT1ib1uiuNq/XTlU7CxRFJnjw03nM=</th>\n",
       "      <th>0161216</th>\n",
       "      <td>0</td>\n",
       "    </tr>\n",
       "    <tr>\n",
       "      <th>zzrwUzpM5ltYq/xjrAis0KQQAEUBE6IcBPiqFkVu2Bc=</th>\n",
       "      <th>0161126</th>\n",
       "      <td>0</td>\n",
       "    </tr>\n",
       "    <tr>\n",
       "      <th>zzsT+vU7Wj4Qud5+SGvRq73/TKJwg2om02PmwAvLv80=</th>\n",
       "      <th>0161126</th>\n",
       "      <td>0</td>\n",
       "    </tr>\n",
       "    <tr>\n",
       "      <th>zztGcSZznx0uMBvc0fTQVTfCzeS7Ho/otO2L/4FXs/w=</th>\n",
       "      <th>0161216</th>\n",
       "      <td>1</td>\n",
       "    </tr>\n",
       "    <tr>\n",
       "      <th>zztRJcWGjS31TKylLqMyZK7XaWfiboX8BI0EZpa69io=</th>\n",
       "      <th>0161126</th>\n",
       "      <td>0</td>\n",
       "    </tr>\n",
       "    <tr>\n",
       "      <th rowspan=\"2\" valign=\"top\">zztg1DNR0a6n+9+CXd8WAfNZHsl5VvyYC2ngeXlwpkc=</th>\n",
       "      <th>0160923</th>\n",
       "      <td>1</td>\n",
       "    </tr>\n",
       "    <tr>\n",
       "      <th>0161126</th>\n",
       "      <td>0</td>\n",
       "    </tr>\n",
       "    <tr>\n",
       "      <th>zzuk5G4az25inA2SSOFkTU95ECb5ysZ8hVhLSBFrmrE=</th>\n",
       "      <th>0161126</th>\n",
       "      <td>0</td>\n",
       "    </tr>\n",
       "    <tr>\n",
       "      <th>zzutBQPXvB2fx0NdEGqJ1heuoI0S6ab0xaX5sph0SyE=</th>\n",
       "      <th>0161126</th>\n",
       "      <td>0</td>\n",
       "    </tr>\n",
       "    <tr>\n",
       "      <th>zzvu4tofjH8jWZ4ubHaMr4K2AB7QARFwzJhcec3TxAU=</th>\n",
       "      <th>0161126</th>\n",
       "      <td>0</td>\n",
       "    </tr>\n",
       "    <tr>\n",
       "      <th rowspan=\"2\" valign=\"top\">zzwF88qqisz7Hl8mKdD68NhHkKK2jlja10VNpsdWiZI=</th>\n",
       "      <th>0161126</th>\n",
       "      <td>0</td>\n",
       "    </tr>\n",
       "    <tr>\n",
       "      <th>0161216</th>\n",
       "      <td>0</td>\n",
       "    </tr>\n",
       "    <tr>\n",
       "      <th>zzx9r9Hc2SzisoCkp5i+oDZqRURAwMwVggtTafCMAvE=</th>\n",
       "      <th>0161126</th>\n",
       "      <td>0</td>\n",
       "    </tr>\n",
       "    <tr>\n",
       "      <th>zzxa/wrL2Ak1YxYqv218iF0XehDkxTzWkdaeXjx3jw0=</th>\n",
       "      <th>0160923</th>\n",
       "      <td>0</td>\n",
       "    </tr>\n",
       "    <tr>\n",
       "      <th rowspan=\"2\" valign=\"top\">zzyuTnRVQQGxs0UN8qzU2Pedh3z8F7UeoiQpNhJRomM=</th>\n",
       "      <th>0161126</th>\n",
       "      <td>0</td>\n",
       "    </tr>\n",
       "    <tr>\n",
       "      <th>0161216</th>\n",
       "      <td>0</td>\n",
       "    </tr>\n",
       "    <tr>\n",
       "      <th>zzz/5bh+8EOZTpIRKWiiaAwEH4uYwfDUaiahJlvABiQ=</th>\n",
       "      <th>0160923</th>\n",
       "      <td>0</td>\n",
       "    </tr>\n",
       "    <tr>\n",
       "      <th>zzz9+ZF4+GMyt63oU8xfjo1EkvRqH5OINlES0RUJI6I=</th>\n",
       "      <th>0161126</th>\n",
       "      <td>0</td>\n",
       "    </tr>\n",
       "  </tbody>\n",
       "</table>\n",
       "<p>543047 rows × 1 columns</p>\n",
       "</div>"
      ],
      "text/plain": [
       "                                                      ind\n",
       "msno                                         index2      \n",
       "+++FOrTS7ab3tIgIh8eWwX4FqRv8w/FoiOuyXsFvphY= 0160923    0\n",
       "++02XbtviomSxcIBUHMOiJkjRxdicTXSfiVqLdsr5lo= 0161216    0\n",
       "++096narOxHnDPtbtUtB4WDqDy8EJacQypdqDYBHmmY= 0161216    0\n",
       "++0GCV3WGMjibrwCnDuVZXMoIxs1mnMRaD7rFJFU2Ho= 0161216    0\n",
       "++0JQqGo/czgqG5qCY31TYkzV7WUMf2QWAS+OeIs//o= 0161216    0\n",
       "++0XxUiOHZeYOgVDnJlFiXIp3Y7l+x4NLlaSEMOBrFI= 0161216    0\n",
       "++1eOqCPRmzyBjMGvAJEaurjI1AFz4Mify6fk2eecbY= 0161126    0\n",
       "++2KAIaZigu6bS4t+s7o/TS1Ki6IVWZBnJCh5day67c= 0161216    0\n",
       "++4qZOZ7rISM4nY9xcUVPweG0A4Z12cGwzjZHmRzr3g= 0161126    0\n",
       "++5HPICzApqAq9mYdGB/mdke0MbubM8yUKLOmrPt4xU= 0161025    0\n",
       "++5vjwrUMXiUOMeSWZdoW8RNHI2XbJRjv4E1e4vWCAI= 0161126    0\n",
       "++94yX7YwFHqRxBT3Me4iGB2iigyvUsGh53Bwq0LHTk= 0161216    0\n",
       "++9pNNV1bCjmpCZ3tQl588RnLNb+KqT69giup8n+aBo= 0160923    0\n",
       "++AH7m/EQ4iKe6wSlfO/xXAJx50p+fCeTyF90GoE9Pg= 0160923    1\n",
       "                                             0161025    1\n",
       "++B9bivZngfdJdYUFJxtkz1ngsqBJgkwXLL/MUpDZ54= 0161126    0\n",
       "++Eeql+swB2zfZ3UGAetfo3t14NcnSZiMfIFrl/C+YY= 0161216    0\n",
       "++Eictrlt63fxhzSCquIj9BdTchtKMAnlYJg/8Hvn9U= 0160923    0\n",
       "                                             0161216    0\n",
       "++Ey9k0xDW0H7JCc8efy3t5lxegcKbx4gO0MpOp67KU= 0160923    0\n",
       "++H/4/UOuPx8a7Oj7mx8f0FyANbXI4y1N/MxipwcztE= 0161126    0\n",
       "                                             0161216    0\n",
       "++I1wsXaVBTTZE3gwzQ5qBWLcMMCxSInWe2pLsJ8hS4= 0160923    0\n",
       "++I94Aiv+nh1rYBASjLFRdXoY3dfRgvXls8j47/Idhs= 0161126    0\n",
       "++IaTtvm/GSYW/IpwEWZMsa2VC2/AVLtMdOlUmCkS1A= 0160923    0\n",
       "++IfZCXYRIiNalGnmbcGW96v6kAwqQO51Sr7dlhIV34= 0161216    1\n",
       "++J6eDsAoYFZXIODPv/XmsE/fm0BJoF01muJZDeTp2s= 0161025    0\n",
       "++KZNQfLUxE4L3Z5w8ile+Gyf4JSpMGcDVEOez8yFss= 0161216    0\n",
       "++L3Kr4/CtPSdU9BrsaX/E9ziEKoD9yK5vwk8DVXmHo= 0161126    1\n",
       "++LZCSayFiyIn1KEg/55c4H2E05Ml8garpShWIvPy6c= 0161126    0\n",
       "...                                                   ...\n",
       "zznft/lxrrgmcssR8d+tnphPOyNNzwPtjIhVJKNfz1A= 0161025    0\n",
       "zznwTOyw0n8iXepiU87BCrAJmaZFcS/WLh6U6iWk0nQ= 0161025    0\n",
       "zzoADz+Wl+2t/T3Fv3lTaKUJPIzRGC+Kdxlr6gEeRts= 0160923    0\n",
       "zzoaEw67A/0C1+4/RgRCBOVK+zsL1xJTMJMTdF42FxM= 0161025    0\n",
       "zzp82VrPy9gInxLMSiKbNabqmg0CMVbu4WcmV3AACLU= 0161216    0\n",
       "zzpTXKXmUXusfh8lgKDrPLEdQyNOvxl4a+PE0CwQIQU= 0161126    1\n",
       "                                             0161216    1\n",
       "zzpo2rWUr3XEYOwmBSKmGC1WWe9PEYrovc8vPmnz7u0= 0161126    0\n",
       "zzq/9XnFWkc1Nm0IyybmLSitecR+bJLYrPFYU5HzS34= 0161126    0\n",
       "zzqbOn91vL3L5SfiaPwxcNBSd80jTRmsKq5qgMbMOzk= 0161126    0\n",
       "                                             0161216    0\n",
       "zzr5liRwTqKos2ixOAGFprAlMCDnw4fsj7WpspAi+8U= 0161216    0\n",
       "zzrAQsVSeu5AUvnT1ib1uiuNq/XTlU7CxRFJnjw03nM= 0161216    0\n",
       "zzrwUzpM5ltYq/xjrAis0KQQAEUBE6IcBPiqFkVu2Bc= 0161126    0\n",
       "zzsT+vU7Wj4Qud5+SGvRq73/TKJwg2om02PmwAvLv80= 0161126    0\n",
       "zztGcSZznx0uMBvc0fTQVTfCzeS7Ho/otO2L/4FXs/w= 0161216    1\n",
       "zztRJcWGjS31TKylLqMyZK7XaWfiboX8BI0EZpa69io= 0161126    0\n",
       "zztg1DNR0a6n+9+CXd8WAfNZHsl5VvyYC2ngeXlwpkc= 0160923    1\n",
       "                                             0161126    0\n",
       "zzuk5G4az25inA2SSOFkTU95ECb5ysZ8hVhLSBFrmrE= 0161126    0\n",
       "zzutBQPXvB2fx0NdEGqJ1heuoI0S6ab0xaX5sph0SyE= 0161126    0\n",
       "zzvu4tofjH8jWZ4ubHaMr4K2AB7QARFwzJhcec3TxAU= 0161126    0\n",
       "zzwF88qqisz7Hl8mKdD68NhHkKK2jlja10VNpsdWiZI= 0161126    0\n",
       "                                             0161216    0\n",
       "zzx9r9Hc2SzisoCkp5i+oDZqRURAwMwVggtTafCMAvE= 0161126    0\n",
       "zzxa/wrL2Ak1YxYqv218iF0XehDkxTzWkdaeXjx3jw0= 0160923    0\n",
       "zzyuTnRVQQGxs0UN8qzU2Pedh3z8F7UeoiQpNhJRomM= 0161126    0\n",
       "                                             0161216    0\n",
       "zzz/5bh+8EOZTpIRKWiiaAwEH4uYwfDUaiahJlvABiQ= 0160923    0\n",
       "zzz9+ZF4+GMyt63oU8xfjo1EkvRqH5OINlES0RUJI6I= 0161126    0\n",
       "\n",
       "[543047 rows x 1 columns]"
      ]
     },
     "execution_count": 97,
     "metadata": {},
     "output_type": "execute_result"
    }
   ],
   "source": [
    "X= pd.DataFrame()\n",
    "for i in test_timestamps:\n",
    "    data = pd.read_pickle('X'+i+'.pickle')\n",
    "    data['index2'] = i[1:]\n",
    "    data.reset_index(inplace=True)\n",
    "    X = pd.concat([X,data],axis=0)\n",
    "\n",
    "    \n",
    "\n",
    "y= pd.DataFrame()\n",
    "for i in test_timestamps:\n",
    "    data = pd.read_pickle('y'+i+'.pickle')\n",
    "    data = pd.DataFrame(data) \n",
    "    data['index2'] = i[1:]\n",
    "    y = pd.concat([y,data],axis=0)\n",
    "\n",
    "y.reset_index(inplace=True)\n",
    "\n",
    "X.set_index(['msno','index2'], inplace = True)\n",
    "y.set_index(['msno','index2'], inplace = True)\n",
    "\n",
    "X = X.drop(['join_date','last_exp_date','last_logged','last_trans_date'],axis=1) #removing date variables\n",
    "\n",
    "X.sort_index()\n",
    "y.sort_index()    "
   ]
  },
  {
   "cell_type": "code",
   "execution_count": 85,
   "metadata": {},
   "outputs": [],
   "source": [
    "def correlated_features(df, p):\n",
    "    df = pd.DataFrame(df)\n",
    "    corr_matrix = df.corr().abs()\n",
    "    upper = corr_matrix.where(np.triu(np.ones(corr_matrix.shape), k=1).astype(np.bool))\n",
    "    to_drop = [column for column in upper.columns if any(upper[column] > p)]\n",
    "    print ('Dropped columns with 0.95 correlation with another column:' + str(to_drop))\n",
    "    df = df.drop(to_drop, axis=1)\n",
    "    return df"
   ]
  },
  {
   "cell_type": "code",
   "execution_count": 86,
   "metadata": {},
   "outputs": [
    {
     "name": "stdout",
     "output_type": "stream",
     "text": [
      "Dropped columns with 0.95 correlation with another column:['tot_paid', 'ct_pmt', 'ct_pln_ovr30', 'plan_list_price_max', 'plan_list_price_min', 'plan_list_price_mean', 'plan_list_price_std', 'actual_amount_paid_max', 'actual_amount_paid_min', 'actual_amount_paid_mean', 'actual_amount_paid_std', 'actual_amount_paid_cnt', 'auto_renew_cnt', 'last_plan_price', 'last_paid', 'days_since_reg', 'sum_75', 'sum_985', 'min_seconds', 'std_seconds']\n"
     ]
    },
    {
     "name": "stderr",
     "output_type": "stream",
     "text": [
      "/anaconda3/lib/python3.7/site-packages/sklearn/preprocessing/data.py:625: DataConversionWarning: Data with input dtype uint8, int64, float64 were all converted to float64 by StandardScaler.\n",
      "  return self.partial_fit(X, y)\n",
      "/anaconda3/lib/python3.7/site-packages/sklearn/base.py:462: DataConversionWarning: Data with input dtype uint8, int64, float64 were all converted to float64 by StandardScaler.\n",
      "  return self.fit(X, **fit_params).transform(X)\n"
     ]
    }
   ],
   "source": [
    "X_nocorr = correlated_features(X,.95)\n",
    "X_nocorr = sc.fit_transform(X_nocorr)"
   ]
  },
  {
   "cell_type": "markdown",
   "metadata": {},
   "source": [
    "## Run Random Forest again to see if this improved results"
   ]
  },
  {
   "cell_type": "code",
   "execution_count": 87,
   "metadata": {},
   "outputs": [
    {
     "name": "stderr",
     "output_type": "stream",
     "text": [
      "[Parallel(n_jobs=-1)]: Using backend LokyBackend with 4 concurrent workers.\n",
      "[Parallel(n_jobs=-1)]: Done   2 out of   4 | elapsed:  4.5min remaining:  4.5min\n",
      "[Parallel(n_jobs=-1)]: Done   4 out of   4 | elapsed:  4.6min finished\n"
     ]
    }
   ],
   "source": [
    "scores = cross_val_score(rfclf, X_nocorr, y, cv=4,n_jobs=-1,verbose =1)"
   ]
  },
  {
   "cell_type": "code",
   "execution_count": 88,
   "metadata": {},
   "outputs": [
    {
     "data": {
      "text/plain": [
       "0.8997010665301621"
      ]
     },
     "execution_count": 88,
     "metadata": {},
     "output_type": "execute_result"
    }
   ],
   "source": [
    "scores.mean()"
   ]
  },
  {
   "cell_type": "markdown",
   "metadata": {},
   "source": [
    "### Removing the correlated features resulted in a very small diminish in accuracy but a serious decrease in the number of features which should help make the model more robust and faser to run\n",
    "### Thus we shall remove the correlated features from the rest of our prediction"
   ]
  },
  {
   "cell_type": "code",
   "execution_count": 89,
   "metadata": {},
   "outputs": [],
   "source": [
    "X_train, X_test, y_train, y_test = train_test_split(X_nocorr, y, test_size = 0.25, random_state = 0)"
   ]
  },
  {
   "cell_type": "markdown",
   "metadata": {},
   "source": [
    "## Testing PCA as a way to further reduce dimensions"
   ]
  },
  {
   "cell_type": "code",
   "execution_count": 90,
   "metadata": {},
   "outputs": [
    {
     "name": "stdout",
     "output_type": "stream",
     "text": [
      "[18.41080465  5.40120149  4.89784928  3.39367653  3.02361559  2.87220634\n",
      "  2.21759295  1.99649989  1.86447024  1.50266887  1.40569664  1.36219873\n",
      "  1.29589779  1.25936935  1.12356011  1.07564023  1.02292231  0.98095035\n",
      "  0.9323234   0.90468724  0.80415022  0.75399495  0.74183768  0.72474716\n",
      "  0.70113167  0.64199068  0.56860153  0.50263975  0.47536917  0.44154902\n",
      "  0.4214476   0.39862384  0.38977844  0.34011316  0.31445671  0.30041291\n",
      "  0.27177603  0.23452949  0.2125834   0.18530244  0.16282111  0.14875786\n",
      "  0.1371964   0.1324789   0.11110231  0.10601024  0.10382402  0.09145165\n",
      "  0.08870098  0.07562265]\n"
     ]
    },
    {
     "data": {
      "text/plain": [
       "[<matplotlib.lines.Line2D at 0x1a73f7c1d0>]"
      ]
     },
     "execution_count": 90,
     "metadata": {},
     "output_type": "execute_result"
    },
    {
     "data": {
      "image/png": "[encoded data removed]",
      "text/plain": [
       "<Figure size 432x288 with 1 Axes>"
      ]
     },
     "metadata": {
      "needs_background": "light"
     },
     "output_type": "display_data"
    }
   ],
   "source": [
    "from sklearn.decomposition import PCA\n",
    "pca = PCA(n_components=50)\n",
    "dfpca = pca.fit(X_nocorr) \n",
    "pca_dim_exp = dfpca.explained_variance_\n",
    "print(pca_dim_exp)\n",
    "plt.plot(pca_dim_exp)\n"
   ]
  },
  {
   "cell_type": "markdown",
   "metadata": {},
   "source": [
    "## Based on the elbow criteria we test the model using only the first 3 principal components "
   ]
  },
  {
   "cell_type": "code",
   "execution_count": 91,
   "metadata": {},
   "outputs": [],
   "source": [
    "pca = PCA(n_components=3)\n",
    "dfpca = pca.fit(X_nocorr) \n",
    "X_pca = pca.transform(X_nocorr)"
   ]
  },
  {
   "cell_type": "code",
   "execution_count": 92,
   "metadata": {
    "scrolled": true
   },
   "outputs": [
    {
     "name": "stderr",
     "output_type": "stream",
     "text": [
      "[Parallel(n_jobs=-1)]: Using backend LokyBackend with 4 concurrent workers.\n",
      "[Parallel(n_jobs=-1)]: Done   2 out of   4 | elapsed:  1.9min remaining:  1.9min\n"
     ]
    },
    {
     "name": "stdout",
     "output_type": "stream",
     "text": [
      "0.816643832212306\n"
     ]
    },
    {
     "name": "stderr",
     "output_type": "stream",
     "text": [
      "[Parallel(n_jobs=-1)]: Done   4 out of   4 | elapsed:  1.9min finished\n"
     ]
    }
   ],
   "source": [
    "scores = cross_val_score(rfclf, X_pca, y, cv=4,n_jobs=-1,verbose =1)\n",
    "print(scores.mean())"
   ]
  },
  {
   "cell_type": "markdown",
   "metadata": {},
   "source": [
    "## Accuracy diminished completely (worse than majority ratio of 0.19)  so we will not implement this technic"
   ]
  },
  {
   "cell_type": "code",
   "execution_count": 93,
   "metadata": {},
   "outputs": [
    {
     "data": {
      "text/plain": [
       "ind    0.178224\n",
       "dtype: float64"
      ]
     },
     "execution_count": 93,
     "metadata": {},
     "output_type": "execute_result"
    }
   ],
   "source": [
    "y.mean()"
   ]
  },
  {
   "cell_type": "markdown",
   "metadata": {},
   "source": [
    "# Analyzing feature importance"
   ]
  },
  {
   "cell_type": "code",
   "execution_count": 99,
   "metadata": {},
   "outputs": [
    {
     "name": "stderr",
     "output_type": "stream",
     "text": [
      "/anaconda3/lib/python3.7/site-packages/ipykernel_launcher.py:3: DataConversionWarning: A column-vector y was passed when a 1d array was expected. Please change the shape of y to (n_samples,), for example using ravel().\n",
      "  This is separate from the ipykernel package so we can avoid doing imports until\n"
     ]
    },
    {
     "data": {
      "text/plain": [
       "RandomForestClassifier(bootstrap=True, class_weight=None, criterion='gini',\n",
       "            max_depth=None, max_features='auto', max_leaf_nodes=None,\n",
       "            min_impurity_decrease=0.0, min_impurity_split=None,\n",
       "            min_samples_leaf=1, min_samples_split=2,\n",
       "            min_weight_fraction_leaf=0.0, n_estimators=50, n_jobs=-1,\n",
       "            oob_score=False, random_state=None, verbose=0,\n",
       "            warm_start=False)"
      ]
     },
     "execution_count": 99,
     "metadata": {},
     "output_type": "execute_result"
    }
   ],
   "source": [
    "from sklearn.ensemble import RandomForestClassifier\n",
    "rfclf = RandomForestClassifier(n_estimators=50, n_jobs=-1)\n",
    "rfclf.fit(X_nocorr, y)"
   ]
  },
  {
   "cell_type": "code",
   "execution_count": 98,
   "metadata": {},
   "outputs": [
    {
     "name": "stdout",
     "output_type": "stream",
     "text": [
      "Dropped columns with 0.95 correlation with another column:['tot_paid', 'ct_pmt', 'ct_pln_ovr30', 'plan_list_price_max', 'plan_list_price_min', 'plan_list_price_mean', 'plan_list_price_std', 'actual_amount_paid_max', 'actual_amount_paid_min', 'actual_amount_paid_mean', 'actual_amount_paid_std', 'actual_amount_paid_cnt', 'auto_renew_cnt', 'last_plan_price', 'last_paid', 'days_since_reg', 'sum_75', 'sum_985', 'min_seconds', 'std_seconds']\n"
     ]
    }
   ],
   "source": [
    "X_nocorr = correlated_features(X,.95)"
   ]
  },
  {
   "cell_type": "code",
   "execution_count": 100,
   "metadata": {
    "scrolled": true
   },
   "outputs": [
    {
     "data": {
      "text/plain": [
       "<matplotlib.axes._subplots.AxesSubplot at 0x1a8023bf28>"
      ]
     },
     "execution_count": 100,
     "metadata": {},
     "output_type": "execute_result"
    },
    {
     "data": {
      "image/png": "[encoded data removed]",
      "text/plain": [
       "<Figure size 432x288 with 1 Axes>"
      ]
     },
     "metadata": {
      "needs_background": "light"
     },
     "output_type": "display_data"
    }
   ],
   "source": [
    "feature_importances = pd.DataFrame(rfclf.feature_importances_,index = X_nocorr.columns,columns=['importance']).sort_values('importance',ascending=False)\n",
    "feature_importances.iloc[:15].plot(kind='barh')"
   ]
  },
  {
   "cell_type": "code",
   "execution_count": 101,
   "metadata": {
    "scrolled": true
   },
   "outputs": [
    {
     "data": {
      "text/html": [
       "<div>\n",
       "<style scoped>\n",
       "    .dataframe tbody tr th:only-of-type {\n",
       "        vertical-align: middle;\n",
       "    }\n",
       "\n",
       "    .dataframe tbody tr th {\n",
       "        vertical-align: top;\n",
       "    }\n",
       "\n",
       "    .dataframe thead th {\n",
       "        text-align: right;\n",
       "    }\n",
       "</style>\n",
       "<table border=\"1\" class=\"dataframe\">\n",
       "  <thead>\n",
       "    <tr style=\"text-align: right;\">\n",
       "      <th></th>\n",
       "      <th>importance</th>\n",
       "    </tr>\n",
       "  </thead>\n",
       "  <tbody>\n",
       "    <tr>\n",
       "      <th>days_before_churn</th>\n",
       "      <td>0.066137</td>\n",
       "    </tr>\n",
       "    <tr>\n",
       "      <th>last_pmt_mtd</th>\n",
       "      <td>0.049956</td>\n",
       "    </tr>\n",
       "    <tr>\n",
       "      <th>last_pln_days</th>\n",
       "      <td>0.041782</td>\n",
       "    </tr>\n",
       "    <tr>\n",
       "      <th>secs_last_10</th>\n",
       "      <td>0.041284</td>\n",
       "    </tr>\n",
       "    <tr>\n",
       "      <th>tot_price</th>\n",
       "      <td>0.038358</td>\n",
       "    </tr>\n",
       "    <tr>\n",
       "      <th>cnt_trans</th>\n",
       "      <td>0.037755</td>\n",
       "    </tr>\n",
       "    <tr>\n",
       "      <th>days_since_last_log</th>\n",
       "      <td>0.035397</td>\n",
       "    </tr>\n",
       "    <tr>\n",
       "      <th>plandays_mean</th>\n",
       "      <td>0.035057</td>\n",
       "    </tr>\n",
       "    <tr>\n",
       "      <th>days_last_10</th>\n",
       "      <td>0.028270</td>\n",
       "    </tr>\n",
       "    <tr>\n",
       "      <th>plandays_max</th>\n",
       "      <td>0.025647</td>\n",
       "    </tr>\n",
       "    <tr>\n",
       "      <th>days_last_30</th>\n",
       "      <td>0.021830</td>\n",
       "    </tr>\n",
       "    <tr>\n",
       "      <th>last_is_cancel</th>\n",
       "      <td>0.020881</td>\n",
       "    </tr>\n",
       "    <tr>\n",
       "      <th>sum_unq</th>\n",
       "      <td>0.020620</td>\n",
       "    </tr>\n",
       "    <tr>\n",
       "      <th>days</th>\n",
       "      <td>0.020410</td>\n",
       "    </tr>\n",
       "    <tr>\n",
       "      <th>sum_25</th>\n",
       "      <td>0.019010</td>\n",
       "    </tr>\n",
       "    <tr>\n",
       "      <th>secs_last_30</th>\n",
       "      <td>0.018458</td>\n",
       "    </tr>\n",
       "    <tr>\n",
       "      <th>days_first_last_trans</th>\n",
       "      <td>0.017824</td>\n",
       "    </tr>\n",
       "    <tr>\n",
       "      <th>days_logged</th>\n",
       "      <td>0.017616</td>\n",
       "    </tr>\n",
       "    <tr>\n",
       "      <th>sum_50</th>\n",
       "      <td>0.016978</td>\n",
       "    </tr>\n",
       "    <tr>\n",
       "      <th>ct_pln30</th>\n",
       "      <td>0.016733</td>\n",
       "    </tr>\n",
       "    <tr>\n",
       "      <th>sum_seconds</th>\n",
       "      <td>0.016179</td>\n",
       "    </tr>\n",
       "    <tr>\n",
       "      <th>last_auto_renew</th>\n",
       "      <td>0.015549</td>\n",
       "    </tr>\n",
       "    <tr>\n",
       "      <th>mean_75</th>\n",
       "      <td>0.014765</td>\n",
       "    </tr>\n",
       "    <tr>\n",
       "      <th>std_unq</th>\n",
       "      <td>0.014765</td>\n",
       "    </tr>\n",
       "    <tr>\n",
       "      <th>cnt_autorenew</th>\n",
       "      <td>0.014531</td>\n",
       "    </tr>\n",
       "    <tr>\n",
       "      <th>max_seconds</th>\n",
       "      <td>0.013822</td>\n",
       "    </tr>\n",
       "    <tr>\n",
       "      <th>std_50</th>\n",
       "      <td>0.013728</td>\n",
       "    </tr>\n",
       "    <tr>\n",
       "      <th>sum_100</th>\n",
       "      <td>0.013711</td>\n",
       "    </tr>\n",
       "    <tr>\n",
       "      <th>can_ratio</th>\n",
       "      <td>0.013666</td>\n",
       "    </tr>\n",
       "    <tr>\n",
       "      <th>mean_unq</th>\n",
       "      <td>0.013575</td>\n",
       "    </tr>\n",
       "    <tr>\n",
       "      <th>...</th>\n",
       "      <td>...</td>\n",
       "    </tr>\n",
       "    <tr>\n",
       "      <th>std_100</th>\n",
       "      <td>0.012935</td>\n",
       "    </tr>\n",
       "    <tr>\n",
       "      <th>mean_100</th>\n",
       "      <td>0.012649</td>\n",
       "    </tr>\n",
       "    <tr>\n",
       "      <th>plandays_min</th>\n",
       "      <td>0.012530</td>\n",
       "    </tr>\n",
       "    <tr>\n",
       "      <th>max_100</th>\n",
       "      <td>0.011635</td>\n",
       "    </tr>\n",
       "    <tr>\n",
       "      <th>max_25</th>\n",
       "      <td>0.011590</td>\n",
       "    </tr>\n",
       "    <tr>\n",
       "      <th>last_trans_weekday</th>\n",
       "      <td>0.011318</td>\n",
       "    </tr>\n",
       "    <tr>\n",
       "      <th>plandays_std</th>\n",
       "      <td>0.011232</td>\n",
       "    </tr>\n",
       "    <tr>\n",
       "      <th>bd</th>\n",
       "      <td>0.010825</td>\n",
       "    </tr>\n",
       "    <tr>\n",
       "      <th>registered_via_7</th>\n",
       "      <td>0.006973</td>\n",
       "    </tr>\n",
       "    <tr>\n",
       "      <th>max_985</th>\n",
       "      <td>0.006943</td>\n",
       "    </tr>\n",
       "    <tr>\n",
       "      <th>max_50</th>\n",
       "      <td>0.006907</td>\n",
       "    </tr>\n",
       "    <tr>\n",
       "      <th>num_cancel</th>\n",
       "      <td>0.006854</td>\n",
       "    </tr>\n",
       "    <tr>\n",
       "      <th>times_churn</th>\n",
       "      <td>0.005911</td>\n",
       "    </tr>\n",
       "    <tr>\n",
       "      <th>pmt_method_num</th>\n",
       "      <td>0.004248</td>\n",
       "    </tr>\n",
       "    <tr>\n",
       "      <th>city_A</th>\n",
       "      <td>0.003384</td>\n",
       "    </tr>\n",
       "    <tr>\n",
       "      <th>pln_uniq</th>\n",
       "      <td>0.003190</td>\n",
       "    </tr>\n",
       "    <tr>\n",
       "      <th>max_75</th>\n",
       "      <td>0.002965</td>\n",
       "    </tr>\n",
       "    <tr>\n",
       "      <th>registered_via_9</th>\n",
       "      <td>0.002511</td>\n",
       "    </tr>\n",
       "    <tr>\n",
       "      <th>min_unq</th>\n",
       "      <td>0.002034</td>\n",
       "    </tr>\n",
       "    <tr>\n",
       "      <th>min_100</th>\n",
       "      <td>0.002007</td>\n",
       "    </tr>\n",
       "    <tr>\n",
       "      <th>city_C</th>\n",
       "      <td>0.001993</td>\n",
       "    </tr>\n",
       "    <tr>\n",
       "      <th>gender_male</th>\n",
       "      <td>0.001976</td>\n",
       "    </tr>\n",
       "    <tr>\n",
       "      <th>registered_via_3</th>\n",
       "      <td>0.001932</td>\n",
       "    </tr>\n",
       "    <tr>\n",
       "      <th>gender_female</th>\n",
       "      <td>0.001906</td>\n",
       "    </tr>\n",
       "    <tr>\n",
       "      <th>city_B</th>\n",
       "      <td>0.001895</td>\n",
       "    </tr>\n",
       "    <tr>\n",
       "      <th>registered_via_4</th>\n",
       "      <td>0.001351</td>\n",
       "    </tr>\n",
       "    <tr>\n",
       "      <th>min_25</th>\n",
       "      <td>0.000617</td>\n",
       "    </tr>\n",
       "    <tr>\n",
       "      <th>min_50</th>\n",
       "      <td>0.000198</td>\n",
       "    </tr>\n",
       "    <tr>\n",
       "      <th>min_985</th>\n",
       "      <td>0.000143</td>\n",
       "    </tr>\n",
       "    <tr>\n",
       "      <th>min_75</th>\n",
       "      <td>0.000142</td>\n",
       "    </tr>\n",
       "  </tbody>\n",
       "</table>\n",
       "<p>68 rows × 1 columns</p>\n",
       "</div>"
      ],
      "text/plain": [
       "                       importance\n",
       "days_before_churn        0.066137\n",
       "last_pmt_mtd             0.049956\n",
       "last_pln_days            0.041782\n",
       "secs_last_10             0.041284\n",
       "tot_price                0.038358\n",
       "cnt_trans                0.037755\n",
       "days_since_last_log      0.035397\n",
       "plandays_mean            0.035057\n",
       "days_last_10             0.028270\n",
       "plandays_max             0.025647\n",
       "days_last_30             0.021830\n",
       "last_is_cancel           0.020881\n",
       "sum_unq                  0.020620\n",
       "days                     0.020410\n",
       "sum_25                   0.019010\n",
       "secs_last_30             0.018458\n",
       "days_first_last_trans    0.017824\n",
       "days_logged              0.017616\n",
       "sum_50                   0.016978\n",
       "ct_pln30                 0.016733\n",
       "sum_seconds              0.016179\n",
       "last_auto_renew          0.015549\n",
       "mean_75                  0.014765\n",
       "std_unq                  0.014765\n",
       "cnt_autorenew            0.014531\n",
       "max_seconds              0.013822\n",
       "std_50                   0.013728\n",
       "sum_100                  0.013711\n",
       "can_ratio                0.013666\n",
       "mean_unq                 0.013575\n",
       "...                           ...\n",
       "std_100                  0.012935\n",
       "mean_100                 0.012649\n",
       "plandays_min             0.012530\n",
       "max_100                  0.011635\n",
       "max_25                   0.011590\n",
       "last_trans_weekday       0.011318\n",
       "plandays_std             0.011232\n",
       "bd                       0.010825\n",
       "registered_via_7         0.006973\n",
       "max_985                  0.006943\n",
       "max_50                   0.006907\n",
       "num_cancel               0.006854\n",
       "times_churn              0.005911\n",
       "pmt_method_num           0.004248\n",
       "city_A                   0.003384\n",
       "pln_uniq                 0.003190\n",
       "max_75                   0.002965\n",
       "registered_via_9         0.002511\n",
       "min_unq                  0.002034\n",
       "min_100                  0.002007\n",
       "city_C                   0.001993\n",
       "gender_male              0.001976\n",
       "registered_via_3         0.001932\n",
       "gender_female            0.001906\n",
       "city_B                   0.001895\n",
       "registered_via_4         0.001351\n",
       "min_25                   0.000617\n",
       "min_50                   0.000198\n",
       "min_985                  0.000143\n",
       "min_75                   0.000142\n",
       "\n",
       "[68 rows x 1 columns]"
      ]
     },
     "execution_count": 101,
     "metadata": {},
     "output_type": "execute_result"
    }
   ],
   "source": [
    "feature_importances"
   ]
  },
  {
   "cell_type": "markdown",
   "metadata": {},
   "source": [
    "## Reduce dimensions using backward elimination based on variable importance\n",
    "We will achieve this by running the classifier each time with other variable reduced."
   ]
  },
  {
   "cell_type": "code",
   "execution_count": 52,
   "metadata": {},
   "outputs": [],
   "source": [
    "def feature_reduction_impact(X_red,y_red):\n",
    "    i = 0\n",
    "    l = len(list(X_red))-1\n",
    "    rfclf = RandomForestClassifier(n_estimators=50, n_jobs=-1)\n",
    "    X_scores = pd.DataFrame(columns = ['var','importance','score','std'])\n",
    "\n",
    "    while i<l:\n",
    "        rfclf.fit(X_red,y_red)\n",
    "        importance= pd.DataFrame(rfclf.feature_importances_, index=X_red.columns,columns=['importance']).sort_values('importance',ascending=True)\n",
    "        importance.reset_index(inplace= True)\n",
    "        to_drop = importance.iloc[0,:]\n",
    "        X_red = X_red.drop(to_drop[0],axis=1)\n",
    "        scores = cross_val_score(rfclf,X_red,y_red,cv=5,n_jobs=-1,verbose=1)\n",
    "        X_scores.loc[i] = [to_drop[0]]+ [to_drop[1]] + [scores.mean()] +[scores.std()]\n",
    "        i+=1\n",
    "        print(to_drop)\n",
    "    return X_scores"
   ]
  },
  {
   "cell_type": "markdown",
   "metadata": {},
   "source": [
    "##### Note: The following code might take 5-6 hours on a good PC"
   ]
  },
  {
   "cell_type": "code",
   "execution_count": 102,
   "metadata": {},
   "outputs": [
    {
     "name": "stderr",
     "output_type": "stream",
     "text": [
      "/anaconda3/lib/python3.7/site-packages/ipykernel_launcher.py:8: DataConversionWarning: A column-vector y was passed when a 1d array was expected. Please change the shape of y to (n_samples,), for example using ravel().\n",
      "  \n",
      "[Parallel(n_jobs=-1)]: Using backend LokyBackend with 4 concurrent workers.\n",
      "[Parallel(n_jobs=-1)]: Done   5 out of   5 | elapsed:  6.3min finished\n"
     ]
    },
    {
     "name": "stdout",
     "output_type": "stream",
     "text": [
      "index             min_985\n",
      "importance    0.000141377\n",
      "Name: 0, dtype: object\n"
     ]
    },
    {
     "name": "stderr",
     "output_type": "stream",
     "text": [
      "/anaconda3/lib/python3.7/site-packages/ipykernel_launcher.py:8: DataConversionWarning: A column-vector y was passed when a 1d array was expected. Please change the shape of y to (n_samples,), for example using ravel().\n",
      "  \n",
      "[Parallel(n_jobs=-1)]: Using backend LokyBackend with 4 concurrent workers.\n",
      "[Parallel(n_jobs=-1)]: Done   5 out of   5 | elapsed:  6.1min finished\n"
     ]
    },
    {
     "name": "stdout",
     "output_type": "stream",
     "text": [
      "index              min_75\n",
      "importance    0.000133031\n",
      "Name: 0, dtype: object\n"
     ]
    },
    {
     "name": "stderr",
     "output_type": "stream",
     "text": [
      "/anaconda3/lib/python3.7/site-packages/ipykernel_launcher.py:8: DataConversionWarning: A column-vector y was passed when a 1d array was expected. Please change the shape of y to (n_samples,), for example using ravel().\n",
      "  \n",
      "[Parallel(n_jobs=-1)]: Using backend LokyBackend with 4 concurrent workers.\n",
      "[Parallel(n_jobs=-1)]: Done   5 out of   5 | elapsed:  6.1min finished\n"
     ]
    },
    {
     "name": "stdout",
     "output_type": "stream",
     "text": [
      "index              min_50\n",
      "importance    0.000219608\n",
      "Name: 0, dtype: object\n"
     ]
    },
    {
     "name": "stderr",
     "output_type": "stream",
     "text": [
      "/anaconda3/lib/python3.7/site-packages/ipykernel_launcher.py:8: DataConversionWarning: A column-vector y was passed when a 1d array was expected. Please change the shape of y to (n_samples,), for example using ravel().\n",
      "  \n",
      "[Parallel(n_jobs=-1)]: Using backend LokyBackend with 4 concurrent workers.\n",
      "[Parallel(n_jobs=-1)]: Done   5 out of   5 | elapsed:  5.5min finished\n"
     ]
    },
    {
     "name": "stdout",
     "output_type": "stream",
     "text": [
      "index              min_25\n",
      "importance    0.000599925\n",
      "Name: 0, dtype: object\n"
     ]
    },
    {
     "name": "stderr",
     "output_type": "stream",
     "text": [
      "/anaconda3/lib/python3.7/site-packages/ipykernel_launcher.py:8: DataConversionWarning: A column-vector y was passed when a 1d array was expected. Please change the shape of y to (n_samples,), for example using ravel().\n",
      "  \n",
      "[Parallel(n_jobs=-1)]: Using backend LokyBackend with 4 concurrent workers.\n",
      "[Parallel(n_jobs=-1)]: Done   5 out of   5 | elapsed:  4.6min finished\n"
     ]
    },
    {
     "name": "stdout",
     "output_type": "stream",
     "text": [
      "index         registered_via_4\n",
      "importance          0.00143887\n",
      "Name: 0, dtype: object\n"
     ]
    },
    {
     "name": "stderr",
     "output_type": "stream",
     "text": [
      "/anaconda3/lib/python3.7/site-packages/ipykernel_launcher.py:8: DataConversionWarning: A column-vector y was passed when a 1d array was expected. Please change the shape of y to (n_samples,), for example using ravel().\n",
      "  \n",
      "[Parallel(n_jobs=-1)]: Using backend LokyBackend with 4 concurrent workers.\n",
      "[Parallel(n_jobs=-1)]: Done   5 out of   5 | elapsed:  4.6min finished\n"
     ]
    },
    {
     "name": "stdout",
     "output_type": "stream",
     "text": [
      "index         registered_via_3\n",
      "importance          0.00193387\n",
      "Name: 0, dtype: object\n"
     ]
    },
    {
     "name": "stderr",
     "output_type": "stream",
     "text": [
      "/anaconda3/lib/python3.7/site-packages/ipykernel_launcher.py:8: DataConversionWarning: A column-vector y was passed when a 1d array was expected. Please change the shape of y to (n_samples,), for example using ravel().\n",
      "  \n",
      "[Parallel(n_jobs=-1)]: Using backend LokyBackend with 4 concurrent workers.\n",
      "[Parallel(n_jobs=-1)]: Done   5 out of   5 | elapsed:  5.3min finished\n"
     ]
    },
    {
     "name": "stdout",
     "output_type": "stream",
     "text": [
      "index         gender_female\n",
      "importance       0.00191793\n",
      "Name: 0, dtype: object\n"
     ]
    },
    {
     "name": "stderr",
     "output_type": "stream",
     "text": [
      "/anaconda3/lib/python3.7/site-packages/ipykernel_launcher.py:8: DataConversionWarning: A column-vector y was passed when a 1d array was expected. Please change the shape of y to (n_samples,), for example using ravel().\n",
      "  \n",
      "[Parallel(n_jobs=-1)]: Using backend LokyBackend with 4 concurrent workers.\n",
      "[Parallel(n_jobs=-1)]: Done   5 out of   5 | elapsed:  4.9min finished\n"
     ]
    },
    {
     "name": "stdout",
     "output_type": "stream",
     "text": [
      "index             city_B\n",
      "importance    0.00201332\n",
      "Name: 0, dtype: object\n"
     ]
    },
    {
     "name": "stderr",
     "output_type": "stream",
     "text": [
      "/anaconda3/lib/python3.7/site-packages/ipykernel_launcher.py:8: DataConversionWarning: A column-vector y was passed when a 1d array was expected. Please change the shape of y to (n_samples,), for example using ravel().\n",
      "  \n",
      "[Parallel(n_jobs=-1)]: Using backend LokyBackend with 4 concurrent workers.\n",
      "[Parallel(n_jobs=-1)]: Done   5 out of   5 | elapsed:  5.3min finished\n"
     ]
    },
    {
     "name": "stdout",
     "output_type": "stream",
     "text": [
      "index            min_unq\n",
      "importance    0.00197727\n",
      "Name: 0, dtype: object\n"
     ]
    },
    {
     "name": "stderr",
     "output_type": "stream",
     "text": [
      "/anaconda3/lib/python3.7/site-packages/ipykernel_launcher.py:8: DataConversionWarning: A column-vector y was passed when a 1d array was expected. Please change the shape of y to (n_samples,), for example using ravel().\n",
      "  \n",
      "[Parallel(n_jobs=-1)]: Using backend LokyBackend with 4 concurrent workers.\n",
      "[Parallel(n_jobs=-1)]: Done   5 out of   5 | elapsed:  4.9min finished\n"
     ]
    },
    {
     "name": "stdout",
     "output_type": "stream",
     "text": [
      "index         gender_male\n",
      "importance     0.00215416\n",
      "Name: 0, dtype: object\n"
     ]
    },
    {
     "name": "stderr",
     "output_type": "stream",
     "text": [
      "/anaconda3/lib/python3.7/site-packages/ipykernel_launcher.py:8: DataConversionWarning: A column-vector y was passed when a 1d array was expected. Please change the shape of y to (n_samples,), for example using ravel().\n",
      "  \n",
      "[Parallel(n_jobs=-1)]: Using backend LokyBackend with 4 concurrent workers.\n",
      "[Parallel(n_jobs=-1)]: Done   5 out of   5 | elapsed:  5.0min finished\n"
     ]
    },
    {
     "name": "stdout",
     "output_type": "stream",
     "text": [
      "index            min_100\n",
      "importance    0.00212835\n",
      "Name: 0, dtype: object\n"
     ]
    },
    {
     "name": "stderr",
     "output_type": "stream",
     "text": [
      "/anaconda3/lib/python3.7/site-packages/ipykernel_launcher.py:8: DataConversionWarning: A column-vector y was passed when a 1d array was expected. Please change the shape of y to (n_samples,), for example using ravel().\n",
      "  \n",
      "[Parallel(n_jobs=-1)]: Using backend LokyBackend with 4 concurrent workers.\n",
      "[Parallel(n_jobs=-1)]: Done   5 out of   5 | elapsed:  5.2min finished\n"
     ]
    },
    {
     "name": "stdout",
     "output_type": "stream",
     "text": [
      "index             city_C\n",
      "importance    0.00229211\n",
      "Name: 0, dtype: object\n"
     ]
    },
    {
     "name": "stderr",
     "output_type": "stream",
     "text": [
      "/anaconda3/lib/python3.7/site-packages/ipykernel_launcher.py:8: DataConversionWarning: A column-vector y was passed when a 1d array was expected. Please change the shape of y to (n_samples,), for example using ravel().\n",
      "  \n",
      "[Parallel(n_jobs=-1)]: Using backend LokyBackend with 4 concurrent workers.\n",
      "[Parallel(n_jobs=-1)]: Done   5 out of   5 | elapsed:  5.2min finished\n"
     ]
    },
    {
     "name": "stdout",
     "output_type": "stream",
     "text": [
      "index         registered_via_9\n",
      "importance          0.00254817\n",
      "Name: 0, dtype: object\n"
     ]
    },
    {
     "name": "stderr",
     "output_type": "stream",
     "text": [
      "/anaconda3/lib/python3.7/site-packages/ipykernel_launcher.py:8: DataConversionWarning: A column-vector y was passed when a 1d array was expected. Please change the shape of y to (n_samples,), for example using ravel().\n",
      "  \n",
      "[Parallel(n_jobs=-1)]: Using backend LokyBackend with 4 concurrent workers.\n",
      "[Parallel(n_jobs=-1)]: Done   5 out of   5 | elapsed:  4.8min finished\n"
     ]
    },
    {
     "name": "stdout",
     "output_type": "stream",
     "text": [
      "index           pln_uniq\n",
      "importance    0.00292556\n",
      "Name: 0, dtype: object\n"
     ]
    },
    {
     "name": "stderr",
     "output_type": "stream",
     "text": [
      "/anaconda3/lib/python3.7/site-packages/ipykernel_launcher.py:8: DataConversionWarning: A column-vector y was passed when a 1d array was expected. Please change the shape of y to (n_samples,), for example using ravel().\n",
      "  \n",
      "[Parallel(n_jobs=-1)]: Using backend LokyBackend with 4 concurrent workers.\n",
      "[Parallel(n_jobs=-1)]: Done   5 out of   5 | elapsed:  5.2min finished\n"
     ]
    },
    {
     "name": "stdout",
     "output_type": "stream",
     "text": [
      "index             city_A\n",
      "importance    0.00416759\n",
      "Name: 0, dtype: object\n"
     ]
    },
    {
     "name": "stderr",
     "output_type": "stream",
     "text": [
      "/anaconda3/lib/python3.7/site-packages/ipykernel_launcher.py:8: DataConversionWarning: A column-vector y was passed when a 1d array was expected. Please change the shape of y to (n_samples,), for example using ravel().\n",
      "  \n",
      "[Parallel(n_jobs=-1)]: Using backend LokyBackend with 4 concurrent workers.\n",
      "[Parallel(n_jobs=-1)]: Done   5 out of   5 | elapsed:  5.2min finished\n"
     ]
    },
    {
     "name": "stdout",
     "output_type": "stream",
     "text": [
      "index             max_75\n",
      "importance    0.00316747\n",
      "Name: 0, dtype: object\n"
     ]
    },
    {
     "name": "stderr",
     "output_type": "stream",
     "text": [
      "/anaconda3/lib/python3.7/site-packages/ipykernel_launcher.py:8: DataConversionWarning: A column-vector y was passed when a 1d array was expected. Please change the shape of y to (n_samples,), for example using ravel().\n",
      "  \n",
      "[Parallel(n_jobs=-1)]: Using backend LokyBackend with 4 concurrent workers.\n",
      "[Parallel(n_jobs=-1)]: Done   5 out of   5 | elapsed:  5.4min finished\n"
     ]
    },
    {
     "name": "stdout",
     "output_type": "stream",
     "text": [
      "index         pmt_method_num\n",
      "importance        0.00427741\n",
      "Name: 0, dtype: object\n"
     ]
    },
    {
     "name": "stderr",
     "output_type": "stream",
     "text": [
      "/anaconda3/lib/python3.7/site-packages/ipykernel_launcher.py:8: DataConversionWarning: A column-vector y was passed when a 1d array was expected. Please change the shape of y to (n_samples,), for example using ravel().\n",
      "  \n",
      "[Parallel(n_jobs=-1)]: Using backend LokyBackend with 4 concurrent workers.\n",
      "[Parallel(n_jobs=-1)]: Done   5 out of   5 | elapsed:  6.0min finished\n"
     ]
    },
    {
     "name": "stdout",
     "output_type": "stream",
     "text": [
      "index           ct_pln30\n",
      "importance    0.00557244\n",
      "Name: 0, dtype: object\n"
     ]
    },
    {
     "name": "stderr",
     "output_type": "stream",
     "text": [
      "/anaconda3/lib/python3.7/site-packages/ipykernel_launcher.py:8: DataConversionWarning: A column-vector y was passed when a 1d array was expected. Please change the shape of y to (n_samples,), for example using ravel().\n",
      "  \n",
      "[Parallel(n_jobs=-1)]: Using backend LokyBackend with 4 concurrent workers.\n",
      "[Parallel(n_jobs=-1)]: Done   5 out of   5 | elapsed:  5.6min finished\n"
     ]
    },
    {
     "name": "stdout",
     "output_type": "stream",
     "text": [
      "index         num_cancel\n",
      "importance     0.0062461\n",
      "Name: 0, dtype: object\n"
     ]
    },
    {
     "name": "stderr",
     "output_type": "stream",
     "text": [
      "/anaconda3/lib/python3.7/site-packages/ipykernel_launcher.py:8: DataConversionWarning: A column-vector y was passed when a 1d array was expected. Please change the shape of y to (n_samples,), for example using ravel().\n",
      "  \n",
      "[Parallel(n_jobs=-1)]: Using backend LokyBackend with 4 concurrent workers.\n",
      "[Parallel(n_jobs=-1)]: Done   5 out of   5 | elapsed:  4.3min finished\n"
     ]
    },
    {
     "name": "stdout",
     "output_type": "stream",
     "text": [
      "index         registered_via_7\n",
      "importance          0.00522348\n",
      "Name: 0, dtype: object\n"
     ]
    },
    {
     "name": "stderr",
     "output_type": "stream",
     "text": [
      "/anaconda3/lib/python3.7/site-packages/ipykernel_launcher.py:8: DataConversionWarning: A column-vector y was passed when a 1d array was expected. Please change the shape of y to (n_samples,), for example using ravel().\n",
      "  \n",
      "[Parallel(n_jobs=-1)]: Using backend LokyBackend with 4 concurrent workers.\n",
      "[Parallel(n_jobs=-1)]: Done   5 out of   5 | elapsed:  4.6min finished\n"
     ]
    },
    {
     "name": "stdout",
     "output_type": "stream",
     "text": [
      "index         times_churn\n",
      "importance     0.00741421\n",
      "Name: 0, dtype: object\n"
     ]
    },
    {
     "name": "stderr",
     "output_type": "stream",
     "text": [
      "/anaconda3/lib/python3.7/site-packages/ipykernel_launcher.py:8: DataConversionWarning: A column-vector y was passed when a 1d array was expected. Please change the shape of y to (n_samples,), for example using ravel().\n",
      "  \n",
      "[Parallel(n_jobs=-1)]: Using backend LokyBackend with 4 concurrent workers.\n",
      "[Parallel(n_jobs=-1)]: Done   5 out of   5 | elapsed:  4.9min finished\n"
     ]
    },
    {
     "name": "stdout",
     "output_type": "stream",
     "text": [
      "index           max_985\n",
      "importance    0.0074349\n",
      "Name: 0, dtype: object\n"
     ]
    },
    {
     "name": "stderr",
     "output_type": "stream",
     "text": [
      "/anaconda3/lib/python3.7/site-packages/ipykernel_launcher.py:8: DataConversionWarning: A column-vector y was passed when a 1d array was expected. Please change the shape of y to (n_samples,), for example using ravel().\n",
      "  \n",
      "[Parallel(n_jobs=-1)]: Using backend LokyBackend with 4 concurrent workers.\n",
      "[Parallel(n_jobs=-1)]: Done   5 out of   5 | elapsed:  4.9min finished\n"
     ]
    },
    {
     "name": "stdout",
     "output_type": "stream",
     "text": [
      "index             max_50\n",
      "importance    0.00750403\n",
      "Name: 0, dtype: object\n"
     ]
    },
    {
     "name": "stderr",
     "output_type": "stream",
     "text": [
      "/anaconda3/lib/python3.7/site-packages/ipykernel_launcher.py:8: DataConversionWarning: A column-vector y was passed when a 1d array was expected. Please change the shape of y to (n_samples,), for example using ravel().\n",
      "  \n",
      "[Parallel(n_jobs=-1)]: Using backend LokyBackend with 4 concurrent workers.\n",
      "[Parallel(n_jobs=-1)]: Done   5 out of   5 | elapsed:  4.5min finished\n",
      "/anaconda3/lib/python3.7/site-packages/ipykernel_launcher.py:8: DataConversionWarning: A column-vector y was passed when a 1d array was expected. Please change the shape of y to (n_samples,), for example using ravel().\n",
      "  \n"
     ]
    },
    {
     "name": "stdout",
     "output_type": "stream",
     "text": [
      "index         last_trans_weekday\n",
      "importance             0.0115412\n",
      "Name: 0, dtype: object\n"
     ]
    },
    {
     "name": "stderr",
     "output_type": "stream",
     "text": [
      "[Parallel(n_jobs=-1)]: Using backend LokyBackend with 4 concurrent workers.\n",
      "[Parallel(n_jobs=-1)]: Done   5 out of   5 | elapsed:  5.3min finished\n",
      "/anaconda3/lib/python3.7/site-packages/ipykernel_launcher.py:8: DataConversionWarning: A column-vector y was passed when a 1d array was expected. Please change the shape of y to (n_samples,), for example using ravel().\n",
      "  \n"
     ]
    },
    {
     "name": "stdout",
     "output_type": "stream",
     "text": [
      "index         plandays_min\n",
      "importance       0.0115233\n",
      "Name: 0, dtype: object\n"
     ]
    },
    {
     "name": "stderr",
     "output_type": "stream",
     "text": [
      "[Parallel(n_jobs=-1)]: Using backend LokyBackend with 4 concurrent workers.\n",
      "[Parallel(n_jobs=-1)]: Done   5 out of   5 | elapsed:  5.2min finished\n"
     ]
    },
    {
     "name": "stdout",
     "output_type": "stream",
     "text": [
      "index               bd\n",
      "importance    0.012929\n",
      "Name: 0, dtype: object\n"
     ]
    },
    {
     "name": "stderr",
     "output_type": "stream",
     "text": [
      "/anaconda3/lib/python3.7/site-packages/ipykernel_launcher.py:8: DataConversionWarning: A column-vector y was passed when a 1d array was expected. Please change the shape of y to (n_samples,), for example using ravel().\n",
      "  \n",
      "[Parallel(n_jobs=-1)]: Using backend LokyBackend with 4 concurrent workers.\n",
      "[Parallel(n_jobs=-1)]: Done   5 out of   5 | elapsed:  5.0min finished\n",
      "/anaconda3/lib/python3.7/site-packages/ipykernel_launcher.py:8: DataConversionWarning: A column-vector y was passed when a 1d array was expected. Please change the shape of y to (n_samples,), for example using ravel().\n",
      "  \n"
     ]
    },
    {
     "name": "stdout",
     "output_type": "stream",
     "text": [
      "index           max_100\n",
      "importance    0.0133059\n",
      "Name: 0, dtype: object\n"
     ]
    },
    {
     "name": "stderr",
     "output_type": "stream",
     "text": [
      "[Parallel(n_jobs=-1)]: Using backend LokyBackend with 4 concurrent workers.\n",
      "[Parallel(n_jobs=-1)]: Done   5 out of   5 | elapsed:  5.3min finished\n",
      "/anaconda3/lib/python3.7/site-packages/ipykernel_launcher.py:8: DataConversionWarning: A column-vector y was passed when a 1d array was expected. Please change the shape of y to (n_samples,), for example using ravel().\n",
      "  \n"
     ]
    },
    {
     "name": "stdout",
     "output_type": "stream",
     "text": [
      "index           max_25\n",
      "importance    0.013604\n",
      "Name: 0, dtype: object\n"
     ]
    },
    {
     "name": "stderr",
     "output_type": "stream",
     "text": [
      "[Parallel(n_jobs=-1)]: Using backend LokyBackend with 4 concurrent workers.\n",
      "[Parallel(n_jobs=-1)]: Done   5 out of   5 | elapsed:  5.4min finished\n",
      "/anaconda3/lib/python3.7/site-packages/ipykernel_launcher.py:8: DataConversionWarning: A column-vector y was passed when a 1d array was expected. Please change the shape of y to (n_samples,), for example using ravel().\n",
      "  \n"
     ]
    },
    {
     "name": "stdout",
     "output_type": "stream",
     "text": [
      "index         plandays_std\n",
      "importance       0.0136658\n",
      "Name: 0, dtype: object\n"
     ]
    },
    {
     "name": "stderr",
     "output_type": "stream",
     "text": [
      "[Parallel(n_jobs=-1)]: Using backend LokyBackend with 4 concurrent workers.\n",
      "[Parallel(n_jobs=-1)]: Done   5 out of   5 | elapsed:  5.3min finished\n",
      "/anaconda3/lib/python3.7/site-packages/ipykernel_launcher.py:8: DataConversionWarning: A column-vector y was passed when a 1d array was expected. Please change the shape of y to (n_samples,), for example using ravel().\n",
      "  \n"
     ]
    },
    {
     "name": "stdout",
     "output_type": "stream",
     "text": [
      "index         cnt_autorenew\n",
      "importance        0.0125853\n",
      "Name: 0, dtype: object\n"
     ]
    },
    {
     "name": "stderr",
     "output_type": "stream",
     "text": [
      "[Parallel(n_jobs=-1)]: Using backend LokyBackend with 4 concurrent workers.\n",
      "[Parallel(n_jobs=-1)]: Done   5 out of   5 | elapsed:  5.2min finished\n",
      "/anaconda3/lib/python3.7/site-packages/ipykernel_launcher.py:8: DataConversionWarning: A column-vector y was passed when a 1d array was expected. Please change the shape of y to (n_samples,), for example using ravel().\n",
      "  \n"
     ]
    },
    {
     "name": "stdout",
     "output_type": "stream",
     "text": [
      "index           max_unq\n",
      "importance    0.0155115\n",
      "Name: 0, dtype: object\n"
     ]
    },
    {
     "name": "stderr",
     "output_type": "stream",
     "text": [
      "[Parallel(n_jobs=-1)]: Using backend LokyBackend with 4 concurrent workers.\n",
      "[Parallel(n_jobs=-1)]: Done   5 out of   5 | elapsed:  5.4min finished\n",
      "/anaconda3/lib/python3.7/site-packages/ipykernel_launcher.py:8: DataConversionWarning: A column-vector y was passed when a 1d array was expected. Please change the shape of y to (n_samples,), for example using ravel().\n",
      "  \n"
     ]
    },
    {
     "name": "stdout",
     "output_type": "stream",
     "text": [
      "index          mean_100\n",
      "importance    0.0159204\n",
      "Name: 0, dtype: object\n"
     ]
    },
    {
     "name": "stderr",
     "output_type": "stream",
     "text": [
      "[Parallel(n_jobs=-1)]: Using backend LokyBackend with 4 concurrent workers.\n",
      "[Parallel(n_jobs=-1)]: Done   5 out of   5 | elapsed:  4.3min finished\n",
      "/anaconda3/lib/python3.7/site-packages/ipykernel_launcher.py:8: DataConversionWarning: A column-vector y was passed when a 1d array was expected. Please change the shape of y to (n_samples,), for example using ravel().\n",
      "  \n"
     ]
    },
    {
     "name": "stdout",
     "output_type": "stream",
     "text": [
      "index         mean_25\n",
      "importance     0.0174\n",
      "Name: 0, dtype: object\n"
     ]
    },
    {
     "name": "stderr",
     "output_type": "stream",
     "text": [
      "[Parallel(n_jobs=-1)]: Using backend LokyBackend with 4 concurrent workers.\n",
      "[Parallel(n_jobs=-1)]: Done   5 out of   5 | elapsed:  4.0min finished\n",
      "/anaconda3/lib/python3.7/site-packages/ipykernel_launcher.py:8: DataConversionWarning: A column-vector y was passed when a 1d array was expected. Please change the shape of y to (n_samples,), for example using ravel().\n",
      "  \n"
     ]
    },
    {
     "name": "stdout",
     "output_type": "stream",
     "text": [
      "index         can_ratio\n",
      "importance    0.0167243\n",
      "Name: 0, dtype: object\n"
     ]
    },
    {
     "name": "stderr",
     "output_type": "stream",
     "text": [
      "[Parallel(n_jobs=-1)]: Using backend LokyBackend with 4 concurrent workers.\n",
      "[Parallel(n_jobs=-1)]: Done   5 out of   5 | elapsed:  3.9min finished\n",
      "/anaconda3/lib/python3.7/site-packages/ipykernel_launcher.py:8: DataConversionWarning: A column-vector y was passed when a 1d array was expected. Please change the shape of y to (n_samples,), for example using ravel().\n",
      "  \n"
     ]
    },
    {
     "name": "stdout",
     "output_type": "stream",
     "text": [
      "index          mean_985\n",
      "importance    0.0181763\n",
      "Name: 0, dtype: object\n"
     ]
    },
    {
     "name": "stderr",
     "output_type": "stream",
     "text": [
      "[Parallel(n_jobs=-1)]: Using backend LokyBackend with 4 concurrent workers.\n",
      "[Parallel(n_jobs=-1)]: Done   5 out of   5 | elapsed:  3.9min finished\n",
      "/anaconda3/lib/python3.7/site-packages/ipykernel_launcher.py:8: DataConversionWarning: A column-vector y was passed when a 1d array was expected. Please change the shape of y to (n_samples,), for example using ravel().\n",
      "  \n"
     ]
    },
    {
     "name": "stdout",
     "output_type": "stream",
     "text": [
      "index            sum_50\n",
      "importance    0.0192273\n",
      "Name: 0, dtype: object\n"
     ]
    },
    {
     "name": "stderr",
     "output_type": "stream",
     "text": [
      "[Parallel(n_jobs=-1)]: Using backend LokyBackend with 4 concurrent workers.\n",
      "[Parallel(n_jobs=-1)]: Done   5 out of   5 | elapsed:  4.0min finished\n",
      "/anaconda3/lib/python3.7/site-packages/ipykernel_launcher.py:8: DataConversionWarning: A column-vector y was passed when a 1d array was expected. Please change the shape of y to (n_samples,), for example using ravel().\n",
      "  \n"
     ]
    },
    {
     "name": "stdout",
     "output_type": "stream",
     "text": [
      "index         last_auto_renew\n",
      "importance          0.0178561\n",
      "Name: 0, dtype: object\n"
     ]
    },
    {
     "name": "stderr",
     "output_type": "stream",
     "text": [
      "[Parallel(n_jobs=-1)]: Using backend LokyBackend with 4 concurrent workers.\n",
      "[Parallel(n_jobs=-1)]: Done   5 out of   5 | elapsed:  3.9min finished\n",
      "/anaconda3/lib/python3.7/site-packages/ipykernel_launcher.py:8: DataConversionWarning: A column-vector y was passed when a 1d array was expected. Please change the shape of y to (n_samples,), for example using ravel().\n",
      "  \n"
     ]
    },
    {
     "name": "stdout",
     "output_type": "stream",
     "text": [
      "index           std_100\n",
      "importance    0.0202267\n",
      "Name: 0, dtype: object\n"
     ]
    },
    {
     "name": "stderr",
     "output_type": "stream",
     "text": [
      "[Parallel(n_jobs=-1)]: Using backend LokyBackend with 4 concurrent workers.\n",
      "[Parallel(n_jobs=-1)]: Done   5 out of   5 | elapsed:  4.2min finished\n",
      "/anaconda3/lib/python3.7/site-packages/ipykernel_launcher.py:8: DataConversionWarning: A column-vector y was passed when a 1d array was expected. Please change the shape of y to (n_samples,), for example using ravel().\n",
      "  \n"
     ]
    },
    {
     "name": "stdout",
     "output_type": "stream",
     "text": [
      "index         days_last_10\n",
      "importance         0.01739\n",
      "Name: 0, dtype: object\n"
     ]
    },
    {
     "name": "stderr",
     "output_type": "stream",
     "text": [
      "[Parallel(n_jobs=-1)]: Using backend LokyBackend with 4 concurrent workers.\n",
      "[Parallel(n_jobs=-1)]: Done   5 out of   5 | elapsed:  4.6min finished\n",
      "/anaconda3/lib/python3.7/site-packages/ipykernel_launcher.py:8: DataConversionWarning: A column-vector y was passed when a 1d array was expected. Please change the shape of y to (n_samples,), for example using ravel().\n",
      "  \n"
     ]
    },
    {
     "name": "stdout",
     "output_type": "stream",
     "text": [
      "index           sum_100\n",
      "importance    0.0206592\n",
      "Name: 0, dtype: object\n"
     ]
    },
    {
     "name": "stderr",
     "output_type": "stream",
     "text": [
      "[Parallel(n_jobs=-1)]: Using backend LokyBackend with 4 concurrent workers.\n",
      "[Parallel(n_jobs=-1)]: Done   5 out of   5 | elapsed:  4.1min finished\n",
      "/anaconda3/lib/python3.7/site-packages/ipykernel_launcher.py:8: DataConversionWarning: A column-vector y was passed when a 1d array was expected. Please change the shape of y to (n_samples,), for example using ravel().\n",
      "  \n"
     ]
    },
    {
     "name": "stdout",
     "output_type": "stream",
     "text": [
      "index            std_75\n",
      "importance    0.0222807\n",
      "Name: 0, dtype: object\n"
     ]
    },
    {
     "name": "stderr",
     "output_type": "stream",
     "text": [
      "[Parallel(n_jobs=-1)]: Using backend LokyBackend with 4 concurrent workers.\n",
      "[Parallel(n_jobs=-1)]: Done   5 out of   5 | elapsed:  4.0min finished\n",
      "/anaconda3/lib/python3.7/site-packages/ipykernel_launcher.py:8: DataConversionWarning: A column-vector y was passed when a 1d array was expected. Please change the shape of y to (n_samples,), for example using ravel().\n",
      "  \n"
     ]
    },
    {
     "name": "stdout",
     "output_type": "stream",
     "text": [
      "index           mean_50\n",
      "importance    0.0239302\n",
      "Name: 0, dtype: object\n"
     ]
    },
    {
     "name": "stderr",
     "output_type": "stream",
     "text": [
      "[Parallel(n_jobs=-1)]: Using backend LokyBackend with 4 concurrent workers.\n",
      "[Parallel(n_jobs=-1)]: Done   5 out of   5 | elapsed:  4.6min finished\n",
      "/anaconda3/lib/python3.7/site-packages/ipykernel_launcher.py:8: DataConversionWarning: A column-vector y was passed when a 1d array was expected. Please change the shape of y to (n_samples,), for example using ravel().\n",
      "  \n"
     ]
    },
    {
     "name": "stdout",
     "output_type": "stream",
     "text": [
      "index         plandays_max\n",
      "importance       0.0196851\n",
      "Name: 0, dtype: object\n"
     ]
    },
    {
     "name": "stderr",
     "output_type": "stream",
     "text": [
      "[Parallel(n_jobs=-1)]: Using backend LokyBackend with 4 concurrent workers.\n",
      "[Parallel(n_jobs=-1)]: Done   5 out of   5 | elapsed:  3.4min finished\n",
      "/anaconda3/lib/python3.7/site-packages/ipykernel_launcher.py:8: DataConversionWarning: A column-vector y was passed when a 1d array was expected. Please change the shape of y to (n_samples,), for example using ravel().\n",
      "  \n"
     ]
    },
    {
     "name": "stdout",
     "output_type": "stream",
     "text": [
      "index            sum_25\n",
      "importance    0.0255057\n",
      "Name: 0, dtype: object\n"
     ]
    },
    {
     "name": "stderr",
     "output_type": "stream",
     "text": [
      "[Parallel(n_jobs=-1)]: Using backend LokyBackend with 4 concurrent workers.\n",
      "[Parallel(n_jobs=-1)]: Done   5 out of   5 | elapsed:  3.4min finished\n",
      "/anaconda3/lib/python3.7/site-packages/ipykernel_launcher.py:8: DataConversionWarning: A column-vector y was passed when a 1d array was expected. Please change the shape of y to (n_samples,), for example using ravel().\n",
      "  \n"
     ]
    },
    {
     "name": "stdout",
     "output_type": "stream",
     "text": [
      "index          mean_unq\n",
      "importance    0.0266623\n",
      "Name: 0, dtype: object\n"
     ]
    },
    {
     "name": "stderr",
     "output_type": "stream",
     "text": [
      "[Parallel(n_jobs=-1)]: Using backend LokyBackend with 4 concurrent workers.\n",
      "[Parallel(n_jobs=-1)]: Done   5 out of   5 | elapsed:  3.3min finished\n",
      "/anaconda3/lib/python3.7/site-packages/ipykernel_launcher.py:8: DataConversionWarning: A column-vector y was passed when a 1d array was expected. Please change the shape of y to (n_samples,), for example using ravel().\n",
      "  \n"
     ]
    },
    {
     "name": "stdout",
     "output_type": "stream",
     "text": [
      "index           std_985\n",
      "importance    0.0284392\n",
      "Name: 0, dtype: object\n"
     ]
    },
    {
     "name": "stderr",
     "output_type": "stream",
     "text": [
      "[Parallel(n_jobs=-1)]: Using backend LokyBackend with 4 concurrent workers.\n",
      "[Parallel(n_jobs=-1)]: Done   5 out of   5 | elapsed:  3.5min finished\n",
      "/anaconda3/lib/python3.7/site-packages/ipykernel_launcher.py:8: DataConversionWarning: A column-vector y was passed when a 1d array was expected. Please change the shape of y to (n_samples,), for example using ravel().\n",
      "  \n"
     ]
    },
    {
     "name": "stdout",
     "output_type": "stream",
     "text": [
      "index         last_is_cancel\n",
      "importance         0.0307719\n",
      "Name: 0, dtype: object\n"
     ]
    },
    {
     "name": "stderr",
     "output_type": "stream",
     "text": [
      "[Parallel(n_jobs=-1)]: Using backend LokyBackend with 4 concurrent workers.\n",
      "[Parallel(n_jobs=-1)]: Done   5 out of   5 | elapsed:  3.4min finished\n",
      "/anaconda3/lib/python3.7/site-packages/ipykernel_launcher.py:8: DataConversionWarning: A column-vector y was passed when a 1d array was expected. Please change the shape of y to (n_samples,), for example using ravel().\n",
      "  \n"
     ]
    },
    {
     "name": "stdout",
     "output_type": "stream",
     "text": [
      "index         mean_seconds\n",
      "importance       0.0320151\n",
      "Name: 0, dtype: object\n"
     ]
    },
    {
     "name": "stderr",
     "output_type": "stream",
     "text": [
      "[Parallel(n_jobs=-1)]: Using backend LokyBackend with 4 concurrent workers.\n",
      "[Parallel(n_jobs=-1)]: Done   5 out of   5 | elapsed:  3.5min finished\n",
      "/anaconda3/lib/python3.7/site-packages/ipykernel_launcher.py:8: DataConversionWarning: A column-vector y was passed when a 1d array was expected. Please change the shape of y to (n_samples,), for example using ravel().\n",
      "  \n"
     ]
    },
    {
     "name": "stdout",
     "output_type": "stream",
     "text": [
      "index            std_50\n",
      "importance    0.0343499\n",
      "Name: 0, dtype: object\n"
     ]
    },
    {
     "name": "stderr",
     "output_type": "stream",
     "text": [
      "[Parallel(n_jobs=-1)]: Using backend LokyBackend with 4 concurrent workers.\n",
      "[Parallel(n_jobs=-1)]: Done   5 out of   5 | elapsed:  3.1min finished\n",
      "/anaconda3/lib/python3.7/site-packages/ipykernel_launcher.py:8: DataConversionWarning: A column-vector y was passed when a 1d array was expected. Please change the shape of y to (n_samples,), for example using ravel().\n",
      "  \n"
     ]
    },
    {
     "name": "stdout",
     "output_type": "stream",
     "text": [
      "index           std_25\n",
      "importance    0.037371\n",
      "Name: 0, dtype: object\n"
     ]
    },
    {
     "name": "stderr",
     "output_type": "stream",
     "text": [
      "[Parallel(n_jobs=-1)]: Using backend LokyBackend with 4 concurrent workers.\n",
      "[Parallel(n_jobs=-1)]: Done   5 out of   5 | elapsed:  3.1min finished\n",
      "/anaconda3/lib/python3.7/site-packages/ipykernel_launcher.py:8: DataConversionWarning: A column-vector y was passed when a 1d array was expected. Please change the shape of y to (n_samples,), for example using ravel().\n",
      "  \n"
     ]
    },
    {
     "name": "stdout",
     "output_type": "stream",
     "text": [
      "index         max_seconds\n",
      "importance       0.041616\n",
      "Name: 0, dtype: object\n"
     ]
    },
    {
     "name": "stderr",
     "output_type": "stream",
     "text": [
      "[Parallel(n_jobs=-1)]: Using backend LokyBackend with 4 concurrent workers.\n",
      "[Parallel(n_jobs=-1)]: Done   5 out of   5 | elapsed:  3.3min finished\n",
      "/anaconda3/lib/python3.7/site-packages/ipykernel_launcher.py:8: DataConversionWarning: A column-vector y was passed when a 1d array was expected. Please change the shape of y to (n_samples,), for example using ravel().\n",
      "  \n"
     ]
    },
    {
     "name": "stdout",
     "output_type": "stream",
     "text": [
      "index         tot_price\n",
      "importance    0.0375728\n",
      "Name: 0, dtype: object\n"
     ]
    },
    {
     "name": "stderr",
     "output_type": "stream",
     "text": [
      "[Parallel(n_jobs=-1)]: Using backend LokyBackend with 4 concurrent workers.\n",
      "[Parallel(n_jobs=-1)]: Done   5 out of   5 | elapsed:  2.5min finished\n",
      "/anaconda3/lib/python3.7/site-packages/ipykernel_launcher.py:8: DataConversionWarning: A column-vector y was passed when a 1d array was expected. Please change the shape of y to (n_samples,), for example using ravel().\n",
      "  \n"
     ]
    },
    {
     "name": "stdout",
     "output_type": "stream",
     "text": [
      "index         days_last_30\n",
      "importance       0.0376233\n",
      "Name: 0, dtype: object\n"
     ]
    },
    {
     "name": "stderr",
     "output_type": "stream",
     "text": [
      "[Parallel(n_jobs=-1)]: Using backend LokyBackend with 4 concurrent workers.\n",
      "[Parallel(n_jobs=-1)]: Done   5 out of   5 | elapsed:  2.4min finished\n",
      "/anaconda3/lib/python3.7/site-packages/ipykernel_launcher.py:8: DataConversionWarning: A column-vector y was passed when a 1d array was expected. Please change the shape of y to (n_samples,), for example using ravel().\n",
      "  \n"
     ]
    },
    {
     "name": "stdout",
     "output_type": "stream",
     "text": [
      "index          std_unq\n",
      "importance    0.049544\n",
      "Name: 0, dtype: object\n"
     ]
    },
    {
     "name": "stderr",
     "output_type": "stream",
     "text": [
      "[Parallel(n_jobs=-1)]: Using backend LokyBackend with 4 concurrent workers.\n",
      "[Parallel(n_jobs=-1)]: Done   5 out of   5 | elapsed:  2.4min finished\n",
      "/anaconda3/lib/python3.7/site-packages/ipykernel_launcher.py:8: DataConversionWarning: A column-vector y was passed when a 1d array was expected. Please change the shape of y to (n_samples,), for example using ravel().\n",
      "  \n"
     ]
    },
    {
     "name": "stdout",
     "output_type": "stream",
     "text": [
      "index           mean_75\n",
      "importance    0.0559193\n",
      "Name: 0, dtype: object\n"
     ]
    },
    {
     "name": "stderr",
     "output_type": "stream",
     "text": [
      "[Parallel(n_jobs=-1)]: Using backend LokyBackend with 4 concurrent workers.\n",
      "[Parallel(n_jobs=-1)]: Done   5 out of   5 | elapsed:  2.4min finished\n",
      "/anaconda3/lib/python3.7/site-packages/ipykernel_launcher.py:8: DataConversionWarning: A column-vector y was passed when a 1d array was expected. Please change the shape of y to (n_samples,), for example using ravel().\n",
      "  \n"
     ]
    },
    {
     "name": "stdout",
     "output_type": "stream",
     "text": [
      "index         last_pln_days\n",
      "importance        0.0626624\n",
      "Name: 0, dtype: object\n"
     ]
    },
    {
     "name": "stderr",
     "output_type": "stream",
     "text": [
      "[Parallel(n_jobs=-1)]: Using backend LokyBackend with 4 concurrent workers.\n",
      "[Parallel(n_jobs=-1)]: Done   5 out of   5 | elapsed:  2.3min finished\n",
      "/anaconda3/lib/python3.7/site-packages/ipykernel_launcher.py:8: DataConversionWarning: A column-vector y was passed when a 1d array was expected. Please change the shape of y to (n_samples,), for example using ravel().\n",
      "  \n"
     ]
    },
    {
     "name": "stdout",
     "output_type": "stream",
     "text": [
      "index           sum_unq\n",
      "importance    0.0671588\n",
      "Name: 0, dtype: object\n"
     ]
    },
    {
     "name": "stderr",
     "output_type": "stream",
     "text": [
      "[Parallel(n_jobs=-1)]: Using backend LokyBackend with 4 concurrent workers.\n",
      "[Parallel(n_jobs=-1)]: Done   5 out of   5 | elapsed:  2.2min finished\n",
      "/anaconda3/lib/python3.7/site-packages/ipykernel_launcher.py:8: DataConversionWarning: A column-vector y was passed when a 1d array was expected. Please change the shape of y to (n_samples,), for example using ravel().\n",
      "  \n"
     ]
    },
    {
     "name": "stdout",
     "output_type": "stream",
     "text": [
      "index         days_logged\n",
      "importance      0.0681576\n",
      "Name: 0, dtype: object\n"
     ]
    },
    {
     "name": "stderr",
     "output_type": "stream",
     "text": [
      "[Parallel(n_jobs=-1)]: Using backend LokyBackend with 4 concurrent workers.\n",
      "[Parallel(n_jobs=-1)]: Done   5 out of   5 | elapsed:  2.4min finished\n",
      "/anaconda3/lib/python3.7/site-packages/ipykernel_launcher.py:8: DataConversionWarning: A column-vector y was passed when a 1d array was expected. Please change the shape of y to (n_samples,), for example using ravel().\n",
      "  \n"
     ]
    },
    {
     "name": "stdout",
     "output_type": "stream",
     "text": [
      "index         cnt_trans\n",
      "importance    0.0719634\n",
      "Name: 0, dtype: object\n"
     ]
    },
    {
     "name": "stderr",
     "output_type": "stream",
     "text": [
      "[Parallel(n_jobs=-1)]: Using backend LokyBackend with 4 concurrent workers.\n",
      "[Parallel(n_jobs=-1)]: Done   5 out of   5 | elapsed:  1.8min finished\n",
      "/anaconda3/lib/python3.7/site-packages/ipykernel_launcher.py:8: DataConversionWarning: A column-vector y was passed when a 1d array was expected. Please change the shape of y to (n_samples,), for example using ravel().\n",
      "  \n"
     ]
    },
    {
     "name": "stdout",
     "output_type": "stream",
     "text": [
      "index         days_since_last_log\n",
      "importance              0.0683928\n",
      "Name: 0, dtype: object\n"
     ]
    },
    {
     "name": "stderr",
     "output_type": "stream",
     "text": [
      "[Parallel(n_jobs=-1)]: Using backend LokyBackend with 4 concurrent workers.\n",
      "[Parallel(n_jobs=-1)]: Done   5 out of   5 | elapsed:  1.9min finished\n",
      "/anaconda3/lib/python3.7/site-packages/ipykernel_launcher.py:8: DataConversionWarning: A column-vector y was passed when a 1d array was expected. Please change the shape of y to (n_samples,), for example using ravel().\n",
      "  \n"
     ]
    },
    {
     "name": "stdout",
     "output_type": "stream",
     "text": [
      "index              days\n",
      "importance    0.0940281\n",
      "Name: 0, dtype: object\n"
     ]
    },
    {
     "name": "stderr",
     "output_type": "stream",
     "text": [
      "[Parallel(n_jobs=-1)]: Using backend LokyBackend with 4 concurrent workers.\n",
      "[Parallel(n_jobs=-1)]: Done   5 out of   5 | elapsed:  2.1min finished\n",
      "/anaconda3/lib/python3.7/site-packages/ipykernel_launcher.py:8: DataConversionWarning: A column-vector y was passed when a 1d array was expected. Please change the shape of y to (n_samples,), for example using ravel().\n",
      "  \n"
     ]
    },
    {
     "name": "stdout",
     "output_type": "stream",
     "text": [
      "index         secs_last_10\n",
      "importance        0.115565\n",
      "Name: 0, dtype: object\n"
     ]
    },
    {
     "name": "stderr",
     "output_type": "stream",
     "text": [
      "[Parallel(n_jobs=-1)]: Using backend LokyBackend with 4 concurrent workers.\n",
      "[Parallel(n_jobs=-1)]: Done   5 out of   5 | elapsed:  2.3min finished\n",
      "/anaconda3/lib/python3.7/site-packages/ipykernel_launcher.py:8: DataConversionWarning: A column-vector y was passed when a 1d array was expected. Please change the shape of y to (n_samples,), for example using ravel().\n",
      "  \n"
     ]
    },
    {
     "name": "stdout",
     "output_type": "stream",
     "text": [
      "index         last_pmt_mtd\n",
      "importance        0.145565\n",
      "Name: 0, dtype: object\n"
     ]
    },
    {
     "name": "stderr",
     "output_type": "stream",
     "text": [
      "[Parallel(n_jobs=-1)]: Using backend LokyBackend with 4 concurrent workers.\n",
      "[Parallel(n_jobs=-1)]: Done   5 out of   5 | elapsed:  2.0min finished\n",
      "/anaconda3/lib/python3.7/site-packages/ipykernel_launcher.py:8: DataConversionWarning: A column-vector y was passed when a 1d array was expected. Please change the shape of y to (n_samples,), for example using ravel().\n",
      "  \n"
     ]
    },
    {
     "name": "stdout",
     "output_type": "stream",
     "text": [
      "index         days_first_last_trans\n",
      "importance                 0.166094\n",
      "Name: 0, dtype: object\n"
     ]
    },
    {
     "name": "stderr",
     "output_type": "stream",
     "text": [
      "[Parallel(n_jobs=-1)]: Using backend LokyBackend with 4 concurrent workers.\n",
      "[Parallel(n_jobs=-1)]: Done   5 out of   5 | elapsed:  2.2min finished\n",
      "/anaconda3/lib/python3.7/site-packages/ipykernel_launcher.py:8: DataConversionWarning: A column-vector y was passed when a 1d array was expected. Please change the shape of y to (n_samples,), for example using ravel().\n",
      "  \n"
     ]
    },
    {
     "name": "stdout",
     "output_type": "stream",
     "text": [
      "index         days_before_churn\n",
      "importance             0.185869\n",
      "Name: 0, dtype: object\n"
     ]
    },
    {
     "name": "stderr",
     "output_type": "stream",
     "text": [
      "[Parallel(n_jobs=-1)]: Using backend LokyBackend with 4 concurrent workers.\n",
      "[Parallel(n_jobs=-1)]: Done   5 out of   5 | elapsed:  2.3min finished\n",
      "/anaconda3/lib/python3.7/site-packages/ipykernel_launcher.py:8: DataConversionWarning: A column-vector y was passed when a 1d array was expected. Please change the shape of y to (n_samples,), for example using ravel().\n",
      "  \n"
     ]
    },
    {
     "name": "stdout",
     "output_type": "stream",
     "text": [
      "index         plandays_mean\n",
      "importance         0.251465\n",
      "Name: 0, dtype: object\n"
     ]
    },
    {
     "name": "stderr",
     "output_type": "stream",
     "text": [
      "[Parallel(n_jobs=-1)]: Using backend LokyBackend with 4 concurrent workers.\n"
     ]
    },
    {
     "name": "stdout",
     "output_type": "stream",
     "text": [
      "index         secs_last_30\n",
      "importance         0.47169\n",
      "Name: 0, dtype: object\n"
     ]
    },
    {
     "name": "stderr",
     "output_type": "stream",
     "text": [
      "[Parallel(n_jobs=-1)]: Done   5 out of   5 | elapsed:  3.8min finished\n"
     ]
    }
   ],
   "source": [
    "var_red = pd.DataFrame()\n",
    "var_red = feature_reduction_impact(X_nocorr,y)\n",
    "var_red.reset_index(inplace=True)    "
   ]
  },
  {
   "cell_type": "markdown",
   "metadata": {},
   "source": [
    "The following plot shows Variable Index / Random Forest Socre, we can see that only small number of variables do change the output score."
   ]
  },
  {
   "cell_type": "code",
   "execution_count": 103,
   "metadata": {},
   "outputs": [
    {
     "data": {
      "text/plain": [
       "<matplotlib.axes._subplots.AxesSubplot at 0x1a30033c18>"
      ]
     },
     "execution_count": 103,
     "metadata": {},
     "output_type": "execute_result"
    },
    {
     "data": {
      "image/png": "[encoded data removed]",
      "text/plain": [
       "<Figure size 432x288 with 1 Axes>"
      ]
     },
     "metadata": {
      "needs_background": "light"
     },
     "output_type": "display_data"
    }
   ],
   "source": [
    "var_red.plot(kind='scatter',x = 'index',  y='score')"
   ]
  },
  {
   "cell_type": "code",
   "execution_count": 105,
   "metadata": {},
   "outputs": [
    {
     "name": "stdout",
     "output_type": "stream",
     "text": [
      "    index                 var  importance     score       std\n",
      "1       1              min_75    0.000133  0.903898  0.021996\n",
      "2       2              min_50    0.000220  0.903997  0.022196\n",
      "3       3              min_25    0.000600  0.903883  0.021789\n",
      "4       4    registered_via_4    0.001439  0.903874  0.021881\n",
      "5       5    registered_via_3    0.001934  0.903638  0.022393\n",
      "6       6       gender_female    0.001918  0.903982  0.021760\n",
      "7       7              city_B    0.002013  0.903529  0.021802\n",
      "8       8             min_unq    0.001977  0.904017  0.021766\n",
      "9       9         gender_male    0.002154  0.903968  0.021821\n",
      "10     10             min_100    0.002128  0.904093  0.021797\n",
      "11     11              city_C    0.002292  0.903938  0.022142\n",
      "12     12    registered_via_9    0.002548  0.903747  0.022257\n",
      "13     13            pln_uniq    0.002926  0.903977  0.021866\n",
      "14     14              city_A    0.004168  0.903765  0.022217\n",
      "15     15              max_75    0.003167  0.903491  0.022210\n",
      "16     16      pmt_method_num    0.004277  0.903596  0.022128\n",
      "17     17            ct_pln30    0.005572  0.903782  0.022319\n",
      "18     18          num_cancel    0.006246  0.903793  0.022398\n",
      "19     19    registered_via_7    0.005223  0.903332  0.022182\n",
      "20     20         times_churn    0.007414  0.903122  0.022138\n",
      "21     21             max_985    0.007435  0.902957  0.022325\n",
      "22     22              max_50    0.007504  0.903133  0.022309\n",
      "23     23  last_trans_weekday    0.011541  0.903378  0.021877\n",
      "24     24        plandays_min    0.011523  0.903404  0.022278\n",
      "25     25                  bd    0.012929  0.902924  0.022351\n",
      "26     26             max_100    0.013306  0.903305  0.022185\n",
      "27     27              max_25    0.013604  0.903820  0.021843\n",
      "28     28        plandays_std    0.013666  0.904017  0.021867\n",
      "29     29       cnt_autorenew    0.012585  0.903264  0.021833\n",
      "30     30             max_unq    0.015512  0.903389  0.022143\n",
      "31     31            mean_100    0.015920  0.903430  0.022271\n",
      "32     32             mean_25    0.017400  0.903113  0.022034\n",
      "33     33           can_ratio    0.016724  0.902736  0.021613\n",
      "34     34            mean_985    0.018176  0.902837  0.021880\n",
      "35     35              sum_50    0.019227  0.902938  0.021560\n",
      "36     36     last_auto_renew    0.017856  0.902504  0.022298\n",
      "37     37             std_100    0.020227  0.902622  0.021839\n",
      "38     38        days_last_10    0.017390  0.902771  0.021801\n",
      "39     39             sum_100    0.020659  0.903100  0.021628\n",
      "40     40              std_75    0.022281  0.902977  0.021771\n",
      "41     41             mean_50    0.023930  0.903310  0.021710\n",
      "42     42        plandays_max    0.019685  0.902857  0.021857\n",
      "43     43              sum_25    0.025506  0.902579  0.021905\n",
      "44     44            mean_unq    0.026662  0.902925  0.021691\n",
      "45     45             std_985    0.028439  0.903154  0.021794\n",
      "46     46      last_is_cancel    0.030772  0.900336  0.021035\n",
      "47     47        mean_seconds    0.032015  0.900397  0.021494\n",
      "48     48              std_50    0.034350  0.900802  0.021072\n",
      "49     49              std_25    0.037371  0.900600  0.021333\n"
     ]
    }
   ],
   "source": [
    "print(var_red.iloc[1:50,:])"
   ]
  },
  {
   "cell_type": "markdown",
   "metadata": {},
   "source": [
    "### We can learn from the table and chart that by eliminating the first 46 lowest important variables\n",
    "### Accuracy will drop from 0.8923 to 0.8900., but at the same time we will reduce the number of features by 2/3.\n",
    "##### Side note: the accuracy with all noncorrelated features was 0.897 but this seems like a too optimistic result as \n",
    "#### we can learn from the table that removing 1 least significant variable shouldn't have made a drop from 0.897 to 0.892\n",
    "\n",
    "### Thus we shall remove the least important 46 variables and test results again"
   ]
  },
  {
   "cell_type": "code",
   "execution_count": 107,
   "metadata": {},
   "outputs": [],
   "source": [
    "drop_lis = ['min_985','min_50','min_25','registered_via_4','city_B','registered_via_3','gender_female','min_unq',\n",
    "            'gender_male','min_100','city_C','registered_via_9','pln_uniq','max_75','city_A','pmt_method_num',\n",
    "            'ct_pln30','plandays_min','times_churn','max_50','max_985','registered_via_7','num_cancel',\n",
    "            'last_trans_weekday','max_100','max_25','bd','last_auto_renew','mean_100','max_unq',\n",
    "            'plandays_std','mean_25','mean_985','mean_50','std_100','last_is_cancel','sum_100','cnt_autorenew','std_75','std_985','days_logged','sum_50','plandays_max','days_last_30','std_25']\n",
    "X_stepwise = X_nocorr.drop(drop_lis,axis=1)"
   ]
  },
  {
   "cell_type": "markdown",
   "metadata": {},
   "source": [
    "#### We shall run cross validation again to see how dimension reduction have helped maintaining high accuracy."
   ]
  },
  {
   "cell_type": "code",
   "execution_count": 108,
   "metadata": {
    "scrolled": false
   },
   "outputs": [
    {
     "name": "stderr",
     "output_type": "stream",
     "text": [
      "[Parallel(n_jobs=-1)]: Using backend LokyBackend with 4 concurrent workers.\n"
     ]
    },
    {
     "name": "stdout",
     "output_type": "stream",
     "text": [
      "0.8970125266415306\n"
     ]
    },
    {
     "name": "stderr",
     "output_type": "stream",
     "text": [
      "[Parallel(n_jobs=-1)]: Done   4 out of   4 | elapsed:  2.7min finished\n"
     ]
    }
   ],
   "source": [
    "scores = cross_val_score(rfclf, X_stepwise, y, cv=4,n_jobs=-1,verbose =2)\n",
    "print(scores.mean())"
   ]
  },
  {
   "cell_type": "code",
   "execution_count": 109,
   "metadata": {},
   "outputs": [
    {
     "name": "stdout",
     "output_type": "stream",
     "text": [
      "0.025450267883414927\n"
     ]
    }
   ],
   "source": [
    "print(scores.std())"
   ]
  },
  {
   "cell_type": "markdown",
   "metadata": {},
   "source": [
    "### Attempt to calibrate model using grid search:\n",
    "We would like to see if it is possible to achieve better accuracy while optimzing the model's hyper-parameters."
   ]
  },
  {
   "cell_type": "code",
   "execution_count": 111,
   "metadata": {},
   "outputs": [
    {
     "name": "stderr",
     "output_type": "stream",
     "text": [
      "/anaconda3/lib/python3.7/site-packages/sklearn/model_selection/_validation.py:528: DataConversionWarning: A column-vector y was passed when a 1d array was expected. Please change the shape of y to (n_samples,), for example using ravel().\n",
      "  estimator.fit(X_train, y_train, **fit_params)\n",
      "/anaconda3/lib/python3.7/site-packages/sklearn/model_selection/_validation.py:528: DataConversionWarning: A column-vector y was passed when a 1d array was expected. Please change the shape of y to (n_samples,), for example using ravel().\n",
      "  estimator.fit(X_train, y_train, **fit_params)\n",
      "/anaconda3/lib/python3.7/site-packages/sklearn/model_selection/_validation.py:528: DataConversionWarning: A column-vector y was passed when a 1d array was expected. Please change the shape of y to (n_samples,), for example using ravel().\n",
      "  estimator.fit(X_train, y_train, **fit_params)\n",
      "/anaconda3/lib/python3.7/site-packages/sklearn/model_selection/_validation.py:528: DataConversionWarning: A column-vector y was passed when a 1d array was expected. Please change the shape of y to (n_samples,), for example using ravel().\n",
      "  estimator.fit(X_train, y_train, **fit_params)\n",
      "/anaconda3/lib/python3.7/site-packages/sklearn/model_selection/_validation.py:528: DataConversionWarning: A column-vector y was passed when a 1d array was expected. Please change the shape of y to (n_samples,), for example using ravel().\n",
      "  estimator.fit(X_train, y_train, **fit_params)\n",
      "/anaconda3/lib/python3.7/site-packages/sklearn/model_selection/_validation.py:528: DataConversionWarning: A column-vector y was passed when a 1d array was expected. Please change the shape of y to (n_samples,), for example using ravel().\n",
      "  estimator.fit(X_train, y_train, **fit_params)\n",
      "/anaconda3/lib/python3.7/site-packages/sklearn/model_selection/_validation.py:528: DataConversionWarning: A column-vector y was passed when a 1d array was expected. Please change the shape of y to (n_samples,), for example using ravel().\n",
      "  estimator.fit(X_train, y_train, **fit_params)\n",
      "/anaconda3/lib/python3.7/site-packages/sklearn/model_selection/_validation.py:528: DataConversionWarning: A column-vector y was passed when a 1d array was expected. Please change the shape of y to (n_samples,), for example using ravel().\n",
      "  estimator.fit(X_train, y_train, **fit_params)\n",
      "/anaconda3/lib/python3.7/site-packages/sklearn/model_selection/_validation.py:528: DataConversionWarning: A column-vector y was passed when a 1d array was expected. Please change the shape of y to (n_samples,), for example using ravel().\n",
      "  estimator.fit(X_train, y_train, **fit_params)\n",
      "/anaconda3/lib/python3.7/site-packages/sklearn/model_selection/_validation.py:528: DataConversionWarning: A column-vector y was passed when a 1d array was expected. Please change the shape of y to (n_samples,), for example using ravel().\n",
      "  estimator.fit(X_train, y_train, **fit_params)\n",
      "/anaconda3/lib/python3.7/site-packages/sklearn/model_selection/_validation.py:528: DataConversionWarning: A column-vector y was passed when a 1d array was expected. Please change the shape of y to (n_samples,), for example using ravel().\n",
      "  estimator.fit(X_train, y_train, **fit_params)\n",
      "/anaconda3/lib/python3.7/site-packages/sklearn/model_selection/_validation.py:528: DataConversionWarning: A column-vector y was passed when a 1d array was expected. Please change the shape of y to (n_samples,), for example using ravel().\n",
      "  estimator.fit(X_train, y_train, **fit_params)\n",
      "/anaconda3/lib/python3.7/site-packages/sklearn/model_selection/_search.py:740: DataConversionWarning: A column-vector y was passed when a 1d array was expected. Please change the shape of y to (n_samples,), for example using ravel().\n",
      "  self.best_estimator_.fit(X, y, **fit_params)\n"
     ]
    },
    {
     "data": {
      "text/plain": [
       "GridSearchCV(cv=2, error_score='raise-deprecating',\n",
       "       estimator=RandomForestClassifier(bootstrap=True, class_weight=None, criterion='gini',\n",
       "            max_depth=None, max_features='auto', max_leaf_nodes=None,\n",
       "            min_impurity_decrease=0.0, min_impurity_split=None,\n",
       "            min_samples_leaf=1, min_samples_split=2,\n",
       "            min_weight_fraction_leaf=0.0, n_estimators='warn', n_jobs=None,\n",
       "            oob_score=False, random_state=None, verbose=0,\n",
       "            warm_start=False),\n",
       "       fit_params=None, iid='warn', n_jobs=None,\n",
       "       param_grid={'n_estimators': [50], 'max_features': ['log2'], 'max_depth': [6], 'min_samples_split': [2, 3], 'min_samples_leaf': [4, 6, 8], 'criterion': ['gini']},\n",
       "       pre_dispatch='2*n_jobs', refit=True, return_train_score='warn',\n",
       "       scoring=None, verbose=0)"
      ]
     },
     "execution_count": 111,
     "metadata": {},
     "output_type": "execute_result"
    }
   ],
   "source": [
    "from sklearn.model_selection import GridSearchCV\n",
    "random_grid = {'n_estimators': [50],\n",
    "               'max_features': ['log2'],\n",
    "               'max_depth': [6],\n",
    "               'min_samples_split': [2,3],\n",
    "               'min_samples_leaf': [4,6,8],\n",
    "              'criterion' :['gini']}\n",
    "grid_rfc = GridSearchCV(estimator=rfc, param_grid=random_grid, cv= 2)\n",
    "grid_rfc.fit(X_stepwise, y)"
   ]
  },
  {
   "cell_type": "code",
   "execution_count": 112,
   "metadata": {},
   "outputs": [
    {
     "data": {
      "text/plain": [
       "RandomForestClassifier(bootstrap=True, class_weight=None, criterion='gini',\n",
       "            max_depth=6, max_features='log2', max_leaf_nodes=None,\n",
       "            min_impurity_decrease=0.0, min_impurity_split=None,\n",
       "            min_samples_leaf=8, min_samples_split=2,\n",
       "            min_weight_fraction_leaf=0.0, n_estimators=50, n_jobs=None,\n",
       "            oob_score=False, random_state=None, verbose=0,\n",
       "            warm_start=False)"
      ]
     },
     "execution_count": 112,
     "metadata": {},
     "output_type": "execute_result"
    }
   ],
   "source": [
    "grid_rfc.best_estimator_\n",
    "#min_Sample_Split = 2 (optimized)\n",
    "#min_Samples_leaf = 6 (optimized)"
   ]
  },
  {
   "cell_type": "code",
   "execution_count": 113,
   "metadata": {
    "scrolled": true
   },
   "outputs": [
    {
     "name": "stderr",
     "output_type": "stream",
     "text": [
      "[Parallel(n_jobs=-1)]: Using backend LokyBackend with 4 concurrent workers.\n",
      "[Parallel(n_jobs=-1)]: Done   2 out of   4 | elapsed:   54.6s remaining:   54.6s\n"
     ]
    },
    {
     "name": "stdout",
     "output_type": "stream",
     "text": [
      "Mean Cross validation score: 0.8803712374236278\n",
      "STD Cross validation score: 0.025984111590276363\n"
     ]
    },
    {
     "name": "stderr",
     "output_type": "stream",
     "text": [
      "[Parallel(n_jobs=-1)]: Done   4 out of   4 | elapsed:   55.3s finished\n"
     ]
    }
   ],
   "source": [
    "# run optimized classifier based on grid search\n",
    "clf_optimized = RandomForestClassifier(bootstrap=True, class_weight=None, criterion='gini',\n",
    "            max_depth=6, max_features='log2', max_leaf_nodes=None,\n",
    "            min_impurity_decrease=0.0, min_impurity_split=None,\n",
    "            min_samples_leaf=8, min_samples_split=2,\n",
    "            min_weight_fraction_leaf=0.0, n_estimators=50, n_jobs=None,\n",
    "            oob_score=False, random_state=None, verbose=0,\n",
    "            warm_start=False)\n",
    "\n",
    "scores = cross_val_score(clf_optimized, X_stepwise, y, cv=4,n_jobs=-1,verbose =1)\n",
    "print ('Mean Cross validation score: ' +str(scores.mean()))\n",
    "print ('STD Cross validation score: ' +str(scores.std()))\n"
   ]
  },
  {
   "cell_type": "markdown",
   "metadata": {},
   "source": [
    "#### Conclusion: Gridsearch optimization didn't improve accuracy of the model, hence we will proceed to the evaluation phase with the basic random forest classifier"
   ]
  },
  {
   "cell_type": "markdown",
   "metadata": {},
   "source": [
    "# Step 5: Model Evaluation on validation set\n",
    "In this step we will upload the out of test set data (cutoff date = 28.1.2017) and use our optimized classifier (RandomForest, trained on trimmed data and usnig the hyperparameters from the gridsearch) vs non_optimzed classifier (RandomForest, all the variables, basic hyperparameters). "
   ]
  },
  {
   "cell_type": "code",
   "execution_count": 173,
   "metadata": {},
   "outputs": [],
   "source": [
    "X_validation = pd.read_pickle('X'+validations_timestamps[0]+'.pickle')\n",
    "y_validation = pd.read_pickle('y'+validations_timestamps[0]+'.pickle')"
   ]
  },
  {
   "cell_type": "code",
   "execution_count": 174,
   "metadata": {},
   "outputs": [],
   "source": [
    "#Modifying X per our step 4 of dimension reduction.\n",
    "X_validation.drop(drop_lis,axis=1,inplace = True)\n",
    "X_validation = X_validation.drop(['join_date','last_exp_date','last_logged','last_trans_date'],axis=1) #removing date variable\n",
    "X_validation.drop(['tot_paid', 'ct_pmt', 'ct_pln_ovr30', 'plan_list_price_max', 'plan_list_price_min', \n",
    "                   'plan_list_price_mean', 'plan_list_price_std', 'actual_amount_paid_max', 'actual_amount_paid_min', \n",
    "                   'actual_amount_paid_mean', 'actual_amount_paid_std', 'actual_amount_paid_cnt', 'auto_renew_cnt', \n",
    "                   'last_plan_price', 'last_paid', 'days_since_reg', 'sum_75', \n",
    "                   'min_seconds', 'std_seconds','sum_985'],axis=1,inplace = True)\n"
   ]
  },
  {
   "cell_type": "code",
   "execution_count": 176,
   "metadata": {},
   "outputs": [
    {
     "data": {
      "text/html": [
       "<div>\n",
       "<style scoped>\n",
       "    .dataframe tbody tr th:only-of-type {\n",
       "        vertical-align: middle;\n",
       "    }\n",
       "\n",
       "    .dataframe tbody tr th {\n",
       "        vertical-align: top;\n",
       "    }\n",
       "\n",
       "    .dataframe thead th {\n",
       "        text-align: right;\n",
       "    }\n",
       "</style>\n",
       "<table border=\"1\" class=\"dataframe\">\n",
       "  <thead>\n",
       "    <tr style=\"text-align: right;\">\n",
       "      <th></th>\n",
       "      <th>days</th>\n",
       "      <th>cnt_trans</th>\n",
       "      <th>tot_price</th>\n",
       "      <th>can_ratio</th>\n",
       "      <th>plandays_mean</th>\n",
       "      <th>last_pmt_mtd</th>\n",
       "      <th>last_pln_days</th>\n",
       "      <th>days_first_last_trans</th>\n",
       "      <th>days_before_churn</th>\n",
       "      <th>days_since_last_log</th>\n",
       "      <th>...</th>\n",
       "      <th>mean_75</th>\n",
       "      <th>mean_unq</th>\n",
       "      <th>mean_seconds</th>\n",
       "      <th>max_seconds</th>\n",
       "      <th>min_75</th>\n",
       "      <th>std_50</th>\n",
       "      <th>std_unq</th>\n",
       "      <th>days_last_10</th>\n",
       "      <th>secs_last_30</th>\n",
       "      <th>secs_last_10</th>\n",
       "    </tr>\n",
       "    <tr>\n",
       "      <th>msno</th>\n",
       "      <th></th>\n",
       "      <th></th>\n",
       "      <th></th>\n",
       "      <th></th>\n",
       "      <th></th>\n",
       "      <th></th>\n",
       "      <th></th>\n",
       "      <th></th>\n",
       "      <th></th>\n",
       "      <th></th>\n",
       "      <th></th>\n",
       "      <th></th>\n",
       "      <th></th>\n",
       "      <th></th>\n",
       "      <th></th>\n",
       "      <th></th>\n",
       "      <th></th>\n",
       "      <th></th>\n",
       "      <th></th>\n",
       "      <th></th>\n",
       "      <th></th>\n",
       "    </tr>\n",
       "  </thead>\n",
       "  <tbody>\n",
       "    <tr>\n",
       "      <th>+++IZseRRiQS9aaSkH6cMYU6bGDcxUieAi/tH67sC5s=</th>\n",
       "      <td>410.0</td>\n",
       "      <td>1</td>\n",
       "      <td>1788</td>\n",
       "      <td>0.000000</td>\n",
       "      <td>410.000000</td>\n",
       "      <td>38</td>\n",
       "      <td>410</td>\n",
       "      <td>1062.0</td>\n",
       "      <td>7</td>\n",
       "      <td>1.0</td>\n",
       "      <td>...</td>\n",
       "      <td>0.329268</td>\n",
       "      <td>83.461672</td>\n",
       "      <td>22923.781003</td>\n",
       "      <td>40703.487</td>\n",
       "      <td>0.0</td>\n",
       "      <td>0.723306</td>\n",
       "      <td>48.883568</td>\n",
       "      <td>8.0</td>\n",
       "      <td>280232.411</td>\n",
       "      <td>22222.691</td>\n",
       "    </tr>\n",
       "    <tr>\n",
       "      <th>++7jYuHyUSp41PyuttFx/MCepv7TdFQULgN8TxZULZk=</th>\n",
       "      <td>707.0</td>\n",
       "      <td>25</td>\n",
       "      <td>3725</td>\n",
       "      <td>0.040000</td>\n",
       "      <td>30.160000</td>\n",
       "      <td>40</td>\n",
       "      <td>30</td>\n",
       "      <td>4174.0</td>\n",
       "      <td>19</td>\n",
       "      <td>212.0</td>\n",
       "      <td>...</td>\n",
       "      <td>0.448087</td>\n",
       "      <td>12.295082</td>\n",
       "      <td>2515.615770</td>\n",
       "      <td>13455.131</td>\n",
       "      <td>0.0</td>\n",
       "      <td>0.927990</td>\n",
       "      <td>12.501882</td>\n",
       "      <td>0.0</td>\n",
       "      <td>0.000</td>\n",
       "      <td>0.000</td>\n",
       "    </tr>\n",
       "    <tr>\n",
       "      <th>++92FghbCQPqDmQ96QzNiuEMoDxrMOmuaisu1UCrYn0=</th>\n",
       "      <td>361.0</td>\n",
       "      <td>14</td>\n",
       "      <td>2086</td>\n",
       "      <td>0.071429</td>\n",
       "      <td>30.000000</td>\n",
       "      <td>23</td>\n",
       "      <td>30</td>\n",
       "      <td>361.0</td>\n",
       "      <td>17</td>\n",
       "      <td>6.0</td>\n",
       "      <td>...</td>\n",
       "      <td>0.442446</td>\n",
       "      <td>37.949640</td>\n",
       "      <td>9633.020989</td>\n",
       "      <td>34819.487</td>\n",
       "      <td>0.0</td>\n",
       "      <td>0.873777</td>\n",
       "      <td>28.242969</td>\n",
       "      <td>1.0</td>\n",
       "      <td>74604.244</td>\n",
       "      <td>179.583</td>\n",
       "    </tr>\n",
       "    <tr>\n",
       "      <th>++9l7+WGOZ96gNp0TDXxHAydOlXYE0CiuqWFTxA6zZI=</th>\n",
       "      <td>410.0</td>\n",
       "      <td>1</td>\n",
       "      <td>1788</td>\n",
       "      <td>0.000000</td>\n",
       "      <td>410.000000</td>\n",
       "      <td>38</td>\n",
       "      <td>410</td>\n",
       "      <td>1585.0</td>\n",
       "      <td>8</td>\n",
       "      <td>6.0</td>\n",
       "      <td>...</td>\n",
       "      <td>0.725397</td>\n",
       "      <td>20.928571</td>\n",
       "      <td>5224.533425</td>\n",
       "      <td>32478.586</td>\n",
       "      <td>0.0</td>\n",
       "      <td>2.027195</td>\n",
       "      <td>20.339245</td>\n",
       "      <td>1.0</td>\n",
       "      <td>35585.641</td>\n",
       "      <td>307.165</td>\n",
       "    </tr>\n",
       "    <tr>\n",
       "      <th>++AH7m/EQ4iKe6wSlfO/xXAJx50p+fCeTyF90GoE9Pg=</th>\n",
       "      <td>210.0</td>\n",
       "      <td>7</td>\n",
       "      <td>1043</td>\n",
       "      <td>0.000000</td>\n",
       "      <td>30.000000</td>\n",
       "      <td>38</td>\n",
       "      <td>30</td>\n",
       "      <td>378.0</td>\n",
       "      <td>4</td>\n",
       "      <td>29.0</td>\n",
       "      <td>...</td>\n",
       "      <td>0.470588</td>\n",
       "      <td>15.858824</td>\n",
       "      <td>2474.943494</td>\n",
       "      <td>12728.417</td>\n",
       "      <td>0.0</td>\n",
       "      <td>1.118097</td>\n",
       "      <td>14.459428</td>\n",
       "      <td>0.0</td>\n",
       "      <td>2716.087</td>\n",
       "      <td>0.000</td>\n",
       "    </tr>\n",
       "    <tr>\n",
       "      <th>++CzVs35NSfU/gjDrGbWLVMweubEiMZsuvd3eTbXs58=</th>\n",
       "      <td>485.0</td>\n",
       "      <td>18</td>\n",
       "      <td>2632</td>\n",
       "      <td>0.055556</td>\n",
       "      <td>30.000000</td>\n",
       "      <td>41</td>\n",
       "      <td>30</td>\n",
       "      <td>485.0</td>\n",
       "      <td>14</td>\n",
       "      <td>1.0</td>\n",
       "      <td>...</td>\n",
       "      <td>1.103982</td>\n",
       "      <td>7.371681</td>\n",
       "      <td>6383.988836</td>\n",
       "      <td>28470.869</td>\n",
       "      <td>0.0</td>\n",
       "      <td>1.977425</td>\n",
       "      <td>10.982304</td>\n",
       "      <td>6.0</td>\n",
       "      <td>102569.712</td>\n",
       "      <td>26174.635</td>\n",
       "    </tr>\n",
       "    <tr>\n",
       "      <th>++EX7OEtJz+hvd7VXRkcZINs+guDwpHq7ahe/o99E1o=</th>\n",
       "      <td>207.0</td>\n",
       "      <td>7</td>\n",
       "      <td>1043</td>\n",
       "      <td>0.000000</td>\n",
       "      <td>30.000000</td>\n",
       "      <td>37</td>\n",
       "      <td>30</td>\n",
       "      <td>202.0</td>\n",
       "      <td>30</td>\n",
       "      <td>1.0</td>\n",
       "      <td>...</td>\n",
       "      <td>1.136364</td>\n",
       "      <td>29.827273</td>\n",
       "      <td>7371.648345</td>\n",
       "      <td>42037.806</td>\n",
       "      <td>0.0</td>\n",
       "      <td>2.298493</td>\n",
       "      <td>27.900498</td>\n",
       "      <td>3.0</td>\n",
       "      <td>44695.873</td>\n",
       "      <td>10787.381</td>\n",
       "    </tr>\n",
       "    <tr>\n",
       "      <th>++FNH/2Fg+6/Q+61X5t3PTVvNsFC699bnEVaVN6HT+o=</th>\n",
       "      <td>157.0</td>\n",
       "      <td>6</td>\n",
       "      <td>596</td>\n",
       "      <td>0.000000</td>\n",
       "      <td>21.166667</td>\n",
       "      <td>38</td>\n",
       "      <td>7</td>\n",
       "      <td>4159.0</td>\n",
       "      <td>6</td>\n",
       "      <td>27.0</td>\n",
       "      <td>...</td>\n",
       "      <td>0.750000</td>\n",
       "      <td>9.968750</td>\n",
       "      <td>1998.116250</td>\n",
       "      <td>6510.618</td>\n",
       "      <td>0.0</td>\n",
       "      <td>1.635974</td>\n",
       "      <td>8.767552</td>\n",
       "      <td>0.0</td>\n",
       "      <td>5382.804</td>\n",
       "      <td>0.000</td>\n",
       "    </tr>\n",
       "    <tr>\n",
       "      <th>++L3Kr4/CtPSdU9BrsaX/E9ziEKoD9yK5vwk8DVXmHo=</th>\n",
       "      <td>552.0</td>\n",
       "      <td>20</td>\n",
       "      <td>2086</td>\n",
       "      <td>0.050000</td>\n",
       "      <td>21.000000</td>\n",
       "      <td>38</td>\n",
       "      <td>30</td>\n",
       "      <td>1858.0</td>\n",
       "      <td>13</td>\n",
       "      <td>18.0</td>\n",
       "      <td>...</td>\n",
       "      <td>0.784211</td>\n",
       "      <td>51.594737</td>\n",
       "      <td>14103.732151</td>\n",
       "      <td>63790.189</td>\n",
       "      <td>0.0</td>\n",
       "      <td>2.062195</td>\n",
       "      <td>46.474389</td>\n",
       "      <td>0.0</td>\n",
       "      <td>160227.013</td>\n",
       "      <td>0.000</td>\n",
       "    </tr>\n",
       "    <tr>\n",
       "      <th>++UEvwqAY2F9VpiLLHeicRU4D6FzbSDiaDrFkPrhqq8=</th>\n",
       "      <td>360.0</td>\n",
       "      <td>1</td>\n",
       "      <td>1200</td>\n",
       "      <td>0.000000</td>\n",
       "      <td>360.000000</td>\n",
       "      <td>38</td>\n",
       "      <td>360</td>\n",
       "      <td>1893.0</td>\n",
       "      <td>5</td>\n",
       "      <td>26.0</td>\n",
       "      <td>...</td>\n",
       "      <td>0.527005</td>\n",
       "      <td>18.495908</td>\n",
       "      <td>5931.539653</td>\n",
       "      <td>30041.280</td>\n",
       "      <td>0.0</td>\n",
       "      <td>1.294360</td>\n",
       "      <td>13.645076</td>\n",
       "      <td>0.0</td>\n",
       "      <td>13376.754</td>\n",
       "      <td>0.000</td>\n",
       "    </tr>\n",
       "    <tr>\n",
       "      <th>++XZCubnx3mWCWwaVKNyjfZjYZTysD8qvfPb/QMomeI=</th>\n",
       "      <td>189.0</td>\n",
       "      <td>8</td>\n",
       "      <td>1192</td>\n",
       "      <td>0.125000</td>\n",
       "      <td>30.000000</td>\n",
       "      <td>41</td>\n",
       "      <td>30</td>\n",
       "      <td>188.0</td>\n",
       "      <td>10</td>\n",
       "      <td>43.0</td>\n",
       "      <td>...</td>\n",
       "      <td>1.190476</td>\n",
       "      <td>27.571429</td>\n",
       "      <td>4642.457012</td>\n",
       "      <td>19424.315</td>\n",
       "      <td>0.0</td>\n",
       "      <td>1.990907</td>\n",
       "      <td>23.740711</td>\n",
       "      <td>0.0</td>\n",
       "      <td>0.000</td>\n",
       "      <td>0.000</td>\n",
       "    </tr>\n",
       "    <tr>\n",
       "      <th>++gnQQMGCh6MsHe+JlizEdG3SwYTXgpCpBR5WvzdR3E=</th>\n",
       "      <td>30.0</td>\n",
       "      <td>1</td>\n",
       "      <td>180</td>\n",
       "      <td>0.000000</td>\n",
       "      <td>30.000000</td>\n",
       "      <td>29</td>\n",
       "      <td>30</td>\n",
       "      <td>1224.0</td>\n",
       "      <td>5</td>\n",
       "      <td>30.0</td>\n",
       "      <td>...</td>\n",
       "      <td>0.615385</td>\n",
       "      <td>18.384615</td>\n",
       "      <td>5201.199923</td>\n",
       "      <td>22507.744</td>\n",
       "      <td>0.0</td>\n",
       "      <td>0.854850</td>\n",
       "      <td>10.743513</td>\n",
       "      <td>0.0</td>\n",
       "      <td>0.000</td>\n",
       "      <td>0.000</td>\n",
       "    </tr>\n",
       "    <tr>\n",
       "      <th>++kqM73xL/v0vqbSItFKWgtEyIkW2POP4c/SEA0WZmw=</th>\n",
       "      <td>130.0</td>\n",
       "      <td>6</td>\n",
       "      <td>894</td>\n",
       "      <td>0.166667</td>\n",
       "      <td>30.000000</td>\n",
       "      <td>41</td>\n",
       "      <td>30</td>\n",
       "      <td>130.0</td>\n",
       "      <td>26</td>\n",
       "      <td>17.0</td>\n",
       "      <td>...</td>\n",
       "      <td>1.950000</td>\n",
       "      <td>20.650000</td>\n",
       "      <td>4687.045050</td>\n",
       "      <td>9866.951</td>\n",
       "      <td>0.0</td>\n",
       "      <td>3.410124</td>\n",
       "      <td>13.291370</td>\n",
       "      <td>0.0</td>\n",
       "      <td>9684.970</td>\n",
       "      <td>0.000</td>\n",
       "    </tr>\n",
       "    <tr>\n",
       "      <th>++nIX8NDXEAJy50QAIAu3K1jw3fcHimppHXs49CjYtE=</th>\n",
       "      <td>413.0</td>\n",
       "      <td>1</td>\n",
       "      <td>1788</td>\n",
       "      <td>0.000000</td>\n",
       "      <td>410.000000</td>\n",
       "      <td>32</td>\n",
       "      <td>410</td>\n",
       "      <td>2569.0</td>\n",
       "      <td>17</td>\n",
       "      <td>13.0</td>\n",
       "      <td>...</td>\n",
       "      <td>1.570909</td>\n",
       "      <td>29.525455</td>\n",
       "      <td>4592.075525</td>\n",
       "      <td>27463.752</td>\n",
       "      <td>0.0</td>\n",
       "      <td>2.358073</td>\n",
       "      <td>21.524635</td>\n",
       "      <td>0.0</td>\n",
       "      <td>15440.864</td>\n",
       "      <td>0.000</td>\n",
       "    </tr>\n",
       "    <tr>\n",
       "      <th>++qrpDuYsU5FydcPQItV/NB1lh3JAqdZ8IZHA4+E8lM=</th>\n",
       "      <td>360.0</td>\n",
       "      <td>12</td>\n",
       "      <td>1788</td>\n",
       "      <td>0.000000</td>\n",
       "      <td>30.000000</td>\n",
       "      <td>38</td>\n",
       "      <td>30</td>\n",
       "      <td>2959.0</td>\n",
       "      <td>19</td>\n",
       "      <td>12.0</td>\n",
       "      <td>...</td>\n",
       "      <td>0.752161</td>\n",
       "      <td>39.129683</td>\n",
       "      <td>10281.363631</td>\n",
       "      <td>35142.105</td>\n",
       "      <td>0.0</td>\n",
       "      <td>1.435410</td>\n",
       "      <td>25.033802</td>\n",
       "      <td>0.0</td>\n",
       "      <td>6103.080</td>\n",
       "      <td>0.000</td>\n",
       "    </tr>\n",
       "    <tr>\n",
       "      <th>++vhh6rbHrHy+Bzh/gTITX/2AOmsw6lyYmTtuIC6vhM=</th>\n",
       "      <td>33.0</td>\n",
       "      <td>1</td>\n",
       "      <td>180</td>\n",
       "      <td>0.000000</td>\n",
       "      <td>30.000000</td>\n",
       "      <td>36</td>\n",
       "      <td>30</td>\n",
       "      <td>0.0</td>\n",
       "      <td>18</td>\n",
       "      <td>46.0</td>\n",
       "      <td>...</td>\n",
       "      <td>2.000000</td>\n",
       "      <td>2.000000</td>\n",
       "      <td>2708.758000</td>\n",
       "      <td>2708.758</td>\n",
       "      <td>2.0</td>\n",
       "      <td>0.000000</td>\n",
       "      <td>0.000000</td>\n",
       "      <td>0.0</td>\n",
       "      <td>0.000</td>\n",
       "      <td>0.000</td>\n",
       "    </tr>\n",
       "    <tr>\n",
       "      <th>+/8IMQ9wN6Q+2BNlOj2ru4AA6zPxP9rBjIJJXHNW7Mo=</th>\n",
       "      <td>653.0</td>\n",
       "      <td>6</td>\n",
       "      <td>3222</td>\n",
       "      <td>0.166667</td>\n",
       "      <td>112.500000</td>\n",
       "      <td>36</td>\n",
       "      <td>30</td>\n",
       "      <td>1479.0</td>\n",
       "      <td>26</td>\n",
       "      <td>1.0</td>\n",
       "      <td>...</td>\n",
       "      <td>1.932759</td>\n",
       "      <td>38.200000</td>\n",
       "      <td>11185.010481</td>\n",
       "      <td>44513.001</td>\n",
       "      <td>0.0</td>\n",
       "      <td>2.383899</td>\n",
       "      <td>21.260162</td>\n",
       "      <td>9.0</td>\n",
       "      <td>312267.751</td>\n",
       "      <td>100821.132</td>\n",
       "    </tr>\n",
       "    <tr>\n",
       "      <th>+/8k2xmVk+X72j7gVDrCS/b0bT0d6CVn94VGhMcm+aE=</th>\n",
       "      <td>333.0</td>\n",
       "      <td>11</td>\n",
       "      <td>1639</td>\n",
       "      <td>0.000000</td>\n",
       "      <td>30.000000</td>\n",
       "      <td>38</td>\n",
       "      <td>30</td>\n",
       "      <td>352.0</td>\n",
       "      <td>27</td>\n",
       "      <td>5.0</td>\n",
       "      <td>...</td>\n",
       "      <td>1.954887</td>\n",
       "      <td>26.992481</td>\n",
       "      <td>6130.081647</td>\n",
       "      <td>35995.658</td>\n",
       "      <td>0.0</td>\n",
       "      <td>2.680203</td>\n",
       "      <td>18.637959</td>\n",
       "      <td>4.0</td>\n",
       "      <td>150379.504</td>\n",
       "      <td>26233.420</td>\n",
       "    </tr>\n",
       "    <tr>\n",
       "      <th>+/8uc2F8rRClx76PV5v1p/UKkkkKzjjaxvp+XkwXUBM=</th>\n",
       "      <td>33.0</td>\n",
       "      <td>1</td>\n",
       "      <td>149</td>\n",
       "      <td>0.000000</td>\n",
       "      <td>30.000000</td>\n",
       "      <td>38</td>\n",
       "      <td>30</td>\n",
       "      <td>0.0</td>\n",
       "      <td>18</td>\n",
       "      <td>13.0</td>\n",
       "      <td>...</td>\n",
       "      <td>0.517241</td>\n",
       "      <td>29.586207</td>\n",
       "      <td>4832.484552</td>\n",
       "      <td>20053.188</td>\n",
       "      <td>0.0</td>\n",
       "      <td>2.006148</td>\n",
       "      <td>25.862987</td>\n",
       "      <td>0.0</td>\n",
       "      <td>80018.123</td>\n",
       "      <td>0.000</td>\n",
       "    </tr>\n",
       "    <tr>\n",
       "      <th>+/Bv1epPwQdmViNBHMX01X/cQvgmbsmDLOfCrc0S634=</th>\n",
       "      <td>720.0</td>\n",
       "      <td>2</td>\n",
       "      <td>2400</td>\n",
       "      <td>0.000000</td>\n",
       "      <td>360.000000</td>\n",
       "      <td>38</td>\n",
       "      <td>360</td>\n",
       "      <td>368.0</td>\n",
       "      <td>26</td>\n",
       "      <td>1.0</td>\n",
       "      <td>...</td>\n",
       "      <td>0.340729</td>\n",
       "      <td>18.839937</td>\n",
       "      <td>4743.208385</td>\n",
       "      <td>34187.784</td>\n",
       "      <td>0.0</td>\n",
       "      <td>1.235170</td>\n",
       "      <td>15.491156</td>\n",
       "      <td>9.0</td>\n",
       "      <td>251625.142</td>\n",
       "      <td>86060.152</td>\n",
       "    </tr>\n",
       "    <tr>\n",
       "      <th>+/DQ9k4q5OILaGStUikBYTAygaNzqmDaLyf8F8WNwvI=</th>\n",
       "      <td>413.0</td>\n",
       "      <td>1</td>\n",
       "      <td>1788</td>\n",
       "      <td>0.000000</td>\n",
       "      <td>410.000000</td>\n",
       "      <td>32</td>\n",
       "      <td>410</td>\n",
       "      <td>2790.0</td>\n",
       "      <td>13</td>\n",
       "      <td>1.0</td>\n",
       "      <td>...</td>\n",
       "      <td>0.395911</td>\n",
       "      <td>17.230483</td>\n",
       "      <td>3738.543318</td>\n",
       "      <td>28300.816</td>\n",
       "      <td>0.0</td>\n",
       "      <td>0.935674</td>\n",
       "      <td>15.805464</td>\n",
       "      <td>7.0</td>\n",
       "      <td>103982.918</td>\n",
       "      <td>27881.059</td>\n",
       "    </tr>\n",
       "    <tr>\n",
       "      <th>+/O3dzwjUUioIhWcn+4bnYL73Kf64x3AYlQsIFvB2uo=</th>\n",
       "      <td>366.0</td>\n",
       "      <td>14</td>\n",
       "      <td>1386</td>\n",
       "      <td>0.071429</td>\n",
       "      <td>30.000000</td>\n",
       "      <td>41</td>\n",
       "      <td>30</td>\n",
       "      <td>1130.0</td>\n",
       "      <td>7</td>\n",
       "      <td>39.0</td>\n",
       "      <td>...</td>\n",
       "      <td>0.950000</td>\n",
       "      <td>14.600000</td>\n",
       "      <td>2477.417550</td>\n",
       "      <td>6299.923</td>\n",
       "      <td>0.0</td>\n",
       "      <td>1.465390</td>\n",
       "      <td>9.349360</td>\n",
       "      <td>0.0</td>\n",
       "      <td>0.000</td>\n",
       "      <td>0.000</td>\n",
       "    </tr>\n",
       "    <tr>\n",
       "      <th>+/PEIuxkdjxuwJ5QHXMWEXjor1bvy/OjGZ/n7KAqHZM=</th>\n",
       "      <td>413.0</td>\n",
       "      <td>1</td>\n",
       "      <td>1788</td>\n",
       "      <td>0.000000</td>\n",
       "      <td>410.000000</td>\n",
       "      <td>22</td>\n",
       "      <td>410</td>\n",
       "      <td>1277.0</td>\n",
       "      <td>25</td>\n",
       "      <td>8.0</td>\n",
       "      <td>...</td>\n",
       "      <td>0.907643</td>\n",
       "      <td>20.796178</td>\n",
       "      <td>5994.265318</td>\n",
       "      <td>30126.160</td>\n",
       "      <td>0.0</td>\n",
       "      <td>1.944136</td>\n",
       "      <td>21.927047</td>\n",
       "      <td>2.0</td>\n",
       "      <td>82851.838</td>\n",
       "      <td>4937.544</td>\n",
       "    </tr>\n",
       "    <tr>\n",
       "      <th>+/QKW9GL3XqvbmXA25kCBflbLaSF5hfKRw6tFDNAMBk=</th>\n",
       "      <td>732.0</td>\n",
       "      <td>25</td>\n",
       "      <td>3576</td>\n",
       "      <td>0.040000</td>\n",
       "      <td>28.960000</td>\n",
       "      <td>37</td>\n",
       "      <td>30</td>\n",
       "      <td>2413.0</td>\n",
       "      <td>10</td>\n",
       "      <td>24.0</td>\n",
       "      <td>...</td>\n",
       "      <td>0.409302</td>\n",
       "      <td>18.297674</td>\n",
       "      <td>5925.882349</td>\n",
       "      <td>37875.190</td>\n",
       "      <td>0.0</td>\n",
       "      <td>1.182863</td>\n",
       "      <td>19.330875</td>\n",
       "      <td>0.0</td>\n",
       "      <td>28041.940</td>\n",
       "      <td>0.000</td>\n",
       "    </tr>\n",
       "    <tr>\n",
       "      <th>+/SKX44s4ryWQzYzuV7ZKMXqIKQMN1cPz3M8CJ8CFKU=</th>\n",
       "      <td>451.0</td>\n",
       "      <td>5</td>\n",
       "      <td>2086</td>\n",
       "      <td>0.000000</td>\n",
       "      <td>91.400000</td>\n",
       "      <td>38</td>\n",
       "      <td>30</td>\n",
       "      <td>1832.0</td>\n",
       "      <td>25</td>\n",
       "      <td>1.0</td>\n",
       "      <td>...</td>\n",
       "      <td>0.649733</td>\n",
       "      <td>16.016043</td>\n",
       "      <td>4773.745489</td>\n",
       "      <td>30807.063</td>\n",
       "      <td>0.0</td>\n",
       "      <td>1.788321</td>\n",
       "      <td>16.091720</td>\n",
       "      <td>8.0</td>\n",
       "      <td>104402.066</td>\n",
       "      <td>18942.106</td>\n",
       "    </tr>\n",
       "    <tr>\n",
       "      <th>+/fgnlIBsam28jzy77ioX9ImT4iHHEPlQCCrQdl53j8=</th>\n",
       "      <td>413.0</td>\n",
       "      <td>14</td>\n",
       "      <td>2086</td>\n",
       "      <td>0.000000</td>\n",
       "      <td>30.000000</td>\n",
       "      <td>40</td>\n",
       "      <td>30</td>\n",
       "      <td>2275.0</td>\n",
       "      <td>30</td>\n",
       "      <td>124.0</td>\n",
       "      <td>...</td>\n",
       "      <td>0.631579</td>\n",
       "      <td>15.052632</td>\n",
       "      <td>3515.418158</td>\n",
       "      <td>34395.755</td>\n",
       "      <td>0.0</td>\n",
       "      <td>1.056863</td>\n",
       "      <td>29.016229</td>\n",
       "      <td>0.0</td>\n",
       "      <td>0.000</td>\n",
       "      <td>0.000</td>\n",
       "    </tr>\n",
       "    <tr>\n",
       "      <th>+/qOfNQatXZ8g/V3dZzTGAEKcXfStrU36ASanNZ1rW4=</th>\n",
       "      <td>365.0</td>\n",
       "      <td>13</td>\n",
       "      <td>1287</td>\n",
       "      <td>0.076923</td>\n",
       "      <td>30.000000</td>\n",
       "      <td>41</td>\n",
       "      <td>30</td>\n",
       "      <td>365.0</td>\n",
       "      <td>25</td>\n",
       "      <td>3.0</td>\n",
       "      <td>...</td>\n",
       "      <td>0.914980</td>\n",
       "      <td>14.429150</td>\n",
       "      <td>3950.127984</td>\n",
       "      <td>21004.052</td>\n",
       "      <td>0.0</td>\n",
       "      <td>1.639852</td>\n",
       "      <td>12.616693</td>\n",
       "      <td>4.0</td>\n",
       "      <td>53164.486</td>\n",
       "      <td>17696.669</td>\n",
       "    </tr>\n",
       "    <tr>\n",
       "      <th>+/rpfe9Rc1cCt2TPBnhdfL5vPy+9iYaEHBD6mA0lo5Q=</th>\n",
       "      <td>3.0</td>\n",
       "      <td>1</td>\n",
       "      <td>149</td>\n",
       "      <td>0.000000</td>\n",
       "      <td>30.000000</td>\n",
       "      <td>40</td>\n",
       "      <td>30</td>\n",
       "      <td>0.0</td>\n",
       "      <td>15</td>\n",
       "      <td>3.0</td>\n",
       "      <td>...</td>\n",
       "      <td>0.555556</td>\n",
       "      <td>19.444444</td>\n",
       "      <td>5696.301778</td>\n",
       "      <td>10265.619</td>\n",
       "      <td>0.0</td>\n",
       "      <td>0.707107</td>\n",
       "      <td>17.678455</td>\n",
       "      <td>3.0</td>\n",
       "      <td>51266.716</td>\n",
       "      <td>17850.118</td>\n",
       "    </tr>\n",
       "    <tr>\n",
       "      <th>+/trjV54MKwcuhk/C6P0OSeEX7hDfLpXme/6EDOny6A=</th>\n",
       "      <td>300.0</td>\n",
       "      <td>10</td>\n",
       "      <td>1500</td>\n",
       "      <td>0.000000</td>\n",
       "      <td>30.000000</td>\n",
       "      <td>28</td>\n",
       "      <td>30</td>\n",
       "      <td>1816.0</td>\n",
       "      <td>6</td>\n",
       "      <td>25.0</td>\n",
       "      <td>...</td>\n",
       "      <td>0.016129</td>\n",
       "      <td>4.858065</td>\n",
       "      <td>16082.145626</td>\n",
       "      <td>35927.160</td>\n",
       "      <td>0.0</td>\n",
       "      <td>0.179431</td>\n",
       "      <td>3.787971</td>\n",
       "      <td>0.0</td>\n",
       "      <td>59533.190</td>\n",
       "      <td>0.000</td>\n",
       "    </tr>\n",
       "    <tr>\n",
       "      <th>+/wv1oWitlfJxcceK7Fv+RCcxVYssocGa6WZon+3Q08=</th>\n",
       "      <td>7.0</td>\n",
       "      <td>1</td>\n",
       "      <td>0</td>\n",
       "      <td>0.000000</td>\n",
       "      <td>7.000000</td>\n",
       "      <td>38</td>\n",
       "      <td>7</td>\n",
       "      <td>0.0</td>\n",
       "      <td>4</td>\n",
       "      <td>17.0</td>\n",
       "      <td>...</td>\n",
       "      <td>1.000000</td>\n",
       "      <td>8.000000</td>\n",
       "      <td>1585.982000</td>\n",
       "      <td>3563.288</td>\n",
       "      <td>1.0</td>\n",
       "      <td>1.154701</td>\n",
       "      <td>6.244998</td>\n",
       "      <td>0.0</td>\n",
       "      <td>4757.946</td>\n",
       "      <td>0.000</td>\n",
       "    </tr>\n",
       "    <tr>\n",
       "      <th>...</th>\n",
       "      <td>...</td>\n",
       "      <td>...</td>\n",
       "      <td>...</td>\n",
       "      <td>...</td>\n",
       "      <td>...</td>\n",
       "      <td>...</td>\n",
       "      <td>...</td>\n",
       "      <td>...</td>\n",
       "      <td>...</td>\n",
       "      <td>...</td>\n",
       "      <td>...</td>\n",
       "      <td>...</td>\n",
       "      <td>...</td>\n",
       "      <td>...</td>\n",
       "      <td>...</td>\n",
       "      <td>...</td>\n",
       "      <td>...</td>\n",
       "      <td>...</td>\n",
       "      <td>...</td>\n",
       "      <td>...</td>\n",
       "      <td>...</td>\n",
       "    </tr>\n",
       "    <tr>\n",
       "      <th>zyOkSHibPHKZ3ZuncITFw2LncfawRK57zXpCmc2YXlk=</th>\n",
       "      <td>7.0</td>\n",
       "      <td>1</td>\n",
       "      <td>0</td>\n",
       "      <td>0.000000</td>\n",
       "      <td>7.000000</td>\n",
       "      <td>38</td>\n",
       "      <td>7</td>\n",
       "      <td>505.0</td>\n",
       "      <td>9</td>\n",
       "      <td>23.0</td>\n",
       "      <td>...</td>\n",
       "      <td>2.750000</td>\n",
       "      <td>31.375000</td>\n",
       "      <td>5120.261875</td>\n",
       "      <td>10731.061</td>\n",
       "      <td>0.0</td>\n",
       "      <td>1.581139</td>\n",
       "      <td>16.017290</td>\n",
       "      <td>0.0</td>\n",
       "      <td>30328.341</td>\n",
       "      <td>0.000</td>\n",
       "    </tr>\n",
       "    <tr>\n",
       "      <th>zyXnciAjDM/CyKbvtWHGgGJzeABct6aQSb5gsNXeuQw=</th>\n",
       "      <td>653.0</td>\n",
       "      <td>9</td>\n",
       "      <td>2980</td>\n",
       "      <td>0.000000</td>\n",
       "      <td>72.222222</td>\n",
       "      <td>32</td>\n",
       "      <td>410</td>\n",
       "      <td>690.0</td>\n",
       "      <td>22</td>\n",
       "      <td>1.0</td>\n",
       "      <td>...</td>\n",
       "      <td>0.759292</td>\n",
       "      <td>24.828319</td>\n",
       "      <td>5991.322717</td>\n",
       "      <td>25420.115</td>\n",
       "      <td>0.0</td>\n",
       "      <td>1.431011</td>\n",
       "      <td>20.587486</td>\n",
       "      <td>7.0</td>\n",
       "      <td>123643.219</td>\n",
       "      <td>18745.549</td>\n",
       "    </tr>\n",
       "    <tr>\n",
       "      <th>zyaJH54xH+bD6PQTVHBwTyP6ZnQaPN54KFZs0QOC5Wo=</th>\n",
       "      <td>353.0</td>\n",
       "      <td>14</td>\n",
       "      <td>2086</td>\n",
       "      <td>0.142857</td>\n",
       "      <td>30.000000</td>\n",
       "      <td>37</td>\n",
       "      <td>30</td>\n",
       "      <td>588.0</td>\n",
       "      <td>3</td>\n",
       "      <td>32.0</td>\n",
       "      <td>...</td>\n",
       "      <td>0.617647</td>\n",
       "      <td>73.873950</td>\n",
       "      <td>22382.963113</td>\n",
       "      <td>44454.317</td>\n",
       "      <td>0.0</td>\n",
       "      <td>0.996688</td>\n",
       "      <td>43.445888</td>\n",
       "      <td>0.0</td>\n",
       "      <td>0.000</td>\n",
       "      <td>0.000</td>\n",
       "    </tr>\n",
       "    <tr>\n",
       "      <th>zybtZntpXFNZT1JD6Izm2Obf6aQv1Z3jydIO0EVR/wg=</th>\n",
       "      <td>157.0</td>\n",
       "      <td>6</td>\n",
       "      <td>745</td>\n",
       "      <td>0.000000</td>\n",
       "      <td>26.166667</td>\n",
       "      <td>38</td>\n",
       "      <td>30</td>\n",
       "      <td>1072.0</td>\n",
       "      <td>21</td>\n",
       "      <td>7.0</td>\n",
       "      <td>...</td>\n",
       "      <td>0.951389</td>\n",
       "      <td>22.034722</td>\n",
       "      <td>4744.179347</td>\n",
       "      <td>18179.138</td>\n",
       "      <td>0.0</td>\n",
       "      <td>2.098939</td>\n",
       "      <td>17.695329</td>\n",
       "      <td>1.0</td>\n",
       "      <td>97426.673</td>\n",
       "      <td>487.246</td>\n",
       "    </tr>\n",
       "    <tr>\n",
       "      <th>zydSiP1e4h2j12FV7TjNiWaMV4lf7xxholm+RQOWGU0=</th>\n",
       "      <td>354.0</td>\n",
       "      <td>13</td>\n",
       "      <td>1937</td>\n",
       "      <td>0.076923</td>\n",
       "      <td>30.000000</td>\n",
       "      <td>40</td>\n",
       "      <td>30</td>\n",
       "      <td>922.0</td>\n",
       "      <td>10</td>\n",
       "      <td>26.0</td>\n",
       "      <td>...</td>\n",
       "      <td>0.574074</td>\n",
       "      <td>27.870370</td>\n",
       "      <td>4271.937231</td>\n",
       "      <td>26705.852</td>\n",
       "      <td>0.0</td>\n",
       "      <td>1.319601</td>\n",
       "      <td>24.030002</td>\n",
       "      <td>0.0</td>\n",
       "      <td>4.679</td>\n",
       "      <td>0.000</td>\n",
       "    </tr>\n",
       "    <tr>\n",
       "      <th>zydu2fTZRnHOX7E8mfds+XT1kqBBAxmqhM7JEbZSVpM=</th>\n",
       "      <td>729.0</td>\n",
       "      <td>3</td>\n",
       "      <td>2549</td>\n",
       "      <td>0.333333</td>\n",
       "      <td>250.333333</td>\n",
       "      <td>38</td>\n",
       "      <td>360</td>\n",
       "      <td>426.0</td>\n",
       "      <td>9</td>\n",
       "      <td>23.0</td>\n",
       "      <td>...</td>\n",
       "      <td>0.365019</td>\n",
       "      <td>9.057034</td>\n",
       "      <td>2095.381053</td>\n",
       "      <td>25114.380</td>\n",
       "      <td>0.0</td>\n",
       "      <td>1.640258</td>\n",
       "      <td>9.760519</td>\n",
       "      <td>0.0</td>\n",
       "      <td>2976.449</td>\n",
       "      <td>0.000</td>\n",
       "    </tr>\n",
       "    <tr>\n",
       "      <th>zydxZ0EpQZjIlI84tk2unDRjhR9/A3EU/IbswaR/6U0=</th>\n",
       "      <td>367.0</td>\n",
       "      <td>14</td>\n",
       "      <td>1386</td>\n",
       "      <td>0.071429</td>\n",
       "      <td>30.000000</td>\n",
       "      <td>41</td>\n",
       "      <td>30</td>\n",
       "      <td>1282.0</td>\n",
       "      <td>25</td>\n",
       "      <td>8.0</td>\n",
       "      <td>...</td>\n",
       "      <td>0.428571</td>\n",
       "      <td>20.142857</td>\n",
       "      <td>4449.359857</td>\n",
       "      <td>20205.406</td>\n",
       "      <td>0.0</td>\n",
       "      <td>2.292215</td>\n",
       "      <td>18.456029</td>\n",
       "      <td>1.0</td>\n",
       "      <td>16039.952</td>\n",
       "      <td>10308.174</td>\n",
       "    </tr>\n",
       "    <tr>\n",
       "      <th>zyg6s4KnBMee7RaRm7yfNsxYxUeAz0pkSTzGRkrEcfw=</th>\n",
       "      <td>626.0</td>\n",
       "      <td>8</td>\n",
       "      <td>1260</td>\n",
       "      <td>0.000000</td>\n",
       "      <td>26.250000</td>\n",
       "      <td>36</td>\n",
       "      <td>30</td>\n",
       "      <td>1011.0</td>\n",
       "      <td>30</td>\n",
       "      <td>1.0</td>\n",
       "      <td>...</td>\n",
       "      <td>0.678141</td>\n",
       "      <td>17.865749</td>\n",
       "      <td>3864.954473</td>\n",
       "      <td>34099.192</td>\n",
       "      <td>0.0</td>\n",
       "      <td>1.612457</td>\n",
       "      <td>15.467738</td>\n",
       "      <td>8.0</td>\n",
       "      <td>87393.928</td>\n",
       "      <td>28369.365</td>\n",
       "    </tr>\n",
       "    <tr>\n",
       "      <th>zygXADHKPDL+bVdesntcTCGE0NaWxw694KK0x3/d6GI=</th>\n",
       "      <td>569.0</td>\n",
       "      <td>17</td>\n",
       "      <td>2384</td>\n",
       "      <td>0.058824</td>\n",
       "      <td>28.411765</td>\n",
       "      <td>39</td>\n",
       "      <td>30</td>\n",
       "      <td>3196.0</td>\n",
       "      <td>0</td>\n",
       "      <td>65.0</td>\n",
       "      <td>...</td>\n",
       "      <td>0.295374</td>\n",
       "      <td>17.526690</td>\n",
       "      <td>6175.399018</td>\n",
       "      <td>33834.540</td>\n",
       "      <td>0.0</td>\n",
       "      <td>0.825311</td>\n",
       "      <td>17.817332</td>\n",
       "      <td>0.0</td>\n",
       "      <td>0.000</td>\n",
       "      <td>0.000</td>\n",
       "    </tr>\n",
       "    <tr>\n",
       "      <th>zyhHJ/BPIPxtBY/fT54qxNl/X1Y8vKG3xB+6FkfRLig=</th>\n",
       "      <td>183.0</td>\n",
       "      <td>6</td>\n",
       "      <td>894</td>\n",
       "      <td>0.000000</td>\n",
       "      <td>30.000000</td>\n",
       "      <td>38</td>\n",
       "      <td>30</td>\n",
       "      <td>188.0</td>\n",
       "      <td>30</td>\n",
       "      <td>1.0</td>\n",
       "      <td>...</td>\n",
       "      <td>0.689873</td>\n",
       "      <td>16.037975</td>\n",
       "      <td>4212.760785</td>\n",
       "      <td>18814.118</td>\n",
       "      <td>0.0</td>\n",
       "      <td>1.254147</td>\n",
       "      <td>13.699173</td>\n",
       "      <td>9.0</td>\n",
       "      <td>167809.103</td>\n",
       "      <td>30753.064</td>\n",
       "    </tr>\n",
       "    <tr>\n",
       "      <th>zyi3qFiFhiAeXXAWqj1oXgRLXXjD4/mSobwDjgsl4ZI=</th>\n",
       "      <td>358.0</td>\n",
       "      <td>13</td>\n",
       "      <td>1287</td>\n",
       "      <td>0.076923</td>\n",
       "      <td>30.000000</td>\n",
       "      <td>41</td>\n",
       "      <td>30</td>\n",
       "      <td>1466.0</td>\n",
       "      <td>5</td>\n",
       "      <td>49.0</td>\n",
       "      <td>...</td>\n",
       "      <td>0.400000</td>\n",
       "      <td>13.500000</td>\n",
       "      <td>2946.909000</td>\n",
       "      <td>9831.458</td>\n",
       "      <td>0.0</td>\n",
       "      <td>1.234376</td>\n",
       "      <td>14.598125</td>\n",
       "      <td>0.0</td>\n",
       "      <td>0.000</td>\n",
       "      <td>0.000</td>\n",
       "    </tr>\n",
       "    <tr>\n",
       "      <th>zyijXspTwW+Zo2NFWxHobO/pRaNNPKdcIY/xf7U85gY=</th>\n",
       "      <td>42.0</td>\n",
       "      <td>7</td>\n",
       "      <td>35</td>\n",
       "      <td>0.000000</td>\n",
       "      <td>8.000000</td>\n",
       "      <td>38</td>\n",
       "      <td>7</td>\n",
       "      <td>854.0</td>\n",
       "      <td>11</td>\n",
       "      <td>19.0</td>\n",
       "      <td>...</td>\n",
       "      <td>1.439024</td>\n",
       "      <td>12.292683</td>\n",
       "      <td>2635.478220</td>\n",
       "      <td>8068.546</td>\n",
       "      <td>0.0</td>\n",
       "      <td>2.109791</td>\n",
       "      <td>9.381481</td>\n",
       "      <td>0.0</td>\n",
       "      <td>13537.002</td>\n",
       "      <td>0.000</td>\n",
       "    </tr>\n",
       "    <tr>\n",
       "      <th>zyqFYkPQjsHuW5cgZyWtU/wN61ii8FShjthz7NDkfGc=</th>\n",
       "      <td>403.0</td>\n",
       "      <td>1</td>\n",
       "      <td>1599</td>\n",
       "      <td>0.000000</td>\n",
       "      <td>400.000000</td>\n",
       "      <td>32</td>\n",
       "      <td>400</td>\n",
       "      <td>1855.0</td>\n",
       "      <td>14</td>\n",
       "      <td>1.0</td>\n",
       "      <td>...</td>\n",
       "      <td>0.621377</td>\n",
       "      <td>22.938406</td>\n",
       "      <td>4702.439558</td>\n",
       "      <td>36639.518</td>\n",
       "      <td>0.0</td>\n",
       "      <td>1.809694</td>\n",
       "      <td>20.105525</td>\n",
       "      <td>9.0</td>\n",
       "      <td>187418.286</td>\n",
       "      <td>52737.196</td>\n",
       "    </tr>\n",
       "    <tr>\n",
       "      <th>zyuS+tHhDQ2WuVDZ9ZqUSa7xNMYVGDf75Dl4M/HZsss=</th>\n",
       "      <td>300.0</td>\n",
       "      <td>10</td>\n",
       "      <td>1350</td>\n",
       "      <td>0.000000</td>\n",
       "      <td>27.000000</td>\n",
       "      <td>28</td>\n",
       "      <td>30</td>\n",
       "      <td>1816.0</td>\n",
       "      <td>6</td>\n",
       "      <td>25.0</td>\n",
       "      <td>...</td>\n",
       "      <td>0.003390</td>\n",
       "      <td>4.383051</td>\n",
       "      <td>13817.253254</td>\n",
       "      <td>37109.020</td>\n",
       "      <td>0.0</td>\n",
       "      <td>0.142210</td>\n",
       "      <td>3.325696</td>\n",
       "      <td>0.0</td>\n",
       "      <td>47141.128</td>\n",
       "      <td>0.000</td>\n",
       "    </tr>\n",
       "    <tr>\n",
       "      <th>zz58DhHXMpGS0reh+g3F/m67RRSScr4B1CY7TG6CaCs=</th>\n",
       "      <td>61.0</td>\n",
       "      <td>2</td>\n",
       "      <td>298</td>\n",
       "      <td>0.000000</td>\n",
       "      <td>30.000000</td>\n",
       "      <td>38</td>\n",
       "      <td>30</td>\n",
       "      <td>40.0</td>\n",
       "      <td>24</td>\n",
       "      <td>9.0</td>\n",
       "      <td>...</td>\n",
       "      <td>0.928571</td>\n",
       "      <td>25.857143</td>\n",
       "      <td>3050.983071</td>\n",
       "      <td>7178.452</td>\n",
       "      <td>0.0</td>\n",
       "      <td>2.590939</td>\n",
       "      <td>16.937170</td>\n",
       "      <td>1.0</td>\n",
       "      <td>24312.743</td>\n",
       "      <td>5397.331</td>\n",
       "    </tr>\n",
       "    <tr>\n",
       "      <th>zz8VMFueczNuaHdEbhp/MIfy+NTdx/tHKjZ4e1l7v3g=</th>\n",
       "      <td>210.0</td>\n",
       "      <td>7</td>\n",
       "      <td>1043</td>\n",
       "      <td>0.000000</td>\n",
       "      <td>30.000000</td>\n",
       "      <td>38</td>\n",
       "      <td>30</td>\n",
       "      <td>1466.0</td>\n",
       "      <td>16</td>\n",
       "      <td>5.0</td>\n",
       "      <td>...</td>\n",
       "      <td>0.165644</td>\n",
       "      <td>21.257669</td>\n",
       "      <td>5670.831387</td>\n",
       "      <td>21985.947</td>\n",
       "      <td>0.0</td>\n",
       "      <td>0.408480</td>\n",
       "      <td>14.095612</td>\n",
       "      <td>1.0</td>\n",
       "      <td>27675.288</td>\n",
       "      <td>1404.862</td>\n",
       "    </tr>\n",
       "    <tr>\n",
       "      <th>zz9XGX1laijmxf1rthUEgBK2ZGo7aO7+d43SXdTb3bM=</th>\n",
       "      <td>30.0</td>\n",
       "      <td>1</td>\n",
       "      <td>150</td>\n",
       "      <td>0.000000</td>\n",
       "      <td>30.000000</td>\n",
       "      <td>28</td>\n",
       "      <td>30</td>\n",
       "      <td>4.0</td>\n",
       "      <td>7</td>\n",
       "      <td>0.0</td>\n",
       "      <td>...</td>\n",
       "      <td>0.000000</td>\n",
       "      <td>0.000000</td>\n",
       "      <td>0.000000</td>\n",
       "      <td>0.000</td>\n",
       "      <td>0.0</td>\n",
       "      <td>0.000000</td>\n",
       "      <td>0.000000</td>\n",
       "      <td>0.0</td>\n",
       "      <td>0.000</td>\n",
       "      <td>0.000</td>\n",
       "    </tr>\n",
       "    <tr>\n",
       "      <th>zzFOpF1SheQcQvBjPNPxqzX9Y/frqh3M2HxqMzW7x6w=</th>\n",
       "      <td>736.0</td>\n",
       "      <td>8</td>\n",
       "      <td>3387</td>\n",
       "      <td>0.125000</td>\n",
       "      <td>96.875000</td>\n",
       "      <td>32</td>\n",
       "      <td>395</td>\n",
       "      <td>1345.0</td>\n",
       "      <td>28</td>\n",
       "      <td>1.0</td>\n",
       "      <td>...</td>\n",
       "      <td>0.837088</td>\n",
       "      <td>25.374350</td>\n",
       "      <td>6699.315354</td>\n",
       "      <td>33430.891</td>\n",
       "      <td>0.0</td>\n",
       "      <td>1.653677</td>\n",
       "      <td>18.781138</td>\n",
       "      <td>6.0</td>\n",
       "      <td>103262.471</td>\n",
       "      <td>35921.798</td>\n",
       "    </tr>\n",
       "    <tr>\n",
       "      <th>zzLMW4Yx6dv1roIEOPKyPxWP4xRp5lI561EWQ1Ik34U=</th>\n",
       "      <td>67.0</td>\n",
       "      <td>3</td>\n",
       "      <td>360</td>\n",
       "      <td>0.000000</td>\n",
       "      <td>22.333333</td>\n",
       "      <td>29</td>\n",
       "      <td>30</td>\n",
       "      <td>1123.0</td>\n",
       "      <td>24</td>\n",
       "      <td>7.0</td>\n",
       "      <td>...</td>\n",
       "      <td>1.557692</td>\n",
       "      <td>17.634615</td>\n",
       "      <td>3883.022115</td>\n",
       "      <td>19586.200</td>\n",
       "      <td>0.0</td>\n",
       "      <td>2.114733</td>\n",
       "      <td>11.720652</td>\n",
       "      <td>2.0</td>\n",
       "      <td>57781.204</td>\n",
       "      <td>4358.000</td>\n",
       "    </tr>\n",
       "    <tr>\n",
       "      <th>zzQKe42lI5qaGKOge5h3fgjagcqbpfzxell6wTVcLuo=</th>\n",
       "      <td>364.0</td>\n",
       "      <td>13</td>\n",
       "      <td>1287</td>\n",
       "      <td>0.076923</td>\n",
       "      <td>30.000000</td>\n",
       "      <td>41</td>\n",
       "      <td>30</td>\n",
       "      <td>364.0</td>\n",
       "      <td>17</td>\n",
       "      <td>4.0</td>\n",
       "      <td>...</td>\n",
       "      <td>1.364198</td>\n",
       "      <td>38.024691</td>\n",
       "      <td>10429.232077</td>\n",
       "      <td>34705.046</td>\n",
       "      <td>0.0</td>\n",
       "      <td>1.642105</td>\n",
       "      <td>23.338391</td>\n",
       "      <td>1.0</td>\n",
       "      <td>90213.566</td>\n",
       "      <td>119.667</td>\n",
       "    </tr>\n",
       "    <tr>\n",
       "      <th>zzZrR2vlnXSBAqvJkadj1amu+uwSrH/wWXD6gakZg3Q=</th>\n",
       "      <td>338.0</td>\n",
       "      <td>13</td>\n",
       "      <td>2061</td>\n",
       "      <td>0.076923</td>\n",
       "      <td>30.000000</td>\n",
       "      <td>29</td>\n",
       "      <td>30</td>\n",
       "      <td>472.0</td>\n",
       "      <td>7</td>\n",
       "      <td>24.0</td>\n",
       "      <td>...</td>\n",
       "      <td>0.863813</td>\n",
       "      <td>22.132296</td>\n",
       "      <td>5802.131848</td>\n",
       "      <td>37159.514</td>\n",
       "      <td>0.0</td>\n",
       "      <td>2.076846</td>\n",
       "      <td>20.446147</td>\n",
       "      <td>0.0</td>\n",
       "      <td>5826.425</td>\n",
       "      <td>0.000</td>\n",
       "    </tr>\n",
       "    <tr>\n",
       "      <th>zzcNlpaf8592QhbksGAucn/+NqQ2g94wEKYwIzaNS2k=</th>\n",
       "      <td>360.0</td>\n",
       "      <td>12</td>\n",
       "      <td>1788</td>\n",
       "      <td>0.000000</td>\n",
       "      <td>30.000000</td>\n",
       "      <td>38</td>\n",
       "      <td>30</td>\n",
       "      <td>920.0</td>\n",
       "      <td>22</td>\n",
       "      <td>11.0</td>\n",
       "      <td>...</td>\n",
       "      <td>0.161392</td>\n",
       "      <td>29.104430</td>\n",
       "      <td>9662.595823</td>\n",
       "      <td>41592.334</td>\n",
       "      <td>0.0</td>\n",
       "      <td>0.683953</td>\n",
       "      <td>30.262846</td>\n",
       "      <td>0.0</td>\n",
       "      <td>26194.000</td>\n",
       "      <td>0.000</td>\n",
       "    </tr>\n",
       "    <tr>\n",
       "      <th>zzfLVSNNFRKvPv3nUDvtybJxXzcXed8XsTAmg69C4z0=</th>\n",
       "      <td>677.0</td>\n",
       "      <td>23</td>\n",
       "      <td>3278</td>\n",
       "      <td>0.000000</td>\n",
       "      <td>28.782609</td>\n",
       "      <td>40</td>\n",
       "      <td>30</td>\n",
       "      <td>3238.0</td>\n",
       "      <td>30</td>\n",
       "      <td>2.0</td>\n",
       "      <td>...</td>\n",
       "      <td>0.764214</td>\n",
       "      <td>24.153846</td>\n",
       "      <td>5847.137090</td>\n",
       "      <td>31039.257</td>\n",
       "      <td>0.0</td>\n",
       "      <td>2.087904</td>\n",
       "      <td>21.145181</td>\n",
       "      <td>7.0</td>\n",
       "      <td>94020.447</td>\n",
       "      <td>34602.813</td>\n",
       "    </tr>\n",
       "    <tr>\n",
       "      <th>zzjb1c2CaH101o9nBUYtP7WtZar0vW/aXf2TF2U24eg=</th>\n",
       "      <td>97.0</td>\n",
       "      <td>6</td>\n",
       "      <td>2385</td>\n",
       "      <td>0.000000</td>\n",
       "      <td>89.500000</td>\n",
       "      <td>38</td>\n",
       "      <td>30</td>\n",
       "      <td>1411.0</td>\n",
       "      <td>10</td>\n",
       "      <td>25.0</td>\n",
       "      <td>...</td>\n",
       "      <td>0.448000</td>\n",
       "      <td>16.632000</td>\n",
       "      <td>4624.175540</td>\n",
       "      <td>31475.818</td>\n",
       "      <td>0.0</td>\n",
       "      <td>1.326505</td>\n",
       "      <td>18.446944</td>\n",
       "      <td>0.0</td>\n",
       "      <td>3671.486</td>\n",
       "      <td>0.000</td>\n",
       "    </tr>\n",
       "    <tr>\n",
       "      <th>zzjfjy/mCCCZXi6rooBvJMQAnGeHKU2PGrJMDrJ3GxY=</th>\n",
       "      <td>7.0</td>\n",
       "      <td>1</td>\n",
       "      <td>0</td>\n",
       "      <td>0.000000</td>\n",
       "      <td>7.000000</td>\n",
       "      <td>38</td>\n",
       "      <td>7</td>\n",
       "      <td>0.0</td>\n",
       "      <td>8</td>\n",
       "      <td>22.0</td>\n",
       "      <td>...</td>\n",
       "      <td>1.000000</td>\n",
       "      <td>1.000000</td>\n",
       "      <td>83.380000</td>\n",
       "      <td>83.380</td>\n",
       "      <td>1.0</td>\n",
       "      <td>0.000000</td>\n",
       "      <td>0.000000</td>\n",
       "      <td>0.0</td>\n",
       "      <td>83.380</td>\n",
       "      <td>0.000</td>\n",
       "    </tr>\n",
       "    <tr>\n",
       "      <th>zzoM6ScYBmtPntmSG8sXohKb/MUYV3cA3nyY8jJBOS8=</th>\n",
       "      <td>713.0</td>\n",
       "      <td>12</td>\n",
       "      <td>3427</td>\n",
       "      <td>0.083333</td>\n",
       "      <td>62.000000</td>\n",
       "      <td>32</td>\n",
       "      <td>410</td>\n",
       "      <td>2910.0</td>\n",
       "      <td>20</td>\n",
       "      <td>11.0</td>\n",
       "      <td>...</td>\n",
       "      <td>0.280488</td>\n",
       "      <td>12.932927</td>\n",
       "      <td>3424.627390</td>\n",
       "      <td>12745.937</td>\n",
       "      <td>0.0</td>\n",
       "      <td>0.968666</td>\n",
       "      <td>11.368955</td>\n",
       "      <td>0.0</td>\n",
       "      <td>372.280</td>\n",
       "      <td>0.000</td>\n",
       "    </tr>\n",
       "    <tr>\n",
       "      <th>zzqc2ja7z10FtSpagYVcAZXg/gPRq7wcDZuNFj+zJSU=</th>\n",
       "      <td>690.0</td>\n",
       "      <td>23</td>\n",
       "      <td>3278</td>\n",
       "      <td>0.000000</td>\n",
       "      <td>28.695652</td>\n",
       "      <td>38</td>\n",
       "      <td>30</td>\n",
       "      <td>1488.0</td>\n",
       "      <td>23</td>\n",
       "      <td>1.0</td>\n",
       "      <td>...</td>\n",
       "      <td>0.459821</td>\n",
       "      <td>10.993304</td>\n",
       "      <td>2524.266614</td>\n",
       "      <td>37896.406</td>\n",
       "      <td>0.0</td>\n",
       "      <td>0.987131</td>\n",
       "      <td>11.528292</td>\n",
       "      <td>5.0</td>\n",
       "      <td>53880.192</td>\n",
       "      <td>25977.232</td>\n",
       "    </tr>\n",
       "    <tr>\n",
       "      <th>zztGcSZznx0uMBvc0fTQVTfCzeS7Ho/otO2L/4FXs/w=</th>\n",
       "      <td>420.0</td>\n",
       "      <td>14</td>\n",
       "      <td>2039</td>\n",
       "      <td>0.000000</td>\n",
       "      <td>27.857143</td>\n",
       "      <td>40</td>\n",
       "      <td>30</td>\n",
       "      <td>3494.0</td>\n",
       "      <td>30</td>\n",
       "      <td>2.0</td>\n",
       "      <td>...</td>\n",
       "      <td>0.557143</td>\n",
       "      <td>26.085714</td>\n",
       "      <td>8757.797252</td>\n",
       "      <td>38118.239</td>\n",
       "      <td>0.0</td>\n",
       "      <td>1.071429</td>\n",
       "      <td>26.606153</td>\n",
       "      <td>5.0</td>\n",
       "      <td>85911.200</td>\n",
       "      <td>22539.256</td>\n",
       "    </tr>\n",
       "    <tr>\n",
       "      <th>zzyHq6TK2+cBkeGFUHvh12Z7UxFZiSM7dOOSllSBPDw=</th>\n",
       "      <td>626.0</td>\n",
       "      <td>23</td>\n",
       "      <td>3427</td>\n",
       "      <td>0.086957</td>\n",
       "      <td>30.000000</td>\n",
       "      <td>41</td>\n",
       "      <td>30</td>\n",
       "      <td>1333.0</td>\n",
       "      <td>11</td>\n",
       "      <td>19.0</td>\n",
       "      <td>...</td>\n",
       "      <td>0.872123</td>\n",
       "      <td>44.670077</td>\n",
       "      <td>11607.535192</td>\n",
       "      <td>39061.173</td>\n",
       "      <td>0.0</td>\n",
       "      <td>1.320704</td>\n",
       "      <td>40.509146</td>\n",
       "      <td>0.0</td>\n",
       "      <td>205436.949</td>\n",
       "      <td>0.000</td>\n",
       "    </tr>\n",
       "    <tr>\n",
       "      <th>zzz4xr5LLzoxUqD6LfKiieCt8Or4dUWFQ0RA5gmkx8I=</th>\n",
       "      <td>0.0</td>\n",
       "      <td>26</td>\n",
       "      <td>3695</td>\n",
       "      <td>0.038462</td>\n",
       "      <td>28.846154</td>\n",
       "      <td>41</td>\n",
       "      <td>30</td>\n",
       "      <td>1742.0</td>\n",
       "      <td>26</td>\n",
       "      <td>1.0</td>\n",
       "      <td>...</td>\n",
       "      <td>0.490826</td>\n",
       "      <td>16.422018</td>\n",
       "      <td>3680.255858</td>\n",
       "      <td>16660.303</td>\n",
       "      <td>0.0</td>\n",
       "      <td>1.151009</td>\n",
       "      <td>14.157308</td>\n",
       "      <td>3.0</td>\n",
       "      <td>62531.466</td>\n",
       "      <td>15829.961</td>\n",
       "    </tr>\n",
       "  </tbody>\n",
       "</table>\n",
       "<p>77306 rows × 23 columns</p>\n",
       "</div>"
      ],
      "text/plain": [
       "                                               days  cnt_trans  tot_price  \\\n",
       "msno                                                                        \n",
       "+++IZseRRiQS9aaSkH6cMYU6bGDcxUieAi/tH67sC5s=  410.0          1       1788   \n",
       "++7jYuHyUSp41PyuttFx/MCepv7TdFQULgN8TxZULZk=  707.0         25       3725   \n",
       "++92FghbCQPqDmQ96QzNiuEMoDxrMOmuaisu1UCrYn0=  361.0         14       2086   \n",
       "++9l7+WGOZ96gNp0TDXxHAydOlXYE0CiuqWFTxA6zZI=  410.0          1       1788   \n",
       "++AH7m/EQ4iKe6wSlfO/xXAJx50p+fCeTyF90GoE9Pg=  210.0          7       1043   \n",
       "++CzVs35NSfU/gjDrGbWLVMweubEiMZsuvd3eTbXs58=  485.0         18       2632   \n",
       "++EX7OEtJz+hvd7VXRkcZINs+guDwpHq7ahe/o99E1o=  207.0          7       1043   \n",
       "++FNH/2Fg+6/Q+61X5t3PTVvNsFC699bnEVaVN6HT+o=  157.0          6        596   \n",
       "++L3Kr4/CtPSdU9BrsaX/E9ziEKoD9yK5vwk8DVXmHo=  552.0         20       2086   \n",
       "++UEvwqAY2F9VpiLLHeicRU4D6FzbSDiaDrFkPrhqq8=  360.0          1       1200   \n",
       "++XZCubnx3mWCWwaVKNyjfZjYZTysD8qvfPb/QMomeI=  189.0          8       1192   \n",
       "++gnQQMGCh6MsHe+JlizEdG3SwYTXgpCpBR5WvzdR3E=   30.0          1        180   \n",
       "++kqM73xL/v0vqbSItFKWgtEyIkW2POP4c/SEA0WZmw=  130.0          6        894   \n",
       "++nIX8NDXEAJy50QAIAu3K1jw3fcHimppHXs49CjYtE=  413.0          1       1788   \n",
       "++qrpDuYsU5FydcPQItV/NB1lh3JAqdZ8IZHA4+E8lM=  360.0         12       1788   \n",
       "++vhh6rbHrHy+Bzh/gTITX/2AOmsw6lyYmTtuIC6vhM=   33.0          1        180   \n",
       "+/8IMQ9wN6Q+2BNlOj2ru4AA6zPxP9rBjIJJXHNW7Mo=  653.0          6       3222   \n",
       "+/8k2xmVk+X72j7gVDrCS/b0bT0d6CVn94VGhMcm+aE=  333.0         11       1639   \n",
       "+/8uc2F8rRClx76PV5v1p/UKkkkKzjjaxvp+XkwXUBM=   33.0          1        149   \n",
       "+/Bv1epPwQdmViNBHMX01X/cQvgmbsmDLOfCrc0S634=  720.0          2       2400   \n",
       "+/DQ9k4q5OILaGStUikBYTAygaNzqmDaLyf8F8WNwvI=  413.0          1       1788   \n",
       "+/O3dzwjUUioIhWcn+4bnYL73Kf64x3AYlQsIFvB2uo=  366.0         14       1386   \n",
       "+/PEIuxkdjxuwJ5QHXMWEXjor1bvy/OjGZ/n7KAqHZM=  413.0          1       1788   \n",
       "+/QKW9GL3XqvbmXA25kCBflbLaSF5hfKRw6tFDNAMBk=  732.0         25       3576   \n",
       "+/SKX44s4ryWQzYzuV7ZKMXqIKQMN1cPz3M8CJ8CFKU=  451.0          5       2086   \n",
       "+/fgnlIBsam28jzy77ioX9ImT4iHHEPlQCCrQdl53j8=  413.0         14       2086   \n",
       "+/qOfNQatXZ8g/V3dZzTGAEKcXfStrU36ASanNZ1rW4=  365.0         13       1287   \n",
       "+/rpfe9Rc1cCt2TPBnhdfL5vPy+9iYaEHBD6mA0lo5Q=    3.0          1        149   \n",
       "+/trjV54MKwcuhk/C6P0OSeEX7hDfLpXme/6EDOny6A=  300.0         10       1500   \n",
       "+/wv1oWitlfJxcceK7Fv+RCcxVYssocGa6WZon+3Q08=    7.0          1          0   \n",
       "...                                             ...        ...        ...   \n",
       "zyOkSHibPHKZ3ZuncITFw2LncfawRK57zXpCmc2YXlk=    7.0          1          0   \n",
       "zyXnciAjDM/CyKbvtWHGgGJzeABct6aQSb5gsNXeuQw=  653.0          9       2980   \n",
       "zyaJH54xH+bD6PQTVHBwTyP6ZnQaPN54KFZs0QOC5Wo=  353.0         14       2086   \n",
       "zybtZntpXFNZT1JD6Izm2Obf6aQv1Z3jydIO0EVR/wg=  157.0          6        745   \n",
       "zydSiP1e4h2j12FV7TjNiWaMV4lf7xxholm+RQOWGU0=  354.0         13       1937   \n",
       "zydu2fTZRnHOX7E8mfds+XT1kqBBAxmqhM7JEbZSVpM=  729.0          3       2549   \n",
       "zydxZ0EpQZjIlI84tk2unDRjhR9/A3EU/IbswaR/6U0=  367.0         14       1386   \n",
       "zyg6s4KnBMee7RaRm7yfNsxYxUeAz0pkSTzGRkrEcfw=  626.0          8       1260   \n",
       "zygXADHKPDL+bVdesntcTCGE0NaWxw694KK0x3/d6GI=  569.0         17       2384   \n",
       "zyhHJ/BPIPxtBY/fT54qxNl/X1Y8vKG3xB+6FkfRLig=  183.0          6        894   \n",
       "zyi3qFiFhiAeXXAWqj1oXgRLXXjD4/mSobwDjgsl4ZI=  358.0         13       1287   \n",
       "zyijXspTwW+Zo2NFWxHobO/pRaNNPKdcIY/xf7U85gY=   42.0          7         35   \n",
       "zyqFYkPQjsHuW5cgZyWtU/wN61ii8FShjthz7NDkfGc=  403.0          1       1599   \n",
       "zyuS+tHhDQ2WuVDZ9ZqUSa7xNMYVGDf75Dl4M/HZsss=  300.0         10       1350   \n",
       "zz58DhHXMpGS0reh+g3F/m67RRSScr4B1CY7TG6CaCs=   61.0          2        298   \n",
       "zz8VMFueczNuaHdEbhp/MIfy+NTdx/tHKjZ4e1l7v3g=  210.0          7       1043   \n",
       "zz9XGX1laijmxf1rthUEgBK2ZGo7aO7+d43SXdTb3bM=   30.0          1        150   \n",
       "zzFOpF1SheQcQvBjPNPxqzX9Y/frqh3M2HxqMzW7x6w=  736.0          8       3387   \n",
       "zzLMW4Yx6dv1roIEOPKyPxWP4xRp5lI561EWQ1Ik34U=   67.0          3        360   \n",
       "zzQKe42lI5qaGKOge5h3fgjagcqbpfzxell6wTVcLuo=  364.0         13       1287   \n",
       "zzZrR2vlnXSBAqvJkadj1amu+uwSrH/wWXD6gakZg3Q=  338.0         13       2061   \n",
       "zzcNlpaf8592QhbksGAucn/+NqQ2g94wEKYwIzaNS2k=  360.0         12       1788   \n",
       "zzfLVSNNFRKvPv3nUDvtybJxXzcXed8XsTAmg69C4z0=  677.0         23       3278   \n",
       "zzjb1c2CaH101o9nBUYtP7WtZar0vW/aXf2TF2U24eg=   97.0          6       2385   \n",
       "zzjfjy/mCCCZXi6rooBvJMQAnGeHKU2PGrJMDrJ3GxY=    7.0          1          0   \n",
       "zzoM6ScYBmtPntmSG8sXohKb/MUYV3cA3nyY8jJBOS8=  713.0         12       3427   \n",
       "zzqc2ja7z10FtSpagYVcAZXg/gPRq7wcDZuNFj+zJSU=  690.0         23       3278   \n",
       "zztGcSZznx0uMBvc0fTQVTfCzeS7Ho/otO2L/4FXs/w=  420.0         14       2039   \n",
       "zzyHq6TK2+cBkeGFUHvh12Z7UxFZiSM7dOOSllSBPDw=  626.0         23       3427   \n",
       "zzz4xr5LLzoxUqD6LfKiieCt8Or4dUWFQ0RA5gmkx8I=    0.0         26       3695   \n",
       "\n",
       "                                              can_ratio  plandays_mean  \\\n",
       "msno                                                                     \n",
       "+++IZseRRiQS9aaSkH6cMYU6bGDcxUieAi/tH67sC5s=   0.000000     410.000000   \n",
       "++7jYuHyUSp41PyuttFx/MCepv7TdFQULgN8TxZULZk=   0.040000      30.160000   \n",
       "++92FghbCQPqDmQ96QzNiuEMoDxrMOmuaisu1UCrYn0=   0.071429      30.000000   \n",
       "++9l7+WGOZ96gNp0TDXxHAydOlXYE0CiuqWFTxA6zZI=   0.000000     410.000000   \n",
       "++AH7m/EQ4iKe6wSlfO/xXAJx50p+fCeTyF90GoE9Pg=   0.000000      30.000000   \n",
       "++CzVs35NSfU/gjDrGbWLVMweubEiMZsuvd3eTbXs58=   0.055556      30.000000   \n",
       "++EX7OEtJz+hvd7VXRkcZINs+guDwpHq7ahe/o99E1o=   0.000000      30.000000   \n",
       "++FNH/2Fg+6/Q+61X5t3PTVvNsFC699bnEVaVN6HT+o=   0.000000      21.166667   \n",
       "++L3Kr4/CtPSdU9BrsaX/E9ziEKoD9yK5vwk8DVXmHo=   0.050000      21.000000   \n",
       "++UEvwqAY2F9VpiLLHeicRU4D6FzbSDiaDrFkPrhqq8=   0.000000     360.000000   \n",
       "++XZCubnx3mWCWwaVKNyjfZjYZTysD8qvfPb/QMomeI=   0.125000      30.000000   \n",
       "++gnQQMGCh6MsHe+JlizEdG3SwYTXgpCpBR5WvzdR3E=   0.000000      30.000000   \n",
       "++kqM73xL/v0vqbSItFKWgtEyIkW2POP4c/SEA0WZmw=   0.166667      30.000000   \n",
       "++nIX8NDXEAJy50QAIAu3K1jw3fcHimppHXs49CjYtE=   0.000000     410.000000   \n",
       "++qrpDuYsU5FydcPQItV/NB1lh3JAqdZ8IZHA4+E8lM=   0.000000      30.000000   \n",
       "++vhh6rbHrHy+Bzh/gTITX/2AOmsw6lyYmTtuIC6vhM=   0.000000      30.000000   \n",
       "+/8IMQ9wN6Q+2BNlOj2ru4AA6zPxP9rBjIJJXHNW7Mo=   0.166667     112.500000   \n",
       "+/8k2xmVk+X72j7gVDrCS/b0bT0d6CVn94VGhMcm+aE=   0.000000      30.000000   \n",
       "+/8uc2F8rRClx76PV5v1p/UKkkkKzjjaxvp+XkwXUBM=   0.000000      30.000000   \n",
       "+/Bv1epPwQdmViNBHMX01X/cQvgmbsmDLOfCrc0S634=   0.000000     360.000000   \n",
       "+/DQ9k4q5OILaGStUikBYTAygaNzqmDaLyf8F8WNwvI=   0.000000     410.000000   \n",
       "+/O3dzwjUUioIhWcn+4bnYL73Kf64x3AYlQsIFvB2uo=   0.071429      30.000000   \n",
       "+/PEIuxkdjxuwJ5QHXMWEXjor1bvy/OjGZ/n7KAqHZM=   0.000000     410.000000   \n",
       "+/QKW9GL3XqvbmXA25kCBflbLaSF5hfKRw6tFDNAMBk=   0.040000      28.960000   \n",
       "+/SKX44s4ryWQzYzuV7ZKMXqIKQMN1cPz3M8CJ8CFKU=   0.000000      91.400000   \n",
       "+/fgnlIBsam28jzy77ioX9ImT4iHHEPlQCCrQdl53j8=   0.000000      30.000000   \n",
       "+/qOfNQatXZ8g/V3dZzTGAEKcXfStrU36ASanNZ1rW4=   0.076923      30.000000   \n",
       "+/rpfe9Rc1cCt2TPBnhdfL5vPy+9iYaEHBD6mA0lo5Q=   0.000000      30.000000   \n",
       "+/trjV54MKwcuhk/C6P0OSeEX7hDfLpXme/6EDOny6A=   0.000000      30.000000   \n",
       "+/wv1oWitlfJxcceK7Fv+RCcxVYssocGa6WZon+3Q08=   0.000000       7.000000   \n",
       "...                                                 ...            ...   \n",
       "zyOkSHibPHKZ3ZuncITFw2LncfawRK57zXpCmc2YXlk=   0.000000       7.000000   \n",
       "zyXnciAjDM/CyKbvtWHGgGJzeABct6aQSb5gsNXeuQw=   0.000000      72.222222   \n",
       "zyaJH54xH+bD6PQTVHBwTyP6ZnQaPN54KFZs0QOC5Wo=   0.142857      30.000000   \n",
       "zybtZntpXFNZT1JD6Izm2Obf6aQv1Z3jydIO0EVR/wg=   0.000000      26.166667   \n",
       "zydSiP1e4h2j12FV7TjNiWaMV4lf7xxholm+RQOWGU0=   0.076923      30.000000   \n",
       "zydu2fTZRnHOX7E8mfds+XT1kqBBAxmqhM7JEbZSVpM=   0.333333     250.333333   \n",
       "zydxZ0EpQZjIlI84tk2unDRjhR9/A3EU/IbswaR/6U0=   0.071429      30.000000   \n",
       "zyg6s4KnBMee7RaRm7yfNsxYxUeAz0pkSTzGRkrEcfw=   0.000000      26.250000   \n",
       "zygXADHKPDL+bVdesntcTCGE0NaWxw694KK0x3/d6GI=   0.058824      28.411765   \n",
       "zyhHJ/BPIPxtBY/fT54qxNl/X1Y8vKG3xB+6FkfRLig=   0.000000      30.000000   \n",
       "zyi3qFiFhiAeXXAWqj1oXgRLXXjD4/mSobwDjgsl4ZI=   0.076923      30.000000   \n",
       "zyijXspTwW+Zo2NFWxHobO/pRaNNPKdcIY/xf7U85gY=   0.000000       8.000000   \n",
       "zyqFYkPQjsHuW5cgZyWtU/wN61ii8FShjthz7NDkfGc=   0.000000     400.000000   \n",
       "zyuS+tHhDQ2WuVDZ9ZqUSa7xNMYVGDf75Dl4M/HZsss=   0.000000      27.000000   \n",
       "zz58DhHXMpGS0reh+g3F/m67RRSScr4B1CY7TG6CaCs=   0.000000      30.000000   \n",
       "zz8VMFueczNuaHdEbhp/MIfy+NTdx/tHKjZ4e1l7v3g=   0.000000      30.000000   \n",
       "zz9XGX1laijmxf1rthUEgBK2ZGo7aO7+d43SXdTb3bM=   0.000000      30.000000   \n",
       "zzFOpF1SheQcQvBjPNPxqzX9Y/frqh3M2HxqMzW7x6w=   0.125000      96.875000   \n",
       "zzLMW4Yx6dv1roIEOPKyPxWP4xRp5lI561EWQ1Ik34U=   0.000000      22.333333   \n",
       "zzQKe42lI5qaGKOge5h3fgjagcqbpfzxell6wTVcLuo=   0.076923      30.000000   \n",
       "zzZrR2vlnXSBAqvJkadj1amu+uwSrH/wWXD6gakZg3Q=   0.076923      30.000000   \n",
       "zzcNlpaf8592QhbksGAucn/+NqQ2g94wEKYwIzaNS2k=   0.000000      30.000000   \n",
       "zzfLVSNNFRKvPv3nUDvtybJxXzcXed8XsTAmg69C4z0=   0.000000      28.782609   \n",
       "zzjb1c2CaH101o9nBUYtP7WtZar0vW/aXf2TF2U24eg=   0.000000      89.500000   \n",
       "zzjfjy/mCCCZXi6rooBvJMQAnGeHKU2PGrJMDrJ3GxY=   0.000000       7.000000   \n",
       "zzoM6ScYBmtPntmSG8sXohKb/MUYV3cA3nyY8jJBOS8=   0.083333      62.000000   \n",
       "zzqc2ja7z10FtSpagYVcAZXg/gPRq7wcDZuNFj+zJSU=   0.000000      28.695652   \n",
       "zztGcSZznx0uMBvc0fTQVTfCzeS7Ho/otO2L/4FXs/w=   0.000000      27.857143   \n",
       "zzyHq6TK2+cBkeGFUHvh12Z7UxFZiSM7dOOSllSBPDw=   0.086957      30.000000   \n",
       "zzz4xr5LLzoxUqD6LfKiieCt8Or4dUWFQ0RA5gmkx8I=   0.038462      28.846154   \n",
       "\n",
       "                                              last_pmt_mtd  last_pln_days  \\\n",
       "msno                                                                        \n",
       "+++IZseRRiQS9aaSkH6cMYU6bGDcxUieAi/tH67sC5s=            38            410   \n",
       "++7jYuHyUSp41PyuttFx/MCepv7TdFQULgN8TxZULZk=            40             30   \n",
       "++92FghbCQPqDmQ96QzNiuEMoDxrMOmuaisu1UCrYn0=            23             30   \n",
       "++9l7+WGOZ96gNp0TDXxHAydOlXYE0CiuqWFTxA6zZI=            38            410   \n",
       "++AH7m/EQ4iKe6wSlfO/xXAJx50p+fCeTyF90GoE9Pg=            38             30   \n",
       "++CzVs35NSfU/gjDrGbWLVMweubEiMZsuvd3eTbXs58=            41             30   \n",
       "++EX7OEtJz+hvd7VXRkcZINs+guDwpHq7ahe/o99E1o=            37             30   \n",
       "++FNH/2Fg+6/Q+61X5t3PTVvNsFC699bnEVaVN6HT+o=            38              7   \n",
       "++L3Kr4/CtPSdU9BrsaX/E9ziEKoD9yK5vwk8DVXmHo=            38             30   \n",
       "++UEvwqAY2F9VpiLLHeicRU4D6FzbSDiaDrFkPrhqq8=            38            360   \n",
       "++XZCubnx3mWCWwaVKNyjfZjYZTysD8qvfPb/QMomeI=            41             30   \n",
       "++gnQQMGCh6MsHe+JlizEdG3SwYTXgpCpBR5WvzdR3E=            29             30   \n",
       "++kqM73xL/v0vqbSItFKWgtEyIkW2POP4c/SEA0WZmw=            41             30   \n",
       "++nIX8NDXEAJy50QAIAu3K1jw3fcHimppHXs49CjYtE=            32            410   \n",
       "++qrpDuYsU5FydcPQItV/NB1lh3JAqdZ8IZHA4+E8lM=            38             30   \n",
       "++vhh6rbHrHy+Bzh/gTITX/2AOmsw6lyYmTtuIC6vhM=            36             30   \n",
       "+/8IMQ9wN6Q+2BNlOj2ru4AA6zPxP9rBjIJJXHNW7Mo=            36             30   \n",
       "+/8k2xmVk+X72j7gVDrCS/b0bT0d6CVn94VGhMcm+aE=            38             30   \n",
       "+/8uc2F8rRClx76PV5v1p/UKkkkKzjjaxvp+XkwXUBM=            38             30   \n",
       "+/Bv1epPwQdmViNBHMX01X/cQvgmbsmDLOfCrc0S634=            38            360   \n",
       "+/DQ9k4q5OILaGStUikBYTAygaNzqmDaLyf8F8WNwvI=            32            410   \n",
       "+/O3dzwjUUioIhWcn+4bnYL73Kf64x3AYlQsIFvB2uo=            41             30   \n",
       "+/PEIuxkdjxuwJ5QHXMWEXjor1bvy/OjGZ/n7KAqHZM=            22            410   \n",
       "+/QKW9GL3XqvbmXA25kCBflbLaSF5hfKRw6tFDNAMBk=            37             30   \n",
       "+/SKX44s4ryWQzYzuV7ZKMXqIKQMN1cPz3M8CJ8CFKU=            38             30   \n",
       "+/fgnlIBsam28jzy77ioX9ImT4iHHEPlQCCrQdl53j8=            40             30   \n",
       "+/qOfNQatXZ8g/V3dZzTGAEKcXfStrU36ASanNZ1rW4=            41             30   \n",
       "+/rpfe9Rc1cCt2TPBnhdfL5vPy+9iYaEHBD6mA0lo5Q=            40             30   \n",
       "+/trjV54MKwcuhk/C6P0OSeEX7hDfLpXme/6EDOny6A=            28             30   \n",
       "+/wv1oWitlfJxcceK7Fv+RCcxVYssocGa6WZon+3Q08=            38              7   \n",
       "...                                                    ...            ...   \n",
       "zyOkSHibPHKZ3ZuncITFw2LncfawRK57zXpCmc2YXlk=            38              7   \n",
       "zyXnciAjDM/CyKbvtWHGgGJzeABct6aQSb5gsNXeuQw=            32            410   \n",
       "zyaJH54xH+bD6PQTVHBwTyP6ZnQaPN54KFZs0QOC5Wo=            37             30   \n",
       "zybtZntpXFNZT1JD6Izm2Obf6aQv1Z3jydIO0EVR/wg=            38             30   \n",
       "zydSiP1e4h2j12FV7TjNiWaMV4lf7xxholm+RQOWGU0=            40             30   \n",
       "zydu2fTZRnHOX7E8mfds+XT1kqBBAxmqhM7JEbZSVpM=            38            360   \n",
       "zydxZ0EpQZjIlI84tk2unDRjhR9/A3EU/IbswaR/6U0=            41             30   \n",
       "zyg6s4KnBMee7RaRm7yfNsxYxUeAz0pkSTzGRkrEcfw=            36             30   \n",
       "zygXADHKPDL+bVdesntcTCGE0NaWxw694KK0x3/d6GI=            39             30   \n",
       "zyhHJ/BPIPxtBY/fT54qxNl/X1Y8vKG3xB+6FkfRLig=            38             30   \n",
       "zyi3qFiFhiAeXXAWqj1oXgRLXXjD4/mSobwDjgsl4ZI=            41             30   \n",
       "zyijXspTwW+Zo2NFWxHobO/pRaNNPKdcIY/xf7U85gY=            38              7   \n",
       "zyqFYkPQjsHuW5cgZyWtU/wN61ii8FShjthz7NDkfGc=            32            400   \n",
       "zyuS+tHhDQ2WuVDZ9ZqUSa7xNMYVGDf75Dl4M/HZsss=            28             30   \n",
       "zz58DhHXMpGS0reh+g3F/m67RRSScr4B1CY7TG6CaCs=            38             30   \n",
       "zz8VMFueczNuaHdEbhp/MIfy+NTdx/tHKjZ4e1l7v3g=            38             30   \n",
       "zz9XGX1laijmxf1rthUEgBK2ZGo7aO7+d43SXdTb3bM=            28             30   \n",
       "zzFOpF1SheQcQvBjPNPxqzX9Y/frqh3M2HxqMzW7x6w=            32            395   \n",
       "zzLMW4Yx6dv1roIEOPKyPxWP4xRp5lI561EWQ1Ik34U=            29             30   \n",
       "zzQKe42lI5qaGKOge5h3fgjagcqbpfzxell6wTVcLuo=            41             30   \n",
       "zzZrR2vlnXSBAqvJkadj1amu+uwSrH/wWXD6gakZg3Q=            29             30   \n",
       "zzcNlpaf8592QhbksGAucn/+NqQ2g94wEKYwIzaNS2k=            38             30   \n",
       "zzfLVSNNFRKvPv3nUDvtybJxXzcXed8XsTAmg69C4z0=            40             30   \n",
       "zzjb1c2CaH101o9nBUYtP7WtZar0vW/aXf2TF2U24eg=            38             30   \n",
       "zzjfjy/mCCCZXi6rooBvJMQAnGeHKU2PGrJMDrJ3GxY=            38              7   \n",
       "zzoM6ScYBmtPntmSG8sXohKb/MUYV3cA3nyY8jJBOS8=            32            410   \n",
       "zzqc2ja7z10FtSpagYVcAZXg/gPRq7wcDZuNFj+zJSU=            38             30   \n",
       "zztGcSZznx0uMBvc0fTQVTfCzeS7Ho/otO2L/4FXs/w=            40             30   \n",
       "zzyHq6TK2+cBkeGFUHvh12Z7UxFZiSM7dOOSllSBPDw=            41             30   \n",
       "zzz4xr5LLzoxUqD6LfKiieCt8Or4dUWFQ0RA5gmkx8I=            41             30   \n",
       "\n",
       "                                              days_first_last_trans  \\\n",
       "msno                                                                  \n",
       "+++IZseRRiQS9aaSkH6cMYU6bGDcxUieAi/tH67sC5s=                 1062.0   \n",
       "++7jYuHyUSp41PyuttFx/MCepv7TdFQULgN8TxZULZk=                 4174.0   \n",
       "++92FghbCQPqDmQ96QzNiuEMoDxrMOmuaisu1UCrYn0=                  361.0   \n",
       "++9l7+WGOZ96gNp0TDXxHAydOlXYE0CiuqWFTxA6zZI=                 1585.0   \n",
       "++AH7m/EQ4iKe6wSlfO/xXAJx50p+fCeTyF90GoE9Pg=                  378.0   \n",
       "++CzVs35NSfU/gjDrGbWLVMweubEiMZsuvd3eTbXs58=                  485.0   \n",
       "++EX7OEtJz+hvd7VXRkcZINs+guDwpHq7ahe/o99E1o=                  202.0   \n",
       "++FNH/2Fg+6/Q+61X5t3PTVvNsFC699bnEVaVN6HT+o=                 4159.0   \n",
       "++L3Kr4/CtPSdU9BrsaX/E9ziEKoD9yK5vwk8DVXmHo=                 1858.0   \n",
       "++UEvwqAY2F9VpiLLHeicRU4D6FzbSDiaDrFkPrhqq8=                 1893.0   \n",
       "++XZCubnx3mWCWwaVKNyjfZjYZTysD8qvfPb/QMomeI=                  188.0   \n",
       "++gnQQMGCh6MsHe+JlizEdG3SwYTXgpCpBR5WvzdR3E=                 1224.0   \n",
       "++kqM73xL/v0vqbSItFKWgtEyIkW2POP4c/SEA0WZmw=                  130.0   \n",
       "++nIX8NDXEAJy50QAIAu3K1jw3fcHimppHXs49CjYtE=                 2569.0   \n",
       "++qrpDuYsU5FydcPQItV/NB1lh3JAqdZ8IZHA4+E8lM=                 2959.0   \n",
       "++vhh6rbHrHy+Bzh/gTITX/2AOmsw6lyYmTtuIC6vhM=                    0.0   \n",
       "+/8IMQ9wN6Q+2BNlOj2ru4AA6zPxP9rBjIJJXHNW7Mo=                 1479.0   \n",
       "+/8k2xmVk+X72j7gVDrCS/b0bT0d6CVn94VGhMcm+aE=                  352.0   \n",
       "+/8uc2F8rRClx76PV5v1p/UKkkkKzjjaxvp+XkwXUBM=                    0.0   \n",
       "+/Bv1epPwQdmViNBHMX01X/cQvgmbsmDLOfCrc0S634=                  368.0   \n",
       "+/DQ9k4q5OILaGStUikBYTAygaNzqmDaLyf8F8WNwvI=                 2790.0   \n",
       "+/O3dzwjUUioIhWcn+4bnYL73Kf64x3AYlQsIFvB2uo=                 1130.0   \n",
       "+/PEIuxkdjxuwJ5QHXMWEXjor1bvy/OjGZ/n7KAqHZM=                 1277.0   \n",
       "+/QKW9GL3XqvbmXA25kCBflbLaSF5hfKRw6tFDNAMBk=                 2413.0   \n",
       "+/SKX44s4ryWQzYzuV7ZKMXqIKQMN1cPz3M8CJ8CFKU=                 1832.0   \n",
       "+/fgnlIBsam28jzy77ioX9ImT4iHHEPlQCCrQdl53j8=                 2275.0   \n",
       "+/qOfNQatXZ8g/V3dZzTGAEKcXfStrU36ASanNZ1rW4=                  365.0   \n",
       "+/rpfe9Rc1cCt2TPBnhdfL5vPy+9iYaEHBD6mA0lo5Q=                    0.0   \n",
       "+/trjV54MKwcuhk/C6P0OSeEX7hDfLpXme/6EDOny6A=                 1816.0   \n",
       "+/wv1oWitlfJxcceK7Fv+RCcxVYssocGa6WZon+3Q08=                    0.0   \n",
       "...                                                             ...   \n",
       "zyOkSHibPHKZ3ZuncITFw2LncfawRK57zXpCmc2YXlk=                  505.0   \n",
       "zyXnciAjDM/CyKbvtWHGgGJzeABct6aQSb5gsNXeuQw=                  690.0   \n",
       "zyaJH54xH+bD6PQTVHBwTyP6ZnQaPN54KFZs0QOC5Wo=                  588.0   \n",
       "zybtZntpXFNZT1JD6Izm2Obf6aQv1Z3jydIO0EVR/wg=                 1072.0   \n",
       "zydSiP1e4h2j12FV7TjNiWaMV4lf7xxholm+RQOWGU0=                  922.0   \n",
       "zydu2fTZRnHOX7E8mfds+XT1kqBBAxmqhM7JEbZSVpM=                  426.0   \n",
       "zydxZ0EpQZjIlI84tk2unDRjhR9/A3EU/IbswaR/6U0=                 1282.0   \n",
       "zyg6s4KnBMee7RaRm7yfNsxYxUeAz0pkSTzGRkrEcfw=                 1011.0   \n",
       "zygXADHKPDL+bVdesntcTCGE0NaWxw694KK0x3/d6GI=                 3196.0   \n",
       "zyhHJ/BPIPxtBY/fT54qxNl/X1Y8vKG3xB+6FkfRLig=                  188.0   \n",
       "zyi3qFiFhiAeXXAWqj1oXgRLXXjD4/mSobwDjgsl4ZI=                 1466.0   \n",
       "zyijXspTwW+Zo2NFWxHobO/pRaNNPKdcIY/xf7U85gY=                  854.0   \n",
       "zyqFYkPQjsHuW5cgZyWtU/wN61ii8FShjthz7NDkfGc=                 1855.0   \n",
       "zyuS+tHhDQ2WuVDZ9ZqUSa7xNMYVGDf75Dl4M/HZsss=                 1816.0   \n",
       "zz58DhHXMpGS0reh+g3F/m67RRSScr4B1CY7TG6CaCs=                   40.0   \n",
       "zz8VMFueczNuaHdEbhp/MIfy+NTdx/tHKjZ4e1l7v3g=                 1466.0   \n",
       "zz9XGX1laijmxf1rthUEgBK2ZGo7aO7+d43SXdTb3bM=                    4.0   \n",
       "zzFOpF1SheQcQvBjPNPxqzX9Y/frqh3M2HxqMzW7x6w=                 1345.0   \n",
       "zzLMW4Yx6dv1roIEOPKyPxWP4xRp5lI561EWQ1Ik34U=                 1123.0   \n",
       "zzQKe42lI5qaGKOge5h3fgjagcqbpfzxell6wTVcLuo=                  364.0   \n",
       "zzZrR2vlnXSBAqvJkadj1amu+uwSrH/wWXD6gakZg3Q=                  472.0   \n",
       "zzcNlpaf8592QhbksGAucn/+NqQ2g94wEKYwIzaNS2k=                  920.0   \n",
       "zzfLVSNNFRKvPv3nUDvtybJxXzcXed8XsTAmg69C4z0=                 3238.0   \n",
       "zzjb1c2CaH101o9nBUYtP7WtZar0vW/aXf2TF2U24eg=                 1411.0   \n",
       "zzjfjy/mCCCZXi6rooBvJMQAnGeHKU2PGrJMDrJ3GxY=                    0.0   \n",
       "zzoM6ScYBmtPntmSG8sXohKb/MUYV3cA3nyY8jJBOS8=                 2910.0   \n",
       "zzqc2ja7z10FtSpagYVcAZXg/gPRq7wcDZuNFj+zJSU=                 1488.0   \n",
       "zztGcSZznx0uMBvc0fTQVTfCzeS7Ho/otO2L/4FXs/w=                 3494.0   \n",
       "zzyHq6TK2+cBkeGFUHvh12Z7UxFZiSM7dOOSllSBPDw=                 1333.0   \n",
       "zzz4xr5LLzoxUqD6LfKiieCt8Or4dUWFQ0RA5gmkx8I=                 1742.0   \n",
       "\n",
       "                                              days_before_churn  \\\n",
       "msno                                                              \n",
       "+++IZseRRiQS9aaSkH6cMYU6bGDcxUieAi/tH67sC5s=                  7   \n",
       "++7jYuHyUSp41PyuttFx/MCepv7TdFQULgN8TxZULZk=                 19   \n",
       "++92FghbCQPqDmQ96QzNiuEMoDxrMOmuaisu1UCrYn0=                 17   \n",
       "++9l7+WGOZ96gNp0TDXxHAydOlXYE0CiuqWFTxA6zZI=                  8   \n",
       "++AH7m/EQ4iKe6wSlfO/xXAJx50p+fCeTyF90GoE9Pg=                  4   \n",
       "++CzVs35NSfU/gjDrGbWLVMweubEiMZsuvd3eTbXs58=                 14   \n",
       "++EX7OEtJz+hvd7VXRkcZINs+guDwpHq7ahe/o99E1o=                 30   \n",
       "++FNH/2Fg+6/Q+61X5t3PTVvNsFC699bnEVaVN6HT+o=                  6   \n",
       "++L3Kr4/CtPSdU9BrsaX/E9ziEKoD9yK5vwk8DVXmHo=                 13   \n",
       "++UEvwqAY2F9VpiLLHeicRU4D6FzbSDiaDrFkPrhqq8=                  5   \n",
       "++XZCubnx3mWCWwaVKNyjfZjYZTysD8qvfPb/QMomeI=                 10   \n",
       "++gnQQMGCh6MsHe+JlizEdG3SwYTXgpCpBR5WvzdR3E=                  5   \n",
       "++kqM73xL/v0vqbSItFKWgtEyIkW2POP4c/SEA0WZmw=                 26   \n",
       "++nIX8NDXEAJy50QAIAu3K1jw3fcHimppHXs49CjYtE=                 17   \n",
       "++qrpDuYsU5FydcPQItV/NB1lh3JAqdZ8IZHA4+E8lM=                 19   \n",
       "++vhh6rbHrHy+Bzh/gTITX/2AOmsw6lyYmTtuIC6vhM=                 18   \n",
       "+/8IMQ9wN6Q+2BNlOj2ru4AA6zPxP9rBjIJJXHNW7Mo=                 26   \n",
       "+/8k2xmVk+X72j7gVDrCS/b0bT0d6CVn94VGhMcm+aE=                 27   \n",
       "+/8uc2F8rRClx76PV5v1p/UKkkkKzjjaxvp+XkwXUBM=                 18   \n",
       "+/Bv1epPwQdmViNBHMX01X/cQvgmbsmDLOfCrc0S634=                 26   \n",
       "+/DQ9k4q5OILaGStUikBYTAygaNzqmDaLyf8F8WNwvI=                 13   \n",
       "+/O3dzwjUUioIhWcn+4bnYL73Kf64x3AYlQsIFvB2uo=                  7   \n",
       "+/PEIuxkdjxuwJ5QHXMWEXjor1bvy/OjGZ/n7KAqHZM=                 25   \n",
       "+/QKW9GL3XqvbmXA25kCBflbLaSF5hfKRw6tFDNAMBk=                 10   \n",
       "+/SKX44s4ryWQzYzuV7ZKMXqIKQMN1cPz3M8CJ8CFKU=                 25   \n",
       "+/fgnlIBsam28jzy77ioX9ImT4iHHEPlQCCrQdl53j8=                 30   \n",
       "+/qOfNQatXZ8g/V3dZzTGAEKcXfStrU36ASanNZ1rW4=                 25   \n",
       "+/rpfe9Rc1cCt2TPBnhdfL5vPy+9iYaEHBD6mA0lo5Q=                 15   \n",
       "+/trjV54MKwcuhk/C6P0OSeEX7hDfLpXme/6EDOny6A=                  6   \n",
       "+/wv1oWitlfJxcceK7Fv+RCcxVYssocGa6WZon+3Q08=                  4   \n",
       "...                                                         ...   \n",
       "zyOkSHibPHKZ3ZuncITFw2LncfawRK57zXpCmc2YXlk=                  9   \n",
       "zyXnciAjDM/CyKbvtWHGgGJzeABct6aQSb5gsNXeuQw=                 22   \n",
       "zyaJH54xH+bD6PQTVHBwTyP6ZnQaPN54KFZs0QOC5Wo=                  3   \n",
       "zybtZntpXFNZT1JD6Izm2Obf6aQv1Z3jydIO0EVR/wg=                 21   \n",
       "zydSiP1e4h2j12FV7TjNiWaMV4lf7xxholm+RQOWGU0=                 10   \n",
       "zydu2fTZRnHOX7E8mfds+XT1kqBBAxmqhM7JEbZSVpM=                  9   \n",
       "zydxZ0EpQZjIlI84tk2unDRjhR9/A3EU/IbswaR/6U0=                 25   \n",
       "zyg6s4KnBMee7RaRm7yfNsxYxUeAz0pkSTzGRkrEcfw=                 30   \n",
       "zygXADHKPDL+bVdesntcTCGE0NaWxw694KK0x3/d6GI=                  0   \n",
       "zyhHJ/BPIPxtBY/fT54qxNl/X1Y8vKG3xB+6FkfRLig=                 30   \n",
       "zyi3qFiFhiAeXXAWqj1oXgRLXXjD4/mSobwDjgsl4ZI=                  5   \n",
       "zyijXspTwW+Zo2NFWxHobO/pRaNNPKdcIY/xf7U85gY=                 11   \n",
       "zyqFYkPQjsHuW5cgZyWtU/wN61ii8FShjthz7NDkfGc=                 14   \n",
       "zyuS+tHhDQ2WuVDZ9ZqUSa7xNMYVGDf75Dl4M/HZsss=                  6   \n",
       "zz58DhHXMpGS0reh+g3F/m67RRSScr4B1CY7TG6CaCs=                 24   \n",
       "zz8VMFueczNuaHdEbhp/MIfy+NTdx/tHKjZ4e1l7v3g=                 16   \n",
       "zz9XGX1laijmxf1rthUEgBK2ZGo7aO7+d43SXdTb3bM=                  7   \n",
       "zzFOpF1SheQcQvBjPNPxqzX9Y/frqh3M2HxqMzW7x6w=                 28   \n",
       "zzLMW4Yx6dv1roIEOPKyPxWP4xRp5lI561EWQ1Ik34U=                 24   \n",
       "zzQKe42lI5qaGKOge5h3fgjagcqbpfzxell6wTVcLuo=                 17   \n",
       "zzZrR2vlnXSBAqvJkadj1amu+uwSrH/wWXD6gakZg3Q=                  7   \n",
       "zzcNlpaf8592QhbksGAucn/+NqQ2g94wEKYwIzaNS2k=                 22   \n",
       "zzfLVSNNFRKvPv3nUDvtybJxXzcXed8XsTAmg69C4z0=                 30   \n",
       "zzjb1c2CaH101o9nBUYtP7WtZar0vW/aXf2TF2U24eg=                 10   \n",
       "zzjfjy/mCCCZXi6rooBvJMQAnGeHKU2PGrJMDrJ3GxY=                  8   \n",
       "zzoM6ScYBmtPntmSG8sXohKb/MUYV3cA3nyY8jJBOS8=                 20   \n",
       "zzqc2ja7z10FtSpagYVcAZXg/gPRq7wcDZuNFj+zJSU=                 23   \n",
       "zztGcSZznx0uMBvc0fTQVTfCzeS7Ho/otO2L/4FXs/w=                 30   \n",
       "zzyHq6TK2+cBkeGFUHvh12Z7UxFZiSM7dOOSllSBPDw=                 11   \n",
       "zzz4xr5LLzoxUqD6LfKiieCt8Or4dUWFQ0RA5gmkx8I=                 26   \n",
       "\n",
       "                                              days_since_last_log  \\\n",
       "msno                                                                \n",
       "+++IZseRRiQS9aaSkH6cMYU6bGDcxUieAi/tH67sC5s=                  1.0   \n",
       "++7jYuHyUSp41PyuttFx/MCepv7TdFQULgN8TxZULZk=                212.0   \n",
       "++92FghbCQPqDmQ96QzNiuEMoDxrMOmuaisu1UCrYn0=                  6.0   \n",
       "++9l7+WGOZ96gNp0TDXxHAydOlXYE0CiuqWFTxA6zZI=                  6.0   \n",
       "++AH7m/EQ4iKe6wSlfO/xXAJx50p+fCeTyF90GoE9Pg=                 29.0   \n",
       "++CzVs35NSfU/gjDrGbWLVMweubEiMZsuvd3eTbXs58=                  1.0   \n",
       "++EX7OEtJz+hvd7VXRkcZINs+guDwpHq7ahe/o99E1o=                  1.0   \n",
       "++FNH/2Fg+6/Q+61X5t3PTVvNsFC699bnEVaVN6HT+o=                 27.0   \n",
       "++L3Kr4/CtPSdU9BrsaX/E9ziEKoD9yK5vwk8DVXmHo=                 18.0   \n",
       "++UEvwqAY2F9VpiLLHeicRU4D6FzbSDiaDrFkPrhqq8=                 26.0   \n",
       "++XZCubnx3mWCWwaVKNyjfZjYZTysD8qvfPb/QMomeI=                 43.0   \n",
       "++gnQQMGCh6MsHe+JlizEdG3SwYTXgpCpBR5WvzdR3E=                 30.0   \n",
       "++kqM73xL/v0vqbSItFKWgtEyIkW2POP4c/SEA0WZmw=                 17.0   \n",
       "++nIX8NDXEAJy50QAIAu3K1jw3fcHimppHXs49CjYtE=                 13.0   \n",
       "++qrpDuYsU5FydcPQItV/NB1lh3JAqdZ8IZHA4+E8lM=                 12.0   \n",
       "++vhh6rbHrHy+Bzh/gTITX/2AOmsw6lyYmTtuIC6vhM=                 46.0   \n",
       "+/8IMQ9wN6Q+2BNlOj2ru4AA6zPxP9rBjIJJXHNW7Mo=                  1.0   \n",
       "+/8k2xmVk+X72j7gVDrCS/b0bT0d6CVn94VGhMcm+aE=                  5.0   \n",
       "+/8uc2F8rRClx76PV5v1p/UKkkkKzjjaxvp+XkwXUBM=                 13.0   \n",
       "+/Bv1epPwQdmViNBHMX01X/cQvgmbsmDLOfCrc0S634=                  1.0   \n",
       "+/DQ9k4q5OILaGStUikBYTAygaNzqmDaLyf8F8WNwvI=                  1.0   \n",
       "+/O3dzwjUUioIhWcn+4bnYL73Kf64x3AYlQsIFvB2uo=                 39.0   \n",
       "+/PEIuxkdjxuwJ5QHXMWEXjor1bvy/OjGZ/n7KAqHZM=                  8.0   \n",
       "+/QKW9GL3XqvbmXA25kCBflbLaSF5hfKRw6tFDNAMBk=                 24.0   \n",
       "+/SKX44s4ryWQzYzuV7ZKMXqIKQMN1cPz3M8CJ8CFKU=                  1.0   \n",
       "+/fgnlIBsam28jzy77ioX9ImT4iHHEPlQCCrQdl53j8=                124.0   \n",
       "+/qOfNQatXZ8g/V3dZzTGAEKcXfStrU36ASanNZ1rW4=                  3.0   \n",
       "+/rpfe9Rc1cCt2TPBnhdfL5vPy+9iYaEHBD6mA0lo5Q=                  3.0   \n",
       "+/trjV54MKwcuhk/C6P0OSeEX7hDfLpXme/6EDOny6A=                 25.0   \n",
       "+/wv1oWitlfJxcceK7Fv+RCcxVYssocGa6WZon+3Q08=                 17.0   \n",
       "...                                                           ...   \n",
       "zyOkSHibPHKZ3ZuncITFw2LncfawRK57zXpCmc2YXlk=                 23.0   \n",
       "zyXnciAjDM/CyKbvtWHGgGJzeABct6aQSb5gsNXeuQw=                  1.0   \n",
       "zyaJH54xH+bD6PQTVHBwTyP6ZnQaPN54KFZs0QOC5Wo=                 32.0   \n",
       "zybtZntpXFNZT1JD6Izm2Obf6aQv1Z3jydIO0EVR/wg=                  7.0   \n",
       "zydSiP1e4h2j12FV7TjNiWaMV4lf7xxholm+RQOWGU0=                 26.0   \n",
       "zydu2fTZRnHOX7E8mfds+XT1kqBBAxmqhM7JEbZSVpM=                 23.0   \n",
       "zydxZ0EpQZjIlI84tk2unDRjhR9/A3EU/IbswaR/6U0=                  8.0   \n",
       "zyg6s4KnBMee7RaRm7yfNsxYxUeAz0pkSTzGRkrEcfw=                  1.0   \n",
       "zygXADHKPDL+bVdesntcTCGE0NaWxw694KK0x3/d6GI=                 65.0   \n",
       "zyhHJ/BPIPxtBY/fT54qxNl/X1Y8vKG3xB+6FkfRLig=                  1.0   \n",
       "zyi3qFiFhiAeXXAWqj1oXgRLXXjD4/mSobwDjgsl4ZI=                 49.0   \n",
       "zyijXspTwW+Zo2NFWxHobO/pRaNNPKdcIY/xf7U85gY=                 19.0   \n",
       "zyqFYkPQjsHuW5cgZyWtU/wN61ii8FShjthz7NDkfGc=                  1.0   \n",
       "zyuS+tHhDQ2WuVDZ9ZqUSa7xNMYVGDf75Dl4M/HZsss=                 25.0   \n",
       "zz58DhHXMpGS0reh+g3F/m67RRSScr4B1CY7TG6CaCs=                  9.0   \n",
       "zz8VMFueczNuaHdEbhp/MIfy+NTdx/tHKjZ4e1l7v3g=                  5.0   \n",
       "zz9XGX1laijmxf1rthUEgBK2ZGo7aO7+d43SXdTb3bM=                  0.0   \n",
       "zzFOpF1SheQcQvBjPNPxqzX9Y/frqh3M2HxqMzW7x6w=                  1.0   \n",
       "zzLMW4Yx6dv1roIEOPKyPxWP4xRp5lI561EWQ1Ik34U=                  7.0   \n",
       "zzQKe42lI5qaGKOge5h3fgjagcqbpfzxell6wTVcLuo=                  4.0   \n",
       "zzZrR2vlnXSBAqvJkadj1amu+uwSrH/wWXD6gakZg3Q=                 24.0   \n",
       "zzcNlpaf8592QhbksGAucn/+NqQ2g94wEKYwIzaNS2k=                 11.0   \n",
       "zzfLVSNNFRKvPv3nUDvtybJxXzcXed8XsTAmg69C4z0=                  2.0   \n",
       "zzjb1c2CaH101o9nBUYtP7WtZar0vW/aXf2TF2U24eg=                 25.0   \n",
       "zzjfjy/mCCCZXi6rooBvJMQAnGeHKU2PGrJMDrJ3GxY=                 22.0   \n",
       "zzoM6ScYBmtPntmSG8sXohKb/MUYV3cA3nyY8jJBOS8=                 11.0   \n",
       "zzqc2ja7z10FtSpagYVcAZXg/gPRq7wcDZuNFj+zJSU=                  1.0   \n",
       "zztGcSZznx0uMBvc0fTQVTfCzeS7Ho/otO2L/4FXs/w=                  2.0   \n",
       "zzyHq6TK2+cBkeGFUHvh12Z7UxFZiSM7dOOSllSBPDw=                 19.0   \n",
       "zzz4xr5LLzoxUqD6LfKiieCt8Or4dUWFQ0RA5gmkx8I=                  1.0   \n",
       "\n",
       "                                                  ...        mean_75  \\\n",
       "msno                                              ...                  \n",
       "+++IZseRRiQS9aaSkH6cMYU6bGDcxUieAi/tH67sC5s=      ...       0.329268   \n",
       "++7jYuHyUSp41PyuttFx/MCepv7TdFQULgN8TxZULZk=      ...       0.448087   \n",
       "++92FghbCQPqDmQ96QzNiuEMoDxrMOmuaisu1UCrYn0=      ...       0.442446   \n",
       "++9l7+WGOZ96gNp0TDXxHAydOlXYE0CiuqWFTxA6zZI=      ...       0.725397   \n",
       "++AH7m/EQ4iKe6wSlfO/xXAJx50p+fCeTyF90GoE9Pg=      ...       0.470588   \n",
       "++CzVs35NSfU/gjDrGbWLVMweubEiMZsuvd3eTbXs58=      ...       1.103982   \n",
       "++EX7OEtJz+hvd7VXRkcZINs+guDwpHq7ahe/o99E1o=      ...       1.136364   \n",
       "++FNH/2Fg+6/Q+61X5t3PTVvNsFC699bnEVaVN6HT+o=      ...       0.750000   \n",
       "++L3Kr4/CtPSdU9BrsaX/E9ziEKoD9yK5vwk8DVXmHo=      ...       0.784211   \n",
       "++UEvwqAY2F9VpiLLHeicRU4D6FzbSDiaDrFkPrhqq8=      ...       0.527005   \n",
       "++XZCubnx3mWCWwaVKNyjfZjYZTysD8qvfPb/QMomeI=      ...       1.190476   \n",
       "++gnQQMGCh6MsHe+JlizEdG3SwYTXgpCpBR5WvzdR3E=      ...       0.615385   \n",
       "++kqM73xL/v0vqbSItFKWgtEyIkW2POP4c/SEA0WZmw=      ...       1.950000   \n",
       "++nIX8NDXEAJy50QAIAu3K1jw3fcHimppHXs49CjYtE=      ...       1.570909   \n",
       "++qrpDuYsU5FydcPQItV/NB1lh3JAqdZ8IZHA4+E8lM=      ...       0.752161   \n",
       "++vhh6rbHrHy+Bzh/gTITX/2AOmsw6lyYmTtuIC6vhM=      ...       2.000000   \n",
       "+/8IMQ9wN6Q+2BNlOj2ru4AA6zPxP9rBjIJJXHNW7Mo=      ...       1.932759   \n",
       "+/8k2xmVk+X72j7gVDrCS/b0bT0d6CVn94VGhMcm+aE=      ...       1.954887   \n",
       "+/8uc2F8rRClx76PV5v1p/UKkkkKzjjaxvp+XkwXUBM=      ...       0.517241   \n",
       "+/Bv1epPwQdmViNBHMX01X/cQvgmbsmDLOfCrc0S634=      ...       0.340729   \n",
       "+/DQ9k4q5OILaGStUikBYTAygaNzqmDaLyf8F8WNwvI=      ...       0.395911   \n",
       "+/O3dzwjUUioIhWcn+4bnYL73Kf64x3AYlQsIFvB2uo=      ...       0.950000   \n",
       "+/PEIuxkdjxuwJ5QHXMWEXjor1bvy/OjGZ/n7KAqHZM=      ...       0.907643   \n",
       "+/QKW9GL3XqvbmXA25kCBflbLaSF5hfKRw6tFDNAMBk=      ...       0.409302   \n",
       "+/SKX44s4ryWQzYzuV7ZKMXqIKQMN1cPz3M8CJ8CFKU=      ...       0.649733   \n",
       "+/fgnlIBsam28jzy77ioX9ImT4iHHEPlQCCrQdl53j8=      ...       0.631579   \n",
       "+/qOfNQatXZ8g/V3dZzTGAEKcXfStrU36ASanNZ1rW4=      ...       0.914980   \n",
       "+/rpfe9Rc1cCt2TPBnhdfL5vPy+9iYaEHBD6mA0lo5Q=      ...       0.555556   \n",
       "+/trjV54MKwcuhk/C6P0OSeEX7hDfLpXme/6EDOny6A=      ...       0.016129   \n",
       "+/wv1oWitlfJxcceK7Fv+RCcxVYssocGa6WZon+3Q08=      ...       1.000000   \n",
       "...                                               ...            ...   \n",
       "zyOkSHibPHKZ3ZuncITFw2LncfawRK57zXpCmc2YXlk=      ...       2.750000   \n",
       "zyXnciAjDM/CyKbvtWHGgGJzeABct6aQSb5gsNXeuQw=      ...       0.759292   \n",
       "zyaJH54xH+bD6PQTVHBwTyP6ZnQaPN54KFZs0QOC5Wo=      ...       0.617647   \n",
       "zybtZntpXFNZT1JD6Izm2Obf6aQv1Z3jydIO0EVR/wg=      ...       0.951389   \n",
       "zydSiP1e4h2j12FV7TjNiWaMV4lf7xxholm+RQOWGU0=      ...       0.574074   \n",
       "zydu2fTZRnHOX7E8mfds+XT1kqBBAxmqhM7JEbZSVpM=      ...       0.365019   \n",
       "zydxZ0EpQZjIlI84tk2unDRjhR9/A3EU/IbswaR/6U0=      ...       0.428571   \n",
       "zyg6s4KnBMee7RaRm7yfNsxYxUeAz0pkSTzGRkrEcfw=      ...       0.678141   \n",
       "zygXADHKPDL+bVdesntcTCGE0NaWxw694KK0x3/d6GI=      ...       0.295374   \n",
       "zyhHJ/BPIPxtBY/fT54qxNl/X1Y8vKG3xB+6FkfRLig=      ...       0.689873   \n",
       "zyi3qFiFhiAeXXAWqj1oXgRLXXjD4/mSobwDjgsl4ZI=      ...       0.400000   \n",
       "zyijXspTwW+Zo2NFWxHobO/pRaNNPKdcIY/xf7U85gY=      ...       1.439024   \n",
       "zyqFYkPQjsHuW5cgZyWtU/wN61ii8FShjthz7NDkfGc=      ...       0.621377   \n",
       "zyuS+tHhDQ2WuVDZ9ZqUSa7xNMYVGDf75Dl4M/HZsss=      ...       0.003390   \n",
       "zz58DhHXMpGS0reh+g3F/m67RRSScr4B1CY7TG6CaCs=      ...       0.928571   \n",
       "zz8VMFueczNuaHdEbhp/MIfy+NTdx/tHKjZ4e1l7v3g=      ...       0.165644   \n",
       "zz9XGX1laijmxf1rthUEgBK2ZGo7aO7+d43SXdTb3bM=      ...       0.000000   \n",
       "zzFOpF1SheQcQvBjPNPxqzX9Y/frqh3M2HxqMzW7x6w=      ...       0.837088   \n",
       "zzLMW4Yx6dv1roIEOPKyPxWP4xRp5lI561EWQ1Ik34U=      ...       1.557692   \n",
       "zzQKe42lI5qaGKOge5h3fgjagcqbpfzxell6wTVcLuo=      ...       1.364198   \n",
       "zzZrR2vlnXSBAqvJkadj1amu+uwSrH/wWXD6gakZg3Q=      ...       0.863813   \n",
       "zzcNlpaf8592QhbksGAucn/+NqQ2g94wEKYwIzaNS2k=      ...       0.161392   \n",
       "zzfLVSNNFRKvPv3nUDvtybJxXzcXed8XsTAmg69C4z0=      ...       0.764214   \n",
       "zzjb1c2CaH101o9nBUYtP7WtZar0vW/aXf2TF2U24eg=      ...       0.448000   \n",
       "zzjfjy/mCCCZXi6rooBvJMQAnGeHKU2PGrJMDrJ3GxY=      ...       1.000000   \n",
       "zzoM6ScYBmtPntmSG8sXohKb/MUYV3cA3nyY8jJBOS8=      ...       0.280488   \n",
       "zzqc2ja7z10FtSpagYVcAZXg/gPRq7wcDZuNFj+zJSU=      ...       0.459821   \n",
       "zztGcSZznx0uMBvc0fTQVTfCzeS7Ho/otO2L/4FXs/w=      ...       0.557143   \n",
       "zzyHq6TK2+cBkeGFUHvh12Z7UxFZiSM7dOOSllSBPDw=      ...       0.872123   \n",
       "zzz4xr5LLzoxUqD6LfKiieCt8Or4dUWFQ0RA5gmkx8I=      ...       0.490826   \n",
       "\n",
       "                                               mean_unq  mean_seconds  \\\n",
       "msno                                                                    \n",
       "+++IZseRRiQS9aaSkH6cMYU6bGDcxUieAi/tH67sC5s=  83.461672  22923.781003   \n",
       "++7jYuHyUSp41PyuttFx/MCepv7TdFQULgN8TxZULZk=  12.295082   2515.615770   \n",
       "++92FghbCQPqDmQ96QzNiuEMoDxrMOmuaisu1UCrYn0=  37.949640   9633.020989   \n",
       "++9l7+WGOZ96gNp0TDXxHAydOlXYE0CiuqWFTxA6zZI=  20.928571   5224.533425   \n",
       "++AH7m/EQ4iKe6wSlfO/xXAJx50p+fCeTyF90GoE9Pg=  15.858824   2474.943494   \n",
       "++CzVs35NSfU/gjDrGbWLVMweubEiMZsuvd3eTbXs58=   7.371681   6383.988836   \n",
       "++EX7OEtJz+hvd7VXRkcZINs+guDwpHq7ahe/o99E1o=  29.827273   7371.648345   \n",
       "++FNH/2Fg+6/Q+61X5t3PTVvNsFC699bnEVaVN6HT+o=   9.968750   1998.116250   \n",
       "++L3Kr4/CtPSdU9BrsaX/E9ziEKoD9yK5vwk8DVXmHo=  51.594737  14103.732151   \n",
       "++UEvwqAY2F9VpiLLHeicRU4D6FzbSDiaDrFkPrhqq8=  18.495908   5931.539653   \n",
       "++XZCubnx3mWCWwaVKNyjfZjYZTysD8qvfPb/QMomeI=  27.571429   4642.457012   \n",
       "++gnQQMGCh6MsHe+JlizEdG3SwYTXgpCpBR5WvzdR3E=  18.384615   5201.199923   \n",
       "++kqM73xL/v0vqbSItFKWgtEyIkW2POP4c/SEA0WZmw=  20.650000   4687.045050   \n",
       "++nIX8NDXEAJy50QAIAu3K1jw3fcHimppHXs49CjYtE=  29.525455   4592.075525   \n",
       "++qrpDuYsU5FydcPQItV/NB1lh3JAqdZ8IZHA4+E8lM=  39.129683  10281.363631   \n",
       "++vhh6rbHrHy+Bzh/gTITX/2AOmsw6lyYmTtuIC6vhM=   2.000000   2708.758000   \n",
       "+/8IMQ9wN6Q+2BNlOj2ru4AA6zPxP9rBjIJJXHNW7Mo=  38.200000  11185.010481   \n",
       "+/8k2xmVk+X72j7gVDrCS/b0bT0d6CVn94VGhMcm+aE=  26.992481   6130.081647   \n",
       "+/8uc2F8rRClx76PV5v1p/UKkkkKzjjaxvp+XkwXUBM=  29.586207   4832.484552   \n",
       "+/Bv1epPwQdmViNBHMX01X/cQvgmbsmDLOfCrc0S634=  18.839937   4743.208385   \n",
       "+/DQ9k4q5OILaGStUikBYTAygaNzqmDaLyf8F8WNwvI=  17.230483   3738.543318   \n",
       "+/O3dzwjUUioIhWcn+4bnYL73Kf64x3AYlQsIFvB2uo=  14.600000   2477.417550   \n",
       "+/PEIuxkdjxuwJ5QHXMWEXjor1bvy/OjGZ/n7KAqHZM=  20.796178   5994.265318   \n",
       "+/QKW9GL3XqvbmXA25kCBflbLaSF5hfKRw6tFDNAMBk=  18.297674   5925.882349   \n",
       "+/SKX44s4ryWQzYzuV7ZKMXqIKQMN1cPz3M8CJ8CFKU=  16.016043   4773.745489   \n",
       "+/fgnlIBsam28jzy77ioX9ImT4iHHEPlQCCrQdl53j8=  15.052632   3515.418158   \n",
       "+/qOfNQatXZ8g/V3dZzTGAEKcXfStrU36ASanNZ1rW4=  14.429150   3950.127984   \n",
       "+/rpfe9Rc1cCt2TPBnhdfL5vPy+9iYaEHBD6mA0lo5Q=  19.444444   5696.301778   \n",
       "+/trjV54MKwcuhk/C6P0OSeEX7hDfLpXme/6EDOny6A=   4.858065  16082.145626   \n",
       "+/wv1oWitlfJxcceK7Fv+RCcxVYssocGa6WZon+3Q08=   8.000000   1585.982000   \n",
       "...                                                 ...           ...   \n",
       "zyOkSHibPHKZ3ZuncITFw2LncfawRK57zXpCmc2YXlk=  31.375000   5120.261875   \n",
       "zyXnciAjDM/CyKbvtWHGgGJzeABct6aQSb5gsNXeuQw=  24.828319   5991.322717   \n",
       "zyaJH54xH+bD6PQTVHBwTyP6ZnQaPN54KFZs0QOC5Wo=  73.873950  22382.963113   \n",
       "zybtZntpXFNZT1JD6Izm2Obf6aQv1Z3jydIO0EVR/wg=  22.034722   4744.179347   \n",
       "zydSiP1e4h2j12FV7TjNiWaMV4lf7xxholm+RQOWGU0=  27.870370   4271.937231   \n",
       "zydu2fTZRnHOX7E8mfds+XT1kqBBAxmqhM7JEbZSVpM=   9.057034   2095.381053   \n",
       "zydxZ0EpQZjIlI84tk2unDRjhR9/A3EU/IbswaR/6U0=  20.142857   4449.359857   \n",
       "zyg6s4KnBMee7RaRm7yfNsxYxUeAz0pkSTzGRkrEcfw=  17.865749   3864.954473   \n",
       "zygXADHKPDL+bVdesntcTCGE0NaWxw694KK0x3/d6GI=  17.526690   6175.399018   \n",
       "zyhHJ/BPIPxtBY/fT54qxNl/X1Y8vKG3xB+6FkfRLig=  16.037975   4212.760785   \n",
       "zyi3qFiFhiAeXXAWqj1oXgRLXXjD4/mSobwDjgsl4ZI=  13.500000   2946.909000   \n",
       "zyijXspTwW+Zo2NFWxHobO/pRaNNPKdcIY/xf7U85gY=  12.292683   2635.478220   \n",
       "zyqFYkPQjsHuW5cgZyWtU/wN61ii8FShjthz7NDkfGc=  22.938406   4702.439558   \n",
       "zyuS+tHhDQ2WuVDZ9ZqUSa7xNMYVGDf75Dl4M/HZsss=   4.383051  13817.253254   \n",
       "zz58DhHXMpGS0reh+g3F/m67RRSScr4B1CY7TG6CaCs=  25.857143   3050.983071   \n",
       "zz8VMFueczNuaHdEbhp/MIfy+NTdx/tHKjZ4e1l7v3g=  21.257669   5670.831387   \n",
       "zz9XGX1laijmxf1rthUEgBK2ZGo7aO7+d43SXdTb3bM=   0.000000      0.000000   \n",
       "zzFOpF1SheQcQvBjPNPxqzX9Y/frqh3M2HxqMzW7x6w=  25.374350   6699.315354   \n",
       "zzLMW4Yx6dv1roIEOPKyPxWP4xRp5lI561EWQ1Ik34U=  17.634615   3883.022115   \n",
       "zzQKe42lI5qaGKOge5h3fgjagcqbpfzxell6wTVcLuo=  38.024691  10429.232077   \n",
       "zzZrR2vlnXSBAqvJkadj1amu+uwSrH/wWXD6gakZg3Q=  22.132296   5802.131848   \n",
       "zzcNlpaf8592QhbksGAucn/+NqQ2g94wEKYwIzaNS2k=  29.104430   9662.595823   \n",
       "zzfLVSNNFRKvPv3nUDvtybJxXzcXed8XsTAmg69C4z0=  24.153846   5847.137090   \n",
       "zzjb1c2CaH101o9nBUYtP7WtZar0vW/aXf2TF2U24eg=  16.632000   4624.175540   \n",
       "zzjfjy/mCCCZXi6rooBvJMQAnGeHKU2PGrJMDrJ3GxY=   1.000000     83.380000   \n",
       "zzoM6ScYBmtPntmSG8sXohKb/MUYV3cA3nyY8jJBOS8=  12.932927   3424.627390   \n",
       "zzqc2ja7z10FtSpagYVcAZXg/gPRq7wcDZuNFj+zJSU=  10.993304   2524.266614   \n",
       "zztGcSZznx0uMBvc0fTQVTfCzeS7Ho/otO2L/4FXs/w=  26.085714   8757.797252   \n",
       "zzyHq6TK2+cBkeGFUHvh12Z7UxFZiSM7dOOSllSBPDw=  44.670077  11607.535192   \n",
       "zzz4xr5LLzoxUqD6LfKiieCt8Or4dUWFQ0RA5gmkx8I=  16.422018   3680.255858   \n",
       "\n",
       "                                              max_seconds  min_75    std_50  \\\n",
       "msno                                                                          \n",
       "+++IZseRRiQS9aaSkH6cMYU6bGDcxUieAi/tH67sC5s=    40703.487     0.0  0.723306   \n",
       "++7jYuHyUSp41PyuttFx/MCepv7TdFQULgN8TxZULZk=    13455.131     0.0  0.927990   \n",
       "++92FghbCQPqDmQ96QzNiuEMoDxrMOmuaisu1UCrYn0=    34819.487     0.0  0.873777   \n",
       "++9l7+WGOZ96gNp0TDXxHAydOlXYE0CiuqWFTxA6zZI=    32478.586     0.0  2.027195   \n",
       "++AH7m/EQ4iKe6wSlfO/xXAJx50p+fCeTyF90GoE9Pg=    12728.417     0.0  1.118097   \n",
       "++CzVs35NSfU/gjDrGbWLVMweubEiMZsuvd3eTbXs58=    28470.869     0.0  1.977425   \n",
       "++EX7OEtJz+hvd7VXRkcZINs+guDwpHq7ahe/o99E1o=    42037.806     0.0  2.298493   \n",
       "++FNH/2Fg+6/Q+61X5t3PTVvNsFC699bnEVaVN6HT+o=     6510.618     0.0  1.635974   \n",
       "++L3Kr4/CtPSdU9BrsaX/E9ziEKoD9yK5vwk8DVXmHo=    63790.189     0.0  2.062195   \n",
       "++UEvwqAY2F9VpiLLHeicRU4D6FzbSDiaDrFkPrhqq8=    30041.280     0.0  1.294360   \n",
       "++XZCubnx3mWCWwaVKNyjfZjYZTysD8qvfPb/QMomeI=    19424.315     0.0  1.990907   \n",
       "++gnQQMGCh6MsHe+JlizEdG3SwYTXgpCpBR5WvzdR3E=    22507.744     0.0  0.854850   \n",
       "++kqM73xL/v0vqbSItFKWgtEyIkW2POP4c/SEA0WZmw=     9866.951     0.0  3.410124   \n",
       "++nIX8NDXEAJy50QAIAu3K1jw3fcHimppHXs49CjYtE=    27463.752     0.0  2.358073   \n",
       "++qrpDuYsU5FydcPQItV/NB1lh3JAqdZ8IZHA4+E8lM=    35142.105     0.0  1.435410   \n",
       "++vhh6rbHrHy+Bzh/gTITX/2AOmsw6lyYmTtuIC6vhM=     2708.758     2.0  0.000000   \n",
       "+/8IMQ9wN6Q+2BNlOj2ru4AA6zPxP9rBjIJJXHNW7Mo=    44513.001     0.0  2.383899   \n",
       "+/8k2xmVk+X72j7gVDrCS/b0bT0d6CVn94VGhMcm+aE=    35995.658     0.0  2.680203   \n",
       "+/8uc2F8rRClx76PV5v1p/UKkkkKzjjaxvp+XkwXUBM=    20053.188     0.0  2.006148   \n",
       "+/Bv1epPwQdmViNBHMX01X/cQvgmbsmDLOfCrc0S634=    34187.784     0.0  1.235170   \n",
       "+/DQ9k4q5OILaGStUikBYTAygaNzqmDaLyf8F8WNwvI=    28300.816     0.0  0.935674   \n",
       "+/O3dzwjUUioIhWcn+4bnYL73Kf64x3AYlQsIFvB2uo=     6299.923     0.0  1.465390   \n",
       "+/PEIuxkdjxuwJ5QHXMWEXjor1bvy/OjGZ/n7KAqHZM=    30126.160     0.0  1.944136   \n",
       "+/QKW9GL3XqvbmXA25kCBflbLaSF5hfKRw6tFDNAMBk=    37875.190     0.0  1.182863   \n",
       "+/SKX44s4ryWQzYzuV7ZKMXqIKQMN1cPz3M8CJ8CFKU=    30807.063     0.0  1.788321   \n",
       "+/fgnlIBsam28jzy77ioX9ImT4iHHEPlQCCrQdl53j8=    34395.755     0.0  1.056863   \n",
       "+/qOfNQatXZ8g/V3dZzTGAEKcXfStrU36ASanNZ1rW4=    21004.052     0.0  1.639852   \n",
       "+/rpfe9Rc1cCt2TPBnhdfL5vPy+9iYaEHBD6mA0lo5Q=    10265.619     0.0  0.707107   \n",
       "+/trjV54MKwcuhk/C6P0OSeEX7hDfLpXme/6EDOny6A=    35927.160     0.0  0.179431   \n",
       "+/wv1oWitlfJxcceK7Fv+RCcxVYssocGa6WZon+3Q08=     3563.288     1.0  1.154701   \n",
       "...                                                   ...     ...       ...   \n",
       "zyOkSHibPHKZ3ZuncITFw2LncfawRK57zXpCmc2YXlk=    10731.061     0.0  1.581139   \n",
       "zyXnciAjDM/CyKbvtWHGgGJzeABct6aQSb5gsNXeuQw=    25420.115     0.0  1.431011   \n",
       "zyaJH54xH+bD6PQTVHBwTyP6ZnQaPN54KFZs0QOC5Wo=    44454.317     0.0  0.996688   \n",
       "zybtZntpXFNZT1JD6Izm2Obf6aQv1Z3jydIO0EVR/wg=    18179.138     0.0  2.098939   \n",
       "zydSiP1e4h2j12FV7TjNiWaMV4lf7xxholm+RQOWGU0=    26705.852     0.0  1.319601   \n",
       "zydu2fTZRnHOX7E8mfds+XT1kqBBAxmqhM7JEbZSVpM=    25114.380     0.0  1.640258   \n",
       "zydxZ0EpQZjIlI84tk2unDRjhR9/A3EU/IbswaR/6U0=    20205.406     0.0  2.292215   \n",
       "zyg6s4KnBMee7RaRm7yfNsxYxUeAz0pkSTzGRkrEcfw=    34099.192     0.0  1.612457   \n",
       "zygXADHKPDL+bVdesntcTCGE0NaWxw694KK0x3/d6GI=    33834.540     0.0  0.825311   \n",
       "zyhHJ/BPIPxtBY/fT54qxNl/X1Y8vKG3xB+6FkfRLig=    18814.118     0.0  1.254147   \n",
       "zyi3qFiFhiAeXXAWqj1oXgRLXXjD4/mSobwDjgsl4ZI=     9831.458     0.0  1.234376   \n",
       "zyijXspTwW+Zo2NFWxHobO/pRaNNPKdcIY/xf7U85gY=     8068.546     0.0  2.109791   \n",
       "zyqFYkPQjsHuW5cgZyWtU/wN61ii8FShjthz7NDkfGc=    36639.518     0.0  1.809694   \n",
       "zyuS+tHhDQ2WuVDZ9ZqUSa7xNMYVGDf75Dl4M/HZsss=    37109.020     0.0  0.142210   \n",
       "zz58DhHXMpGS0reh+g3F/m67RRSScr4B1CY7TG6CaCs=     7178.452     0.0  2.590939   \n",
       "zz8VMFueczNuaHdEbhp/MIfy+NTdx/tHKjZ4e1l7v3g=    21985.947     0.0  0.408480   \n",
       "zz9XGX1laijmxf1rthUEgBK2ZGo7aO7+d43SXdTb3bM=        0.000     0.0  0.000000   \n",
       "zzFOpF1SheQcQvBjPNPxqzX9Y/frqh3M2HxqMzW7x6w=    33430.891     0.0  1.653677   \n",
       "zzLMW4Yx6dv1roIEOPKyPxWP4xRp5lI561EWQ1Ik34U=    19586.200     0.0  2.114733   \n",
       "zzQKe42lI5qaGKOge5h3fgjagcqbpfzxell6wTVcLuo=    34705.046     0.0  1.642105   \n",
       "zzZrR2vlnXSBAqvJkadj1amu+uwSrH/wWXD6gakZg3Q=    37159.514     0.0  2.076846   \n",
       "zzcNlpaf8592QhbksGAucn/+NqQ2g94wEKYwIzaNS2k=    41592.334     0.0  0.683953   \n",
       "zzfLVSNNFRKvPv3nUDvtybJxXzcXed8XsTAmg69C4z0=    31039.257     0.0  2.087904   \n",
       "zzjb1c2CaH101o9nBUYtP7WtZar0vW/aXf2TF2U24eg=    31475.818     0.0  1.326505   \n",
       "zzjfjy/mCCCZXi6rooBvJMQAnGeHKU2PGrJMDrJ3GxY=       83.380     1.0  0.000000   \n",
       "zzoM6ScYBmtPntmSG8sXohKb/MUYV3cA3nyY8jJBOS8=    12745.937     0.0  0.968666   \n",
       "zzqc2ja7z10FtSpagYVcAZXg/gPRq7wcDZuNFj+zJSU=    37896.406     0.0  0.987131   \n",
       "zztGcSZznx0uMBvc0fTQVTfCzeS7Ho/otO2L/4FXs/w=    38118.239     0.0  1.071429   \n",
       "zzyHq6TK2+cBkeGFUHvh12Z7UxFZiSM7dOOSllSBPDw=    39061.173     0.0  1.320704   \n",
       "zzz4xr5LLzoxUqD6LfKiieCt8Or4dUWFQ0RA5gmkx8I=    16660.303     0.0  1.151009   \n",
       "\n",
       "                                                std_unq  days_last_10  \\\n",
       "msno                                                                    \n",
       "+++IZseRRiQS9aaSkH6cMYU6bGDcxUieAi/tH67sC5s=  48.883568           8.0   \n",
       "++7jYuHyUSp41PyuttFx/MCepv7TdFQULgN8TxZULZk=  12.501882           0.0   \n",
       "++92FghbCQPqDmQ96QzNiuEMoDxrMOmuaisu1UCrYn0=  28.242969           1.0   \n",
       "++9l7+WGOZ96gNp0TDXxHAydOlXYE0CiuqWFTxA6zZI=  20.339245           1.0   \n",
       "++AH7m/EQ4iKe6wSlfO/xXAJx50p+fCeTyF90GoE9Pg=  14.459428           0.0   \n",
       "++CzVs35NSfU/gjDrGbWLVMweubEiMZsuvd3eTbXs58=  10.982304           6.0   \n",
       "++EX7OEtJz+hvd7VXRkcZINs+guDwpHq7ahe/o99E1o=  27.900498           3.0   \n",
       "++FNH/2Fg+6/Q+61X5t3PTVvNsFC699bnEVaVN6HT+o=   8.767552           0.0   \n",
       "++L3Kr4/CtPSdU9BrsaX/E9ziEKoD9yK5vwk8DVXmHo=  46.474389           0.0   \n",
       "++UEvwqAY2F9VpiLLHeicRU4D6FzbSDiaDrFkPrhqq8=  13.645076           0.0   \n",
       "++XZCubnx3mWCWwaVKNyjfZjYZTysD8qvfPb/QMomeI=  23.740711           0.0   \n",
       "++gnQQMGCh6MsHe+JlizEdG3SwYTXgpCpBR5WvzdR3E=  10.743513           0.0   \n",
       "++kqM73xL/v0vqbSItFKWgtEyIkW2POP4c/SEA0WZmw=  13.291370           0.0   \n",
       "++nIX8NDXEAJy50QAIAu3K1jw3fcHimppHXs49CjYtE=  21.524635           0.0   \n",
       "++qrpDuYsU5FydcPQItV/NB1lh3JAqdZ8IZHA4+E8lM=  25.033802           0.0   \n",
       "++vhh6rbHrHy+Bzh/gTITX/2AOmsw6lyYmTtuIC6vhM=   0.000000           0.0   \n",
       "+/8IMQ9wN6Q+2BNlOj2ru4AA6zPxP9rBjIJJXHNW7Mo=  21.260162           9.0   \n",
       "+/8k2xmVk+X72j7gVDrCS/b0bT0d6CVn94VGhMcm+aE=  18.637959           4.0   \n",
       "+/8uc2F8rRClx76PV5v1p/UKkkkKzjjaxvp+XkwXUBM=  25.862987           0.0   \n",
       "+/Bv1epPwQdmViNBHMX01X/cQvgmbsmDLOfCrc0S634=  15.491156           9.0   \n",
       "+/DQ9k4q5OILaGStUikBYTAygaNzqmDaLyf8F8WNwvI=  15.805464           7.0   \n",
       "+/O3dzwjUUioIhWcn+4bnYL73Kf64x3AYlQsIFvB2uo=   9.349360           0.0   \n",
       "+/PEIuxkdjxuwJ5QHXMWEXjor1bvy/OjGZ/n7KAqHZM=  21.927047           2.0   \n",
       "+/QKW9GL3XqvbmXA25kCBflbLaSF5hfKRw6tFDNAMBk=  19.330875           0.0   \n",
       "+/SKX44s4ryWQzYzuV7ZKMXqIKQMN1cPz3M8CJ8CFKU=  16.091720           8.0   \n",
       "+/fgnlIBsam28jzy77ioX9ImT4iHHEPlQCCrQdl53j8=  29.016229           0.0   \n",
       "+/qOfNQatXZ8g/V3dZzTGAEKcXfStrU36ASanNZ1rW4=  12.616693           4.0   \n",
       "+/rpfe9Rc1cCt2TPBnhdfL5vPy+9iYaEHBD6mA0lo5Q=  17.678455           3.0   \n",
       "+/trjV54MKwcuhk/C6P0OSeEX7hDfLpXme/6EDOny6A=   3.787971           0.0   \n",
       "+/wv1oWitlfJxcceK7Fv+RCcxVYssocGa6WZon+3Q08=   6.244998           0.0   \n",
       "...                                                 ...           ...   \n",
       "zyOkSHibPHKZ3ZuncITFw2LncfawRK57zXpCmc2YXlk=  16.017290           0.0   \n",
       "zyXnciAjDM/CyKbvtWHGgGJzeABct6aQSb5gsNXeuQw=  20.587486           7.0   \n",
       "zyaJH54xH+bD6PQTVHBwTyP6ZnQaPN54KFZs0QOC5Wo=  43.445888           0.0   \n",
       "zybtZntpXFNZT1JD6Izm2Obf6aQv1Z3jydIO0EVR/wg=  17.695329           1.0   \n",
       "zydSiP1e4h2j12FV7TjNiWaMV4lf7xxholm+RQOWGU0=  24.030002           0.0   \n",
       "zydu2fTZRnHOX7E8mfds+XT1kqBBAxmqhM7JEbZSVpM=   9.760519           0.0   \n",
       "zydxZ0EpQZjIlI84tk2unDRjhR9/A3EU/IbswaR/6U0=  18.456029           1.0   \n",
       "zyg6s4KnBMee7RaRm7yfNsxYxUeAz0pkSTzGRkrEcfw=  15.467738           8.0   \n",
       "zygXADHKPDL+bVdesntcTCGE0NaWxw694KK0x3/d6GI=  17.817332           0.0   \n",
       "zyhHJ/BPIPxtBY/fT54qxNl/X1Y8vKG3xB+6FkfRLig=  13.699173           9.0   \n",
       "zyi3qFiFhiAeXXAWqj1oXgRLXXjD4/mSobwDjgsl4ZI=  14.598125           0.0   \n",
       "zyijXspTwW+Zo2NFWxHobO/pRaNNPKdcIY/xf7U85gY=   9.381481           0.0   \n",
       "zyqFYkPQjsHuW5cgZyWtU/wN61ii8FShjthz7NDkfGc=  20.105525           9.0   \n",
       "zyuS+tHhDQ2WuVDZ9ZqUSa7xNMYVGDf75Dl4M/HZsss=   3.325696           0.0   \n",
       "zz58DhHXMpGS0reh+g3F/m67RRSScr4B1CY7TG6CaCs=  16.937170           1.0   \n",
       "zz8VMFueczNuaHdEbhp/MIfy+NTdx/tHKjZ4e1l7v3g=  14.095612           1.0   \n",
       "zz9XGX1laijmxf1rthUEgBK2ZGo7aO7+d43SXdTb3bM=   0.000000           0.0   \n",
       "zzFOpF1SheQcQvBjPNPxqzX9Y/frqh3M2HxqMzW7x6w=  18.781138           6.0   \n",
       "zzLMW4Yx6dv1roIEOPKyPxWP4xRp5lI561EWQ1Ik34U=  11.720652           2.0   \n",
       "zzQKe42lI5qaGKOge5h3fgjagcqbpfzxell6wTVcLuo=  23.338391           1.0   \n",
       "zzZrR2vlnXSBAqvJkadj1amu+uwSrH/wWXD6gakZg3Q=  20.446147           0.0   \n",
       "zzcNlpaf8592QhbksGAucn/+NqQ2g94wEKYwIzaNS2k=  30.262846           0.0   \n",
       "zzfLVSNNFRKvPv3nUDvtybJxXzcXed8XsTAmg69C4z0=  21.145181           7.0   \n",
       "zzjb1c2CaH101o9nBUYtP7WtZar0vW/aXf2TF2U24eg=  18.446944           0.0   \n",
       "zzjfjy/mCCCZXi6rooBvJMQAnGeHKU2PGrJMDrJ3GxY=   0.000000           0.0   \n",
       "zzoM6ScYBmtPntmSG8sXohKb/MUYV3cA3nyY8jJBOS8=  11.368955           0.0   \n",
       "zzqc2ja7z10FtSpagYVcAZXg/gPRq7wcDZuNFj+zJSU=  11.528292           5.0   \n",
       "zztGcSZznx0uMBvc0fTQVTfCzeS7Ho/otO2L/4FXs/w=  26.606153           5.0   \n",
       "zzyHq6TK2+cBkeGFUHvh12Z7UxFZiSM7dOOSllSBPDw=  40.509146           0.0   \n",
       "zzz4xr5LLzoxUqD6LfKiieCt8Or4dUWFQ0RA5gmkx8I=  14.157308           3.0   \n",
       "\n",
       "                                              secs_last_30  secs_last_10  \n",
       "msno                                                                      \n",
       "+++IZseRRiQS9aaSkH6cMYU6bGDcxUieAi/tH67sC5s=    280232.411     22222.691  \n",
       "++7jYuHyUSp41PyuttFx/MCepv7TdFQULgN8TxZULZk=         0.000         0.000  \n",
       "++92FghbCQPqDmQ96QzNiuEMoDxrMOmuaisu1UCrYn0=     74604.244       179.583  \n",
       "++9l7+WGOZ96gNp0TDXxHAydOlXYE0CiuqWFTxA6zZI=     35585.641       307.165  \n",
       "++AH7m/EQ4iKe6wSlfO/xXAJx50p+fCeTyF90GoE9Pg=      2716.087         0.000  \n",
       "++CzVs35NSfU/gjDrGbWLVMweubEiMZsuvd3eTbXs58=    102569.712     26174.635  \n",
       "++EX7OEtJz+hvd7VXRkcZINs+guDwpHq7ahe/o99E1o=     44695.873     10787.381  \n",
       "++FNH/2Fg+6/Q+61X5t3PTVvNsFC699bnEVaVN6HT+o=      5382.804         0.000  \n",
       "++L3Kr4/CtPSdU9BrsaX/E9ziEKoD9yK5vwk8DVXmHo=    160227.013         0.000  \n",
       "++UEvwqAY2F9VpiLLHeicRU4D6FzbSDiaDrFkPrhqq8=     13376.754         0.000  \n",
       "++XZCubnx3mWCWwaVKNyjfZjYZTysD8qvfPb/QMomeI=         0.000         0.000  \n",
       "++gnQQMGCh6MsHe+JlizEdG3SwYTXgpCpBR5WvzdR3E=         0.000         0.000  \n",
       "++kqM73xL/v0vqbSItFKWgtEyIkW2POP4c/SEA0WZmw=      9684.970         0.000  \n",
       "++nIX8NDXEAJy50QAIAu3K1jw3fcHimppHXs49CjYtE=     15440.864         0.000  \n",
       "++qrpDuYsU5FydcPQItV/NB1lh3JAqdZ8IZHA4+E8lM=      6103.080         0.000  \n",
       "++vhh6rbHrHy+Bzh/gTITX/2AOmsw6lyYmTtuIC6vhM=         0.000         0.000  \n",
       "+/8IMQ9wN6Q+2BNlOj2ru4AA6zPxP9rBjIJJXHNW7Mo=    312267.751    100821.132  \n",
       "+/8k2xmVk+X72j7gVDrCS/b0bT0d6CVn94VGhMcm+aE=    150379.504     26233.420  \n",
       "+/8uc2F8rRClx76PV5v1p/UKkkkKzjjaxvp+XkwXUBM=     80018.123         0.000  \n",
       "+/Bv1epPwQdmViNBHMX01X/cQvgmbsmDLOfCrc0S634=    251625.142     86060.152  \n",
       "+/DQ9k4q5OILaGStUikBYTAygaNzqmDaLyf8F8WNwvI=    103982.918     27881.059  \n",
       "+/O3dzwjUUioIhWcn+4bnYL73Kf64x3AYlQsIFvB2uo=         0.000         0.000  \n",
       "+/PEIuxkdjxuwJ5QHXMWEXjor1bvy/OjGZ/n7KAqHZM=     82851.838      4937.544  \n",
       "+/QKW9GL3XqvbmXA25kCBflbLaSF5hfKRw6tFDNAMBk=     28041.940         0.000  \n",
       "+/SKX44s4ryWQzYzuV7ZKMXqIKQMN1cPz3M8CJ8CFKU=    104402.066     18942.106  \n",
       "+/fgnlIBsam28jzy77ioX9ImT4iHHEPlQCCrQdl53j8=         0.000         0.000  \n",
       "+/qOfNQatXZ8g/V3dZzTGAEKcXfStrU36ASanNZ1rW4=     53164.486     17696.669  \n",
       "+/rpfe9Rc1cCt2TPBnhdfL5vPy+9iYaEHBD6mA0lo5Q=     51266.716     17850.118  \n",
       "+/trjV54MKwcuhk/C6P0OSeEX7hDfLpXme/6EDOny6A=     59533.190         0.000  \n",
       "+/wv1oWitlfJxcceK7Fv+RCcxVYssocGa6WZon+3Q08=      4757.946         0.000  \n",
       "...                                                    ...           ...  \n",
       "zyOkSHibPHKZ3ZuncITFw2LncfawRK57zXpCmc2YXlk=     30328.341         0.000  \n",
       "zyXnciAjDM/CyKbvtWHGgGJzeABct6aQSb5gsNXeuQw=    123643.219     18745.549  \n",
       "zyaJH54xH+bD6PQTVHBwTyP6ZnQaPN54KFZs0QOC5Wo=         0.000         0.000  \n",
       "zybtZntpXFNZT1JD6Izm2Obf6aQv1Z3jydIO0EVR/wg=     97426.673       487.246  \n",
       "zydSiP1e4h2j12FV7TjNiWaMV4lf7xxholm+RQOWGU0=         4.679         0.000  \n",
       "zydu2fTZRnHOX7E8mfds+XT1kqBBAxmqhM7JEbZSVpM=      2976.449         0.000  \n",
       "zydxZ0EpQZjIlI84tk2unDRjhR9/A3EU/IbswaR/6U0=     16039.952     10308.174  \n",
       "zyg6s4KnBMee7RaRm7yfNsxYxUeAz0pkSTzGRkrEcfw=     87393.928     28369.365  \n",
       "zygXADHKPDL+bVdesntcTCGE0NaWxw694KK0x3/d6GI=         0.000         0.000  \n",
       "zyhHJ/BPIPxtBY/fT54qxNl/X1Y8vKG3xB+6FkfRLig=    167809.103     30753.064  \n",
       "zyi3qFiFhiAeXXAWqj1oXgRLXXjD4/mSobwDjgsl4ZI=         0.000         0.000  \n",
       "zyijXspTwW+Zo2NFWxHobO/pRaNNPKdcIY/xf7U85gY=     13537.002         0.000  \n",
       "zyqFYkPQjsHuW5cgZyWtU/wN61ii8FShjthz7NDkfGc=    187418.286     52737.196  \n",
       "zyuS+tHhDQ2WuVDZ9ZqUSa7xNMYVGDf75Dl4M/HZsss=     47141.128         0.000  \n",
       "zz58DhHXMpGS0reh+g3F/m67RRSScr4B1CY7TG6CaCs=     24312.743      5397.331  \n",
       "zz8VMFueczNuaHdEbhp/MIfy+NTdx/tHKjZ4e1l7v3g=     27675.288      1404.862  \n",
       "zz9XGX1laijmxf1rthUEgBK2ZGo7aO7+d43SXdTb3bM=         0.000         0.000  \n",
       "zzFOpF1SheQcQvBjPNPxqzX9Y/frqh3M2HxqMzW7x6w=    103262.471     35921.798  \n",
       "zzLMW4Yx6dv1roIEOPKyPxWP4xRp5lI561EWQ1Ik34U=     57781.204      4358.000  \n",
       "zzQKe42lI5qaGKOge5h3fgjagcqbpfzxell6wTVcLuo=     90213.566       119.667  \n",
       "zzZrR2vlnXSBAqvJkadj1amu+uwSrH/wWXD6gakZg3Q=      5826.425         0.000  \n",
       "zzcNlpaf8592QhbksGAucn/+NqQ2g94wEKYwIzaNS2k=     26194.000         0.000  \n",
       "zzfLVSNNFRKvPv3nUDvtybJxXzcXed8XsTAmg69C4z0=     94020.447     34602.813  \n",
       "zzjb1c2CaH101o9nBUYtP7WtZar0vW/aXf2TF2U24eg=      3671.486         0.000  \n",
       "zzjfjy/mCCCZXi6rooBvJMQAnGeHKU2PGrJMDrJ3GxY=        83.380         0.000  \n",
       "zzoM6ScYBmtPntmSG8sXohKb/MUYV3cA3nyY8jJBOS8=       372.280         0.000  \n",
       "zzqc2ja7z10FtSpagYVcAZXg/gPRq7wcDZuNFj+zJSU=     53880.192     25977.232  \n",
       "zztGcSZznx0uMBvc0fTQVTfCzeS7Ho/otO2L/4FXs/w=     85911.200     22539.256  \n",
       "zzyHq6TK2+cBkeGFUHvh12Z7UxFZiSM7dOOSllSBPDw=    205436.949         0.000  \n",
       "zzz4xr5LLzoxUqD6LfKiieCt8Or4dUWFQ0RA5gmkx8I=     62531.466     15829.961  \n",
       "\n",
       "[77306 rows x 23 columns]"
      ]
     },
     "execution_count": 176,
     "metadata": {},
     "output_type": "execute_result"
    }
   ],
   "source": [
    "X_validation"
   ]
  },
  {
   "cell_type": "code",
   "execution_count": 177,
   "metadata": {},
   "outputs": [
    {
     "name": "stderr",
     "output_type": "stream",
     "text": [
      "/anaconda3/lib/python3.7/site-packages/ipykernel_launcher.py:2: DataConversionWarning: A column-vector y was passed when a 1d array was expected. Please change the shape of y to (n_samples,), for example using ravel().\n",
      "  \n"
     ]
    },
    {
     "name": "stdout",
     "output_type": "stream",
     "text": [
      "[[0.6851344  0.06000828]\n",
      " [0.10160919 0.15324813]]\n",
      "0.8383825317569141\n"
     ]
    }
   ],
   "source": [
    "rfclf_stepwise = RandomForestClassifier(n_estimators=50, n_jobs=-1)\n",
    "rfclf_stepwise.fit(X_stepwise, y)\n",
    "\n",
    "y_validation_pred = rfclf_stepwise.predict(X_validation)\n",
    "cm = sk.metrics.confusion_matrix(y_validation,y_validation_pred)/len(y_validation)\n",
    "print (cm)\n",
    "print((cm[0,0]  +cm[1,1]))"
   ]
  },
  {
   "cell_type": "markdown",
   "metadata": {},
   "source": [
    "We can spot a drop in Accuracy from 0.89 to 0.838. The drop is in part due to the out out of sample data, seasonality (we've noticed the presese of seasonality as churn rates vary significantly between  months) and the fact that the churn rate in the validation data is 0.25 compared to 0.19 in the training set. A higher churn rate should reflect lower accuracy."
   ]
  },
  {
   "cell_type": "markdown",
   "metadata": {},
   "source": [
    "In order to understand the impact our optimization procedures had we shall run simple RF classifier, this time with the original hyper parameters and all the variables.\n"
   ]
  },
  {
   "cell_type": "code",
   "execution_count": 178,
   "metadata": {},
   "outputs": [
    {
     "name": "stderr",
     "output_type": "stream",
     "text": [
      "/anaconda3/lib/python3.7/site-packages/ipykernel_launcher.py:6: DataConversionWarning: A column-vector y was passed when a 1d array was expected. Please change the shape of y to (n_samples,), for example using ravel().\n",
      "  \n"
     ]
    },
    {
     "name": "stdout",
     "output_type": "stream",
     "text": [
      "[[0.69446097 0.05068171]\n",
      " [0.09906087 0.15579645]]\n",
      "0.8502574185703567\n"
     ]
    }
   ],
   "source": [
    "X_validation = pd.read_pickle('X'+validations_timestamps[0]+'.pickle')\n",
    "y_validation = pd.read_pickle('y'+validations_timestamps[0]+'.pickle')\n",
    "X_validation = X_validation.drop(['join_date','last_exp_date','last_logged','last_trans_date'],axis=1) #removing date variable\n",
    "\n",
    "rfclf = RandomForestClassifier(n_estimators=50, n_jobs=-1)\n",
    "rfclf.fit(X, y)\n",
    "\n",
    "y_validation_pred = rfclf.predict(X_validation)\n",
    "cm = sk.metrics.confusion_matrix(y_validation,y_validation_pred)/len(y_validation)\n",
    "print (cm)\n",
    "print((cm[0,0]  +cm[1,1]))\n",
    "\n"
   ]
  },
  {
   "cell_type": "markdown",
   "metadata": {},
   "source": [
    "## Results:\n",
    "Confusion Matrix:\n",
    "### [[0.69446097 0.05068171]\n",
    "### [0.09906087 0.15579645]]\n",
    "\n",
    "Accuracy: 0.850\n",
    "\n",
    "From the results we can learn that the original classifier was actually better than the optimized one. \n",
    "Accuracy 0.850, higher by 0.012 compared to optimized. Apparently it didn't suffer from overfitting and going forward we will use the naive classifer to present the business case\n"
   ]
  },
  {
   "cell_type": "markdown",
   "metadata": {},
   "source": [
    "## We will make one more attempt to improve the results by balancing the data through oversampling"
   ]
  },
  {
   "cell_type": "code",
   "execution_count": 181,
   "metadata": {},
   "outputs": [
    {
     "name": "stdout",
     "output_type": "stream",
     "text": [
      "[[0.67767056 0.06747212]\n",
      " [0.0861382  0.16871912]]\n",
      "0.84638967221173\n"
     ]
    }
   ],
   "source": [
    "#Oversampling (using the original dataset)\n",
    "from imblearn.over_sampling import RandomOverSampler\n",
    "ros = RandomOverSampler()\n",
    "X_resampled, y_resampled = ros.fit_resample(X, y.values.ravel())\n",
    "\n",
    "#Analyzing performance\n",
    "rfclf_os = RandomForestClassifier(n_estimators=50, n_jobs=-1)\n",
    "rfclf_os.fit(X_resampled, y_resampled.ravel())\n",
    "\n",
    "y_validation_pred = rfclf_os.predict(X_validation)\n",
    "cm = sk.metrics.confusion_matrix(y_validation,y_validation_pred)/len(y_validation)\n",
    "print (cm)\n",
    "print((cm[0,0]  +cm[1,1]))\n"
   ]
  },
  {
   "cell_type": "markdown",
   "metadata": {},
   "source": [
    "### as expected oversampling managed to improve the rate of TP (by ~0.014) but at the expense of higher FP (by ~0.017)\n",
    "### Accuracy dropped by a bit to 0.846, still better than the \"optimized\" model (0.838)\n",
    "### Since Oversampling altered the model results in a significant way, we will evaluate it again in the business case where actual profits are the end goal. "
   ]
  },
  {
   "cell_type": "markdown",
   "metadata": {},
   "source": [
    "# Step 6: Presenting a business case scenario"
   ]
  },
  {
   "cell_type": "markdown",
   "metadata": {},
   "source": [
    "The company will try to maximize profits by offering 10 USD discount for renewed subscription. So instead of 20 USD the renewal will cost 10 USD\n",
    "\n",
    "The company will gain 10 USD for each user it manages to \"rescue\" from churning.(such user will pay 10 USD instead of none)\n",
    "It will lose 10 USD for each user that intended to renew anyway. (such user will pay 10 USD instead of 20 USD)\n",
    "\n",
    "Premise:\n",
    "    1. 50% of churned users will decide to renew given the discounted price\n",
    "\n",
    "\n",
    "\n",
    "    "
   ]
  },
  {
   "cell_type": "markdown",
   "metadata": {},
   "source": [
    "We will sort the users by their predicted churn score and demonstrate how this can be used in a real business environment "
   ]
  },
  {
   "cell_type": "code",
   "execution_count": 182,
   "metadata": {
    "scrolled": true
   },
   "outputs": [
    {
     "name": "stderr",
     "output_type": "stream",
     "text": [
      "/anaconda3/lib/python3.7/site-packages/ipykernel_launcher.py:3: DataConversionWarning: A column-vector y was passed when a 1d array was expected. Please change the shape of y to (n_samples,), for example using ravel().\n",
      "  This is separate from the ipykernel package so we can avoid doing imports until\n"
     ]
    },
    {
     "name": "stdout",
     "output_type": "stream",
     "text": [
      "percentile 0% of actual churners =0.9974126778783958Actual Churners 771Non Churners:2\n",
      "percentile 1% of actual churners =0.9922380336351876Actual Churners 767Non Churners:6\n",
      "percentile 2% of actual churners =0.9883570504527813Actual Churners 764Non Churners:9\n",
      "percentile 3% of actual churners =0.9741267787839586Actual Churners 753Non Churners:20\n",
      "percentile 4% of actual churners =0.9728331177231565Actual Churners 752Non Churners:21\n",
      "percentile 5% of actual churners =0.9353169469598965Actual Churners 723Non Churners:50\n",
      "percentile 6% of actual churners =0.9301423027166882Actual Churners 719Non Churners:54\n",
      "percentile 7% of actual churners =0.908150064683053Actual Churners 702Non Churners:71\n",
      "percentile 8% of actual churners =0.8576972833117723Actual Churners 663Non Churners:110\n",
      "percentile 9% of actual churners =0.7930142302716688Actual Churners 613Non Churners:160\n",
      "percentile 10% of actual churners =0.7710219922380336Actual Churners 596Non Churners:177\n",
      "percentile 11% of actual churners =0.7128072445019404Actual Churners 551Non Churners:222\n",
      "percentile 12% of actual churners =0.6364812419146184Actual Churners 492Non Churners:281\n",
      "percentile 13% of actual churners =0.6636481241914618Actual Churners 513Non Churners:260\n",
      "percentile 14% of actual churners =0.5860284605433377Actual Churners 453Non Churners:320\n",
      "percentile 15% of actual churners =0.553686934023286Actual Churners 428Non Churners:345\n",
      "percentile 16% of actual churners =0.5252263906856404Actual Churners 406Non Churners:367\n",
      "percentile 17% of actual churners =0.5058214747736093Actual Churners 391Non Churners:382\n",
      "percentile 18% of actual churners =0.49676584734799484Actual Churners 384Non Churners:389\n",
      "percentile 19% of actual churners =0.4501940491591203Actual Churners 348Non Churners:425\n",
      "percentile 20% of actual churners =0.4243208279430789Actual Churners 328Non Churners:445\n",
      "percentile 21% of actual churners =0.4269081500646831Actual Churners 330Non Churners:443\n",
      "percentile 22% of actual churners =0.37904269081500647Actual Churners 293Non Churners:480\n",
      "percentile 23% of actual churners =0.36093143596377747Actual Churners 279Non Churners:494\n",
      "percentile 24% of actual churners =0.36869340232858994Actual Churners 285Non Churners:488\n",
      "percentile 25% of actual churners =0.31565329883570503Actual Churners 244Non Churners:529\n",
      "percentile 26% of actual churners =0.2794307891332471Actual Churners 216Non Churners:557\n",
      "percentile 27% of actual churners =0.314359637774903Actual Churners 243Non Churners:530\n",
      "percentile 28% of actual churners =0.25485122897800777Actual Churners 197Non Churners:576\n",
      "percentile 29% of actual churners =0.2445019404915912Actual Churners 189Non Churners:584\n",
      "percentile 30% of actual churners =0.2147477360931436Actual Churners 166Non Churners:607\n",
      "percentile 31% of actual churners =0.2613195342820181Actual Churners 202Non Churners:571\n",
      "percentile 32% of actual churners =0.26002587322121606Actual Churners 201Non Churners:572\n",
      "percentile 33% of actual churners =0.2276843467011643Actual Churners 176Non Churners:597\n",
      "percentile 34% of actual churners =0.23285899094437257Actual Churners 180Non Churners:593\n",
      "percentile 35% of actual churners =0.20051746442432083Actual Churners 155Non Churners:618\n",
      "percentile 36% of actual churners =0.2018111254851229Actual Churners 156Non Churners:617\n",
      "percentile 37% of actual churners =0.22509702457956016Actual Churners 174Non Churners:599\n",
      "percentile 38% of actual churners =0.21733505821474774Actual Churners 168Non Churners:605\n",
      "percentile 39% of actual churners =0.20827943078913325Actual Churners 161Non Churners:612\n",
      "percentile 40% of actual churners =0.18758085381630013Actual Churners 145Non Churners:628\n",
      "percentile 41% of actual churners =0.19534282018111254Actual Churners 151Non Churners:622\n",
      "percentile 42% of actual churners =0.2069857697283312Actual Churners 160Non Churners:613\n",
      "percentile 43% of actual churners =0.18628719275549807Actual Churners 144Non Churners:629\n",
      "percentile 44% of actual churners =0.18369987063389392Actual Churners 142Non Churners:631\n",
      "percentile 45% of actual churners =0.17205692108667528Actual Churners 133Non Churners:640\n",
      "percentile 46% of actual churners =0.1759379042690815Actual Churners 136Non Churners:637\n",
      "percentile 47% of actual churners =0.17205692108667528Actual Churners 133Non Churners:640\n",
      "percentile 48% of actual churners =0.16429495472186287Actual Churners 127Non Churners:646\n",
      "percentile 49% of actual churners =0.17335058214747737Actual Churners 134Non Churners:639\n",
      "percentile 50% of actual churners =0.1759379042690815Actual Churners 136Non Churners:637\n",
      "percentile 51% of actual churners =0.1371280724450194Actual Churners 106Non Churners:667\n",
      "percentile 52% of actual churners =0.14747736093143596Actual Churners 114Non Churners:659\n",
      "percentile 53% of actual churners =0.1410090556274256Actual Churners 109Non Churners:664\n",
      "percentile 54% of actual churners =0.12419146183699871Actual Churners 96Non Churners:677\n",
      "percentile 55% of actual churners =0.1203104786545925Actual Churners 93Non Churners:680\n",
      "percentile 56% of actual churners =0.1034928848641656Actual Churners 80Non Churners:693\n",
      "percentile 57% of actual churners =0.10996119016817593Actual Churners 85Non Churners:688\n",
      "percentile 58% of actual churners =0.12160413971539456Actual Churners 94Non Churners:679\n",
      "percentile 59% of actual churners =0.10090556274256145Actual Churners 78Non Churners:695\n",
      "percentile 60% of actual churners =0.08796895213454076Actual Churners 68Non Churners:705\n",
      "percentile 61% of actual churners =0.09831824062095731Actual Churners 76Non Churners:697\n",
      "percentile 62% of actual churners =0.0724450194049159Actual Churners 56Non Churners:717\n",
      "percentile 63% of actual churners =0.07891332470892626Actual Churners 61Non Churners:712\n",
      "percentile 64% of actual churners =0.07632600258732213Actual Churners 59Non Churners:714\n",
      "percentile 65% of actual churners =0.0724450194049159Actual Churners 56Non Churners:717\n",
      "percentile 66% of actual churners =0.08020698576972833Actual Churners 62Non Churners:711\n",
      "percentile 67% of actual churners =0.07503234152652005Actual Churners 58Non Churners:715\n",
      "percentile 68% of actual churners =0.06727037516170763Actual Churners 52Non Churners:721\n",
      "percentile 69% of actual churners =0.054333764553686936Actual Churners 42Non Churners:731\n",
      "percentile 70% of actual churners =0.0517464424320828Actual Churners 40Non Churners:733\n",
      "percentile 71% of actual churners =0.05821474773609314Actual Churners 45Non Churners:728\n",
      "percentile 72% of actual churners =0.040103492884864166Actual Churners 31Non Churners:742\n",
      "percentile 73% of actual churners =0.042690815006468305Actual Churners 33Non Churners:740\n",
      "percentile 74% of actual churners =0.042690815006468305Actual Churners 33Non Churners:740\n",
      "percentile 75% of actual churners =0.03622250970245795Actual Churners 28Non Churners:745\n",
      "percentile 76% of actual churners =0.03880983182406209Actual Churners 30Non Churners:743\n",
      "percentile 77% of actual churners =0.037516170763260026Actual Churners 29Non Churners:744\n",
      "percentile 78% of actual churners =0.016817593790426907Actual Churners 13Non Churners:760\n",
      "percentile 79% of actual churners =0.028460543337645538Actual Churners 22Non Churners:751\n",
      "percentile 80% of actual churners =0.02199223803363519Actual Churners 17Non Churners:756\n",
      "percentile 81% of actual churners =0.02457956015523933Actual Churners 19Non Churners:754\n",
      "percentile 82% of actual churners =0.019404915912031046Actual Churners 15Non Churners:758\n",
      "percentile 83% of actual churners =0.02457956015523933Actual Churners 19Non Churners:754\n",
      "percentile 84% of actual churners =0.019404915912031046Actual Churners 15Non Churners:758\n",
      "percentile 85% of actual churners =0.019404915912031046Actual Churners 15Non Churners:758\n",
      "percentile 86% of actual churners =0.02457956015523933Actual Churners 19Non Churners:754\n",
      "percentile 87% of actual churners =0.027166882276843468Actual Churners 21Non Churners:752\n",
      "percentile 88% of actual churners =0.015523932729624839Actual Churners 12Non Churners:761\n",
      "percentile 89% of actual churners =0.01034928848641656Actual Churners 8Non Churners:765\n",
      "percentile 90% of actual churners =0.016817593790426907Actual Churners 13Non Churners:760\n",
      "percentile 91% of actual churners =0.014230271668822769Actual Churners 11Non Churners:762\n",
      "percentile 92% of actual churners =0.015523932729624839Actual Churners 12Non Churners:761\n",
      "percentile 93% of actual churners =0.01164294954721863Actual Churners 9Non Churners:764\n",
      "percentile 94% of actual churners =0.00646830530401035Actual Churners 5Non Churners:768\n",
      "percentile 95% of actual churners =0.0129366106080207Actual Churners 10Non Churners:763\n"
     ]
    },
    {
     "name": "stdout",
     "output_type": "stream",
     "text": [
      "percentile 96% of actual churners =0.01164294954721863Actual Churners 9Non Churners:764\n",
      "percentile 97% of actual churners =0.009055627425614488Actual Churners 7Non Churners:766\n",
      "percentile 98% of actual churners =0.015523932729624839Actual Churners 12Non Churners:761\n"
     ]
    }
   ],
   "source": [
    "temp = pd.DataFrame()\n",
    "rfclf = RandomForestClassifier(n_estimators=50, n_jobs=-1)\n",
    "rfclf.fit(X, y)\n",
    "temp['actual'] = y_validation.reset_index().iloc[:,1]\n",
    "temp['score'] = rfclf.predict_proba(X_validation)[:,1]\n",
    "temp = temp.sort_values('score',ascending=False)\n",
    "temp = temp.reset_index()\n",
    "percentile = math.trunc(len(temp)/100)\n",
    "performance = pd.DataFrame()\n",
    "a = 0 # count rows in each percentile\n",
    "b=0 #sum of churners\n",
    "c= 0 # number of pecenntile\n",
    "d = 0\n",
    "for i in range (len(temp)):\n",
    "    if a<percentile:\n",
    "        a+=1\n",
    "        b+=temp.actual[i]\n",
    "    else:\n",
    "        performance = pd.concat([performance,pd.DataFrame([c,b,percentile-b]).T])\n",
    "        print('percentile '+str(c) +'% of actual churners ='+ str(b/percentile) + 'Actual Churners '+str(b)\n",
    "       +'Non Churners:'+str(percentile - b))\n",
    "        a=0\n",
    "        b=0\n",
    "        c+=1"
   ]
  },
  {
   "cell_type": "code",
   "execution_count": 183,
   "metadata": {
    "scrolled": true
   },
   "outputs": [],
   "source": [
    "performance.columns = ['percentile', 'actual_churners', 'actual_nonchurners']\n",
    "a = 0\n",
    "b=0\n",
    "performance['accumulated_churners'] = 0\n",
    "performance['accumulated_non_churners'] = 0\n",
    "\n",
    "for i in range(len(performance)):\n",
    "    a = a+performance.iloc[i,1]\n",
    "    b=b+performance.iloc[i,2]\n",
    "    performance.iloc[i,3] = a\n",
    "    performance.iloc[i,4] = b\n"
   ]
  },
  {
   "cell_type": "code",
   "execution_count": 184,
   "metadata": {},
   "outputs": [],
   "source": [
    "# Calculating the profit by percentile"
   ]
  },
  {
   "cell_type": "code",
   "execution_count": 185,
   "metadata": {},
   "outputs": [],
   "source": [
    "performance['profit'] = performance['accumulated_churners']*10*0.5 - performance['accumulated_non_churners']*10"
   ]
  },
  {
   "cell_type": "code",
   "execution_count": 186,
   "metadata": {},
   "outputs": [
    {
     "data": {
      "text/plain": [
       "<matplotlib.axes._subplots.AxesSubplot at 0x1a8023b4e0>"
      ]
     },
     "execution_count": 186,
     "metadata": {},
     "output_type": "execute_result"
    },
    {
     "data": {
      "image/png": "[encoded data removed]",
      "text/plain": [
       "<Figure size 432x288 with 1 Axes>"
      ]
     },
     "metadata": {
      "needs_background": "light"
     },
     "output_type": "display_data"
    }
   ],
   "source": [
    "performance.plot.scatter(x = 'percentile', y = 'profit')"
   ]
  },
  {
   "cell_type": "code",
   "execution_count": 187,
   "metadata": {
    "scrolled": true
   },
   "outputs": [
    {
     "data": {
      "text/html": [
       "<div>\n",
       "<style scoped>\n",
       "    .dataframe tbody tr th:only-of-type {\n",
       "        vertical-align: middle;\n",
       "    }\n",
       "\n",
       "    .dataframe tbody tr th {\n",
       "        vertical-align: top;\n",
       "    }\n",
       "\n",
       "    .dataframe thead th {\n",
       "        text-align: right;\n",
       "    }\n",
       "</style>\n",
       "<table border=\"1\" class=\"dataframe\">\n",
       "  <thead>\n",
       "    <tr style=\"text-align: right;\">\n",
       "      <th></th>\n",
       "      <th>percentile</th>\n",
       "      <th>actual_churners</th>\n",
       "      <th>actual_nonchurners</th>\n",
       "      <th>accumulated_churners</th>\n",
       "      <th>accumulated_non_churners</th>\n",
       "      <th>profit</th>\n",
       "    </tr>\n",
       "  </thead>\n",
       "  <tbody>\n",
       "    <tr>\n",
       "      <th>0</th>\n",
       "      <td>0</td>\n",
       "      <td>771</td>\n",
       "      <td>2</td>\n",
       "      <td>771</td>\n",
       "      <td>2</td>\n",
       "      <td>3835.0</td>\n",
       "    </tr>\n",
       "    <tr>\n",
       "      <th>0</th>\n",
       "      <td>1</td>\n",
       "      <td>767</td>\n",
       "      <td>6</td>\n",
       "      <td>1538</td>\n",
       "      <td>8</td>\n",
       "      <td>7610.0</td>\n",
       "    </tr>\n",
       "    <tr>\n",
       "      <th>0</th>\n",
       "      <td>2</td>\n",
       "      <td>764</td>\n",
       "      <td>9</td>\n",
       "      <td>2302</td>\n",
       "      <td>17</td>\n",
       "      <td>11340.0</td>\n",
       "    </tr>\n",
       "    <tr>\n",
       "      <th>0</th>\n",
       "      <td>3</td>\n",
       "      <td>753</td>\n",
       "      <td>20</td>\n",
       "      <td>3055</td>\n",
       "      <td>37</td>\n",
       "      <td>14905.0</td>\n",
       "    </tr>\n",
       "    <tr>\n",
       "      <th>0</th>\n",
       "      <td>4</td>\n",
       "      <td>752</td>\n",
       "      <td>21</td>\n",
       "      <td>3807</td>\n",
       "      <td>58</td>\n",
       "      <td>18455.0</td>\n",
       "    </tr>\n",
       "    <tr>\n",
       "      <th>0</th>\n",
       "      <td>5</td>\n",
       "      <td>723</td>\n",
       "      <td>50</td>\n",
       "      <td>4530</td>\n",
       "      <td>108</td>\n",
       "      <td>21570.0</td>\n",
       "    </tr>\n",
       "    <tr>\n",
       "      <th>0</th>\n",
       "      <td>6</td>\n",
       "      <td>719</td>\n",
       "      <td>54</td>\n",
       "      <td>5249</td>\n",
       "      <td>162</td>\n",
       "      <td>24625.0</td>\n",
       "    </tr>\n",
       "    <tr>\n",
       "      <th>0</th>\n",
       "      <td>7</td>\n",
       "      <td>702</td>\n",
       "      <td>71</td>\n",
       "      <td>5951</td>\n",
       "      <td>233</td>\n",
       "      <td>27425.0</td>\n",
       "    </tr>\n",
       "    <tr>\n",
       "      <th>0</th>\n",
       "      <td>8</td>\n",
       "      <td>663</td>\n",
       "      <td>110</td>\n",
       "      <td>6614</td>\n",
       "      <td>343</td>\n",
       "      <td>29640.0</td>\n",
       "    </tr>\n",
       "    <tr>\n",
       "      <th>0</th>\n",
       "      <td>9</td>\n",
       "      <td>613</td>\n",
       "      <td>160</td>\n",
       "      <td>7227</td>\n",
       "      <td>503</td>\n",
       "      <td>31105.0</td>\n",
       "    </tr>\n",
       "    <tr>\n",
       "      <th>0</th>\n",
       "      <td>10</td>\n",
       "      <td>596</td>\n",
       "      <td>177</td>\n",
       "      <td>7823</td>\n",
       "      <td>680</td>\n",
       "      <td>32315.0</td>\n",
       "    </tr>\n",
       "    <tr>\n",
       "      <th>0</th>\n",
       "      <td>11</td>\n",
       "      <td>551</td>\n",
       "      <td>222</td>\n",
       "      <td>8374</td>\n",
       "      <td>902</td>\n",
       "      <td>32850.0</td>\n",
       "    </tr>\n",
       "    <tr>\n",
       "      <th>0</th>\n",
       "      <td>12</td>\n",
       "      <td>492</td>\n",
       "      <td>281</td>\n",
       "      <td>8866</td>\n",
       "      <td>1183</td>\n",
       "      <td>32500.0</td>\n",
       "    </tr>\n",
       "    <tr>\n",
       "      <th>0</th>\n",
       "      <td>13</td>\n",
       "      <td>513</td>\n",
       "      <td>260</td>\n",
       "      <td>9379</td>\n",
       "      <td>1443</td>\n",
       "      <td>32465.0</td>\n",
       "    </tr>\n",
       "    <tr>\n",
       "      <th>0</th>\n",
       "      <td>14</td>\n",
       "      <td>453</td>\n",
       "      <td>320</td>\n",
       "      <td>9832</td>\n",
       "      <td>1763</td>\n",
       "      <td>31530.0</td>\n",
       "    </tr>\n",
       "    <tr>\n",
       "      <th>0</th>\n",
       "      <td>15</td>\n",
       "      <td>428</td>\n",
       "      <td>345</td>\n",
       "      <td>10260</td>\n",
       "      <td>2108</td>\n",
       "      <td>30220.0</td>\n",
       "    </tr>\n",
       "    <tr>\n",
       "      <th>0</th>\n",
       "      <td>16</td>\n",
       "      <td>406</td>\n",
       "      <td>367</td>\n",
       "      <td>10666</td>\n",
       "      <td>2475</td>\n",
       "      <td>28580.0</td>\n",
       "    </tr>\n",
       "    <tr>\n",
       "      <th>0</th>\n",
       "      <td>17</td>\n",
       "      <td>391</td>\n",
       "      <td>382</td>\n",
       "      <td>11057</td>\n",
       "      <td>2857</td>\n",
       "      <td>26715.0</td>\n",
       "    </tr>\n",
       "    <tr>\n",
       "      <th>0</th>\n",
       "      <td>18</td>\n",
       "      <td>384</td>\n",
       "      <td>389</td>\n",
       "      <td>11441</td>\n",
       "      <td>3246</td>\n",
       "      <td>24745.0</td>\n",
       "    </tr>\n",
       "    <tr>\n",
       "      <th>0</th>\n",
       "      <td>19</td>\n",
       "      <td>348</td>\n",
       "      <td>425</td>\n",
       "      <td>11789</td>\n",
       "      <td>3671</td>\n",
       "      <td>22235.0</td>\n",
       "    </tr>\n",
       "    <tr>\n",
       "      <th>0</th>\n",
       "      <td>20</td>\n",
       "      <td>328</td>\n",
       "      <td>445</td>\n",
       "      <td>12117</td>\n",
       "      <td>4116</td>\n",
       "      <td>19425.0</td>\n",
       "    </tr>\n",
       "    <tr>\n",
       "      <th>0</th>\n",
       "      <td>21</td>\n",
       "      <td>330</td>\n",
       "      <td>443</td>\n",
       "      <td>12447</td>\n",
       "      <td>4559</td>\n",
       "      <td>16645.0</td>\n",
       "    </tr>\n",
       "    <tr>\n",
       "      <th>0</th>\n",
       "      <td>22</td>\n",
       "      <td>293</td>\n",
       "      <td>480</td>\n",
       "      <td>12740</td>\n",
       "      <td>5039</td>\n",
       "      <td>13310.0</td>\n",
       "    </tr>\n",
       "    <tr>\n",
       "      <th>0</th>\n",
       "      <td>23</td>\n",
       "      <td>279</td>\n",
       "      <td>494</td>\n",
       "      <td>13019</td>\n",
       "      <td>5533</td>\n",
       "      <td>9765.0</td>\n",
       "    </tr>\n",
       "    <tr>\n",
       "      <th>0</th>\n",
       "      <td>24</td>\n",
       "      <td>285</td>\n",
       "      <td>488</td>\n",
       "      <td>13304</td>\n",
       "      <td>6021</td>\n",
       "      <td>6310.0</td>\n",
       "    </tr>\n",
       "    <tr>\n",
       "      <th>0</th>\n",
       "      <td>25</td>\n",
       "      <td>244</td>\n",
       "      <td>529</td>\n",
       "      <td>13548</td>\n",
       "      <td>6550</td>\n",
       "      <td>2240.0</td>\n",
       "    </tr>\n",
       "    <tr>\n",
       "      <th>0</th>\n",
       "      <td>26</td>\n",
       "      <td>216</td>\n",
       "      <td>557</td>\n",
       "      <td>13764</td>\n",
       "      <td>7107</td>\n",
       "      <td>-2250.0</td>\n",
       "    </tr>\n",
       "    <tr>\n",
       "      <th>0</th>\n",
       "      <td>27</td>\n",
       "      <td>243</td>\n",
       "      <td>530</td>\n",
       "      <td>14007</td>\n",
       "      <td>7637</td>\n",
       "      <td>-6335.0</td>\n",
       "    </tr>\n",
       "    <tr>\n",
       "      <th>0</th>\n",
       "      <td>28</td>\n",
       "      <td>197</td>\n",
       "      <td>576</td>\n",
       "      <td>14204</td>\n",
       "      <td>8213</td>\n",
       "      <td>-11110.0</td>\n",
       "    </tr>\n",
       "    <tr>\n",
       "      <th>0</th>\n",
       "      <td>29</td>\n",
       "      <td>189</td>\n",
       "      <td>584</td>\n",
       "      <td>14393</td>\n",
       "      <td>8797</td>\n",
       "      <td>-16005.0</td>\n",
       "    </tr>\n",
       "    <tr>\n",
       "      <th>...</th>\n",
       "      <td>...</td>\n",
       "      <td>...</td>\n",
       "      <td>...</td>\n",
       "      <td>...</td>\n",
       "      <td>...</td>\n",
       "      <td>...</td>\n",
       "    </tr>\n",
       "    <tr>\n",
       "      <th>0</th>\n",
       "      <td>69</td>\n",
       "      <td>42</td>\n",
       "      <td>731</td>\n",
       "      <td>19118</td>\n",
       "      <td>34992</td>\n",
       "      <td>-254330.0</td>\n",
       "    </tr>\n",
       "    <tr>\n",
       "      <th>0</th>\n",
       "      <td>70</td>\n",
       "      <td>40</td>\n",
       "      <td>733</td>\n",
       "      <td>19158</td>\n",
       "      <td>35725</td>\n",
       "      <td>-261460.0</td>\n",
       "    </tr>\n",
       "    <tr>\n",
       "      <th>0</th>\n",
       "      <td>71</td>\n",
       "      <td>45</td>\n",
       "      <td>728</td>\n",
       "      <td>19203</td>\n",
       "      <td>36453</td>\n",
       "      <td>-268515.0</td>\n",
       "    </tr>\n",
       "    <tr>\n",
       "      <th>0</th>\n",
       "      <td>72</td>\n",
       "      <td>31</td>\n",
       "      <td>742</td>\n",
       "      <td>19234</td>\n",
       "      <td>37195</td>\n",
       "      <td>-275780.0</td>\n",
       "    </tr>\n",
       "    <tr>\n",
       "      <th>0</th>\n",
       "      <td>73</td>\n",
       "      <td>33</td>\n",
       "      <td>740</td>\n",
       "      <td>19267</td>\n",
       "      <td>37935</td>\n",
       "      <td>-283015.0</td>\n",
       "    </tr>\n",
       "    <tr>\n",
       "      <th>0</th>\n",
       "      <td>74</td>\n",
       "      <td>33</td>\n",
       "      <td>740</td>\n",
       "      <td>19300</td>\n",
       "      <td>38675</td>\n",
       "      <td>-290250.0</td>\n",
       "    </tr>\n",
       "    <tr>\n",
       "      <th>0</th>\n",
       "      <td>75</td>\n",
       "      <td>28</td>\n",
       "      <td>745</td>\n",
       "      <td>19328</td>\n",
       "      <td>39420</td>\n",
       "      <td>-297560.0</td>\n",
       "    </tr>\n",
       "    <tr>\n",
       "      <th>0</th>\n",
       "      <td>76</td>\n",
       "      <td>30</td>\n",
       "      <td>743</td>\n",
       "      <td>19358</td>\n",
       "      <td>40163</td>\n",
       "      <td>-304840.0</td>\n",
       "    </tr>\n",
       "    <tr>\n",
       "      <th>0</th>\n",
       "      <td>77</td>\n",
       "      <td>29</td>\n",
       "      <td>744</td>\n",
       "      <td>19387</td>\n",
       "      <td>40907</td>\n",
       "      <td>-312135.0</td>\n",
       "    </tr>\n",
       "    <tr>\n",
       "      <th>0</th>\n",
       "      <td>78</td>\n",
       "      <td>13</td>\n",
       "      <td>760</td>\n",
       "      <td>19400</td>\n",
       "      <td>41667</td>\n",
       "      <td>-319670.0</td>\n",
       "    </tr>\n",
       "    <tr>\n",
       "      <th>0</th>\n",
       "      <td>79</td>\n",
       "      <td>22</td>\n",
       "      <td>751</td>\n",
       "      <td>19422</td>\n",
       "      <td>42418</td>\n",
       "      <td>-327070.0</td>\n",
       "    </tr>\n",
       "    <tr>\n",
       "      <th>0</th>\n",
       "      <td>80</td>\n",
       "      <td>17</td>\n",
       "      <td>756</td>\n",
       "      <td>19439</td>\n",
       "      <td>43174</td>\n",
       "      <td>-334545.0</td>\n",
       "    </tr>\n",
       "    <tr>\n",
       "      <th>0</th>\n",
       "      <td>81</td>\n",
       "      <td>19</td>\n",
       "      <td>754</td>\n",
       "      <td>19458</td>\n",
       "      <td>43928</td>\n",
       "      <td>-341990.0</td>\n",
       "    </tr>\n",
       "    <tr>\n",
       "      <th>0</th>\n",
       "      <td>82</td>\n",
       "      <td>15</td>\n",
       "      <td>758</td>\n",
       "      <td>19473</td>\n",
       "      <td>44686</td>\n",
       "      <td>-349495.0</td>\n",
       "    </tr>\n",
       "    <tr>\n",
       "      <th>0</th>\n",
       "      <td>83</td>\n",
       "      <td>19</td>\n",
       "      <td>754</td>\n",
       "      <td>19492</td>\n",
       "      <td>45440</td>\n",
       "      <td>-356940.0</td>\n",
       "    </tr>\n",
       "    <tr>\n",
       "      <th>0</th>\n",
       "      <td>84</td>\n",
       "      <td>15</td>\n",
       "      <td>758</td>\n",
       "      <td>19507</td>\n",
       "      <td>46198</td>\n",
       "      <td>-364445.0</td>\n",
       "    </tr>\n",
       "    <tr>\n",
       "      <th>0</th>\n",
       "      <td>85</td>\n",
       "      <td>15</td>\n",
       "      <td>758</td>\n",
       "      <td>19522</td>\n",
       "      <td>46956</td>\n",
       "      <td>-371950.0</td>\n",
       "    </tr>\n",
       "    <tr>\n",
       "      <th>0</th>\n",
       "      <td>86</td>\n",
       "      <td>19</td>\n",
       "      <td>754</td>\n",
       "      <td>19541</td>\n",
       "      <td>47710</td>\n",
       "      <td>-379395.0</td>\n",
       "    </tr>\n",
       "    <tr>\n",
       "      <th>0</th>\n",
       "      <td>87</td>\n",
       "      <td>21</td>\n",
       "      <td>752</td>\n",
       "      <td>19562</td>\n",
       "      <td>48462</td>\n",
       "      <td>-386810.0</td>\n",
       "    </tr>\n",
       "    <tr>\n",
       "      <th>0</th>\n",
       "      <td>88</td>\n",
       "      <td>12</td>\n",
       "      <td>761</td>\n",
       "      <td>19574</td>\n",
       "      <td>49223</td>\n",
       "      <td>-394360.0</td>\n",
       "    </tr>\n",
       "    <tr>\n",
       "      <th>0</th>\n",
       "      <td>89</td>\n",
       "      <td>8</td>\n",
       "      <td>765</td>\n",
       "      <td>19582</td>\n",
       "      <td>49988</td>\n",
       "      <td>-401970.0</td>\n",
       "    </tr>\n",
       "    <tr>\n",
       "      <th>0</th>\n",
       "      <td>90</td>\n",
       "      <td>13</td>\n",
       "      <td>760</td>\n",
       "      <td>19595</td>\n",
       "      <td>50748</td>\n",
       "      <td>-409505.0</td>\n",
       "    </tr>\n",
       "    <tr>\n",
       "      <th>0</th>\n",
       "      <td>91</td>\n",
       "      <td>11</td>\n",
       "      <td>762</td>\n",
       "      <td>19606</td>\n",
       "      <td>51510</td>\n",
       "      <td>-417070.0</td>\n",
       "    </tr>\n",
       "    <tr>\n",
       "      <th>0</th>\n",
       "      <td>92</td>\n",
       "      <td>12</td>\n",
       "      <td>761</td>\n",
       "      <td>19618</td>\n",
       "      <td>52271</td>\n",
       "      <td>-424620.0</td>\n",
       "    </tr>\n",
       "    <tr>\n",
       "      <th>0</th>\n",
       "      <td>93</td>\n",
       "      <td>9</td>\n",
       "      <td>764</td>\n",
       "      <td>19627</td>\n",
       "      <td>53035</td>\n",
       "      <td>-432215.0</td>\n",
       "    </tr>\n",
       "    <tr>\n",
       "      <th>0</th>\n",
       "      <td>94</td>\n",
       "      <td>5</td>\n",
       "      <td>768</td>\n",
       "      <td>19632</td>\n",
       "      <td>53803</td>\n",
       "      <td>-439870.0</td>\n",
       "    </tr>\n",
       "    <tr>\n",
       "      <th>0</th>\n",
       "      <td>95</td>\n",
       "      <td>10</td>\n",
       "      <td>763</td>\n",
       "      <td>19642</td>\n",
       "      <td>54566</td>\n",
       "      <td>-447450.0</td>\n",
       "    </tr>\n",
       "    <tr>\n",
       "      <th>0</th>\n",
       "      <td>96</td>\n",
       "      <td>9</td>\n",
       "      <td>764</td>\n",
       "      <td>19651</td>\n",
       "      <td>55330</td>\n",
       "      <td>-455045.0</td>\n",
       "    </tr>\n",
       "    <tr>\n",
       "      <th>0</th>\n",
       "      <td>97</td>\n",
       "      <td>7</td>\n",
       "      <td>766</td>\n",
       "      <td>19658</td>\n",
       "      <td>56096</td>\n",
       "      <td>-462670.0</td>\n",
       "    </tr>\n",
       "    <tr>\n",
       "      <th>0</th>\n",
       "      <td>98</td>\n",
       "      <td>12</td>\n",
       "      <td>761</td>\n",
       "      <td>19670</td>\n",
       "      <td>56857</td>\n",
       "      <td>-470220.0</td>\n",
       "    </tr>\n",
       "  </tbody>\n",
       "</table>\n",
       "<p>99 rows × 6 columns</p>\n",
       "</div>"
      ],
      "text/plain": [
       "    percentile  actual_churners  actual_nonchurners  accumulated_churners  \\\n",
       "0            0              771                   2                   771   \n",
       "0            1              767                   6                  1538   \n",
       "0            2              764                   9                  2302   \n",
       "0            3              753                  20                  3055   \n",
       "0            4              752                  21                  3807   \n",
       "0            5              723                  50                  4530   \n",
       "0            6              719                  54                  5249   \n",
       "0            7              702                  71                  5951   \n",
       "0            8              663                 110                  6614   \n",
       "0            9              613                 160                  7227   \n",
       "0           10              596                 177                  7823   \n",
       "0           11              551                 222                  8374   \n",
       "0           12              492                 281                  8866   \n",
       "0           13              513                 260                  9379   \n",
       "0           14              453                 320                  9832   \n",
       "0           15              428                 345                 10260   \n",
       "0           16              406                 367                 10666   \n",
       "0           17              391                 382                 11057   \n",
       "0           18              384                 389                 11441   \n",
       "0           19              348                 425                 11789   \n",
       "0           20              328                 445                 12117   \n",
       "0           21              330                 443                 12447   \n",
       "0           22              293                 480                 12740   \n",
       "0           23              279                 494                 13019   \n",
       "0           24              285                 488                 13304   \n",
       "0           25              244                 529                 13548   \n",
       "0           26              216                 557                 13764   \n",
       "0           27              243                 530                 14007   \n",
       "0           28              197                 576                 14204   \n",
       "0           29              189                 584                 14393   \n",
       "..         ...              ...                 ...                   ...   \n",
       "0           69               42                 731                 19118   \n",
       "0           70               40                 733                 19158   \n",
       "0           71               45                 728                 19203   \n",
       "0           72               31                 742                 19234   \n",
       "0           73               33                 740                 19267   \n",
       "0           74               33                 740                 19300   \n",
       "0           75               28                 745                 19328   \n",
       "0           76               30                 743                 19358   \n",
       "0           77               29                 744                 19387   \n",
       "0           78               13                 760                 19400   \n",
       "0           79               22                 751                 19422   \n",
       "0           80               17                 756                 19439   \n",
       "0           81               19                 754                 19458   \n",
       "0           82               15                 758                 19473   \n",
       "0           83               19                 754                 19492   \n",
       "0           84               15                 758                 19507   \n",
       "0           85               15                 758                 19522   \n",
       "0           86               19                 754                 19541   \n",
       "0           87               21                 752                 19562   \n",
       "0           88               12                 761                 19574   \n",
       "0           89                8                 765                 19582   \n",
       "0           90               13                 760                 19595   \n",
       "0           91               11                 762                 19606   \n",
       "0           92               12                 761                 19618   \n",
       "0           93                9                 764                 19627   \n",
       "0           94                5                 768                 19632   \n",
       "0           95               10                 763                 19642   \n",
       "0           96                9                 764                 19651   \n",
       "0           97                7                 766                 19658   \n",
       "0           98               12                 761                 19670   \n",
       "\n",
       "    accumulated_non_churners    profit  \n",
       "0                          2    3835.0  \n",
       "0                          8    7610.0  \n",
       "0                         17   11340.0  \n",
       "0                         37   14905.0  \n",
       "0                         58   18455.0  \n",
       "0                        108   21570.0  \n",
       "0                        162   24625.0  \n",
       "0                        233   27425.0  \n",
       "0                        343   29640.0  \n",
       "0                        503   31105.0  \n",
       "0                        680   32315.0  \n",
       "0                        902   32850.0  \n",
       "0                       1183   32500.0  \n",
       "0                       1443   32465.0  \n",
       "0                       1763   31530.0  \n",
       "0                       2108   30220.0  \n",
       "0                       2475   28580.0  \n",
       "0                       2857   26715.0  \n",
       "0                       3246   24745.0  \n",
       "0                       3671   22235.0  \n",
       "0                       4116   19425.0  \n",
       "0                       4559   16645.0  \n",
       "0                       5039   13310.0  \n",
       "0                       5533    9765.0  \n",
       "0                       6021    6310.0  \n",
       "0                       6550    2240.0  \n",
       "0                       7107   -2250.0  \n",
       "0                       7637   -6335.0  \n",
       "0                       8213  -11110.0  \n",
       "0                       8797  -16005.0  \n",
       "..                       ...       ...  \n",
       "0                      34992 -254330.0  \n",
       "0                      35725 -261460.0  \n",
       "0                      36453 -268515.0  \n",
       "0                      37195 -275780.0  \n",
       "0                      37935 -283015.0  \n",
       "0                      38675 -290250.0  \n",
       "0                      39420 -297560.0  \n",
       "0                      40163 -304840.0  \n",
       "0                      40907 -312135.0  \n",
       "0                      41667 -319670.0  \n",
       "0                      42418 -327070.0  \n",
       "0                      43174 -334545.0  \n",
       "0                      43928 -341990.0  \n",
       "0                      44686 -349495.0  \n",
       "0                      45440 -356940.0  \n",
       "0                      46198 -364445.0  \n",
       "0                      46956 -371950.0  \n",
       "0                      47710 -379395.0  \n",
       "0                      48462 -386810.0  \n",
       "0                      49223 -394360.0  \n",
       "0                      49988 -401970.0  \n",
       "0                      50748 -409505.0  \n",
       "0                      51510 -417070.0  \n",
       "0                      52271 -424620.0  \n",
       "0                      53035 -432215.0  \n",
       "0                      53803 -439870.0  \n",
       "0                      54566 -447450.0  \n",
       "0                      55330 -455045.0  \n",
       "0                      56096 -462670.0  \n",
       "0                      56857 -470220.0  \n",
       "\n",
       "[99 rows x 6 columns]"
      ]
     },
     "execution_count": 187,
     "metadata": {},
     "output_type": "execute_result"
    }
   ],
   "source": [
    "performance"
   ]
  },
  {
   "cell_type": "markdown",
   "metadata": {},
   "source": [
    "## From the table and chart we can see that profitability peaks at the 11th percentile where the company \"rescues\" 8,910 users and misclassify 1,139 users.\n",
    "## The monthly profit of this marketing activity using this cutoff point is $32,850.0\n",
    "\n",
    "We can also see that without the prediction model this marketing activity is not feasible. If it was sent to all users who are up for renewal the company would have lost $470,220."
   ]
  },
  {
   "cell_type": "markdown",
   "metadata": {},
   "source": [
    "# Conclusions and Improvements: \n",
    "- This was a very challenging project, we enjoyed every bit of making it. we hope it become useful and fruitful for the ready.\n",
    "- We've managed to create a model using Random Forest that predicts succesfully around 85% of churners.\n",
    "    Which could lead into a profit of roughly $33,000.\n",
    "- Dimension reduction using backward elimination was great, we have made a great size loss for the feature vector without reducing accuracy that much.    \n",
    "- Dimension reduction using PCA was bad.   \n",
    "- Grid Search and Oversampling the data didn't help acheiving a better model.    \n",
    "- Model Stacking (Placing one learning model prediciton into another learning model variables) might have improved the accuracy.\n"
   ]
  }
 ],
 "metadata": {
  "kernelspec": {
   "display_name": "Python 3",
   "language": "python",
   "name": "python3"
  },
  "language_info": {
   "codemirror_mode": {
    "name": "ipython",
    "version": 3
   },
   "file_extension": ".py",
   "mimetype": "text/x-python",
   "name": "python",
   "nbconvert_exporter": "python",
   "pygments_lexer": "ipython3",
   "version": "3.7.1"
  }
 },
 "nbformat": 4,
 "nbformat_minor": 2
}
